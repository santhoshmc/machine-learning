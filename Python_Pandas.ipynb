{
  "nbformat": 4,
  "nbformat_minor": 0,
  "metadata": {
    "colab": {
      "provenance": [],
      "collapsed_sections": [],
      "authorship_tag": "ABX9TyOxQwdKVpSB5n7az7Ymh0O4",
      "include_colab_link": true
    },
    "kernelspec": {
      "name": "python3",
      "display_name": "Python 3"
    },
    "language_info": {
      "name": "python"
    }
  },
  "cells": [
    {
      "cell_type": "markdown",
      "metadata": {
        "id": "view-in-github",
        "colab_type": "text"
      },
      "source": [
        "<a href=\"https://colab.research.google.com/github/santhoshmc/machine-learning/blob/main/Python_Pandas.ipynb\" target=\"_parent\"><img src=\"https://colab.research.google.com/assets/colab-badge.svg\" alt=\"Open In Colab\"/></a>"
      ]
    },
    {
      "cell_type": "markdown",
      "source": [
        "#Core Components of Pandas"
      ],
      "metadata": {
        "id": "Thn4Lv-rG8Yc"
      }
    },
    {
      "cell_type": "markdown",
      "source": [
        "## Creating dataframes from scratch"
      ],
      "metadata": {
        "id": "V3LEZCSzLlSP"
      }
    },
    {
      "cell_type": "code",
      "source": [
        "import pandas as pd"
      ],
      "metadata": {
        "id": "f_RkOQdrLqt0"
      },
      "execution_count": 3,
      "outputs": []
    },
    {
      "cell_type": "code",
      "source": [
        "data = {'apple': [1,2,3,4],\n",
        "        \"orange\": [5,6,7,8]}"
      ],
      "metadata": {
        "id": "CqeqP10RLx6Y"
      },
      "execution_count": 5,
      "outputs": []
    },
    {
      "cell_type": "code",
      "source": [
        "purchase_df = pd.DataFrame(data)\n",
        "print(purchase_df)"
      ],
      "metadata": {
        "colab": {
          "base_uri": "https://localhost:8080/"
        },
        "id": "shDCNfoBL_Ib",
        "outputId": "99bbfc69-67e9-43bd-8b1b-6964942bf4cd"
      },
      "execution_count": 6,
      "outputs": [
        {
          "output_type": "stream",
          "name": "stdout",
          "text": [
            "   apple  orange\n",
            "0      1       5\n",
            "1      2       6\n",
            "2      3       7\n",
            "3      4       8\n"
          ]
        }
      ]
    },
    {
      "cell_type": "code",
      "source": [
        "purchase_df = pd.DataFrame(data, index=[\"jun\",\"Rob\",\"Ram\",\"Tom\"])\n",
        "print(purchase_df)"
      ],
      "metadata": {
        "colab": {
          "base_uri": "https://localhost:8080/"
        },
        "id": "8LbTQ8orMndu",
        "outputId": "f53d32d6-c67d-4ecc-f5b4-40b789e1d888"
      },
      "execution_count": 7,
      "outputs": [
        {
          "output_type": "stream",
          "name": "stdout",
          "text": [
            "     apple  orange\n",
            "jun      1       5\n",
            "Rob      2       6\n",
            "Ram      3       7\n",
            "Tom      4       8\n"
          ]
        }
      ]
    },
    {
      "cell_type": "code",
      "source": [
        "purchase_df.loc['jun']"
      ],
      "metadata": {
        "colab": {
          "base_uri": "https://localhost:8080/"
        },
        "id": "Kpja7bKZNRD6",
        "outputId": "7e1ad5ae-1485-43f2-e495-4da6d62e0a73"
      },
      "execution_count": 8,
      "outputs": [
        {
          "output_type": "execute_result",
          "data": {
            "text/plain": [
              "apple     1\n",
              "orange    5\n",
              "Name: jun, dtype: int64"
            ]
          },
          "metadata": {},
          "execution_count": 8
        }
      ]
    },
    {
      "cell_type": "markdown",
      "source": [
        "##How to read in data"
      ],
      "metadata": {
        "id": "M2UvHNYpN1Qj"
      }
    },
    {
      "cell_type": "code",
      "source": [
        "df = pd.read_csv(\"/content/purchase.csv\")\n",
        "print(df)"
      ],
      "metadata": {
        "colab": {
          "base_uri": "https://localhost:8080/"
        },
        "id": "axvKfEbuOxqd",
        "outputId": "cfbd4561-1a45-40da-f849-ea6964829984"
      },
      "execution_count": 9,
      "outputs": [
        {
          "output_type": "stream",
          "name": "stdout",
          "text": [
            "  Unnamed: 0  apples  oranges\n",
            "0       June       3        0\n",
            "1     Robert       2        3\n",
            "2       Lily       0        7\n",
            "3      David       1        2\n"
          ]
        }
      ]
    },
    {
      "cell_type": "code",
      "source": [
        "df = pd.read_csv(\"/content/purchase.csv\", index_col=0)\n",
        "print(df)"
      ],
      "metadata": {
        "colab": {
          "base_uri": "https://localhost:8080/"
        },
        "id": "vuRd1ocXP6Ll",
        "outputId": "806a6a4a-6b32-4f1c-9d6d-0bbd56d6ff2b"
      },
      "execution_count": 10,
      "outputs": [
        {
          "output_type": "stream",
          "name": "stdout",
          "text": [
            "        apples  oranges\n",
            "June         3        0\n",
            "Robert       2        3\n",
            "Lily         0        7\n",
            "David        1        2\n"
          ]
        }
      ]
    },
    {
      "cell_type": "markdown",
      "source": [
        "Reading data from json"
      ],
      "metadata": {
        "id": "hXrzcRokQx2x"
      }
    },
    {
      "cell_type": "code",
      "source": [
        "df = pd.read_json('/content/purchases.json')\n",
        "print(df)"
      ],
      "metadata": {
        "colab": {
          "base_uri": "https://localhost:8080/"
        },
        "id": "0JzOJaeFRLki",
        "outputId": "e46ed7bf-9e97-49e4-97e2-6607e4d21c92"
      },
      "execution_count": 11,
      "outputs": [
        {
          "output_type": "stream",
          "name": "stdout",
          "text": [
            "        apples  oranges\n",
            "June         3        0\n",
            "Robert       2        3\n",
            "Lily         0        7\n",
            "David        1        2\n"
          ]
        }
      ]
    },
    {
      "cell_type": "markdown",
      "source": [
        "##Saving the data frame"
      ],
      "metadata": {
        "id": "8NaU77yLRqiO"
      }
    },
    {
      "cell_type": "code",
      "source": [
        "df.to_csv(\"newPurchase.csv\")\n"
      ],
      "metadata": {
        "id": "Hco_UjHGSORy"
      },
      "execution_count": 13,
      "outputs": []
    },
    {
      "cell_type": "code",
      "source": [
        "df.to_csv(\"newPurchases1.csv\", index=False)"
      ],
      "metadata": {
        "id": "Ll7eUVXVSZqr"
      },
      "execution_count": 15,
      "outputs": []
    },
    {
      "cell_type": "code",
      "source": [
        "df.to_json(\"newPurchaseJson.json\")"
      ],
      "metadata": {
        "id": "cnXcx8J_TGdN"
      },
      "execution_count": 16,
      "outputs": []
    },
    {
      "cell_type": "code",
      "source": [],
      "metadata": {
        "id": "7ApGJMUeTjeR"
      },
      "execution_count": null,
      "outputs": []
    }
  ]
}