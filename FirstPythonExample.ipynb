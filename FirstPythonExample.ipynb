{
  "nbformat": 4,
  "nbformat_minor": 0,
  "metadata": {
    "colab": {
      "name": "FirstPythonExample.ipynb",
      "provenance": [],
      "authorship_tag": "ABX9TyOCwZhRXg5EeIkYnPXBKFf8",
      "include_colab_link": true
    },
    "kernelspec": {
      "name": "python3",
      "display_name": "Python 3"
    },
    "language_info": {
      "name": "python"
    }
  },
  "cells": [
    {
      "cell_type": "markdown",
      "metadata": {
        "id": "view-in-github",
        "colab_type": "text"
      },
      "source": [
        "<a href=\"https://colab.research.google.com/github/santhoshmc/machine-learning/blob/main/FirstPythonExample.ipynb\" target=\"_parent\"><img src=\"https://colab.research.google.com/assets/colab-badge.svg\" alt=\"Open In Colab\"/></a>"
      ]
    },
    {
      "cell_type": "markdown",
      "source": [
        "# Virtual Environment\n",
        "\n",
        "**What is a Virtual Environment?**\n",
        "\n",
        "A virtual environment is a Python environment such that the Python interpreter, libraries and scripts installed into it are isolated from those installed in other virtual environments, and (by default) any libraries installed in a “system” Python, i.e., one which is installed as part of your operating system.\n",
        "\n",
        "\n",
        "**Why do we create a VENV?**\n",
        "\n",
        "A Virtual Environment is created when we don't want Libraries (and their dependencies) of one project in our system to interfere with Libraries of other project in our system.\n",
        "\n",
        "For example, We have two projects in our system:\n",
        "\n",
        "Project 1: Resume Parser\n",
        "\n",
        "Project 2: JD Matcher\n",
        "\n",
        "Both of these projects require an open-source Numpy package but the version that they require is different. So that will create a clash between two projects. \n",
        "\n",
        "So the best way to avoid such clashes is to create two separate virtual environments for these two projects and install corresponding dependecies in respective VENVs.\n",
        "\n",
        "\n",
        "**How do we create a VENV?**\n",
        "\n",
        "`python3 -m venv /path/to/new/virtual/environment`\n",
        "\n",
        "\n",
        "\n",
        "**How we invoke Virtual Environment?**\n",
        "\n",
        "On Windows, invoke the venv command as follows:\n",
        "\n",
        "`.\\envname\\Scripts\\activate`\n",
        "\n",
        "On Linux (Ubuntu) use this command:\n",
        "\n",
        "`source myenv/bin/activate`\n",
        "\n",
        "\n",
        "\n"
      ],
      "metadata": {
        "id": "3oVwqAdSehQS"
      }
    },
    {
      "cell_type": "markdown",
      "source": [
        "# print"
      ],
      "metadata": {
        "id": "ScDSS19vVrFe"
      }
    },
    {
      "cell_type": "code",
      "execution_count": 2,
      "metadata": {
        "colab": {
          "base_uri": "https://localhost:8080/"
        },
        "id": "o8zTP2etTzK1",
        "outputId": "5f8605ba-f48f-41e4-90c7-4f881242e5ff"
      },
      "outputs": [
        {
          "output_type": "stream",
          "name": "stdout",
          "text": [
            "0\n"
          ]
        }
      ],
      "source": [
        "print(0)"
      ]
    },
    {
      "cell_type": "code",
      "source": [
        "print(\"first book\")"
      ],
      "metadata": {
        "colab": {
          "base_uri": "https://localhost:8080/"
        },
        "id": "Z-sMTW4MUK2A",
        "outputId": "035fb0f3-abeb-4367-eca2-cbd712388a42"
      },
      "execution_count": 3,
      "outputs": [
        {
          "output_type": "stream",
          "name": "stdout",
          "text": [
            "first book\n"
          ]
        }
      ]
    },
    {
      "cell_type": "code",
      "source": [
        "print(0 * 5)"
      ],
      "metadata": {
        "colab": {
          "base_uri": "https://localhost:8080/"
        },
        "id": "qRuw5Ev6UQ1N",
        "outputId": "7c5a5656-3487-426f-8671-10f4ef772c07"
      },
      "execution_count": 4,
      "outputs": [
        {
          "output_type": "stream",
          "name": "stdout",
          "text": [
            "0\n"
          ]
        }
      ]
    },
    {
      "cell_type": "code",
      "source": [
        "print(\"first book\" * 5)"
      ],
      "metadata": {
        "colab": {
          "base_uri": "https://localhost:8080/"
        },
        "id": "G3VJ-O-NUbPB",
        "outputId": "3bfe4ecb-d122-4b9d-fe4a-0788c17dae88"
      },
      "execution_count": 5,
      "outputs": [
        {
          "output_type": "stream",
          "name": "stdout",
          "text": [
            "first bookfirst bookfirst bookfirst bookfirst book\n"
          ]
        }
      ]
    },
    {
      "cell_type": "code",
      "source": [
        "print( 0 + 5)"
      ],
      "metadata": {
        "colab": {
          "base_uri": "https://localhost:8080/"
        },
        "id": "A36Mjnz-Uj5D",
        "outputId": "d9d48468-d4c4-4de3-c96c-58d08e81e6f9"
      },
      "execution_count": 6,
      "outputs": [
        {
          "output_type": "stream",
          "name": "stdout",
          "text": [
            "5\n"
          ]
        }
      ]
    },
    {
      "cell_type": "code",
      "source": [
        "print(\"first book\" + 5)"
      ],
      "metadata": {
        "colab": {
          "base_uri": "https://localhost:8080/",
          "height": 169
        },
        "id": "CzZYgjdzUuxE",
        "outputId": "c668dc13-f98e-4938-ec39-1012420eb4ae"
      },
      "execution_count": 7,
      "outputs": [
        {
          "output_type": "error",
          "ename": "TypeError",
          "evalue": "ignored",
          "traceback": [
            "\u001b[0;31m---------------------------------------------------------------------------\u001b[0m",
            "\u001b[0;31mTypeError\u001b[0m                                 Traceback (most recent call last)",
            "\u001b[0;32m<ipython-input-7-921917abd9d6>\u001b[0m in \u001b[0;36m<module>\u001b[0;34m()\u001b[0m\n\u001b[0;32m----> 1\u001b[0;31m \u001b[0mprint\u001b[0m\u001b[0;34m(\u001b[0m\u001b[0;34m\"first book\"\u001b[0m \u001b[0;34m+\u001b[0m \u001b[0;36m5\u001b[0m\u001b[0;34m)\u001b[0m\u001b[0;34m\u001b[0m\u001b[0;34m\u001b[0m\u001b[0m\n\u001b[0m",
            "\u001b[0;31mTypeError\u001b[0m: can only concatenate str (not \"int\") to str"
          ]
        }
      ]
    },
    {
      "cell_type": "markdown",
      "source": [
        "# variables"
      ],
      "metadata": {
        "id": "BFQ_9halU0wn"
      }
    },
    {
      "cell_type": "code",
      "source": [
        "integer_variable = 2\n",
        "integerVariable = 3\n",
        "floatVariable = 5.0\n",
        "stringVariable = 'Fox'\n",
        "print(type(integerVariable))\n"
      ],
      "metadata": {
        "colab": {
          "base_uri": "https://localhost:8080/"
        },
        "id": "fOT8GFEJWF_K",
        "outputId": "c9a013cf-3be9-4dc5-e2f4-425a1291bccd"
      },
      "execution_count": 8,
      "outputs": [
        {
          "output_type": "stream",
          "name": "stdout",
          "text": [
            "<class 'int'>\n"
          ]
        }
      ]
    },
    {
      "cell_type": "code",
      "source": [
        "a = b = c = 6"
      ],
      "metadata": {
        "id": "lnfBuiXnXYbe"
      },
      "execution_count": 11,
      "outputs": []
    },
    {
      "cell_type": "code",
      "source": [
        "a, b, c = 6, 7.0, 'raj'"
      ],
      "metadata": {
        "id": "JNnlsVXDXj7y"
      },
      "execution_count": 12,
      "outputs": []
    },
    {
      "cell_type": "code",
      "source": [
        "print(a, b, c)"
      ],
      "metadata": {
        "colab": {
          "base_uri": "https://localhost:8080/"
        },
        "id": "1_sLbtN0X8bU",
        "outputId": "7315f7a9-9937-4c7c-cc83-471063629c68"
      },
      "execution_count": 13,
      "outputs": [
        {
          "output_type": "stream",
          "name": "stdout",
          "text": [
            "6 7.0 raj\n"
          ]
        }
      ]
    },
    {
      "cell_type": "code",
      "source": [
        "a, b, c = 6,7"
      ],
      "metadata": {
        "colab": {
          "base_uri": "https://localhost:8080/",
          "height": 169
        },
        "id": "As_djwCkYTjP",
        "outputId": "da570915-c36d-4768-903d-6438c0ce5e87"
      },
      "execution_count": 14,
      "outputs": [
        {
          "output_type": "error",
          "ename": "ValueError",
          "evalue": "ignored",
          "traceback": [
            "\u001b[0;31m---------------------------------------------------------------------------\u001b[0m",
            "\u001b[0;31mValueError\u001b[0m                                Traceback (most recent call last)",
            "\u001b[0;32m<ipython-input-14-808412040e24>\u001b[0m in \u001b[0;36m<module>\u001b[0;34m()\u001b[0m\n\u001b[0;32m----> 1\u001b[0;31m \u001b[0ma\u001b[0m\u001b[0;34m,\u001b[0m \u001b[0mb\u001b[0m\u001b[0;34m,\u001b[0m \u001b[0mc\u001b[0m \u001b[0;34m=\u001b[0m \u001b[0;36m6\u001b[0m\u001b[0;34m,\u001b[0m\u001b[0;36m7\u001b[0m\u001b[0;34m\u001b[0m\u001b[0;34m\u001b[0m\u001b[0m\n\u001b[0m",
            "\u001b[0;31mValueError\u001b[0m: not enough values to unpack (expected 3, got 2)"
          ]
        }
      ]
    },
    {
      "cell_type": "code",
      "source": [
        "help(\"keywords\")"
      ],
      "metadata": {
        "colab": {
          "base_uri": "https://localhost:8080/"
        },
        "id": "w-5Qb109YuJQ",
        "outputId": "34e4c987-1586-484f-ffeb-ef06d00cd7bc"
      },
      "execution_count": 15,
      "outputs": [
        {
          "output_type": "stream",
          "name": "stdout",
          "text": [
            "\n",
            "Here is a list of the Python keywords.  Enter any keyword to get more help.\n",
            "\n",
            "False               class               from                or\n",
            "None                continue            global              pass\n",
            "True                def                 if                  raise\n",
            "and                 del                 import              return\n",
            "as                  elif                in                  try\n",
            "assert              else                is                  while\n",
            "async               except              lambda              with\n",
            "await               finally             nonlocal            yield\n",
            "break               for                 not                 \n",
            "\n"
          ]
        }
      ]
    },
    {
      "cell_type": "markdown",
      "source": [
        "# lines and indentation"
      ],
      "metadata": {
        "id": "LB6xbDE0ZOfR"
      }
    },
    {
      "cell_type": "code",
      "source": [
        "a = 24\n",
        "if a == 23:\n",
        "  print(\"equals to 23\")\n",
        "else:\n",
        "  if a < 23:\n",
        "    print(\"small than 23\")\n",
        "  else:\n",
        "    print(\"greater than 23\")"
      ],
      "metadata": {
        "colab": {
          "base_uri": "https://localhost:8080/"
        },
        "id": "VMtRYxpaZX08",
        "outputId": "39b0c855-db27-4a5a-d91d-aaa653748195"
      },
      "execution_count": 16,
      "outputs": [
        {
          "output_type": "stream",
          "name": "stdout",
          "text": [
            "greater than 23\n"
          ]
        }
      ]
    },
    {
      "cell_type": "markdown",
      "source": [
        "# quatations"
      ],
      "metadata": {
        "id": "n0QgwdQ6akGh"
      }
    },
    {
      "cell_type": "code",
      "source": [
        "a = ' \"camel\" '\n",
        "b = \"camel\"\n",
        "c = '''bull\n",
        "on road\n",
        "is cheap'''"
      ],
      "metadata": {
        "id": "py6C6zvQbSzI"
      },
      "execution_count": 19,
      "outputs": []
    },
    {
      "cell_type": "code",
      "source": [
        "print(a, b, c)"
      ],
      "metadata": {
        "colab": {
          "base_uri": "https://localhost:8080/"
        },
        "id": "XiWCb21vc9Do",
        "outputId": "069ce618-c8f3-40e4-ec8f-3820e62f8186"
      },
      "execution_count": 21,
      "outputs": [
        {
          "output_type": "stream",
          "name": "stdout",
          "text": [
            " \"camel\"  camel bull\n",
            "on road\n",
            "is cheap\n"
          ]
        }
      ]
    },
    {
      "cell_type": "markdown",
      "source": [
        "#Comments"
      ],
      "metadata": {
        "id": "-gyFGrvkdCRe"
      }
    },
    {
      "cell_type": "code",
      "source": [
        "# this is a test\n"
      ],
      "metadata": {
        "id": "hY6L55BQdNnM"
      },
      "execution_count": 22,
      "outputs": []
    },
    {
      "cell_type": "code",
      "source": [
        "''' this is also a comment\n",
        "test2'''\n"
      ],
      "metadata": {
        "colab": {
          "base_uri": "https://localhost:8080/",
          "height": 35
        },
        "id": "ELXMgu0rdVpo",
        "outputId": "5954e253-dbb9-4e53-94a7-5a6d3ecae732"
      },
      "execution_count": 23,
      "outputs": [
        {
          "output_type": "execute_result",
          "data": {
            "text/plain": [
              "' this is also a comment\\ntest2'"
            ],
            "application/vnd.google.colaboratory.intrinsic+json": {
              "type": "string"
            }
          },
          "metadata": {},
          "execution_count": 23
        }
      ]
    },
    {
      "cell_type": "markdown",
      "source": [
        "#Standard Data types\n"
      ],
      "metadata": {
        "id": "h559P3_vd1Rp"
      }
    },
    {
      "cell_type": "code",
      "source": [
        "# this is a string\n",
        "p = 'Dog'\n",
        "print(type(p), p)\n"
      ],
      "metadata": {
        "colab": {
          "base_uri": "https://localhost:8080/"
        },
        "id": "aJl7_OaweAtG",
        "outputId": "e6e71508-b092-474b-d831-67490501779c"
      },
      "execution_count": 24,
      "outputs": [
        {
          "output_type": "stream",
          "name": "stdout",
          "text": [
            "<class 'str'> Dog\n"
          ]
        }
      ]
    },
    {
      "cell_type": "code",
      "source": [
        "# These are all numbers\n",
        "x = 9\n",
        "y = 4.5\n",
        "z = -3\n",
        "p = -3.2\n",
        "print(type(x),type(y), type(z), type(p))"
      ],
      "metadata": {
        "colab": {
          "base_uri": "https://localhost:8080/"
        },
        "id": "r_hAyxEpeuj6",
        "outputId": "7194577d-cfd4-430d-bd1d-85fb00b3555e"
      },
      "execution_count": 29,
      "outputs": [
        {
          "output_type": "stream",
          "name": "stdout",
          "text": [
            "<class 'int'> <class 'float'> <class 'int'> <class 'float'>\n"
          ]
        }
      ]
    },
    {
      "cell_type": "code",
      "source": [
        "#List\n",
        "a=[1,2,3,4]\n",
        "print(a)\n",
        "print(len(a))"
      ],
      "metadata": {
        "colab": {
          "base_uri": "https://localhost:8080/"
        },
        "id": "n4GzJ2YbgEH5",
        "outputId": "f0296115-b535-4711-b03e-f93bd657aae7"
      },
      "execution_count": 31,
      "outputs": [
        {
          "output_type": "stream",
          "name": "stdout",
          "text": [
            "[1, 2, 3, 4]\n",
            "4\n"
          ]
        }
      ]
    },
    {
      "cell_type": "code",
      "source": [
        "b=[3,5.4,\"san\"]\n",
        "print(b, len(b), type(b))\n"
      ],
      "metadata": {
        "colab": {
          "base_uri": "https://localhost:8080/"
        },
        "id": "L1mf1u30gnkI",
        "outputId": "aa6fbb83-fd86-43f6-ee19-5d86f9267f81"
      },
      "execution_count": 34,
      "outputs": [
        {
          "output_type": "stream",
          "name": "stdout",
          "text": [
            "[3, 5.4, 'san'] 3 <class 'list'>\n"
          ]
        }
      ]
    },
    {
      "cell_type": "code",
      "source": [
        "#Tuples\n",
        "a= (3,6.7,'cat')\n",
        "print(a , type(a))"
      ],
      "metadata": {
        "colab": {
          "base_uri": "https://localhost:8080/"
        },
        "id": "r7O1WlBCiNf0",
        "outputId": "6e936c6f-d89a-48e5-c354-9c42d22cb486"
      },
      "execution_count": 38,
      "outputs": [
        {
          "output_type": "stream",
          "name": "stdout",
          "text": [
            "(3, 6.7, 'cat') <class 'tuple'>\n"
          ]
        }
      ]
    },
    {
      "cell_type": "code",
      "source": [
        "#dictionaries\n",
        "x= {\"key1\":\"value1\", \"key2\": \"value2\"}\n",
        "y= {1:2, 3:x}\n",
        "print(x,y,type(x), type(y))"
      ],
      "metadata": {
        "colab": {
          "base_uri": "https://localhost:8080/"
        },
        "id": "nbGy4CQkiEJT",
        "outputId": "0f38f304-c3eb-452a-a956-fab9b6259244"
      },
      "execution_count": 40,
      "outputs": [
        {
          "output_type": "stream",
          "name": "stdout",
          "text": [
            "{'key1': 'value1', 'key2': 'value2'} {1: 2, 3: {'key1': 'value1', 'key2': 'value2'}} <class 'dict'> <class 'dict'>\n"
          ]
        }
      ]
    },
    {
      "cell_type": "markdown",
      "source": [
        ""
      ],
      "metadata": {
        "id": "n2lkZKoNVLhW"
      }
    },
    {
      "cell_type": "code",
      "source": [
        ""
      ],
      "metadata": {
        "id": "2nGOpuH5VPQ2"
      },
      "execution_count": null,
      "outputs": []
    },
    {
      "cell_type": "code",
      "source": [
        "m= {\"San\":[1,2,3], \"San2\":(5,6), \"San3\":{\"ra\":1}}\n",
        "\n",
        "print(m)"
      ],
      "metadata": {
        "colab": {
          "base_uri": "https://localhost:8080/"
        },
        "id": "blSy_YTtVPq2",
        "outputId": "5a512879-1fc3-4a25-c76f-62bcbe8a23ee"
      },
      "execution_count": 2,
      "outputs": [
        {
          "output_type": "stream",
          "name": "stdout",
          "text": [
            "{'San': [1, 2, 3], 'San2': (5, 6), 'San3': {'ra': 1}}\n"
          ]
        }
      ]
    },
    {
      "cell_type": "markdown",
      "source": [
        "#data type conversions\n"
      ],
      "metadata": {
        "id": "6gemdDA2WwDN"
      }
    },
    {
      "cell_type": "code",
      "source": [
        "a=7.8\n",
        "type(a)"
      ],
      "metadata": {
        "colab": {
          "base_uri": "https://localhost:8080/"
        },
        "id": "U6J7CzUWW7Zs",
        "outputId": "b73c7f30-a735-40e6-d5b8-6ba3af02e556"
      },
      "execution_count": 3,
      "outputs": [
        {
          "output_type": "execute_result",
          "data": {
            "text/plain": [
              "float"
            ]
          },
          "metadata": {},
          "execution_count": 3
        }
      ]
    },
    {
      "cell_type": "code",
      "source": [
        "b=int(a)\n",
        "type(b)\n",
        "b"
      ],
      "metadata": {
        "colab": {
          "base_uri": "https://localhost:8080/"
        },
        "id": "cLW5lkL2XDf9",
        "outputId": "78597276-98b6-47b3-b334-d0ee20b5e362"
      },
      "execution_count": 7,
      "outputs": [
        {
          "output_type": "execute_result",
          "data": {
            "text/plain": [
              "7"
            ]
          },
          "metadata": {},
          "execution_count": 7
        }
      ]
    },
    {
      "cell_type": "code",
      "source": [
        "print(b)"
      ],
      "metadata": {
        "colab": {
          "base_uri": "https://localhost:8080/"
        },
        "id": "T5yH4tD8XNiL",
        "outputId": "83d28a60-7985-42e7-b990-4cf24cc87004"
      },
      "execution_count": 5,
      "outputs": [
        {
          "output_type": "stream",
          "name": "stdout",
          "text": [
            "7\n"
          ]
        }
      ]
    },
    {
      "cell_type": "code",
      "source": [
        "m = 7\n",
        "n=float(m)\n",
        "print(n)\n",
        "print(type(n))"
      ],
      "metadata": {
        "colab": {
          "base_uri": "https://localhost:8080/"
        },
        "id": "fJbAhZpKXy4e",
        "outputId": "eee5cf26-2829-4139-f660-3171ceb34d8c"
      },
      "execution_count": 8,
      "outputs": [
        {
          "output_type": "stream",
          "name": "stdout",
          "text": [
            "7.0\n",
            "<class 'float'>\n"
          ]
        }
      ]
    },
    {
      "cell_type": "code",
      "source": [
        ""
      ],
      "metadata": {
        "id": "ULcEidjvXQoj"
      },
      "execution_count": null,
      "outputs": []
    },
    {
      "cell_type": "code",
      "source": [
        "k = 7\n",
        "m =str(k)\n",
        "print(m, type(m))"
      ],
      "metadata": {
        "colab": {
          "base_uri": "https://localhost:8080/"
        },
        "id": "fICtTYpUYNEM",
        "outputId": "4ae7a857-f588-4d7b-adfc-865d02736b32"
      },
      "execution_count": 10,
      "outputs": [
        {
          "output_type": "stream",
          "name": "stdout",
          "text": [
            "7 <class 'str'>\n"
          ]
        }
      ]
    },
    {
      "cell_type": "code",
      "source": [
        "r='67'\n",
        "p=float(r)\n",
        "q=int(r)\n",
        "print(p,type(p),q,type(q))"
      ],
      "metadata": {
        "colab": {
          "base_uri": "https://localhost:8080/"
        },
        "id": "D9inwwTuYpY_",
        "outputId": "9fbba639-70fe-4849-802c-cd5eada8aec6"
      },
      "execution_count": 11,
      "outputs": [
        {
          "output_type": "stream",
          "name": "stdout",
          "text": [
            "67.0 <class 'float'> 67 <class 'int'>\n"
          ]
        }
      ]
    },
    {
      "cell_type": "code",
      "source": [
        "r='70.4ab'\n",
        "a=float(r)\n",
        "print(a,type(a))\n"
      ],
      "metadata": {
        "colab": {
          "base_uri": "https://localhost:8080/",
          "height": 205
        },
        "id": "2wi2n7sOYf4u",
        "outputId": "59944a17-59ce-45c9-feac-8f4fa03ea8bd"
      },
      "execution_count": 12,
      "outputs": [
        {
          "output_type": "error",
          "ename": "ValueError",
          "evalue": "ignored",
          "traceback": [
            "\u001b[0;31m---------------------------------------------------------------------------\u001b[0m",
            "\u001b[0;31mValueError\u001b[0m                                Traceback (most recent call last)",
            "\u001b[0;32m<ipython-input-12-7b465cda0dfe>\u001b[0m in \u001b[0;36m<module>\u001b[0;34m()\u001b[0m\n\u001b[1;32m      1\u001b[0m \u001b[0mr\u001b[0m\u001b[0;34m=\u001b[0m\u001b[0;34m'70.4ab'\u001b[0m\u001b[0;34m\u001b[0m\u001b[0;34m\u001b[0m\u001b[0m\n\u001b[0;32m----> 2\u001b[0;31m \u001b[0ma\u001b[0m\u001b[0;34m=\u001b[0m\u001b[0mfloat\u001b[0m\u001b[0;34m(\u001b[0m\u001b[0mr\u001b[0m\u001b[0;34m)\u001b[0m\u001b[0;34m\u001b[0m\u001b[0;34m\u001b[0m\u001b[0m\n\u001b[0m\u001b[1;32m      3\u001b[0m \u001b[0mprint\u001b[0m\u001b[0;34m(\u001b[0m\u001b[0ma\u001b[0m\u001b[0;34m,\u001b[0m\u001b[0mtype\u001b[0m\u001b[0;34m(\u001b[0m\u001b[0ma\u001b[0m\u001b[0;34m)\u001b[0m\u001b[0;34m)\u001b[0m\u001b[0;34m\u001b[0m\u001b[0;34m\u001b[0m\u001b[0m\n",
            "\u001b[0;31mValueError\u001b[0m: could not convert string to float: '70.4ab'"
          ]
        }
      ]
    },
    {
      "cell_type": "code",
      "source": [
        "a=[5,6,8,9]\n",
        "b=tuple(a)\n",
        "print(b, type(b))"
      ],
      "metadata": {
        "colab": {
          "base_uri": "https://localhost:8080/"
        },
        "id": "bYaa3JJvZdVq",
        "outputId": "759c9c47-60f0-423b-9c13-b33e6ac5afd4"
      },
      "execution_count": 13,
      "outputs": [
        {
          "output_type": "stream",
          "name": "stdout",
          "text": [
            "(5, 6, 8, 9) <class 'tuple'>\n"
          ]
        }
      ]
    },
    {
      "cell_type": "code",
      "source": [
        "x = (4,7,9)\n",
        "y = list(x)\n",
        "\n",
        "print(y,type(y))"
      ],
      "metadata": {
        "colab": {
          "base_uri": "https://localhost:8080/"
        },
        "id": "I5Tmqvq5ZRH_",
        "outputId": "15d46cc4-67cb-45af-f31c-633e06b3c584"
      },
      "execution_count": 14,
      "outputs": [
        {
          "output_type": "stream",
          "name": "stdout",
          "text": [
            "[4, 7, 9] <class 'list'>\n"
          ]
        }
      ]
    },
    {
      "cell_type": "code",
      "source": [
        "z = str(x)\n",
        "print(z, type(z))"
      ],
      "metadata": {
        "colab": {
          "base_uri": "https://localhost:8080/"
        },
        "id": "N7dn7YoAaDvp",
        "outputId": "a61d007b-8a6b-4d4a-89f6-fa54cf720381"
      },
      "execution_count": 16,
      "outputs": [
        {
          "output_type": "stream",
          "name": "stdout",
          "text": [
            "(4, 7, 9) <class 'str'>\n"
          ]
        }
      ]
    },
    {
      "cell_type": "code",
      "source": [
        "s= 'I am a student'\n",
        "p = list(s)\n",
        "print(p,type(p))"
      ],
      "metadata": {
        "colab": {
          "base_uri": "https://localhost:8080/"
        },
        "id": "yEHNqBKYac-m",
        "outputId": "81f56f7e-7415-45f4-95c5-dfe953f990eb"
      },
      "execution_count": 17,
      "outputs": [
        {
          "output_type": "stream",
          "name": "stdout",
          "text": [
            "['I', ' ', 'a', 'm', ' ', 'a', ' ', 's', 't', 'u', 'd', 'e', 'n', 't'] <class 'list'>\n"
          ]
        }
      ]
    },
    {
      "cell_type": "code",
      "source": [
        "x=tuple(s)\n",
        "print(x,type(x))"
      ],
      "metadata": {
        "colab": {
          "base_uri": "https://localhost:8080/"
        },
        "id": "cPNXzdDuZ6lt",
        "outputId": "8bb58831-90ba-43a9-e8f1-85299d772536"
      },
      "execution_count": 18,
      "outputs": [
        {
          "output_type": "stream",
          "name": "stdout",
          "text": [
            "('I', ' ', 'a', 'm', ' ', 'a', ' ', 's', 't', 'u', 'd', 'e', 'n', 't') <class 'tuple'>\n"
          ]
        }
      ]
    },
    {
      "cell_type": "markdown",
      "source": [
        "#Number functions\n"
      ],
      "metadata": {
        "id": "BXDQLhsnbGfh"
      }
    },
    {
      "cell_type": "code",
      "source": [
        "import math\n",
        "from math import ceil"
      ],
      "metadata": {
        "id": "mND_3xA_bQ96"
      },
      "execution_count": 23,
      "outputs": []
    },
    {
      "cell_type": "code",
      "source": [
        "a = -23\n",
        "b = 2\n",
        "c = 25.34\n",
        "d = 25.78\n",
        "e = -12.29"
      ],
      "metadata": {
        "id": "4Q586aV7bdXn"
      },
      "execution_count": 20,
      "outputs": []
    },
    {
      "cell_type": "code",
      "source": [
        "print(abs(a),abs(b),abs(c),abs(d),abs(e))"
      ],
      "metadata": {
        "colab": {
          "base_uri": "https://localhost:8080/"
        },
        "id": "NrmKDeOzbxlO",
        "outputId": "6dcb8e35-ff65-4dd5-923a-3a625b949f52"
      },
      "execution_count": 21,
      "outputs": [
        {
          "output_type": "stream",
          "name": "stdout",
          "text": [
            "23 2 25.34 25.78 12.29\n"
          ]
        }
      ]
    },
    {
      "cell_type": "code",
      "source": [
        "\n",
        "print(ceil(a), ceil(b),ceil(c),ceil(d),ceil(e))"
      ],
      "metadata": {
        "colab": {
          "base_uri": "https://localhost:8080/"
        },
        "id": "nL5WvFBicJlb",
        "outputId": "97fe9441-7e76-4589-9a92-8f197af8aede"
      },
      "execution_count": 24,
      "outputs": [
        {
          "output_type": "stream",
          "name": "stdout",
          "text": [
            "-23 2 26 26 -12\n"
          ]
        }
      ]
    },
    {
      "cell_type": "code",
      "source": [
        "print(math.floor(a),\n",
        "      math.floor(b),\n",
        "      math.floor(c),\n",
        "      math.floor(d),\n",
        "      math.floor(e))"
      ],
      "metadata": {
        "colab": {
          "base_uri": "https://localhost:8080/"
        },
        "id": "W2nYRqGEdSRE",
        "outputId": "b2c6390d-5bcc-40dd-849a-8ca0fcd2a75a"
      },
      "execution_count": 25,
      "outputs": [
        {
          "output_type": "stream",
          "name": "stdout",
          "text": [
            "-23 2 25 25 -13\n"
          ]
        }
      ]
    },
    {
      "cell_type": "code",
      "source": [
        "print(math.log(b))"
      ],
      "metadata": {
        "colab": {
          "base_uri": "https://localhost:8080/"
        },
        "id": "G2A0OoyGd_W-",
        "outputId": "ac6f748a-9421-4566-f8db-1f0e495bffa0"
      },
      "execution_count": 26,
      "outputs": [
        {
          "output_type": "stream",
          "name": "stdout",
          "text": [
            "0.6931471805599453\n"
          ]
        }
      ]
    },
    {
      "cell_type": "code",
      "source": [
        "print(math.log(a))"
      ],
      "metadata": {
        "colab": {
          "base_uri": "https://localhost:8080/",
          "height": 169
        },
        "id": "xJxQmoMnc4Lm",
        "outputId": "842328c7-0d0e-49f1-dad7-44bea8a6914c"
      },
      "execution_count": 27,
      "outputs": [
        {
          "output_type": "error",
          "ename": "ValueError",
          "evalue": "ignored",
          "traceback": [
            "\u001b[0;31m---------------------------------------------------------------------------\u001b[0m",
            "\u001b[0;31mValueError\u001b[0m                                Traceback (most recent call last)",
            "\u001b[0;32m<ipython-input-27-17c3cff279f5>\u001b[0m in \u001b[0;36m<module>\u001b[0;34m()\u001b[0m\n\u001b[0;32m----> 1\u001b[0;31m \u001b[0mprint\u001b[0m\u001b[0;34m(\u001b[0m\u001b[0mmath\u001b[0m\u001b[0;34m.\u001b[0m\u001b[0mlog\u001b[0m\u001b[0;34m(\u001b[0m\u001b[0ma\u001b[0m\u001b[0;34m)\u001b[0m\u001b[0;34m)\u001b[0m\u001b[0;34m\u001b[0m\u001b[0;34m\u001b[0m\u001b[0m\n\u001b[0m",
            "\u001b[0;31mValueError\u001b[0m: math domain error"
          ]
        }
      ]
    },
    {
      "cell_type": "code",
      "source": [
        "max(1,5)"
      ],
      "metadata": {
        "colab": {
          "base_uri": "https://localhost:8080/"
        },
        "id": "-Y3jZMLYeKfp",
        "outputId": "1aba8cd8-b2f0-487f-f256-d024a2b0867b"
      },
      "execution_count": 28,
      "outputs": [
        {
          "output_type": "execute_result",
          "data": {
            "text/plain": [
              "5"
            ]
          },
          "metadata": {},
          "execution_count": 28
        }
      ]
    },
    {
      "cell_type": "code",
      "source": [
        "min(1,5)"
      ],
      "metadata": {
        "colab": {
          "base_uri": "https://localhost:8080/"
        },
        "id": "f7Y9l67Lei6C",
        "outputId": "df9d5de8-66e3-4173-9a47-af2534161d22"
      },
      "execution_count": 29,
      "outputs": [
        {
          "output_type": "execute_result",
          "data": {
            "text/plain": [
              "1"
            ]
          },
          "metadata": {},
          "execution_count": 29
        }
      ]
    },
    {
      "cell_type": "code",
      "source": [
        "a= 1.8844\n",
        "print(round(a))"
      ],
      "metadata": {
        "colab": {
          "base_uri": "https://localhost:8080/"
        },
        "id": "TKcQmvNEelWc",
        "outputId": "6f0f7e9c-1112-4216-9dc0-2f03395c4ec0"
      },
      "execution_count": 30,
      "outputs": [
        {
          "output_type": "stream",
          "name": "stdout",
          "text": [
            "2\n"
          ]
        }
      ]
    },
    {
      "cell_type": "code",
      "source": [
        "print(round(a,2))"
      ],
      "metadata": {
        "colab": {
          "base_uri": "https://localhost:8080/"
        },
        "id": "mhzlK7OZezOM",
        "outputId": "7921fcae-5a08-4643-df33-998c244ac952"
      },
      "execution_count": 31,
      "outputs": [
        {
          "output_type": "stream",
          "name": "stdout",
          "text": [
            "1.88\n"
          ]
        }
      ]
    },
    {
      "cell_type": "code",
      "source": [
        "a=9\n",
        "print(math.sqrt(a))"
      ],
      "metadata": {
        "colab": {
          "base_uri": "https://localhost:8080/"
        },
        "id": "uteivo_fe5Z6",
        "outputId": "17f1dca6-9e79-4621-abc7-66f6e8b067c3"
      },
      "execution_count": 32,
      "outputs": [
        {
          "output_type": "stream",
          "name": "stdout",
          "text": [
            "3.0\n"
          ]
        }
      ]
    },
    {
      "cell_type": "code",
      "source": [
        "a=3477\n",
        "b=str(int(round(math.sqrt(a),2)))\n",
        "print(b)"
      ],
      "metadata": {
        "colab": {
          "base_uri": "https://localhost:8080/"
        },
        "id": "u9xLKZGLfD2E",
        "outputId": "702590d0-cdd8-4619-b32c-585eb6aa7782"
      },
      "execution_count": 37,
      "outputs": [
        {
          "output_type": "stream",
          "name": "stdout",
          "text": [
            "58\n"
          ]
        }
      ]
    },
    {
      "cell_type": "markdown",
      "source": [
        "#Arithematic Operations"
      ],
      "metadata": {
        "id": "owscd1DifdoT"
      }
    },
    {
      "cell_type": "code",
      "source": [
        "a= 11\n",
        "b = 3\n"
      ],
      "metadata": {
        "id": "bucQEAGugMIb"
      },
      "execution_count": 39,
      "outputs": []
    },
    {
      "cell_type": "code",
      "source": [
        "print(a +b)"
      ],
      "metadata": {
        "colab": {
          "base_uri": "https://localhost:8080/"
        },
        "id": "XUjbovYdgT1b",
        "outputId": "9fab12f6-4615-4a37-8682-924f97c5bc80"
      },
      "execution_count": 40,
      "outputs": [
        {
          "output_type": "stream",
          "name": "stdout",
          "text": [
            "14\n"
          ]
        }
      ]
    },
    {
      "cell_type": "code",
      "source": [
        "print(a-b)\n",
        "print(a*b)\n",
        "print(a/b)"
      ],
      "metadata": {
        "colab": {
          "base_uri": "https://localhost:8080/"
        },
        "id": "efVkw4E-gYAB",
        "outputId": "e277c85d-0748-431c-a01b-0147d09d076e"
      },
      "execution_count": 41,
      "outputs": [
        {
          "output_type": "stream",
          "name": "stdout",
          "text": [
            "8\n",
            "33\n",
            "3.6666666666666665\n"
          ]
        }
      ]
    },
    {
      "cell_type": "code",
      "source": [
        "print(a//b)\n",
        "print(a%b)"
      ],
      "metadata": {
        "colab": {
          "base_uri": "https://localhost:8080/"
        },
        "id": "Vmo2K5gFgfos",
        "outputId": "c3430bdd-13cd-45e3-bc6a-a8804ba11488"
      },
      "execution_count": 42,
      "outputs": [
        {
          "output_type": "stream",
          "name": "stdout",
          "text": [
            "3\n",
            "2\n"
          ]
        }
      ]
    },
    {
      "cell_type": "code",
      "source": [
        ""
      ],
      "metadata": {
        "id": "lTIvtChKg_mw"
      },
      "execution_count": null,
      "outputs": []
    },
    {
      "cell_type": "code",
      "source": [
        "print(a**b)"
      ],
      "metadata": {
        "colab": {
          "base_uri": "https://localhost:8080/"
        },
        "id": "txHS5x0EhQ05",
        "outputId": "112d64af-5454-4f11-fa27-7ecf10a7f415"
      },
      "execution_count": 43,
      "outputs": [
        {
          "output_type": "stream",
          "name": "stdout",
          "text": [
            "1331\n"
          ]
        }
      ]
    },
    {
      "cell_type": "markdown",
      "source": [
        "#Comparison Operators"
      ],
      "metadata": {
        "id": "nE2-1pyphTVL"
      }
    },
    {
      "cell_type": "code",
      "source": [
        "a= 11\n",
        "b =11\n",
        "c = 3\n"
      ],
      "metadata": {
        "id": "8-PAi2TLhbsz"
      },
      "execution_count": 44,
      "outputs": []
    },
    {
      "cell_type": "code",
      "source": [
        "print(a==b)"
      ],
      "metadata": {
        "colab": {
          "base_uri": "https://localhost:8080/"
        },
        "id": "WeHeonXYhjff",
        "outputId": "56130006-13de-445a-d402-c0affb10ae0c"
      },
      "execution_count": 45,
      "outputs": [
        {
          "output_type": "stream",
          "name": "stdout",
          "text": [
            "True\n"
          ]
        }
      ]
    },
    {
      "cell_type": "code",
      "source": [
        "print(a==c)"
      ],
      "metadata": {
        "colab": {
          "base_uri": "https://localhost:8080/"
        },
        "id": "G-E6V7FEhsEt",
        "outputId": "57fe3e23-22d8-43ca-ecf4-ba5b8f2f32b6"
      },
      "execution_count": 46,
      "outputs": [
        {
          "output_type": "stream",
          "name": "stdout",
          "text": [
            "False\n"
          ]
        }
      ]
    },
    {
      "cell_type": "code",
      "source": [
        "print(a!=b, a!=c)"
      ],
      "metadata": {
        "colab": {
          "base_uri": "https://localhost:8080/"
        },
        "id": "u8A1WYLFhynj",
        "outputId": "a052a3ce-f5f2-4768-b5cc-af3dcf93bfa6"
      },
      "execution_count": 47,
      "outputs": [
        {
          "output_type": "stream",
          "name": "stdout",
          "text": [
            "False True\n"
          ]
        }
      ]
    },
    {
      "cell_type": "code",
      "source": [
        "print(a>b, a>c)"
      ],
      "metadata": {
        "colab": {
          "base_uri": "https://localhost:8080/"
        },
        "id": "D1NAqUJliCfH",
        "outputId": "8aa0978a-61c2-46ec-ced7-dacb988f0035"
      },
      "execution_count": 48,
      "outputs": [
        {
          "output_type": "stream",
          "name": "stdout",
          "text": [
            "False True\n"
          ]
        }
      ]
    },
    {
      "cell_type": "code",
      "source": [
        "print(a<b, a<c)"
      ],
      "metadata": {
        "colab": {
          "base_uri": "https://localhost:8080/"
        },
        "id": "viYIJfQZiMQs",
        "outputId": "466bf8ae-4ce5-4ef1-e10c-879f4460cf53"
      },
      "execution_count": 49,
      "outputs": [
        {
          "output_type": "stream",
          "name": "stdout",
          "text": [
            "False False\n"
          ]
        }
      ]
    },
    {
      "cell_type": "code",
      "source": [
        "print(a>=b, a>=c)"
      ],
      "metadata": {
        "colab": {
          "base_uri": "https://localhost:8080/"
        },
        "id": "ZPo0YchHiQ8r",
        "outputId": "c2e1cd74-ca57-4842-acb0-ef482b8a81d6"
      },
      "execution_count": 50,
      "outputs": [
        {
          "output_type": "stream",
          "name": "stdout",
          "text": [
            "True True\n"
          ]
        }
      ]
    },
    {
      "cell_type": "code",
      "source": [
        "print(a<=b, a<=c)"
      ],
      "metadata": {
        "colab": {
          "base_uri": "https://localhost:8080/"
        },
        "id": "E2ksHCvviXNm",
        "outputId": "e92edf08-7f5b-4f5e-b88e-de3714253d8d"
      },
      "execution_count": 51,
      "outputs": [
        {
          "output_type": "stream",
          "name": "stdout",
          "text": [
            "True False\n"
          ]
        }
      ]
    },
    {
      "cell_type": "markdown",
      "source": [
        "#Assignment Operators"
      ],
      "metadata": {
        "id": "0hhTAVbgicfA"
      }
    },
    {
      "cell_type": "code",
      "source": [
        "a =22+22\n",
        "print(a)"
      ],
      "metadata": {
        "colab": {
          "base_uri": "https://localhost:8080/"
        },
        "id": "-QFEJy4Yiv7w",
        "outputId": "b3663768-051f-459a-9151-0e9cf598fefb"
      },
      "execution_count": 52,
      "outputs": [
        {
          "output_type": "stream",
          "name": "stdout",
          "text": [
            "44\n"
          ]
        }
      ]
    },
    {
      "cell_type": "code",
      "source": [
        "a += 2\n",
        "print(a)"
      ],
      "metadata": {
        "colab": {
          "base_uri": "https://localhost:8080/"
        },
        "id": "dHn4_vh6i44p",
        "outputId": "5d9b9b85-968d-4d96-a1aa-c50e815b1244"
      },
      "execution_count": 53,
      "outputs": [
        {
          "output_type": "stream",
          "name": "stdout",
          "text": [
            "46\n"
          ]
        }
      ]
    },
    {
      "cell_type": "code",
      "source": [
        "a=a+2\n",
        "print(a)"
      ],
      "metadata": {
        "colab": {
          "base_uri": "https://localhost:8080/"
        },
        "id": "ACv_yIGDjBfe",
        "outputId": "f89b4443-c02b-4228-9538-fd1b1bb0615b"
      },
      "execution_count": 54,
      "outputs": [
        {
          "output_type": "stream",
          "name": "stdout",
          "text": [
            "48\n"
          ]
        }
      ]
    },
    {
      "cell_type": "code",
      "source": [
        "a-=5\n",
        "print(a)"
      ],
      "metadata": {
        "colab": {
          "base_uri": "https://localhost:8080/"
        },
        "id": "6SdUbZxMjKRE",
        "outputId": "d5478c3f-2563-4b23-9e03-1143a4ab1baa"
      },
      "execution_count": 55,
      "outputs": [
        {
          "output_type": "stream",
          "name": "stdout",
          "text": [
            "43\n"
          ]
        }
      ]
    },
    {
      "cell_type": "markdown",
      "source": [
        "This Can be done for all the arithematic operators"
      ],
      "metadata": {
        "id": "km-YiQjXjW51"
      }
    },
    {
      "cell_type": "markdown",
      "source": [
        "#Logical Operators"
      ],
      "metadata": {
        "id": "0CdL935Uji0y"
      }
    },
    {
      "cell_type": "markdown",
      "source": [
        "- and\n",
        "- or\n",
        "- not\n"
      ],
      "metadata": {
        "id": "H4_UFC6QjpWO"
      }
    },
    {
      "cell_type": "code",
      "source": [
        "a= 12\n",
        "b =12\n",
        "c = 3\n",
        "\n"
      ],
      "metadata": {
        "id": "GCWe4cGbj7TA"
      },
      "execution_count": 56,
      "outputs": []
    },
    {
      "cell_type": "code",
      "source": [
        "print((a==12) and (b==12))\n"
      ],
      "metadata": {
        "colab": {
          "base_uri": "https://localhost:8080/"
        },
        "id": "OHLorVI2kFhF",
        "outputId": "7bac05bc-0999-4733-d1e1-bf470a10f1dd"
      },
      "execution_count": 57,
      "outputs": [
        {
          "output_type": "stream",
          "name": "stdout",
          "text": [
            "True\n"
          ]
        }
      ]
    },
    {
      "cell_type": "code",
      "source": [
        "print((a==12) and (c==12))"
      ],
      "metadata": {
        "colab": {
          "base_uri": "https://localhost:8080/"
        },
        "id": "7UsuSgDJkZau",
        "outputId": "548de479-5633-4425-dfa0-9148b8bd2f41"
      },
      "execution_count": 58,
      "outputs": [
        {
          "output_type": "stream",
          "name": "stdout",
          "text": [
            "False\n"
          ]
        }
      ]
    },
    {
      "cell_type": "code",
      "source": [
        "print((a==12) or (c==12))"
      ],
      "metadata": {
        "colab": {
          "base_uri": "https://localhost:8080/"
        },
        "id": "wHy33EnKkhsr",
        "outputId": "7017bce5-7b88-445a-e96e-2a46d3354e5e"
      },
      "execution_count": 59,
      "outputs": [
        {
          "output_type": "stream",
          "name": "stdout",
          "text": [
            "True\n"
          ]
        }
      ]
    },
    {
      "cell_type": "code",
      "source": [
        "print(not(a==12))"
      ],
      "metadata": {
        "colab": {
          "base_uri": "https://localhost:8080/"
        },
        "id": "6WBUnGdJkmQ3",
        "outputId": "9b5efe64-b7f3-4ed2-8487-fc69ab302ad3"
      },
      "execution_count": 60,
      "outputs": [
        {
          "output_type": "stream",
          "name": "stdout",
          "text": [
            "False\n"
          ]
        }
      ]
    },
    {
      "cell_type": "markdown",
      "source": [
        "#bitwise Operators"
      ],
      "metadata": {
        "id": "lgpRE-80lLes"
      }
    },
    {
      "cell_type": "markdown",
      "source": [
        "- & bitwise AND operation\n",
        "- | bitwise OR operation\n",
        "- ~ bitwise NOT operation\n",
        "- ^ butwise XOR operation"
      ],
      "metadata": {
        "id": "00Ni8Z9-lQxL"
      }
    },
    {
      "cell_type": "code",
      "source": [
        "a = 10\n",
        "b = 4\n"
      ],
      "metadata": {
        "id": "1Soqcg1QltDd"
      },
      "execution_count": 61,
      "outputs": []
    },
    {
      "cell_type": "code",
      "source": [
        "print(a&b)"
      ],
      "metadata": {
        "colab": {
          "base_uri": "https://localhost:8080/"
        },
        "id": "XK_md5xlmTdd",
        "outputId": "5b5127a3-0172-4f66-ada8-89c0fe82fbda"
      },
      "execution_count": 62,
      "outputs": [
        {
          "output_type": "stream",
          "name": "stdout",
          "text": [
            "0\n"
          ]
        }
      ]
    },
    {
      "cell_type": "code",
      "source": [
        "print(a|b)"
      ],
      "metadata": {
        "colab": {
          "base_uri": "https://localhost:8080/"
        },
        "id": "X0atuzLnmXsV",
        "outputId": "1ea3bb25-fa5d-4d9d-8048-3d11f160a641"
      },
      "execution_count": 63,
      "outputs": [
        {
          "output_type": "stream",
          "name": "stdout",
          "text": [
            "14\n"
          ]
        }
      ]
    },
    {
      "cell_type": "code",
      "source": [
        "print(~a)"
      ],
      "metadata": {
        "colab": {
          "base_uri": "https://localhost:8080/"
        },
        "id": "x8OFC7XPmdvC",
        "outputId": "d0edd3c1-edb2-430c-b46a-6be5b2e2a4a1"
      },
      "execution_count": 64,
      "outputs": [
        {
          "output_type": "stream",
          "name": "stdout",
          "text": [
            "-11\n"
          ]
        }
      ]
    },
    {
      "cell_type": "code",
      "source": [
        "print(a^b)"
      ],
      "metadata": {
        "colab": {
          "base_uri": "https://localhost:8080/"
        },
        "id": "4hPof5RNmjm0",
        "outputId": "1b4a5439-fcbd-4b8f-a468-1a7dc30db2ba"
      },
      "execution_count": 65,
      "outputs": [
        {
          "output_type": "stream",
          "name": "stdout",
          "text": [
            "14\n"
          ]
        }
      ]
    },
    {
      "cell_type": "markdown",
      "source": [
        "#Membership Operators"
      ],
      "metadata": {
        "id": "cu8_Py6jmuiq"
      }
    },
    {
      "cell_type": "markdown",
      "source": [
        "- in\n",
        "- not in\n"
      ],
      "metadata": {
        "id": "CAJzIgohm1vM"
      }
    },
    {
      "cell_type": "code",
      "source": [
        "a=[1,2,3,4]\n",
        "print(23 in a)\n"
      ],
      "metadata": {
        "colab": {
          "base_uri": "https://localhost:8080/"
        },
        "id": "3i91PVzWm5B6",
        "outputId": "84c64d4f-66c4-44c1-9070-67ef8979a4be"
      },
      "execution_count": 67,
      "outputs": [
        {
          "output_type": "stream",
          "name": "stdout",
          "text": [
            "False\n"
          ]
        }
      ]
    },
    {
      "cell_type": "code",
      "source": [
        "a=[1,2,3,4]\n",
        "print(23 not in a)\n"
      ],
      "metadata": {
        "colab": {
          "base_uri": "https://localhost:8080/"
        },
        "id": "TkFxPVfTnWOA",
        "outputId": "0564be06-f62b-48a9-d2a3-d93e3fd42b5b"
      },
      "execution_count": 68,
      "outputs": [
        {
          "output_type": "stream",
          "name": "stdout",
          "text": [
            "True\n"
          ]
        }
      ]
    },
    {
      "cell_type": "markdown",
      "source": [
        "#Identity Operators"
      ],
      "metadata": {
        "id": "NSErk3Vdnipe"
      }
    },
    {
      "cell_type": "markdown",
      "source": [
        "- is\n",
        "- is not"
      ],
      "metadata": {
        "id": "19gQJBspnw7d"
      }
    },
    {
      "cell_type": "code",
      "source": [
        "a= 12\n",
        "print(a is 12)"
      ],
      "metadata": {
        "colab": {
          "base_uri": "https://localhost:8080/"
        },
        "id": "nDWBNmhan2hg",
        "outputId": "8a180fc8-d0a2-4b0c-8bd9-c921461d9db5"
      },
      "execution_count": 69,
      "outputs": [
        {
          "output_type": "stream",
          "name": "stdout",
          "text": [
            "True\n"
          ]
        }
      ]
    },
    {
      "cell_type": "code",
      "source": [
        "print( a is 11)"
      ],
      "metadata": {
        "colab": {
          "base_uri": "https://localhost:8080/"
        },
        "id": "-2Rno6YDn7B3",
        "outputId": "09c9e066-1172-42cd-c847-13eeb714a4d4"
      },
      "execution_count": 70,
      "outputs": [
        {
          "output_type": "stream",
          "name": "stdout",
          "text": [
            "False\n"
          ]
        }
      ]
    },
    {
      "cell_type": "code",
      "source": [
        "print( a is not 11)"
      ],
      "metadata": {
        "colab": {
          "base_uri": "https://localhost:8080/"
        },
        "id": "SqW5lUC5n_Tq",
        "outputId": "0add2a0e-f0d3-4967-a0ff-e8f703b2bd48"
      },
      "execution_count": 71,
      "outputs": [
        {
          "output_type": "stream",
          "name": "stdout",
          "text": [
            "True\n"
          ]
        }
      ]
    },
    {
      "cell_type": "markdown",
      "source": [
        "# IF ELSE"
      ],
      "metadata": {
        "id": "rDQV8O0XoGBM"
      }
    },
    {
      "cell_type": "code",
      "source": [
        "a= 'string'\n",
        "if a=='string':\n",
        "  print('matched')\n"
      ],
      "metadata": {
        "colab": {
          "base_uri": "https://localhost:8080/"
        },
        "id": "H8urMpy_oQ7_",
        "outputId": "90589f4d-9d53-4449-f58f-e6cb824c2726"
      },
      "execution_count": 72,
      "outputs": [
        {
          "output_type": "stream",
          "name": "stdout",
          "text": [
            "matched\n"
          ]
        }
      ]
    },
    {
      "cell_type": "code",
      "source": [
        "a= 'string'\n",
        "if a=='strin':\n",
        "  print('matched')"
      ],
      "metadata": {
        "id": "aq8ESUAlo7NK"
      },
      "execution_count": 73,
      "outputs": []
    },
    {
      "cell_type": "code",
      "source": [
        "a= 'string'\n",
        "if a=='strin':\n",
        "  print('matched')\n",
        "else: \n",
        "  print('Not matched')"
      ],
      "metadata": {
        "colab": {
          "base_uri": "https://localhost:8080/"
        },
        "id": "1e2Oa8gDo_TD",
        "outputId": "a81edbdc-f567-4cb7-90e5-c95769015d38"
      },
      "execution_count": 74,
      "outputs": [
        {
          "output_type": "stream",
          "name": "stdout",
          "text": [
            "Not matched\n"
          ]
        }
      ]
    },
    {
      "cell_type": "code",
      "source": [
        "a=[4,5,7]\n",
        "if type(a)==list:\n",
        "  print('It is a list')"
      ],
      "metadata": {
        "colab": {
          "base_uri": "https://localhost:8080/"
        },
        "id": "dBVm-GBypQfh",
        "outputId": "1c8b365c-e23c-4097-8c50-0d99aed838ad"
      },
      "execution_count": 78,
      "outputs": [
        {
          "output_type": "stream",
          "name": "stdout",
          "text": [
            "It is a list\n"
          ]
        }
      ]
    },
    {
      "cell_type": "code",
      "source": [
        "if len(a)==4:\n",
        "  print('Length is 4')\n",
        "else:\n",
        "    print('Length is not 4')"
      ],
      "metadata": {
        "colab": {
          "base_uri": "https://localhost:8080/"
        },
        "id": "9AQRomXApjNp",
        "outputId": "f021d88a-29cd-4333-e05a-edea4aeae996"
      },
      "execution_count": 79,
      "outputs": [
        {
          "output_type": "stream",
          "name": "stdout",
          "text": [
            "Length is not 4\n"
          ]
        }
      ]
    },
    {
      "cell_type": "code",
      "source": [
        "a=[6,7,8,9,4]\n",
        "if len(a)==4:\n",
        "  print('Length is 4')\n",
        "elif len(a)==5:\n",
        "    print('Length is 5')\n",
        "else:\n",
        "    print('Length is neither 4 nor 5')\n"
      ],
      "metadata": {
        "colab": {
          "base_uri": "https://localhost:8080/"
        },
        "id": "q8wlu_Dtp586",
        "outputId": "b61cd6a8-c5aa-495f-b231-55dadec58fac"
      },
      "execution_count": 82,
      "outputs": [
        {
          "output_type": "stream",
          "name": "stdout",
          "text": [
            "Length is 5\n"
          ]
        }
      ]
    },
    {
      "cell_type": "code",
      "source": [
        "d = 10\n",
        "e = 1\n",
        "if d==12:\n",
        "  if e==10:\n",
        "    print('d=12 and e=10')\n",
        "  else:\n",
        "    print('d=12 and e not=10')\n",
        "else:\n",
        " print('d is not 12')"
      ],
      "metadata": {
        "colab": {
          "base_uri": "https://localhost:8080/"
        },
        "id": "NJfelFm8rAEX",
        "outputId": "8f948e38-a8f8-46b8-e7d7-5eb404a57b0a"
      },
      "execution_count": 87,
      "outputs": [
        {
          "output_type": "stream",
          "name": "stdout",
          "text": [
            "d is not 12\n"
          ]
        }
      ]
    },
    {
      "cell_type": "markdown",
      "source": [
        "#Loops and Range"
      ],
      "metadata": {
        "id": "DdoiufzBr7fw"
      }
    },
    {
      "cell_type": "code",
      "source": [
        "a =12\n",
        "while a>2:\n",
        "  a-=2\n",
        "  print(a)"
      ],
      "metadata": {
        "colab": {
          "base_uri": "https://localhost:8080/"
        },
        "id": "wSYrzYzLsnk4",
        "outputId": "afa1267b-ee0c-42dd-bc5d-0551e568242b"
      },
      "execution_count": 88,
      "outputs": [
        {
          "output_type": "stream",
          "name": "stdout",
          "text": [
            "10\n",
            "8\n",
            "6\n",
            "4\n",
            "2\n"
          ]
        }
      ]
    },
    {
      "cell_type": "code",
      "source": [
        "a = 23\n",
        "while (a==23):\n",
        "  print(a)\n"
      ],
      "metadata": {
        "id": "3ByE-FCFtKtB"
      },
      "execution_count": null,
      "outputs": []
    },
    {
      "cell_type": "code",
      "source": [
        "b = 25\n",
        "while b>=1:\n",
        "   print(b)\n",
        "   b-=1"
      ],
      "metadata": {
        "colab": {
          "base_uri": "https://localhost:8080/"
        },
        "id": "9N_f7Y4xtzMN",
        "outputId": "ea3892e8-ac80-4b05-8033-a53b41b61f81"
      },
      "execution_count": 94,
      "outputs": [
        {
          "output_type": "stream",
          "name": "stdout",
          "text": [
            "25\n",
            "24\n",
            "23\n",
            "22\n",
            "21\n",
            "20\n",
            "19\n",
            "18\n",
            "17\n",
            "16\n",
            "15\n",
            "14\n",
            "13\n",
            "12\n",
            "11\n",
            "10\n",
            "9\n",
            "8\n",
            "7\n",
            "6\n",
            "5\n",
            "4\n",
            "3\n",
            "2\n",
            "1\n"
          ]
        }
      ]
    },
    {
      "cell_type": "code",
      "source": [
        ""
      ],
      "metadata": {
        "id": "MoLESiJatll0"
      },
      "execution_count": null,
      "outputs": []
    }
  ]
}