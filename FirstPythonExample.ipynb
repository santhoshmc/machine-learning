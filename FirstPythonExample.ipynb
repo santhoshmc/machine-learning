{
  "nbformat": 4,
  "nbformat_minor": 0,
  "metadata": {
    "colab": {
      "name": "FirstPythonExample.ipynb",
      "provenance": [],
      "collapsed_sections": [
        "n0QgwdQ6akGh",
        "-gyFGrvkdCRe",
        "h559P3_vd1Rp",
        "6gemdDA2WwDN",
        "BXDQLhsnbGfh",
        "owscd1DifdoT",
        "nE2-1pyphTVL",
        "0hhTAVbgicfA",
        "0CdL935Uji0y",
        "lgpRE-80lLes",
        "cu8_Py6jmuiq",
        "NSErk3Vdnipe",
        "rDQV8O0XoGBM",
        "DdoiufzBr7fw",
        "Y2t75QVFe9qt",
        "B7Fjcayygz-y",
        "KoGt3OMz1SEW",
        "nec7SALfH_Ag",
        "XbiQla7JN_Vh",
        "0neVvTbDYBbv",
        "bnq-IT3GcBR3",
        "RQT62X3WdjHU",
        "q39gR_JUfKXV",
        "V_ulpqS5lYeF",
        "sRDA7wQEmEkT"
      ],
      "authorship_tag": "ABX9TyOUYFv2Z0LwSXkMEzY4Qh6m",
      "include_colab_link": true
    },
    "kernelspec": {
      "name": "python3",
      "display_name": "Python 3"
    },
    "language_info": {
      "name": "python"
    }
  },
  "cells": [
    {
      "cell_type": "markdown",
      "metadata": {
        "id": "view-in-github",
        "colab_type": "text"
      },
      "source": [
        "<a href=\"https://colab.research.google.com/github/santhoshmc/machine-learning/blob/main/FirstPythonExample.ipynb\" target=\"_parent\"><img src=\"https://colab.research.google.com/assets/colab-badge.svg\" alt=\"Open In Colab\"/></a>"
      ]
    },
    {
      "cell_type": "markdown",
      "source": [
        "# Virtual Environment\n",
        "\n",
        "**What is a Virtual Environment?**\n",
        "\n",
        "A virtual environment is a Python environment such that the Python interpreter, libraries and scripts installed into it are isolated from those installed in other virtual environments, and (by default) any libraries installed in a “system” Python, i.e., one which is installed as part of your operating system.\n",
        "\n",
        "\n",
        "**Why do we create a VENV?**\n",
        "\n",
        "A Virtual Environment is created when we don't want Libraries (and their dependencies) of one project in our system to interfere with Libraries of other project in our system.\n",
        "\n",
        "For example, We have two projects in our system:\n",
        "\n",
        "Project 1: Resume Parser\n",
        "\n",
        "Project 2: JD Matcher\n",
        "\n",
        "Both of these projects require an open-source Numpy package but the version that they require is different. So that will create a clash between two projects. \n",
        "\n",
        "So the best way to avoid such clashes is to create two separate virtual environments for these two projects and install corresponding dependecies in respective VENVs.\n",
        "\n",
        "\n",
        "**How do we create a VENV?**\n",
        "\n",
        "`python3 -m venv /path/to/new/virtual/environment`\n",
        "\n",
        "\n",
        "\n",
        "**How we invoke Virtual Environment?**\n",
        "\n",
        "On Windows, invoke the venv command as follows:\n",
        "\n",
        "`.\\envname\\Scripts\\activate`\n",
        "\n",
        "On Linux (Ubuntu) use this command:\n",
        "\n",
        "`source myenv/bin/activate`\n",
        "\n",
        "\n",
        "\n"
      ],
      "metadata": {
        "id": "3oVwqAdSehQS"
      }
    },
    {
      "cell_type": "markdown",
      "source": [
        "# print"
      ],
      "metadata": {
        "id": "ScDSS19vVrFe"
      }
    },
    {
      "cell_type": "code",
      "execution_count": 1,
      "metadata": {
        "colab": {
          "base_uri": "https://localhost:8080/"
        },
        "id": "o8zTP2etTzK1",
        "outputId": "089eb7c8-2f7f-4433-9711-ebb9a397abc4"
      },
      "outputs": [
        {
          "output_type": "stream",
          "name": "stdout",
          "text": [
            "0\n"
          ]
        }
      ],
      "source": [
        "print(0)"
      ]
    },
    {
      "cell_type": "code",
      "source": [
        "print(\"first book\")"
      ],
      "metadata": {
        "colab": {
          "base_uri": "https://localhost:8080/"
        },
        "id": "Z-sMTW4MUK2A",
        "outputId": "561fbe97-8eee-4820-9980-cc08568ffebe"
      },
      "execution_count": 2,
      "outputs": [
        {
          "output_type": "stream",
          "name": "stdout",
          "text": [
            "first book\n"
          ]
        }
      ]
    },
    {
      "cell_type": "code",
      "source": [
        "print(0 * 5)"
      ],
      "metadata": {
        "colab": {
          "base_uri": "https://localhost:8080/"
        },
        "id": "qRuw5Ev6UQ1N",
        "outputId": "7c5a5656-3487-426f-8671-10f4ef772c07"
      },
      "execution_count": null,
      "outputs": [
        {
          "output_type": "stream",
          "name": "stdout",
          "text": [
            "0\n"
          ]
        }
      ]
    },
    {
      "cell_type": "code",
      "source": [
        "print(\"first book\" * 5)"
      ],
      "metadata": {
        "colab": {
          "base_uri": "https://localhost:8080/"
        },
        "id": "G3VJ-O-NUbPB",
        "outputId": "3bfe4ecb-d122-4b9d-fe4a-0788c17dae88"
      },
      "execution_count": null,
      "outputs": [
        {
          "output_type": "stream",
          "name": "stdout",
          "text": [
            "first bookfirst bookfirst bookfirst bookfirst book\n"
          ]
        }
      ]
    },
    {
      "cell_type": "code",
      "source": [
        "print( 0 + 5)"
      ],
      "metadata": {
        "colab": {
          "base_uri": "https://localhost:8080/"
        },
        "id": "A36Mjnz-Uj5D",
        "outputId": "d9d48468-d4c4-4de3-c96c-58d08e81e6f9"
      },
      "execution_count": null,
      "outputs": [
        {
          "output_type": "stream",
          "name": "stdout",
          "text": [
            "5\n"
          ]
        }
      ]
    },
    {
      "cell_type": "code",
      "source": [
        "print(\"first book\" + 5)"
      ],
      "metadata": {
        "colab": {
          "base_uri": "https://localhost:8080/",
          "height": 169
        },
        "id": "CzZYgjdzUuxE",
        "outputId": "c668dc13-f98e-4938-ec39-1012420eb4ae"
      },
      "execution_count": null,
      "outputs": [
        {
          "output_type": "error",
          "ename": "TypeError",
          "evalue": "ignored",
          "traceback": [
            "\u001b[0;31m---------------------------------------------------------------------------\u001b[0m",
            "\u001b[0;31mTypeError\u001b[0m                                 Traceback (most recent call last)",
            "\u001b[0;32m<ipython-input-7-921917abd9d6>\u001b[0m in \u001b[0;36m<module>\u001b[0;34m()\u001b[0m\n\u001b[0;32m----> 1\u001b[0;31m \u001b[0mprint\u001b[0m\u001b[0;34m(\u001b[0m\u001b[0;34m\"first book\"\u001b[0m \u001b[0;34m+\u001b[0m \u001b[0;36m5\u001b[0m\u001b[0;34m)\u001b[0m\u001b[0;34m\u001b[0m\u001b[0;34m\u001b[0m\u001b[0m\n\u001b[0m",
            "\u001b[0;31mTypeError\u001b[0m: can only concatenate str (not \"int\") to str"
          ]
        }
      ]
    },
    {
      "cell_type": "markdown",
      "source": [
        "# variables"
      ],
      "metadata": {
        "id": "BFQ_9halU0wn"
      }
    },
    {
      "cell_type": "code",
      "source": [
        "integer_variable = 2\n",
        "integerVariable = 3\n",
        "floatVariable = 5.0\n",
        "stringVariable = 'Fox'\n",
        "print(type(integerVariable))\n"
      ],
      "metadata": {
        "colab": {
          "base_uri": "https://localhost:8080/"
        },
        "id": "fOT8GFEJWF_K",
        "outputId": "c9a013cf-3be9-4dc5-e2f4-425a1291bccd"
      },
      "execution_count": null,
      "outputs": [
        {
          "output_type": "stream",
          "name": "stdout",
          "text": [
            "<class 'int'>\n"
          ]
        }
      ]
    },
    {
      "cell_type": "code",
      "source": [
        "a = b = c = 6"
      ],
      "metadata": {
        "id": "lnfBuiXnXYbe"
      },
      "execution_count": null,
      "outputs": []
    },
    {
      "cell_type": "code",
      "source": [
        "a, b, c = 6, 7.0, 'raj'"
      ],
      "metadata": {
        "id": "JNnlsVXDXj7y"
      },
      "execution_count": null,
      "outputs": []
    },
    {
      "cell_type": "code",
      "source": [
        "print(a, b, c)"
      ],
      "metadata": {
        "colab": {
          "base_uri": "https://localhost:8080/"
        },
        "id": "1_sLbtN0X8bU",
        "outputId": "7315f7a9-9937-4c7c-cc83-471063629c68"
      },
      "execution_count": null,
      "outputs": [
        {
          "output_type": "stream",
          "name": "stdout",
          "text": [
            "6 7.0 raj\n"
          ]
        }
      ]
    },
    {
      "cell_type": "code",
      "source": [
        "a, b, c = 6,7"
      ],
      "metadata": {
        "colab": {
          "base_uri": "https://localhost:8080/",
          "height": 169
        },
        "id": "As_djwCkYTjP",
        "outputId": "da570915-c36d-4768-903d-6438c0ce5e87"
      },
      "execution_count": null,
      "outputs": [
        {
          "output_type": "error",
          "ename": "ValueError",
          "evalue": "ignored",
          "traceback": [
            "\u001b[0;31m---------------------------------------------------------------------------\u001b[0m",
            "\u001b[0;31mValueError\u001b[0m                                Traceback (most recent call last)",
            "\u001b[0;32m<ipython-input-14-808412040e24>\u001b[0m in \u001b[0;36m<module>\u001b[0;34m()\u001b[0m\n\u001b[0;32m----> 1\u001b[0;31m \u001b[0ma\u001b[0m\u001b[0;34m,\u001b[0m \u001b[0mb\u001b[0m\u001b[0;34m,\u001b[0m \u001b[0mc\u001b[0m \u001b[0;34m=\u001b[0m \u001b[0;36m6\u001b[0m\u001b[0;34m,\u001b[0m\u001b[0;36m7\u001b[0m\u001b[0;34m\u001b[0m\u001b[0;34m\u001b[0m\u001b[0m\n\u001b[0m",
            "\u001b[0;31mValueError\u001b[0m: not enough values to unpack (expected 3, got 2)"
          ]
        }
      ]
    },
    {
      "cell_type": "code",
      "source": [
        "help(\"keywords\")"
      ],
      "metadata": {
        "colab": {
          "base_uri": "https://localhost:8080/"
        },
        "id": "w-5Qb109YuJQ",
        "outputId": "34e4c987-1586-484f-ffeb-ef06d00cd7bc"
      },
      "execution_count": null,
      "outputs": [
        {
          "output_type": "stream",
          "name": "stdout",
          "text": [
            "\n",
            "Here is a list of the Python keywords.  Enter any keyword to get more help.\n",
            "\n",
            "False               class               from                or\n",
            "None                continue            global              pass\n",
            "True                def                 if                  raise\n",
            "and                 del                 import              return\n",
            "as                  elif                in                  try\n",
            "assert              else                is                  while\n",
            "async               except              lambda              with\n",
            "await               finally             nonlocal            yield\n",
            "break               for                 not                 \n",
            "\n"
          ]
        }
      ]
    },
    {
      "cell_type": "markdown",
      "source": [
        "# lines and indentation"
      ],
      "metadata": {
        "id": "LB6xbDE0ZOfR"
      }
    },
    {
      "cell_type": "code",
      "source": [
        "a = 24\n",
        "if a == 23:\n",
        "  print(\"equals to 23\")\n",
        "else:\n",
        "  if a < 23:\n",
        "    print(\"small than 23\")\n",
        "  else:\n",
        "    print(\"greater than 23\")"
      ],
      "metadata": {
        "colab": {
          "base_uri": "https://localhost:8080/"
        },
        "id": "VMtRYxpaZX08",
        "outputId": "39b0c855-db27-4a5a-d91d-aaa653748195"
      },
      "execution_count": null,
      "outputs": [
        {
          "output_type": "stream",
          "name": "stdout",
          "text": [
            "greater than 23\n"
          ]
        }
      ]
    },
    {
      "cell_type": "markdown",
      "source": [
        "# quatations"
      ],
      "metadata": {
        "id": "n0QgwdQ6akGh"
      }
    },
    {
      "cell_type": "code",
      "source": [
        "a = ' \"camel\" '\n",
        "b = \"camel\"\n",
        "c = '''bull\n",
        "on road\n",
        "is cheap'''"
      ],
      "metadata": {
        "id": "py6C6zvQbSzI"
      },
      "execution_count": null,
      "outputs": []
    },
    {
      "cell_type": "code",
      "source": [
        "print(a, b, c)"
      ],
      "metadata": {
        "colab": {
          "base_uri": "https://localhost:8080/"
        },
        "id": "XiWCb21vc9Do",
        "outputId": "069ce618-c8f3-40e4-ec8f-3820e62f8186"
      },
      "execution_count": null,
      "outputs": [
        {
          "output_type": "stream",
          "name": "stdout",
          "text": [
            " \"camel\"  camel bull\n",
            "on road\n",
            "is cheap\n"
          ]
        }
      ]
    },
    {
      "cell_type": "markdown",
      "source": [
        "#Comments"
      ],
      "metadata": {
        "id": "-gyFGrvkdCRe"
      }
    },
    {
      "cell_type": "code",
      "source": [
        "# this is a test\n"
      ],
      "metadata": {
        "id": "hY6L55BQdNnM"
      },
      "execution_count": null,
      "outputs": []
    },
    {
      "cell_type": "code",
      "source": [
        "''' this is also a comment\n",
        "test2'''\n"
      ],
      "metadata": {
        "colab": {
          "base_uri": "https://localhost:8080/",
          "height": 35
        },
        "id": "ELXMgu0rdVpo",
        "outputId": "5954e253-dbb9-4e53-94a7-5a6d3ecae732"
      },
      "execution_count": null,
      "outputs": [
        {
          "output_type": "execute_result",
          "data": {
            "text/plain": [
              "' this is also a comment\\ntest2'"
            ],
            "application/vnd.google.colaboratory.intrinsic+json": {
              "type": "string"
            }
          },
          "metadata": {},
          "execution_count": 23
        }
      ]
    },
    {
      "cell_type": "markdown",
      "source": [
        "#Standard Data types\n"
      ],
      "metadata": {
        "id": "h559P3_vd1Rp"
      }
    },
    {
      "cell_type": "code",
      "source": [
        "# this is a string\n",
        "p = 'Dog'\n",
        "print(type(p), p)\n"
      ],
      "metadata": {
        "colab": {
          "base_uri": "https://localhost:8080/"
        },
        "id": "aJl7_OaweAtG",
        "outputId": "e6e71508-b092-474b-d831-67490501779c"
      },
      "execution_count": null,
      "outputs": [
        {
          "output_type": "stream",
          "name": "stdout",
          "text": [
            "<class 'str'> Dog\n"
          ]
        }
      ]
    },
    {
      "cell_type": "code",
      "source": [
        "# These are all numbers\n",
        "x = 9\n",
        "y = 4.5\n",
        "z = -3\n",
        "p = -3.2\n",
        "print(type(x),type(y), type(z), type(p))"
      ],
      "metadata": {
        "colab": {
          "base_uri": "https://localhost:8080/"
        },
        "id": "r_hAyxEpeuj6",
        "outputId": "7194577d-cfd4-430d-bd1d-85fb00b3555e"
      },
      "execution_count": null,
      "outputs": [
        {
          "output_type": "stream",
          "name": "stdout",
          "text": [
            "<class 'int'> <class 'float'> <class 'int'> <class 'float'>\n"
          ]
        }
      ]
    },
    {
      "cell_type": "code",
      "source": [
        "#List\n",
        "a=[1,2,3,4]\n",
        "print(a)\n",
        "print(len(a))"
      ],
      "metadata": {
        "colab": {
          "base_uri": "https://localhost:8080/"
        },
        "id": "n4GzJ2YbgEH5",
        "outputId": "f0296115-b535-4711-b03e-f93bd657aae7"
      },
      "execution_count": null,
      "outputs": [
        {
          "output_type": "stream",
          "name": "stdout",
          "text": [
            "[1, 2, 3, 4]\n",
            "4\n"
          ]
        }
      ]
    },
    {
      "cell_type": "code",
      "source": [
        "b=[3,5.4,\"san\"]\n",
        "print(b, len(b), type(b))\n"
      ],
      "metadata": {
        "colab": {
          "base_uri": "https://localhost:8080/"
        },
        "id": "L1mf1u30gnkI",
        "outputId": "aa6fbb83-fd86-43f6-ee19-5d86f9267f81"
      },
      "execution_count": null,
      "outputs": [
        {
          "output_type": "stream",
          "name": "stdout",
          "text": [
            "[3, 5.4, 'san'] 3 <class 'list'>\n"
          ]
        }
      ]
    },
    {
      "cell_type": "code",
      "source": [
        "#Tuples\n",
        "a= (3,6.7,'cat')\n",
        "print(a , type(a))"
      ],
      "metadata": {
        "colab": {
          "base_uri": "https://localhost:8080/"
        },
        "id": "r7O1WlBCiNf0",
        "outputId": "6e936c6f-d89a-48e5-c354-9c42d22cb486"
      },
      "execution_count": null,
      "outputs": [
        {
          "output_type": "stream",
          "name": "stdout",
          "text": [
            "(3, 6.7, 'cat') <class 'tuple'>\n"
          ]
        }
      ]
    },
    {
      "cell_type": "code",
      "source": [
        "#dictionaries\n",
        "x= {\"key1\":\"value1\", \"key2\": \"value2\"}\n",
        "y= {1:2, 3:x}\n",
        "print(x,y,type(x), type(y))"
      ],
      "metadata": {
        "colab": {
          "base_uri": "https://localhost:8080/"
        },
        "id": "nbGy4CQkiEJT",
        "outputId": "0f38f304-c3eb-452a-a956-fab9b6259244"
      },
      "execution_count": null,
      "outputs": [
        {
          "output_type": "stream",
          "name": "stdout",
          "text": [
            "{'key1': 'value1', 'key2': 'value2'} {1: 2, 3: {'key1': 'value1', 'key2': 'value2'}} <class 'dict'> <class 'dict'>\n"
          ]
        }
      ]
    },
    {
      "cell_type": "markdown",
      "source": [
        ""
      ],
      "metadata": {
        "id": "n2lkZKoNVLhW"
      }
    },
    {
      "cell_type": "code",
      "source": [
        ""
      ],
      "metadata": {
        "id": "2nGOpuH5VPQ2"
      },
      "execution_count": null,
      "outputs": []
    },
    {
      "cell_type": "code",
      "source": [
        "m= {\"San\":[1,2,3], \"San2\":(5,6), \"San3\":{\"ra\":1}}\n",
        "\n",
        "print(m)"
      ],
      "metadata": {
        "colab": {
          "base_uri": "https://localhost:8080/"
        },
        "id": "blSy_YTtVPq2",
        "outputId": "5a512879-1fc3-4a25-c76f-62bcbe8a23ee"
      },
      "execution_count": null,
      "outputs": [
        {
          "output_type": "stream",
          "name": "stdout",
          "text": [
            "{'San': [1, 2, 3], 'San2': (5, 6), 'San3': {'ra': 1}}\n"
          ]
        }
      ]
    },
    {
      "cell_type": "markdown",
      "source": [
        "#data type conversions\n"
      ],
      "metadata": {
        "id": "6gemdDA2WwDN"
      }
    },
    {
      "cell_type": "code",
      "source": [
        "a=7.8\n",
        "type(a)"
      ],
      "metadata": {
        "colab": {
          "base_uri": "https://localhost:8080/"
        },
        "id": "U6J7CzUWW7Zs",
        "outputId": "b73c7f30-a735-40e6-d5b8-6ba3af02e556"
      },
      "execution_count": null,
      "outputs": [
        {
          "output_type": "execute_result",
          "data": {
            "text/plain": [
              "float"
            ]
          },
          "metadata": {},
          "execution_count": 3
        }
      ]
    },
    {
      "cell_type": "code",
      "source": [
        "b=int(a)\n",
        "type(b)\n",
        "b"
      ],
      "metadata": {
        "colab": {
          "base_uri": "https://localhost:8080/"
        },
        "id": "cLW5lkL2XDf9",
        "outputId": "78597276-98b6-47b3-b334-d0ee20b5e362"
      },
      "execution_count": null,
      "outputs": [
        {
          "output_type": "execute_result",
          "data": {
            "text/plain": [
              "7"
            ]
          },
          "metadata": {},
          "execution_count": 7
        }
      ]
    },
    {
      "cell_type": "code",
      "source": [
        "print(b)"
      ],
      "metadata": {
        "colab": {
          "base_uri": "https://localhost:8080/"
        },
        "id": "T5yH4tD8XNiL",
        "outputId": "83d28a60-7985-42e7-b990-4cf24cc87004"
      },
      "execution_count": null,
      "outputs": [
        {
          "output_type": "stream",
          "name": "stdout",
          "text": [
            "7\n"
          ]
        }
      ]
    },
    {
      "cell_type": "code",
      "source": [
        "m = 7\n",
        "n=float(m)\n",
        "print(n)\n",
        "print(type(n))"
      ],
      "metadata": {
        "colab": {
          "base_uri": "https://localhost:8080/"
        },
        "id": "fJbAhZpKXy4e",
        "outputId": "eee5cf26-2829-4139-f660-3171ceb34d8c"
      },
      "execution_count": null,
      "outputs": [
        {
          "output_type": "stream",
          "name": "stdout",
          "text": [
            "7.0\n",
            "<class 'float'>\n"
          ]
        }
      ]
    },
    {
      "cell_type": "code",
      "source": [
        ""
      ],
      "metadata": {
        "id": "ULcEidjvXQoj"
      },
      "execution_count": null,
      "outputs": []
    },
    {
      "cell_type": "code",
      "source": [
        "k = 7\n",
        "m =str(k)\n",
        "print(m, type(m))"
      ],
      "metadata": {
        "colab": {
          "base_uri": "https://localhost:8080/"
        },
        "id": "fICtTYpUYNEM",
        "outputId": "4ae7a857-f588-4d7b-adfc-865d02736b32"
      },
      "execution_count": null,
      "outputs": [
        {
          "output_type": "stream",
          "name": "stdout",
          "text": [
            "7 <class 'str'>\n"
          ]
        }
      ]
    },
    {
      "cell_type": "code",
      "source": [
        "r='67'\n",
        "p=float(r)\n",
        "q=int(r)\n",
        "print(p,type(p),q,type(q))"
      ],
      "metadata": {
        "colab": {
          "base_uri": "https://localhost:8080/"
        },
        "id": "D9inwwTuYpY_",
        "outputId": "9fbba639-70fe-4849-802c-cd5eada8aec6"
      },
      "execution_count": null,
      "outputs": [
        {
          "output_type": "stream",
          "name": "stdout",
          "text": [
            "67.0 <class 'float'> 67 <class 'int'>\n"
          ]
        }
      ]
    },
    {
      "cell_type": "code",
      "source": [
        "r='70.4ab'\n",
        "a=float(r)\n",
        "print(a,type(a))\n"
      ],
      "metadata": {
        "colab": {
          "base_uri": "https://localhost:8080/",
          "height": 205
        },
        "id": "2wi2n7sOYf4u",
        "outputId": "59944a17-59ce-45c9-feac-8f4fa03ea8bd"
      },
      "execution_count": null,
      "outputs": [
        {
          "output_type": "error",
          "ename": "ValueError",
          "evalue": "ignored",
          "traceback": [
            "\u001b[0;31m---------------------------------------------------------------------------\u001b[0m",
            "\u001b[0;31mValueError\u001b[0m                                Traceback (most recent call last)",
            "\u001b[0;32m<ipython-input-12-7b465cda0dfe>\u001b[0m in \u001b[0;36m<module>\u001b[0;34m()\u001b[0m\n\u001b[1;32m      1\u001b[0m \u001b[0mr\u001b[0m\u001b[0;34m=\u001b[0m\u001b[0;34m'70.4ab'\u001b[0m\u001b[0;34m\u001b[0m\u001b[0;34m\u001b[0m\u001b[0m\n\u001b[0;32m----> 2\u001b[0;31m \u001b[0ma\u001b[0m\u001b[0;34m=\u001b[0m\u001b[0mfloat\u001b[0m\u001b[0;34m(\u001b[0m\u001b[0mr\u001b[0m\u001b[0;34m)\u001b[0m\u001b[0;34m\u001b[0m\u001b[0;34m\u001b[0m\u001b[0m\n\u001b[0m\u001b[1;32m      3\u001b[0m \u001b[0mprint\u001b[0m\u001b[0;34m(\u001b[0m\u001b[0ma\u001b[0m\u001b[0;34m,\u001b[0m\u001b[0mtype\u001b[0m\u001b[0;34m(\u001b[0m\u001b[0ma\u001b[0m\u001b[0;34m)\u001b[0m\u001b[0;34m)\u001b[0m\u001b[0;34m\u001b[0m\u001b[0;34m\u001b[0m\u001b[0m\n",
            "\u001b[0;31mValueError\u001b[0m: could not convert string to float: '70.4ab'"
          ]
        }
      ]
    },
    {
      "cell_type": "code",
      "source": [
        "a=[5,6,8,9]\n",
        "b=tuple(a)\n",
        "print(b, type(b))"
      ],
      "metadata": {
        "colab": {
          "base_uri": "https://localhost:8080/"
        },
        "id": "bYaa3JJvZdVq",
        "outputId": "759c9c47-60f0-423b-9c13-b33e6ac5afd4"
      },
      "execution_count": null,
      "outputs": [
        {
          "output_type": "stream",
          "name": "stdout",
          "text": [
            "(5, 6, 8, 9) <class 'tuple'>\n"
          ]
        }
      ]
    },
    {
      "cell_type": "code",
      "source": [
        "x = (4,7,9)\n",
        "y = list(x)\n",
        "\n",
        "print(y,type(y))"
      ],
      "metadata": {
        "colab": {
          "base_uri": "https://localhost:8080/"
        },
        "id": "I5Tmqvq5ZRH_",
        "outputId": "15d46cc4-67cb-45af-f31c-633e06b3c584"
      },
      "execution_count": null,
      "outputs": [
        {
          "output_type": "stream",
          "name": "stdout",
          "text": [
            "[4, 7, 9] <class 'list'>\n"
          ]
        }
      ]
    },
    {
      "cell_type": "code",
      "source": [
        "z = str(x)\n",
        "print(z, type(z))"
      ],
      "metadata": {
        "colab": {
          "base_uri": "https://localhost:8080/"
        },
        "id": "N7dn7YoAaDvp",
        "outputId": "a61d007b-8a6b-4d4a-89f6-fa54cf720381"
      },
      "execution_count": null,
      "outputs": [
        {
          "output_type": "stream",
          "name": "stdout",
          "text": [
            "(4, 7, 9) <class 'str'>\n"
          ]
        }
      ]
    },
    {
      "cell_type": "code",
      "source": [
        "s= 'I am a student'\n",
        "p = list(s)\n",
        "print(p,type(p))"
      ],
      "metadata": {
        "colab": {
          "base_uri": "https://localhost:8080/"
        },
        "id": "yEHNqBKYac-m",
        "outputId": "81f56f7e-7415-45f4-95c5-dfe953f990eb"
      },
      "execution_count": null,
      "outputs": [
        {
          "output_type": "stream",
          "name": "stdout",
          "text": [
            "['I', ' ', 'a', 'm', ' ', 'a', ' ', 's', 't', 'u', 'd', 'e', 'n', 't'] <class 'list'>\n"
          ]
        }
      ]
    },
    {
      "cell_type": "code",
      "source": [
        "x=tuple(s)\n",
        "print(x,type(x))"
      ],
      "metadata": {
        "colab": {
          "base_uri": "https://localhost:8080/"
        },
        "id": "cPNXzdDuZ6lt",
        "outputId": "8bb58831-90ba-43a9-e8f1-85299d772536"
      },
      "execution_count": null,
      "outputs": [
        {
          "output_type": "stream",
          "name": "stdout",
          "text": [
            "('I', ' ', 'a', 'm', ' ', 'a', ' ', 's', 't', 'u', 'd', 'e', 'n', 't') <class 'tuple'>\n"
          ]
        }
      ]
    },
    {
      "cell_type": "markdown",
      "source": [
        "#Number functions\n"
      ],
      "metadata": {
        "id": "BXDQLhsnbGfh"
      }
    },
    {
      "cell_type": "code",
      "source": [
        "import math\n",
        "from math import ceil"
      ],
      "metadata": {
        "id": "mND_3xA_bQ96"
      },
      "execution_count": null,
      "outputs": []
    },
    {
      "cell_type": "code",
      "source": [
        "a = -23\n",
        "b = 2\n",
        "c = 25.34\n",
        "d = 25.78\n",
        "e = -12.29"
      ],
      "metadata": {
        "id": "4Q586aV7bdXn"
      },
      "execution_count": null,
      "outputs": []
    },
    {
      "cell_type": "code",
      "source": [
        "print(abs(a),abs(b),abs(c),abs(d),abs(e))"
      ],
      "metadata": {
        "colab": {
          "base_uri": "https://localhost:8080/"
        },
        "id": "NrmKDeOzbxlO",
        "outputId": "6dcb8e35-ff65-4dd5-923a-3a625b949f52"
      },
      "execution_count": null,
      "outputs": [
        {
          "output_type": "stream",
          "name": "stdout",
          "text": [
            "23 2 25.34 25.78 12.29\n"
          ]
        }
      ]
    },
    {
      "cell_type": "code",
      "source": [
        "\n",
        "print(ceil(a), ceil(b),ceil(c),ceil(d),ceil(e))"
      ],
      "metadata": {
        "colab": {
          "base_uri": "https://localhost:8080/"
        },
        "id": "nL5WvFBicJlb",
        "outputId": "97fe9441-7e76-4589-9a92-8f197af8aede"
      },
      "execution_count": null,
      "outputs": [
        {
          "output_type": "stream",
          "name": "stdout",
          "text": [
            "-23 2 26 26 -12\n"
          ]
        }
      ]
    },
    {
      "cell_type": "code",
      "source": [
        "print(math.floor(a),\n",
        "      math.floor(b),\n",
        "      math.floor(c),\n",
        "      math.floor(d),\n",
        "      math.floor(e))"
      ],
      "metadata": {
        "colab": {
          "base_uri": "https://localhost:8080/"
        },
        "id": "W2nYRqGEdSRE",
        "outputId": "b2c6390d-5bcc-40dd-849a-8ca0fcd2a75a"
      },
      "execution_count": null,
      "outputs": [
        {
          "output_type": "stream",
          "name": "stdout",
          "text": [
            "-23 2 25 25 -13\n"
          ]
        }
      ]
    },
    {
      "cell_type": "code",
      "source": [
        "print(math.log(b))"
      ],
      "metadata": {
        "colab": {
          "base_uri": "https://localhost:8080/"
        },
        "id": "G2A0OoyGd_W-",
        "outputId": "ac6f748a-9421-4566-f8db-1f0e495bffa0"
      },
      "execution_count": null,
      "outputs": [
        {
          "output_type": "stream",
          "name": "stdout",
          "text": [
            "0.6931471805599453\n"
          ]
        }
      ]
    },
    {
      "cell_type": "code",
      "source": [
        "print(math.log(a))"
      ],
      "metadata": {
        "colab": {
          "base_uri": "https://localhost:8080/",
          "height": 169
        },
        "id": "xJxQmoMnc4Lm",
        "outputId": "842328c7-0d0e-49f1-dad7-44bea8a6914c"
      },
      "execution_count": null,
      "outputs": [
        {
          "output_type": "error",
          "ename": "ValueError",
          "evalue": "ignored",
          "traceback": [
            "\u001b[0;31m---------------------------------------------------------------------------\u001b[0m",
            "\u001b[0;31mValueError\u001b[0m                                Traceback (most recent call last)",
            "\u001b[0;32m<ipython-input-27-17c3cff279f5>\u001b[0m in \u001b[0;36m<module>\u001b[0;34m()\u001b[0m\n\u001b[0;32m----> 1\u001b[0;31m \u001b[0mprint\u001b[0m\u001b[0;34m(\u001b[0m\u001b[0mmath\u001b[0m\u001b[0;34m.\u001b[0m\u001b[0mlog\u001b[0m\u001b[0;34m(\u001b[0m\u001b[0ma\u001b[0m\u001b[0;34m)\u001b[0m\u001b[0;34m)\u001b[0m\u001b[0;34m\u001b[0m\u001b[0;34m\u001b[0m\u001b[0m\n\u001b[0m",
            "\u001b[0;31mValueError\u001b[0m: math domain error"
          ]
        }
      ]
    },
    {
      "cell_type": "code",
      "source": [
        "max(1,5)"
      ],
      "metadata": {
        "colab": {
          "base_uri": "https://localhost:8080/"
        },
        "id": "-Y3jZMLYeKfp",
        "outputId": "1aba8cd8-b2f0-487f-f256-d024a2b0867b"
      },
      "execution_count": null,
      "outputs": [
        {
          "output_type": "execute_result",
          "data": {
            "text/plain": [
              "5"
            ]
          },
          "metadata": {},
          "execution_count": 28
        }
      ]
    },
    {
      "cell_type": "code",
      "source": [
        "min(1,5)"
      ],
      "metadata": {
        "colab": {
          "base_uri": "https://localhost:8080/"
        },
        "id": "f7Y9l67Lei6C",
        "outputId": "df9d5de8-66e3-4173-9a47-af2534161d22"
      },
      "execution_count": null,
      "outputs": [
        {
          "output_type": "execute_result",
          "data": {
            "text/plain": [
              "1"
            ]
          },
          "metadata": {},
          "execution_count": 29
        }
      ]
    },
    {
      "cell_type": "code",
      "source": [
        "a= 1.8844\n",
        "print(round(a))"
      ],
      "metadata": {
        "colab": {
          "base_uri": "https://localhost:8080/"
        },
        "id": "TKcQmvNEelWc",
        "outputId": "6f0f7e9c-1112-4216-9dc0-2f03395c4ec0"
      },
      "execution_count": null,
      "outputs": [
        {
          "output_type": "stream",
          "name": "stdout",
          "text": [
            "2\n"
          ]
        }
      ]
    },
    {
      "cell_type": "code",
      "source": [
        "print(round(a,2))"
      ],
      "metadata": {
        "colab": {
          "base_uri": "https://localhost:8080/"
        },
        "id": "mhzlK7OZezOM",
        "outputId": "7921fcae-5a08-4643-df33-998c244ac952"
      },
      "execution_count": null,
      "outputs": [
        {
          "output_type": "stream",
          "name": "stdout",
          "text": [
            "1.88\n"
          ]
        }
      ]
    },
    {
      "cell_type": "code",
      "source": [
        "a=9\n",
        "print(math.sqrt(a))"
      ],
      "metadata": {
        "colab": {
          "base_uri": "https://localhost:8080/"
        },
        "id": "uteivo_fe5Z6",
        "outputId": "17f1dca6-9e79-4621-abc7-66f6e8b067c3"
      },
      "execution_count": null,
      "outputs": [
        {
          "output_type": "stream",
          "name": "stdout",
          "text": [
            "3.0\n"
          ]
        }
      ]
    },
    {
      "cell_type": "code",
      "source": [
        "a=3477\n",
        "b=str(int(round(math.sqrt(a),2)))\n",
        "print(b)"
      ],
      "metadata": {
        "colab": {
          "base_uri": "https://localhost:8080/"
        },
        "id": "u9xLKZGLfD2E",
        "outputId": "702590d0-cdd8-4619-b32c-585eb6aa7782"
      },
      "execution_count": null,
      "outputs": [
        {
          "output_type": "stream",
          "name": "stdout",
          "text": [
            "58\n"
          ]
        }
      ]
    },
    {
      "cell_type": "markdown",
      "source": [
        "#Arithematic Operations"
      ],
      "metadata": {
        "id": "owscd1DifdoT"
      }
    },
    {
      "cell_type": "code",
      "source": [
        "a= 11\n",
        "b = 3\n"
      ],
      "metadata": {
        "id": "bucQEAGugMIb"
      },
      "execution_count": null,
      "outputs": []
    },
    {
      "cell_type": "code",
      "source": [
        "print(a +b)"
      ],
      "metadata": {
        "colab": {
          "base_uri": "https://localhost:8080/"
        },
        "id": "XUjbovYdgT1b",
        "outputId": "9fab12f6-4615-4a37-8682-924f97c5bc80"
      },
      "execution_count": null,
      "outputs": [
        {
          "output_type": "stream",
          "name": "stdout",
          "text": [
            "14\n"
          ]
        }
      ]
    },
    {
      "cell_type": "code",
      "source": [
        "print(a-b)\n",
        "print(a*b)\n",
        "print(a/b)"
      ],
      "metadata": {
        "colab": {
          "base_uri": "https://localhost:8080/"
        },
        "id": "efVkw4E-gYAB",
        "outputId": "e277c85d-0748-431c-a01b-0147d09d076e"
      },
      "execution_count": null,
      "outputs": [
        {
          "output_type": "stream",
          "name": "stdout",
          "text": [
            "8\n",
            "33\n",
            "3.6666666666666665\n"
          ]
        }
      ]
    },
    {
      "cell_type": "code",
      "source": [
        "print(a//b)\n",
        "print(a%b)"
      ],
      "metadata": {
        "colab": {
          "base_uri": "https://localhost:8080/"
        },
        "id": "Vmo2K5gFgfos",
        "outputId": "c3430bdd-13cd-45e3-bc6a-a8804ba11488"
      },
      "execution_count": null,
      "outputs": [
        {
          "output_type": "stream",
          "name": "stdout",
          "text": [
            "3\n",
            "2\n"
          ]
        }
      ]
    },
    {
      "cell_type": "code",
      "source": [
        ""
      ],
      "metadata": {
        "id": "lTIvtChKg_mw"
      },
      "execution_count": null,
      "outputs": []
    },
    {
      "cell_type": "code",
      "source": [
        "print(a**b)"
      ],
      "metadata": {
        "colab": {
          "base_uri": "https://localhost:8080/"
        },
        "id": "txHS5x0EhQ05",
        "outputId": "112d64af-5454-4f11-fa27-7ecf10a7f415"
      },
      "execution_count": null,
      "outputs": [
        {
          "output_type": "stream",
          "name": "stdout",
          "text": [
            "1331\n"
          ]
        }
      ]
    },
    {
      "cell_type": "markdown",
      "source": [
        "#Comparison Operators"
      ],
      "metadata": {
        "id": "nE2-1pyphTVL"
      }
    },
    {
      "cell_type": "code",
      "source": [
        "a= 11\n",
        "b =11\n",
        "c = 3\n"
      ],
      "metadata": {
        "id": "8-PAi2TLhbsz"
      },
      "execution_count": null,
      "outputs": []
    },
    {
      "cell_type": "code",
      "source": [
        "print(a==b)"
      ],
      "metadata": {
        "colab": {
          "base_uri": "https://localhost:8080/"
        },
        "id": "WeHeonXYhjff",
        "outputId": "56130006-13de-445a-d402-c0affb10ae0c"
      },
      "execution_count": null,
      "outputs": [
        {
          "output_type": "stream",
          "name": "stdout",
          "text": [
            "True\n"
          ]
        }
      ]
    },
    {
      "cell_type": "code",
      "source": [
        "print(a==c)"
      ],
      "metadata": {
        "colab": {
          "base_uri": "https://localhost:8080/"
        },
        "id": "G-E6V7FEhsEt",
        "outputId": "57fe3e23-22d8-43ca-ecf4-ba5b8f2f32b6"
      },
      "execution_count": null,
      "outputs": [
        {
          "output_type": "stream",
          "name": "stdout",
          "text": [
            "False\n"
          ]
        }
      ]
    },
    {
      "cell_type": "code",
      "source": [
        "print(a!=b, a!=c)"
      ],
      "metadata": {
        "colab": {
          "base_uri": "https://localhost:8080/"
        },
        "id": "u8A1WYLFhynj",
        "outputId": "a052a3ce-f5f2-4768-b5cc-af3dcf93bfa6"
      },
      "execution_count": null,
      "outputs": [
        {
          "output_type": "stream",
          "name": "stdout",
          "text": [
            "False True\n"
          ]
        }
      ]
    },
    {
      "cell_type": "code",
      "source": [
        "print(a>b, a>c)"
      ],
      "metadata": {
        "colab": {
          "base_uri": "https://localhost:8080/"
        },
        "id": "D1NAqUJliCfH",
        "outputId": "8aa0978a-61c2-46ec-ced7-dacb988f0035"
      },
      "execution_count": null,
      "outputs": [
        {
          "output_type": "stream",
          "name": "stdout",
          "text": [
            "False True\n"
          ]
        }
      ]
    },
    {
      "cell_type": "code",
      "source": [
        "print(a<b, a<c)"
      ],
      "metadata": {
        "colab": {
          "base_uri": "https://localhost:8080/"
        },
        "id": "viYIJfQZiMQs",
        "outputId": "466bf8ae-4ce5-4ef1-e10c-879f4460cf53"
      },
      "execution_count": null,
      "outputs": [
        {
          "output_type": "stream",
          "name": "stdout",
          "text": [
            "False False\n"
          ]
        }
      ]
    },
    {
      "cell_type": "code",
      "source": [
        "print(a>=b, a>=c)"
      ],
      "metadata": {
        "colab": {
          "base_uri": "https://localhost:8080/"
        },
        "id": "ZPo0YchHiQ8r",
        "outputId": "c2e1cd74-ca57-4842-acb0-ef482b8a81d6"
      },
      "execution_count": null,
      "outputs": [
        {
          "output_type": "stream",
          "name": "stdout",
          "text": [
            "True True\n"
          ]
        }
      ]
    },
    {
      "cell_type": "code",
      "source": [
        "print(a<=b, a<=c)"
      ],
      "metadata": {
        "colab": {
          "base_uri": "https://localhost:8080/"
        },
        "id": "E2ksHCvviXNm",
        "outputId": "e92edf08-7f5b-4f5e-b88e-de3714253d8d"
      },
      "execution_count": null,
      "outputs": [
        {
          "output_type": "stream",
          "name": "stdout",
          "text": [
            "True False\n"
          ]
        }
      ]
    },
    {
      "cell_type": "markdown",
      "source": [
        "#Assignment Operators"
      ],
      "metadata": {
        "id": "0hhTAVbgicfA"
      }
    },
    {
      "cell_type": "code",
      "source": [
        "a =22+22\n",
        "print(a)"
      ],
      "metadata": {
        "colab": {
          "base_uri": "https://localhost:8080/"
        },
        "id": "-QFEJy4Yiv7w",
        "outputId": "b3663768-051f-459a-9151-0e9cf598fefb"
      },
      "execution_count": null,
      "outputs": [
        {
          "output_type": "stream",
          "name": "stdout",
          "text": [
            "44\n"
          ]
        }
      ]
    },
    {
      "cell_type": "code",
      "source": [
        "a += 2\n",
        "print(a)"
      ],
      "metadata": {
        "colab": {
          "base_uri": "https://localhost:8080/"
        },
        "id": "dHn4_vh6i44p",
        "outputId": "5d9b9b85-968d-4d96-a1aa-c50e815b1244"
      },
      "execution_count": null,
      "outputs": [
        {
          "output_type": "stream",
          "name": "stdout",
          "text": [
            "46\n"
          ]
        }
      ]
    },
    {
      "cell_type": "code",
      "source": [
        "a=a+2\n",
        "print(a)"
      ],
      "metadata": {
        "colab": {
          "base_uri": "https://localhost:8080/"
        },
        "id": "ACv_yIGDjBfe",
        "outputId": "f89b4443-c02b-4228-9538-fd1b1bb0615b"
      },
      "execution_count": null,
      "outputs": [
        {
          "output_type": "stream",
          "name": "stdout",
          "text": [
            "48\n"
          ]
        }
      ]
    },
    {
      "cell_type": "code",
      "source": [
        "a-=5\n",
        "print(a)"
      ],
      "metadata": {
        "colab": {
          "base_uri": "https://localhost:8080/"
        },
        "id": "6SdUbZxMjKRE",
        "outputId": "d5478c3f-2563-4b23-9e03-1143a4ab1baa"
      },
      "execution_count": null,
      "outputs": [
        {
          "output_type": "stream",
          "name": "stdout",
          "text": [
            "43\n"
          ]
        }
      ]
    },
    {
      "cell_type": "markdown",
      "source": [
        "This Can be done for all the arithematic operators"
      ],
      "metadata": {
        "id": "km-YiQjXjW51"
      }
    },
    {
      "cell_type": "markdown",
      "source": [
        "#Logical Operators"
      ],
      "metadata": {
        "id": "0CdL935Uji0y"
      }
    },
    {
      "cell_type": "markdown",
      "source": [
        "- and\n",
        "- or\n",
        "- not\n"
      ],
      "metadata": {
        "id": "H4_UFC6QjpWO"
      }
    },
    {
      "cell_type": "code",
      "source": [
        "a= 12\n",
        "b =12\n",
        "c = 3\n",
        "\n"
      ],
      "metadata": {
        "id": "GCWe4cGbj7TA"
      },
      "execution_count": null,
      "outputs": []
    },
    {
      "cell_type": "code",
      "source": [
        "print((a==12) and (b==12))\n"
      ],
      "metadata": {
        "colab": {
          "base_uri": "https://localhost:8080/"
        },
        "id": "OHLorVI2kFhF",
        "outputId": "7bac05bc-0999-4733-d1e1-bf470a10f1dd"
      },
      "execution_count": null,
      "outputs": [
        {
          "output_type": "stream",
          "name": "stdout",
          "text": [
            "True\n"
          ]
        }
      ]
    },
    {
      "cell_type": "code",
      "source": [
        "print((a==12) and (c==12))"
      ],
      "metadata": {
        "colab": {
          "base_uri": "https://localhost:8080/"
        },
        "id": "7UsuSgDJkZau",
        "outputId": "548de479-5633-4425-dfa0-9148b8bd2f41"
      },
      "execution_count": null,
      "outputs": [
        {
          "output_type": "stream",
          "name": "stdout",
          "text": [
            "False\n"
          ]
        }
      ]
    },
    {
      "cell_type": "code",
      "source": [
        "print((a==12) or (c==12))"
      ],
      "metadata": {
        "colab": {
          "base_uri": "https://localhost:8080/"
        },
        "id": "wHy33EnKkhsr",
        "outputId": "7017bce5-7b88-445a-e96e-2a46d3354e5e"
      },
      "execution_count": null,
      "outputs": [
        {
          "output_type": "stream",
          "name": "stdout",
          "text": [
            "True\n"
          ]
        }
      ]
    },
    {
      "cell_type": "code",
      "source": [
        "print(not(a==12))"
      ],
      "metadata": {
        "colab": {
          "base_uri": "https://localhost:8080/"
        },
        "id": "6WBUnGdJkmQ3",
        "outputId": "9b5efe64-b7f3-4ed2-8487-fc69ab302ad3"
      },
      "execution_count": null,
      "outputs": [
        {
          "output_type": "stream",
          "name": "stdout",
          "text": [
            "False\n"
          ]
        }
      ]
    },
    {
      "cell_type": "markdown",
      "source": [
        "#bitwise Operators"
      ],
      "metadata": {
        "id": "lgpRE-80lLes"
      }
    },
    {
      "cell_type": "markdown",
      "source": [
        "- & bitwise AND operation\n",
        "- | bitwise OR operation\n",
        "- ~ bitwise NOT operation\n",
        "- ^ butwise XOR operation"
      ],
      "metadata": {
        "id": "00Ni8Z9-lQxL"
      }
    },
    {
      "cell_type": "code",
      "source": [
        "a = 10\n",
        "b = 4\n"
      ],
      "metadata": {
        "id": "1Soqcg1QltDd"
      },
      "execution_count": null,
      "outputs": []
    },
    {
      "cell_type": "code",
      "source": [
        "print(a&b)"
      ],
      "metadata": {
        "colab": {
          "base_uri": "https://localhost:8080/"
        },
        "id": "XK_md5xlmTdd",
        "outputId": "5b5127a3-0172-4f66-ada8-89c0fe82fbda"
      },
      "execution_count": null,
      "outputs": [
        {
          "output_type": "stream",
          "name": "stdout",
          "text": [
            "0\n"
          ]
        }
      ]
    },
    {
      "cell_type": "code",
      "source": [
        "print(a|b)"
      ],
      "metadata": {
        "colab": {
          "base_uri": "https://localhost:8080/"
        },
        "id": "X0atuzLnmXsV",
        "outputId": "1ea3bb25-fa5d-4d9d-8048-3d11f160a641"
      },
      "execution_count": null,
      "outputs": [
        {
          "output_type": "stream",
          "name": "stdout",
          "text": [
            "14\n"
          ]
        }
      ]
    },
    {
      "cell_type": "code",
      "source": [
        "print(~a)"
      ],
      "metadata": {
        "colab": {
          "base_uri": "https://localhost:8080/"
        },
        "id": "x8OFC7XPmdvC",
        "outputId": "d0edd3c1-edb2-430c-b46a-6be5b2e2a4a1"
      },
      "execution_count": null,
      "outputs": [
        {
          "output_type": "stream",
          "name": "stdout",
          "text": [
            "-11\n"
          ]
        }
      ]
    },
    {
      "cell_type": "code",
      "source": [
        "print(a^b)"
      ],
      "metadata": {
        "colab": {
          "base_uri": "https://localhost:8080/"
        },
        "id": "4hPof5RNmjm0",
        "outputId": "1b4a5439-fcbd-4b8f-a468-1a7dc30db2ba"
      },
      "execution_count": null,
      "outputs": [
        {
          "output_type": "stream",
          "name": "stdout",
          "text": [
            "14\n"
          ]
        }
      ]
    },
    {
      "cell_type": "markdown",
      "source": [
        "#Membership Operators"
      ],
      "metadata": {
        "id": "cu8_Py6jmuiq"
      }
    },
    {
      "cell_type": "markdown",
      "source": [
        "- in\n",
        "- not in\n"
      ],
      "metadata": {
        "id": "CAJzIgohm1vM"
      }
    },
    {
      "cell_type": "code",
      "source": [
        "a=[1,2,3,4]\n",
        "print(23 in a)\n"
      ],
      "metadata": {
        "colab": {
          "base_uri": "https://localhost:8080/"
        },
        "id": "3i91PVzWm5B6",
        "outputId": "84c64d4f-66c4-44c1-9070-67ef8979a4be"
      },
      "execution_count": null,
      "outputs": [
        {
          "output_type": "stream",
          "name": "stdout",
          "text": [
            "False\n"
          ]
        }
      ]
    },
    {
      "cell_type": "code",
      "source": [
        "a=[1,2,3,4]\n",
        "print(23 not in a)\n"
      ],
      "metadata": {
        "colab": {
          "base_uri": "https://localhost:8080/"
        },
        "id": "TkFxPVfTnWOA",
        "outputId": "0564be06-f62b-48a9-d2a3-d93e3fd42b5b"
      },
      "execution_count": null,
      "outputs": [
        {
          "output_type": "stream",
          "name": "stdout",
          "text": [
            "True\n"
          ]
        }
      ]
    },
    {
      "cell_type": "markdown",
      "source": [
        "#Identity Operators"
      ],
      "metadata": {
        "id": "NSErk3Vdnipe"
      }
    },
    {
      "cell_type": "markdown",
      "source": [
        "- is\n",
        "- is not"
      ],
      "metadata": {
        "id": "19gQJBspnw7d"
      }
    },
    {
      "cell_type": "code",
      "source": [
        "a= 12\n",
        "print(a is 12)"
      ],
      "metadata": {
        "colab": {
          "base_uri": "https://localhost:8080/"
        },
        "id": "nDWBNmhan2hg",
        "outputId": "8a180fc8-d0a2-4b0c-8bd9-c921461d9db5"
      },
      "execution_count": null,
      "outputs": [
        {
          "output_type": "stream",
          "name": "stdout",
          "text": [
            "True\n"
          ]
        }
      ]
    },
    {
      "cell_type": "code",
      "source": [
        "print( a is 11)"
      ],
      "metadata": {
        "colab": {
          "base_uri": "https://localhost:8080/"
        },
        "id": "-2Rno6YDn7B3",
        "outputId": "09c9e066-1172-42cd-c847-13eeb714a4d4"
      },
      "execution_count": null,
      "outputs": [
        {
          "output_type": "stream",
          "name": "stdout",
          "text": [
            "False\n"
          ]
        }
      ]
    },
    {
      "cell_type": "code",
      "source": [
        "print( a is not 11)"
      ],
      "metadata": {
        "colab": {
          "base_uri": "https://localhost:8080/"
        },
        "id": "SqW5lUC5n_Tq",
        "outputId": "0add2a0e-f0d3-4967-a0ff-e8f703b2bd48"
      },
      "execution_count": null,
      "outputs": [
        {
          "output_type": "stream",
          "name": "stdout",
          "text": [
            "True\n"
          ]
        }
      ]
    },
    {
      "cell_type": "markdown",
      "source": [
        "# IF ELSE"
      ],
      "metadata": {
        "id": "rDQV8O0XoGBM"
      }
    },
    {
      "cell_type": "code",
      "source": [
        "a= 'string'\n",
        "if a=='string':\n",
        "  print('matched')\n"
      ],
      "metadata": {
        "colab": {
          "base_uri": "https://localhost:8080/"
        },
        "id": "H8urMpy_oQ7_",
        "outputId": "90589f4d-9d53-4449-f58f-e6cb824c2726"
      },
      "execution_count": null,
      "outputs": [
        {
          "output_type": "stream",
          "name": "stdout",
          "text": [
            "matched\n"
          ]
        }
      ]
    },
    {
      "cell_type": "code",
      "source": [
        "a= 'string'\n",
        "if a=='strin':\n",
        "  print('matched')"
      ],
      "metadata": {
        "id": "aq8ESUAlo7NK"
      },
      "execution_count": null,
      "outputs": []
    },
    {
      "cell_type": "code",
      "source": [
        "a= 'string'\n",
        "if a=='strin':\n",
        "  print('matched')\n",
        "else: \n",
        "  print('Not matched')"
      ],
      "metadata": {
        "colab": {
          "base_uri": "https://localhost:8080/"
        },
        "id": "1e2Oa8gDo_TD",
        "outputId": "a81edbdc-f567-4cb7-90e5-c95769015d38"
      },
      "execution_count": null,
      "outputs": [
        {
          "output_type": "stream",
          "name": "stdout",
          "text": [
            "Not matched\n"
          ]
        }
      ]
    },
    {
      "cell_type": "code",
      "source": [
        "a=[4,5,7]\n",
        "if type(a)==list:\n",
        "  print('It is a list')"
      ],
      "metadata": {
        "colab": {
          "base_uri": "https://localhost:8080/"
        },
        "id": "dBVm-GBypQfh",
        "outputId": "1c8b365c-e23c-4097-8c50-0d99aed838ad"
      },
      "execution_count": null,
      "outputs": [
        {
          "output_type": "stream",
          "name": "stdout",
          "text": [
            "It is a list\n"
          ]
        }
      ]
    },
    {
      "cell_type": "code",
      "source": [
        "if len(a)==4:\n",
        "  print('Length is 4')\n",
        "else:\n",
        "    print('Length is not 4')"
      ],
      "metadata": {
        "colab": {
          "base_uri": "https://localhost:8080/"
        },
        "id": "9AQRomXApjNp",
        "outputId": "f021d88a-29cd-4333-e05a-edea4aeae996"
      },
      "execution_count": null,
      "outputs": [
        {
          "output_type": "stream",
          "name": "stdout",
          "text": [
            "Length is not 4\n"
          ]
        }
      ]
    },
    {
      "cell_type": "code",
      "source": [
        "a=[6,7,8,9,4]\n",
        "if len(a)==4:\n",
        "  print('Length is 4')\n",
        "elif len(a)==5:\n",
        "    print('Length is 5')\n",
        "else:\n",
        "    print('Length is neither 4 nor 5')\n"
      ],
      "metadata": {
        "colab": {
          "base_uri": "https://localhost:8080/"
        },
        "id": "q8wlu_Dtp586",
        "outputId": "b61cd6a8-c5aa-495f-b231-55dadec58fac"
      },
      "execution_count": null,
      "outputs": [
        {
          "output_type": "stream",
          "name": "stdout",
          "text": [
            "Length is 5\n"
          ]
        }
      ]
    },
    {
      "cell_type": "code",
      "source": [
        "d = 10\n",
        "e = 1\n",
        "if d==12:\n",
        "  if e==10:\n",
        "    print('d=12 and e=10')\n",
        "  else:\n",
        "    print('d=12 and e not=10')\n",
        "else:\n",
        " print('d is not 12')"
      ],
      "metadata": {
        "colab": {
          "base_uri": "https://localhost:8080/"
        },
        "id": "NJfelFm8rAEX",
        "outputId": "8f948e38-a8f8-46b8-e7d7-5eb404a57b0a"
      },
      "execution_count": null,
      "outputs": [
        {
          "output_type": "stream",
          "name": "stdout",
          "text": [
            "d is not 12\n"
          ]
        }
      ]
    },
    {
      "cell_type": "markdown",
      "source": [
        "#Loops and Range"
      ],
      "metadata": {
        "id": "DdoiufzBr7fw"
      }
    },
    {
      "cell_type": "code",
      "source": [
        "a =12\n",
        "while a>2:\n",
        "  a-=2\n",
        "  print(a)"
      ],
      "metadata": {
        "colab": {
          "base_uri": "https://localhost:8080/"
        },
        "id": "wSYrzYzLsnk4",
        "outputId": "4bf32d42-db0b-41b7-d499-b88fe09565fb"
      },
      "execution_count": null,
      "outputs": [
        {
          "output_type": "stream",
          "name": "stdout",
          "text": [
            "10\n",
            "8\n",
            "6\n",
            "4\n",
            "2\n"
          ]
        }
      ]
    },
    {
      "cell_type": "code",
      "source": [
        "# infinite loop example\n",
        "# a = 23\n",
        "# while (a==23):\n",
        "#   print(a)\n"
      ],
      "metadata": {
        "id": "3ByE-FCFtKtB"
      },
      "execution_count": null,
      "outputs": []
    },
    {
      "cell_type": "code",
      "source": [
        "b = 25\n",
        "while b>=1:\n",
        "   print(b)\n",
        "   b-=1"
      ],
      "metadata": {
        "id": "aBXzlYtOe7Wx"
      },
      "execution_count": null,
      "outputs": []
    },
    {
      "cell_type": "markdown",
      "source": [
        "#Range"
      ],
      "metadata": {
        "id": "Y2t75QVFe9qt"
      }
    },
    {
      "cell_type": "code",
      "source": [
        "range(3)"
      ],
      "metadata": {
        "colab": {
          "base_uri": "https://localhost:8080/"
        },
        "id": "ewdVIlULfFY-",
        "outputId": "1931d713-6412-4b0a-f780-d603bb99304c"
      },
      "execution_count": null,
      "outputs": [
        {
          "output_type": "execute_result",
          "data": {
            "text/plain": [
              "range(0, 3)"
            ]
          },
          "metadata": {},
          "execution_count": 5
        }
      ]
    },
    {
      "cell_type": "code",
      "source": [
        "list(range(3))"
      ],
      "metadata": {
        "colab": {
          "base_uri": "https://localhost:8080/"
        },
        "id": "ob_ewOb3fd65",
        "outputId": "f511d621-65fe-4a82-ec75-a9735ebc8d92"
      },
      "execution_count": null,
      "outputs": [
        {
          "output_type": "execute_result",
          "data": {
            "text/plain": [
              "[0, 1, 2]"
            ]
          },
          "metadata": {},
          "execution_count": 6
        }
      ]
    },
    {
      "cell_type": "code",
      "source": [
        "tuple(range(3))"
      ],
      "metadata": {
        "colab": {
          "base_uri": "https://localhost:8080/"
        },
        "id": "sGo_rxutfuxn",
        "outputId": "579095fd-fc4a-4921-d79f-605dd52f7c52"
      },
      "execution_count": null,
      "outputs": [
        {
          "output_type": "execute_result",
          "data": {
            "text/plain": [
              "(0, 1, 2)"
            ]
          },
          "metadata": {},
          "execution_count": 7
        }
      ]
    },
    {
      "cell_type": "code",
      "source": [
        "list(range(0,3))\n"
      ],
      "metadata": {
        "colab": {
          "base_uri": "https://localhost:8080/"
        },
        "id": "ArEUA1ydf0q6",
        "outputId": "8e9c0dba-5d47-4fd1-ac7c-20c71dd4a5df"
      },
      "execution_count": null,
      "outputs": [
        {
          "output_type": "execute_result",
          "data": {
            "text/plain": [
              "[0, 1, 2]"
            ]
          },
          "metadata": {},
          "execution_count": 8
        }
      ]
    },
    {
      "cell_type": "code",
      "source": [
        "list(range(3,10))"
      ],
      "metadata": {
        "colab": {
          "base_uri": "https://localhost:8080/"
        },
        "id": "2dkOBs0DgCFG",
        "outputId": "c1cfd250-d796-477f-9acf-da5737f000f5"
      },
      "execution_count": null,
      "outputs": [
        {
          "output_type": "execute_result",
          "data": {
            "text/plain": [
              "[3, 4, 5, 6, 7, 8, 9]"
            ]
          },
          "metadata": {},
          "execution_count": 9
        }
      ]
    },
    {
      "cell_type": "code",
      "source": [
        "list(range(0,10,3))"
      ],
      "metadata": {
        "colab": {
          "base_uri": "https://localhost:8080/"
        },
        "id": "hha6fy_LgUEr",
        "outputId": "0578d8aa-0b70-4c27-ebd8-e631bc370a3f"
      },
      "execution_count": null,
      "outputs": [
        {
          "output_type": "execute_result",
          "data": {
            "text/plain": [
              "[0, 3, 6, 9]"
            ]
          },
          "metadata": {},
          "execution_count": 12
        }
      ]
    },
    {
      "cell_type": "code",
      "source": [
        "list(range(17,28,3))"
      ],
      "metadata": {
        "colab": {
          "base_uri": "https://localhost:8080/"
        },
        "id": "7-PtWI0Gga4i",
        "outputId": "2698862e-9533-4fd0-8c78-23b7de1fe8e6"
      },
      "execution_count": null,
      "outputs": [
        {
          "output_type": "execute_result",
          "data": {
            "text/plain": [
              "[17, 20, 23, 26]"
            ]
          },
          "metadata": {},
          "execution_count": 14
        }
      ]
    },
    {
      "cell_type": "markdown",
      "source": [
        "# For Loop"
      ],
      "metadata": {
        "id": "B7Fjcayygz-y"
      }
    },
    {
      "cell_type": "code",
      "source": [
        "for i in range(4):\n",
        "  print(i)"
      ],
      "metadata": {
        "colab": {
          "base_uri": "https://localhost:8080/"
        },
        "id": "SDbBdBvwhFYp",
        "outputId": "dc8ee144-e9a5-4a53-9b21-9fbf86fdbc75"
      },
      "execution_count": null,
      "outputs": [
        {
          "output_type": "stream",
          "name": "stdout",
          "text": [
            "0\n",
            "1\n",
            "2\n",
            "3\n"
          ]
        }
      ]
    },
    {
      "cell_type": "code",
      "source": [
        "for i in range(1,6):\n",
        "  print(i)"
      ],
      "metadata": {
        "colab": {
          "base_uri": "https://localhost:8080/"
        },
        "id": "PrSOk_uchVVN",
        "outputId": "f616d91f-754c-4808-892f-c42d43cf152e"
      },
      "execution_count": null,
      "outputs": [
        {
          "output_type": "stream",
          "name": "stdout",
          "text": [
            "1\n",
            "2\n",
            "3\n",
            "4\n",
            "5\n"
          ]
        }
      ]
    },
    {
      "cell_type": "code",
      "source": [
        "for i in range(1,21,3):\n",
        "  print(i)"
      ],
      "metadata": {
        "colab": {
          "base_uri": "https://localhost:8080/"
        },
        "id": "wHcqYzAHhxFA",
        "outputId": "1bf190fb-678d-4cdc-bf2c-77ec556ed150"
      },
      "execution_count": null,
      "outputs": [
        {
          "output_type": "stream",
          "name": "stdout",
          "text": [
            "1\n",
            "4\n",
            "7\n",
            "10\n",
            "13\n",
            "16\n",
            "19\n"
          ]
        }
      ]
    },
    {
      "cell_type": "code",
      "source": [
        "for i in range(2,12):\n",
        "  print(i)"
      ],
      "metadata": {
        "colab": {
          "base_uri": "https://localhost:8080/"
        },
        "id": "KqGC4vp3iCq1",
        "outputId": "6a6cf7b4-8891-4213-d2ba-11291d45b1f5"
      },
      "execution_count": null,
      "outputs": [
        {
          "output_type": "stream",
          "name": "stdout",
          "text": [
            "2\n",
            "3\n",
            "4\n",
            "5\n",
            "6\n",
            "7\n",
            "8\n",
            "9\n",
            "10\n",
            "11\n"
          ]
        }
      ]
    },
    {
      "cell_type": "code",
      "source": [
        "for i in range(12,1,-1):\n",
        "  print(i)"
      ],
      "metadata": {
        "colab": {
          "base_uri": "https://localhost:8080/"
        },
        "id": "wCDugGzWiUsX",
        "outputId": "3ce177da-b9e6-4637-f736-b72fc4dead1f"
      },
      "execution_count": null,
      "outputs": [
        {
          "output_type": "stream",
          "name": "stdout",
          "text": [
            "12\n",
            "11\n",
            "10\n",
            "9\n",
            "8\n",
            "7\n",
            "6\n",
            "5\n",
            "4\n",
            "3\n",
            "2\n"
          ]
        }
      ]
    },
    {
      "cell_type": "code",
      "source": [
        "for i in range(17,4,-2):\n",
        "  print(i)"
      ],
      "metadata": {
        "colab": {
          "base_uri": "https://localhost:8080/"
        },
        "id": "Yanmoi5_iso4",
        "outputId": "cf6f13b6-d0a1-447e-d03b-ed1fb825a1be"
      },
      "execution_count": null,
      "outputs": [
        {
          "output_type": "stream",
          "name": "stdout",
          "text": [
            "17\n",
            "15\n",
            "13\n",
            "11\n",
            "9\n",
            "7\n",
            "5\n"
          ]
        }
      ]
    },
    {
      "cell_type": "code",
      "source": [
        "for i in range(85,23,-7):\n",
        "  print(i)"
      ],
      "metadata": {
        "colab": {
          "base_uri": "https://localhost:8080/"
        },
        "id": "uc5K6pOdi478",
        "outputId": "e6d7b9df-b73f-474c-c55d-b3fbd61d5102"
      },
      "execution_count": null,
      "outputs": [
        {
          "output_type": "stream",
          "name": "stdout",
          "text": [
            "85\n",
            "78\n",
            "71\n",
            "64\n",
            "57\n",
            "50\n",
            "43\n",
            "36\n",
            "29\n"
          ]
        }
      ]
    },
    {
      "cell_type": "code",
      "source": [
        "a = [4,5,6,7]\n",
        "for ele in a:\n",
        "  print(ele)"
      ],
      "metadata": {
        "colab": {
          "base_uri": "https://localhost:8080/"
        },
        "id": "h2r3-9yKjCji",
        "outputId": "22d2e896-4849-4a6d-bec9-b114a5b4628e"
      },
      "execution_count": null,
      "outputs": [
        {
          "output_type": "stream",
          "name": "stdout",
          "text": [
            "4\n",
            "5\n",
            "6\n",
            "7\n"
          ]
        }
      ]
    },
    {
      "cell_type": "code",
      "source": [
        "for i in range(len(a)):\n",
        "  print(i)"
      ],
      "metadata": {
        "colab": {
          "base_uri": "https://localhost:8080/"
        },
        "id": "XU410DvVjavA",
        "outputId": "7ede013a-9022-4ddd-d29d-4beaaa9b2f57"
      },
      "execution_count": null,
      "outputs": [
        {
          "output_type": "stream",
          "name": "stdout",
          "text": [
            "0\n",
            "1\n",
            "2\n",
            "3\n"
          ]
        }
      ]
    },
    {
      "cell_type": "code",
      "source": [
        "for i in range(1,len(a)):\n",
        "  print(i)"
      ],
      "metadata": {
        "colab": {
          "base_uri": "https://localhost:8080/"
        },
        "id": "WDhLIEo7j683",
        "outputId": "dc0dcbba-3943-47a6-967f-61fa7a325ce5"
      },
      "execution_count": null,
      "outputs": [
        {
          "output_type": "stream",
          "name": "stdout",
          "text": [
            "1\n",
            "2\n",
            "3\n"
          ]
        }
      ]
    },
    {
      "cell_type": "code",
      "source": [
        "for i in range(len(a)):\n",
        "  print(i,a[i])"
      ],
      "metadata": {
        "colab": {
          "base_uri": "https://localhost:8080/"
        },
        "id": "ND-t7TdUkhLZ",
        "outputId": "816be717-0cf0-4b83-f002-1b32b37615c3"
      },
      "execution_count": null,
      "outputs": [
        {
          "output_type": "stream",
          "name": "stdout",
          "text": [
            "0 4\n",
            "1 5\n",
            "2 6\n",
            "3 7\n"
          ]
        }
      ]
    },
    {
      "cell_type": "code",
      "source": [
        "for i, ele in enumerate(a):\n",
        "  print(i,ele)"
      ],
      "metadata": {
        "colab": {
          "base_uri": "https://localhost:8080/"
        },
        "id": "wmrwT-8PlDHp",
        "outputId": "67fcc744-6d5c-4c9a-81b4-6312a6bb3619"
      },
      "execution_count": null,
      "outputs": [
        {
          "output_type": "stream",
          "name": "stdout",
          "text": [
            "0 4\n",
            "1 5\n",
            "2 6\n",
            "3 7\n"
          ]
        }
      ]
    },
    {
      "cell_type": "code",
      "source": [
        "for _,ele in enumerate(a):\n",
        "  print(ele)"
      ],
      "metadata": {
        "colab": {
          "base_uri": "https://localhost:8080/"
        },
        "id": "iTrl8YOmlRMP",
        "outputId": "0a345c1c-5d3a-439d-827e-5ce1027dfd8b"
      },
      "execution_count": null,
      "outputs": [
        {
          "output_type": "stream",
          "name": "stdout",
          "text": [
            "4\n",
            "5\n",
            "6\n",
            "7\n"
          ]
        }
      ]
    },
    {
      "cell_type": "code",
      "source": [
        "l = [12,21,31,44,51]\n",
        "for ele in l:\n",
        "  print(ele)"
      ],
      "metadata": {
        "colab": {
          "base_uri": "https://localhost:8080/"
        },
        "id": "3l_l1cA2lqdU",
        "outputId": "b48cf381-3872-4ef4-d628-cf3db0719bf6"
      },
      "execution_count": null,
      "outputs": [
        {
          "output_type": "stream",
          "name": "stdout",
          "text": [
            "12\n",
            "21\n",
            "31\n",
            "44\n",
            "51\n"
          ]
        }
      ]
    },
    {
      "cell_type": "code",
      "source": [
        "a = 21\n",
        "if a==21:\n",
        "  print('match')"
      ],
      "metadata": {
        "colab": {
          "base_uri": "https://localhost:8080/"
        },
        "id": "mdF6JEm5ns6Y",
        "outputId": "ede2695c-39d0-4ee1-aeea-ee9d1e7f9005"
      },
      "execution_count": null,
      "outputs": [
        {
          "output_type": "stream",
          "name": "stdout",
          "text": [
            "match\n"
          ]
        }
      ]
    },
    {
      "cell_type": "code",
      "source": [
        " if a in l:\n",
        "   print('match')"
      ],
      "metadata": {
        "colab": {
          "base_uri": "https://localhost:8080/"
        },
        "id": "6DpyIlsTobad",
        "outputId": "54a7f94d-66ab-4cb1-f09f-f16cc64f5b85"
      },
      "execution_count": null,
      "outputs": [
        {
          "output_type": "stream",
          "name": "stdout",
          "text": [
            "match\n"
          ]
        }
      ]
    },
    {
      "cell_type": "code",
      "source": [
        "for ele in l:\n",
        "  if ele>a:\n",
        "    print('greater than 21')\n",
        "  else:\n",
        "    print('not greater than 21')\n"
      ],
      "metadata": {
        "colab": {
          "base_uri": "https://localhost:8080/"
        },
        "id": "7uXLis-Eo08y",
        "outputId": "8bddd38e-a37b-4053-c48c-aa32842eca4e"
      },
      "execution_count": null,
      "outputs": [
        {
          "output_type": "stream",
          "name": "stdout",
          "text": [
            "not greater than 21\n",
            "not greater than 21\n",
            "greater than 21\n",
            "greater than 21\n",
            "greater than 21\n"
          ]
        }
      ]
    },
    {
      "cell_type": "code",
      "source": [
        "for i,ele in enumerate(l):\n",
        "  if ele==21:\n",
        "    print(i)"
      ],
      "metadata": {
        "colab": {
          "base_uri": "https://localhost:8080/"
        },
        "id": "1c_nIMl5psDs",
        "outputId": "ae650d59-6309-422a-c2f8-8741c804d80d"
      },
      "execution_count": null,
      "outputs": [
        {
          "output_type": "stream",
          "name": "stdout",
          "text": [
            "1\n"
          ]
        }
      ]
    },
    {
      "cell_type": "code",
      "source": [
        "l1 = [17,0,78,73,8,7]\n",
        "l2 = [3,8,5,6,7]\n",
        "\n",
        "for ele in l1:\n",
        "  for ele1 in l2:\n",
        "    if ele==ele1:\n",
        "      print('Match', ele)"
      ],
      "metadata": {
        "colab": {
          "base_uri": "https://localhost:8080/"
        },
        "id": "rDjp2mb4qxRD",
        "outputId": "b7e29eec-9b33-4380-e7ac-92fa094340d5"
      },
      "execution_count": null,
      "outputs": [
        {
          "output_type": "stream",
          "name": "stdout",
          "text": [
            "Match 8\n",
            "Match 7\n"
          ]
        }
      ]
    },
    {
      "cell_type": "code",
      "source": [
        "for i in range(1,7):\n",
        "  for j in range(1,5):\n",
        "    print(j*'*')\n",
        "\n"
      ],
      "metadata": {
        "colab": {
          "base_uri": "https://localhost:8080/"
        },
        "id": "EjJJKtIPro0j",
        "outputId": "c4fa1706-aa92-451c-c5e4-2297acbabd61"
      },
      "execution_count": null,
      "outputs": [
        {
          "output_type": "stream",
          "name": "stdout",
          "text": [
            "*\n",
            "**\n",
            "***\n",
            "****\n",
            "*\n",
            "**\n",
            "***\n",
            "****\n",
            "*\n",
            "**\n",
            "***\n",
            "****\n",
            "*\n",
            "**\n",
            "***\n",
            "****\n",
            "*\n",
            "**\n",
            "***\n",
            "****\n",
            "*\n",
            "**\n",
            "***\n",
            "****\n"
          ]
        }
      ]
    },
    {
      "cell_type": "code",
      "source": [
        "for i in range(1,3):\n",
        "  for j in range(1,4):\n",
        "    for k in range(1,5):\n",
        "      print(k*'*')"
      ],
      "metadata": {
        "colab": {
          "base_uri": "https://localhost:8080/"
        },
        "id": "mZj2cfxIsZC2",
        "outputId": "20ad14c6-3123-4b6b-c5fb-1d3898b6b37b"
      },
      "execution_count": null,
      "outputs": [
        {
          "output_type": "stream",
          "name": "stdout",
          "text": [
            "*\n",
            "**\n",
            "***\n",
            "****\n",
            "*\n",
            "**\n",
            "***\n",
            "****\n",
            "*\n",
            "**\n",
            "***\n",
            "****\n",
            "*\n",
            "**\n",
            "***\n",
            "****\n",
            "*\n",
            "**\n",
            "***\n",
            "****\n",
            "*\n",
            "**\n",
            "***\n",
            "****\n"
          ]
        }
      ]
    },
    {
      "cell_type": "code",
      "source": [
        "for i in range(0,5):\n",
        "  for j in range(0,i+1):\n",
        "    print('* ', end='')\n",
        "  print('\\n')"
      ],
      "metadata": {
        "colab": {
          "base_uri": "https://localhost:8080/"
        },
        "id": "qOmtRFqTtVuE",
        "outputId": "f89fc30b-a5fe-46f8-8f33-a34a3ebbd966"
      },
      "execution_count": null,
      "outputs": [
        {
          "output_type": "stream",
          "name": "stdout",
          "text": [
            "* \n",
            "\n",
            "* * \n",
            "\n",
            "* * * \n",
            "\n",
            "* * * * \n",
            "\n",
            "* * * * * \n",
            "\n"
          ]
        }
      ]
    },
    {
      "cell_type": "code",
      "source": [
        "for i in range(0,5):\n",
        "  for j in range(0,i+1):\n",
        "    print('* ', end='')\n",
        "  print('\\r')"
      ],
      "metadata": {
        "colab": {
          "base_uri": "https://localhost:8080/"
        },
        "id": "pMjzaE7stlb0",
        "outputId": "8694da1d-3600-4f53-ac5d-91a8f450bbab"
      },
      "execution_count": null,
      "outputs": [
        {
          "output_type": "stream",
          "name": "stdout",
          "text": [
            "* \r\n",
            "* * \r\n",
            "* * * \r\n",
            "* * * * \r\n",
            "* * * * * \r\n"
          ]
        }
      ]
    },
    {
      "cell_type": "code",
      "source": [
        "# break will stop the execution of the loop and it will not allow the iteration to go to the next values\n",
        "for i in range(5):\n",
        "  if i==2:\n",
        "    break\n",
        "  a = 5*i\n",
        "  print(i,a)"
      ],
      "metadata": {
        "colab": {
          "base_uri": "https://localhost:8080/"
        },
        "id": "YXlFa4ENumhC",
        "outputId": "4a836dd0-4d53-417e-ad38-131f4edf61f5"
      },
      "execution_count": null,
      "outputs": [
        {
          "output_type": "stream",
          "name": "stdout",
          "text": [
            "0 0\n",
            "1 5\n"
          ]
        }
      ]
    },
    {
      "cell_type": "code",
      "source": [
        "# Continue will skip the execution of the current loop after the 'continue' statement.\n",
        "for i in range(5):\n",
        "  print('any', i)\n",
        "  if i==2:\n",
        "    continue\n",
        "  a = 5*i\n",
        "  print(i,a)"
      ],
      "metadata": {
        "colab": {
          "base_uri": "https://localhost:8080/"
        },
        "id": "K6oNA957vHZO",
        "outputId": "4c83ec3c-2fad-434f-bf85-a6fc02471f71"
      },
      "execution_count": null,
      "outputs": [
        {
          "output_type": "stream",
          "name": "stdout",
          "text": [
            "any 0\n",
            "0 0\n",
            "any 1\n",
            "1 5\n",
            "any 2\n",
            "any 3\n",
            "3 15\n",
            "any 4\n",
            "4 20\n"
          ]
        }
      ]
    },
    {
      "cell_type": "code",
      "source": [
        "for i in range(10):\n",
        "  pass"
      ],
      "metadata": {
        "id": "N3_mmyG2vy4z"
      },
      "execution_count": null,
      "outputs": []
    },
    {
      "cell_type": "code",
      "source": [
        "l = [1,2,3,4]\n",
        "l.append(8)\n",
        "print(l)\n"
      ],
      "metadata": {
        "colab": {
          "base_uri": "https://localhost:8080/"
        },
        "id": "8qcweW7Tx4Ow",
        "outputId": "b88bc959-d0e7-4d52-be2f-c9b1c4a72780"
      },
      "execution_count": null,
      "outputs": [
        {
          "output_type": "stream",
          "name": "stdout",
          "text": [
            "[1, 2, 3, 4, 8]\n"
          ]
        }
      ]
    },
    {
      "cell_type": "code",
      "source": [
        "l = [1,2,3,4]\n",
        "k = []\n",
        "for ele in l:\n",
        "  k.append(ele+10)\n",
        "print(k)"
      ],
      "metadata": {
        "colab": {
          "base_uri": "https://localhost:8080/"
        },
        "id": "TPC_BDwrzUSg",
        "outputId": "99e0e8a2-6fa8-4210-fb16-2c87688cc533"
      },
      "execution_count": null,
      "outputs": [
        {
          "output_type": "stream",
          "name": "stdout",
          "text": [
            "[11, 12, 13, 14]\n"
          ]
        }
      ]
    },
    {
      "cell_type": "code",
      "source": [
        "# List Comprehensions\n",
        "k = [i for i in l]\n",
        "print(k)\n"
      ],
      "metadata": {
        "colab": {
          "base_uri": "https://localhost:8080/"
        },
        "id": "A5D1f509z0jO",
        "outputId": "413449dd-9688-4532-df5a-135d9498b65e"
      },
      "execution_count": null,
      "outputs": [
        {
          "output_type": "stream",
          "name": "stdout",
          "text": [
            "[1, 2, 3, 4]\n"
          ]
        }
      ]
    },
    {
      "cell_type": "code",
      "source": [
        "\n",
        "k = [i+5 for i in l]\n",
        "print(k)"
      ],
      "metadata": {
        "colab": {
          "base_uri": "https://localhost:8080/"
        },
        "id": "c1ZJoZwV0TVK",
        "outputId": "728161c4-7f87-41e2-ded2-19a6d17b483c"
      },
      "execution_count": null,
      "outputs": [
        {
          "output_type": "stream",
          "name": "stdout",
          "text": [
            "[6, 7, 8, 9]\n"
          ]
        }
      ]
    },
    {
      "cell_type": "code",
      "source": [
        "_ = [print(i+5) for i in l]"
      ],
      "metadata": {
        "colab": {
          "base_uri": "https://localhost:8080/"
        },
        "id": "jM2cK2TN0mvd",
        "outputId": "49abcd8e-6044-4834-f49b-ef6933556dac"
      },
      "execution_count": null,
      "outputs": [
        {
          "output_type": "stream",
          "name": "stdout",
          "text": [
            "6\n",
            "7\n",
            "8\n",
            "9\n"
          ]
        }
      ]
    },
    {
      "cell_type": "markdown",
      "source": [
        "#String"
      ],
      "metadata": {
        "id": "KoGt3OMz1SEW"
      }
    },
    {
      "cell_type": "markdown",
      "source": [
        "S T R I N G\n",
        "\n",
        "0 1 2 3 4 5\n",
        "\n",
        "-6 -5 -4 -3 -2 -1"
      ],
      "metadata": {
        "id": "dWTYFsKp2Jvs"
      }
    },
    {
      "cell_type": "code",
      "source": [
        "string1 = 'This is string one'\n"
      ],
      "metadata": {
        "id": "xD2-gzNW25eG"
      },
      "execution_count": null,
      "outputs": []
    },
    {
      "cell_type": "code",
      "source": [
        "print(string1[0])"
      ],
      "metadata": {
        "colab": {
          "base_uri": "https://localhost:8080/"
        },
        "id": "sj2-qduw3FV-",
        "outputId": "72077b31-3ca9-40d0-d000-fabd4b6fcb1b"
      },
      "execution_count": null,
      "outputs": [
        {
          "output_type": "stream",
          "name": "stdout",
          "text": [
            "T\n"
          ]
        }
      ]
    },
    {
      "cell_type": "code",
      "source": [
        "print(string1[-1])"
      ],
      "metadata": {
        "colab": {
          "base_uri": "https://localhost:8080/"
        },
        "id": "IV8MzRKF3Tih",
        "outputId": "41ca3a1a-8203-420b-8ec1-0aa1d3d18ad0"
      },
      "execution_count": null,
      "outputs": [
        {
          "output_type": "stream",
          "name": "stdout",
          "text": [
            "e\n"
          ]
        }
      ]
    },
    {
      "cell_type": "code",
      "source": [
        "print(string1[:])"
      ],
      "metadata": {
        "id": "v6XJFECS3c4_",
        "colab": {
          "base_uri": "https://localhost:8080/"
        },
        "outputId": "101c6086-5e3a-402b-905c-b75f25e26417"
      },
      "execution_count": null,
      "outputs": [
        {
          "output_type": "stream",
          "name": "stdout",
          "text": [
            "This is string one\n"
          ]
        }
      ]
    },
    {
      "cell_type": "code",
      "source": [
        "print(string1[0:])"
      ],
      "metadata": {
        "colab": {
          "base_uri": "https://localhost:8080/"
        },
        "id": "F2S1jga8EZVf",
        "outputId": "e1798fc9-657f-4551-921c-05032593960b"
      },
      "execution_count": null,
      "outputs": [
        {
          "output_type": "stream",
          "name": "stdout",
          "text": [
            "This is string one\n"
          ]
        }
      ]
    },
    {
      "cell_type": "code",
      "source": [
        "print(string1[0:-1])"
      ],
      "metadata": {
        "colab": {
          "base_uri": "https://localhost:8080/"
        },
        "id": "tDth6ezeEgNd",
        "outputId": "9e797643-5ab6-4688-a45d-5c6352e48033"
      },
      "execution_count": null,
      "outputs": [
        {
          "output_type": "stream",
          "name": "stdout",
          "text": [
            "This is string on\n"
          ]
        }
      ]
    },
    {
      "cell_type": "code",
      "source": [
        "print(string1[1:10])"
      ],
      "metadata": {
        "colab": {
          "base_uri": "https://localhost:8080/"
        },
        "id": "dcN7t-IjEnbl",
        "outputId": "eff9d5c6-c70d-4656-e5c6-658187cf7d47"
      },
      "execution_count": null,
      "outputs": [
        {
          "output_type": "stream",
          "name": "stdout",
          "text": [
            "his is st\n"
          ]
        }
      ]
    },
    {
      "cell_type": "code",
      "source": [
        "a='this is a string for example'\n",
        "print(a[10:16])\n"
      ],
      "metadata": {
        "colab": {
          "base_uri": "https://localhost:8080/"
        },
        "id": "736-XCNIEwoW",
        "outputId": "c0a4c0f8-5545-4edb-c0f8-31ce364bbd7c"
      },
      "execution_count": null,
      "outputs": [
        {
          "output_type": "stream",
          "name": "stdout",
          "text": [
            "string\n"
          ]
        }
      ]
    },
    {
      "cell_type": "code",
      "source": [
        "print(a[10:-12])"
      ],
      "metadata": {
        "colab": {
          "base_uri": "https://localhost:8080/"
        },
        "id": "1hmr6k7EFbCT",
        "outputId": "7e563bf2-f66f-4d4c-b685-018f4573478b"
      },
      "execution_count": null,
      "outputs": [
        {
          "output_type": "stream",
          "name": "stdout",
          "text": [
            "string\n"
          ]
        }
      ]
    },
    {
      "cell_type": "code",
      "source": [
        "len(a[10:-12])"
      ],
      "metadata": {
        "colab": {
          "base_uri": "https://localhost:8080/"
        },
        "id": "1r_wo0fKFtAc",
        "outputId": "55fff6c2-2f39-40d1-c637-bc30b8ca7f1b"
      },
      "execution_count": null,
      "outputs": [
        {
          "output_type": "execute_result",
          "data": {
            "text/plain": [
              "6"
            ]
          },
          "metadata": {},
          "execution_count": 10
        }
      ]
    },
    {
      "cell_type": "code",
      "source": [
        "print(a[-1::-1])"
      ],
      "metadata": {
        "colab": {
          "base_uri": "https://localhost:8080/"
        },
        "id": "vcn-Bt4WF8yZ",
        "outputId": "c25d5488-95d2-4404-985e-52956d86ed95"
      },
      "execution_count": null,
      "outputs": [
        {
          "output_type": "stream",
          "name": "stdout",
          "text": [
            "elpmaxe rof gnirts a si siht\n"
          ]
        }
      ]
    },
    {
      "cell_type": "code",
      "source": [
        "print(a[len(a)::-1])"
      ],
      "metadata": {
        "colab": {
          "base_uri": "https://localhost:8080/"
        },
        "id": "kvm3sNSvGPow",
        "outputId": "692e0dcc-183e-466a-8608-13eda4105563"
      },
      "execution_count": null,
      "outputs": [
        {
          "output_type": "stream",
          "name": "stdout",
          "text": [
            "elpmaxe rof gnirts a si siht\n"
          ]
        }
      ]
    },
    {
      "cell_type": "code",
      "source": [
        "print(a[::-1])"
      ],
      "metadata": {
        "colab": {
          "base_uri": "https://localhost:8080/"
        },
        "id": "elaxx-FUG_-7",
        "outputId": "fe64eca0-d0b2-4662-bb49-906a84b7799b"
      },
      "execution_count": null,
      "outputs": [
        {
          "output_type": "stream",
          "name": "stdout",
          "text": [
            "elpmaxe rof gnirts a si siht\n"
          ]
        }
      ]
    },
    {
      "cell_type": "code",
      "source": [
        "#this will throw an error\n",
        "b = 'string'\n",
        "print(b[20])"
      ],
      "metadata": {
        "colab": {
          "base_uri": "https://localhost:8080/",
          "height": 205
        },
        "id": "rvErjKPYHJMj",
        "outputId": "65bebbcf-d064-4b28-c7c2-be08bd3a234b"
      },
      "execution_count": null,
      "outputs": [
        {
          "output_type": "error",
          "ename": "IndexError",
          "evalue": "ignored",
          "traceback": [
            "\u001b[0;31m---------------------------------------------------------------------------\u001b[0m",
            "\u001b[0;31mIndexError\u001b[0m                                Traceback (most recent call last)",
            "\u001b[0;32m<ipython-input-20-caf6f8994196>\u001b[0m in \u001b[0;36m<module>\u001b[0;34m()\u001b[0m\n\u001b[1;32m      1\u001b[0m \u001b[0;31m#this will throw an error\u001b[0m\u001b[0;34m\u001b[0m\u001b[0;34m\u001b[0m\u001b[0;34m\u001b[0m\u001b[0m\n\u001b[1;32m      2\u001b[0m \u001b[0mb\u001b[0m \u001b[0;34m=\u001b[0m \u001b[0;34m'string'\u001b[0m\u001b[0;34m\u001b[0m\u001b[0;34m\u001b[0m\u001b[0m\n\u001b[0;32m----> 3\u001b[0;31m \u001b[0mprint\u001b[0m\u001b[0;34m(\u001b[0m\u001b[0mb\u001b[0m\u001b[0;34m[\u001b[0m\u001b[0;36m20\u001b[0m\u001b[0;34m]\u001b[0m\u001b[0;34m)\u001b[0m\u001b[0;34m\u001b[0m\u001b[0;34m\u001b[0m\u001b[0m\n\u001b[0m",
            "\u001b[0;31mIndexError\u001b[0m: string index out of range"
          ]
        }
      ]
    },
    {
      "cell_type": "code",
      "source": [
        "print(b[-20])"
      ],
      "metadata": {
        "colab": {
          "base_uri": "https://localhost:8080/",
          "height": 169
        },
        "id": "6apAHH2EHeOg",
        "outputId": "90014ff1-0c94-4a43-e43f-100a136b4b4f"
      },
      "execution_count": null,
      "outputs": [
        {
          "output_type": "error",
          "ename": "IndexError",
          "evalue": "ignored",
          "traceback": [
            "\u001b[0;31m---------------------------------------------------------------------------\u001b[0m",
            "\u001b[0;31mIndexError\u001b[0m                                Traceback (most recent call last)",
            "\u001b[0;32m<ipython-input-21-f580a1785e13>\u001b[0m in \u001b[0;36m<module>\u001b[0;34m()\u001b[0m\n\u001b[0;32m----> 1\u001b[0;31m \u001b[0mprint\u001b[0m\u001b[0;34m(\u001b[0m\u001b[0mb\u001b[0m\u001b[0;34m[\u001b[0m\u001b[0;34m-\u001b[0m\u001b[0;36m20\u001b[0m\u001b[0;34m]\u001b[0m\u001b[0;34m)\u001b[0m\u001b[0;34m\u001b[0m\u001b[0;34m\u001b[0m\u001b[0m\n\u001b[0m",
            "\u001b[0;31mIndexError\u001b[0m: string index out of range"
          ]
        }
      ]
    },
    {
      "cell_type": "code",
      "source": [
        "# Access values that may result an index error\n",
        "x = 'another example of'\n",
        "indx=70\n",
        "if indx<len(x):\n",
        "  print('OK')"
      ],
      "metadata": {
        "id": "X7v9ZDv5Hxn4"
      },
      "execution_count": null,
      "outputs": []
    },
    {
      "cell_type": "markdown",
      "source": [
        "#Updating Strings\n"
      ],
      "metadata": {
        "id": "nec7SALfH_Ag"
      }
    },
    {
      "cell_type": "code",
      "source": [
        "string1 = 'This is a string'\n"
      ],
      "metadata": {
        "id": "4eJpVyEtI2sZ"
      },
      "execution_count": null,
      "outputs": []
    },
    {
      "cell_type": "code",
      "source": [
        "# take first 4 characters and last 4 characters and join them with a space\n",
        "string1=string1[:4] + ' '+ string1[-4:]\n",
        "print(string1)"
      ],
      "metadata": {
        "colab": {
          "base_uri": "https://localhost:8080/"
        },
        "id": "XM7lsFlAI_GS",
        "outputId": "8825fa99-186e-458b-ae6a-34724196531d"
      },
      "execution_count": null,
      "outputs": [
        {
          "output_type": "stream",
          "name": "stdout",
          "text": [
            "This ring\n"
          ]
        }
      ]
    },
    {
      "cell_type": "code",
      "source": [
        "string1 = 'This is a string'"
      ],
      "metadata": {
        "id": "3akHMYbZJdyI"
      },
      "execution_count": null,
      "outputs": []
    },
    {
      "cell_type": "code",
      "source": [
        "#take first 4 characters and last 4 characters and reverse them and join them with a space\n",
        "string1[:4][::-1] + ' ' + string1[-4:][::-1]"
      ],
      "metadata": {
        "colab": {
          "base_uri": "https://localhost:8080/",
          "height": 35
        },
        "id": "4_nEDCEjKBii",
        "outputId": "f41dbcc6-7b96-4aec-9e65-85a8a55ffa55"
      },
      "execution_count": null,
      "outputs": [
        {
          "output_type": "execute_result",
          "data": {
            "text/plain": [
              "'sihT gnir'"
            ],
            "application/vnd.google.colaboratory.intrinsic+json": {
              "type": "string"
            }
          },
          "metadata": {},
          "execution_count": 33
        }
      ]
    },
    {
      "cell_type": "code",
      "source": [
        "#take first 4 characters and last 4 characters and reverse them and join them with a space and reverse the result\n",
        "(string1[:4][::-1] + ' ' + string1[-6:][::-1])[::-1]"
      ],
      "metadata": {
        "colab": {
          "base_uri": "https://localhost:8080/",
          "height": 35
        },
        "id": "Idrkes2KKiIR",
        "outputId": "6a6b4818-a1e2-40cd-f8fc-52d18df9658c"
      },
      "execution_count": null,
      "outputs": [
        {
          "output_type": "execute_result",
          "data": {
            "text/plain": [
              "'string This'"
            ],
            "application/vnd.google.colaboratory.intrinsic+json": {
              "type": "string"
            }
          },
          "metadata": {},
          "execution_count": 36
        }
      ]
    },
    {
      "cell_type": "code",
      "source": [
        "# take first 3 characters middle 3 and last 3 characters and add them with space.\n",
        "a='abcdefghijkl'\n",
        "a[:3] + ' ' + a[4:7] +' ' + a[-3:]"
      ],
      "metadata": {
        "colab": {
          "base_uri": "https://localhost:8080/",
          "height": 35
        },
        "id": "igr39YK9LiI8",
        "outputId": "b5678f16-1736-49ad-f089-48ede815109b"
      },
      "execution_count": null,
      "outputs": [
        {
          "output_type": "execute_result",
          "data": {
            "text/plain": [
              "'abc efg jkl'"
            ],
            "application/vnd.google.colaboratory.intrinsic+json": {
              "type": "string"
            }
          },
          "metadata": {},
          "execution_count": 38
        }
      ]
    },
    {
      "cell_type": "code",
      "source": [
        "'abcdefghijkl + python'\n",
        "a +' + python' "
      ],
      "metadata": {
        "colab": {
          "base_uri": "https://localhost:8080/",
          "height": 35
        },
        "id": "eQ15n2rCNBH-",
        "outputId": "818b4b37-4aec-4c6b-99a2-a75cbcaabff4"
      },
      "execution_count": null,
      "outputs": [
        {
          "output_type": "execute_result",
          "data": {
            "text/plain": [
              "'abcdefghijkl + python'"
            ],
            "application/vnd.google.colaboratory.intrinsic+json": {
              "type": "string"
            }
          },
          "metadata": {},
          "execution_count": 39
        }
      ]
    },
    {
      "cell_type": "code",
      "source": [
        "'abc'=='abC'\n"
      ],
      "metadata": {
        "colab": {
          "base_uri": "https://localhost:8080/"
        },
        "id": "WD9mn4gbNyuv",
        "outputId": "f8b57249-cacc-4c15-e111-53e6b23fa798"
      },
      "execution_count": null,
      "outputs": [
        {
          "output_type": "execute_result",
          "data": {
            "text/plain": [
              "False"
            ]
          },
          "metadata": {},
          "execution_count": 40
        }
      ]
    },
    {
      "cell_type": "markdown",
      "source": [
        "#String Formating"
      ],
      "metadata": {
        "id": "XbiQla7JN_Vh"
      }
    },
    {
      "cell_type": "code",
      "source": [
        "name='ramesh'\n",
        "a='his name is %s'\n",
        "a=a%name\n",
        "print(a)"
      ],
      "metadata": {
        "colab": {
          "base_uri": "https://localhost:8080/"
        },
        "id": "91bqDKzrOGmJ",
        "outputId": "f2572ada-e89a-4d6f-b1d2-f501e503443f"
      },
      "execution_count": null,
      "outputs": [
        {
          "output_type": "stream",
          "name": "stdout",
          "text": [
            "his name is ramesh\n"
          ]
        }
      ]
    },
    {
      "cell_type": "code",
      "source": [
        "name='rajesh'\n",
        "a='his name is %s'\n",
        "a=a%name\n",
        "print(a)"
      ],
      "metadata": {
        "colab": {
          "base_uri": "https://localhost:8080/"
        },
        "id": "dq7qQgmLPPfj",
        "outputId": "fabecf00-6fc0-452c-aca3-2ecfa830258b"
      },
      "execution_count": null,
      "outputs": [
        {
          "output_type": "stream",
          "name": "stdout",
          "text": [
            "his name is rajesh\n"
          ]
        }
      ]
    },
    {
      "cell_type": "code",
      "source": [
        "name='rajesh'\n",
        "a='his name is %s'\n",
        "print(a)"
      ],
      "metadata": {
        "colab": {
          "base_uri": "https://localhost:8080/"
        },
        "id": "78Oxk_CJPaUx",
        "outputId": "388defdc-6288-413c-d9ad-ad08bf43c5e0"
      },
      "execution_count": null,
      "outputs": [
        {
          "output_type": "stream",
          "name": "stdout",
          "text": [
            "his name is %s\n"
          ]
        }
      ]
    },
    {
      "cell_type": "code",
      "source": [
        "name = 'rajesh'\n",
        "a='his name is %s'%name\n",
        "print(a)"
      ],
      "metadata": {
        "colab": {
          "base_uri": "https://localhost:8080/"
        },
        "id": "9W8PoO4VPsnx",
        "outputId": "dc385bee-ad02-41fb-c546-15417265b86a"
      },
      "execution_count": null,
      "outputs": [
        {
          "output_type": "stream",
          "name": "stdout",
          "text": [
            "his name is rajesh\n"
          ]
        }
      ]
    },
    {
      "cell_type": "code",
      "source": [
        "val = 23\n",
        "a=' his role num is %s'\n",
        "a=a%val\n",
        "print(a)"
      ],
      "metadata": {
        "colab": {
          "base_uri": "https://localhost:8080/"
        },
        "id": "57c8aNnxQCmF",
        "outputId": "01bb8d6e-4082-40a6-a589-dbc0bb24feba"
      },
      "execution_count": null,
      "outputs": [
        {
          "output_type": "stream",
          "name": "stdout",
          "text": [
            " his role num is 23\n"
          ]
        }
      ]
    },
    {
      "cell_type": "code",
      "source": [
        "val = 23.0\n",
        "a=' his role num is %i'\n",
        "a=a%val\n",
        "print(a)"
      ],
      "metadata": {
        "colab": {
          "base_uri": "https://localhost:8080/"
        },
        "id": "wWiWL9rUQhuK",
        "outputId": "a84e6ca6-c222-4c40-fb1a-52b34e609faa"
      },
      "execution_count": null,
      "outputs": [
        {
          "output_type": "stream",
          "name": "stdout",
          "text": [
            " his role num is 23\n"
          ]
        }
      ]
    },
    {
      "cell_type": "code",
      "source": [
        "val = 23.0\n",
        "a=' his role num is %s'\n",
        "a=a%val\n",
        "print(a)"
      ],
      "metadata": {
        "colab": {
          "base_uri": "https://localhost:8080/"
        },
        "id": "AkHRVtgNRASX",
        "outputId": "24baca7a-0039-4398-e4f0-1e0f3ea0a0da"
      },
      "execution_count": null,
      "outputs": [
        {
          "output_type": "stream",
          "name": "stdout",
          "text": [
            " his role num is 23.0\n"
          ]
        }
      ]
    },
    {
      "cell_type": "code",
      "source": [
        "val = 79.3422\n",
        "a =' his marks are %s'\n",
        "a=a%val\n",
        "print(a)"
      ],
      "metadata": {
        "colab": {
          "base_uri": "https://localhost:8080/"
        },
        "id": "COH2hD5pRFfE",
        "outputId": "4457d654-c3c2-4f8e-eed9-ecccdc54a5e8"
      },
      "execution_count": null,
      "outputs": [
        {
          "output_type": "stream",
          "name": "stdout",
          "text": [
            " his marks are 79.3422\n"
          ]
        }
      ]
    },
    {
      "cell_type": "code",
      "source": [
        "val = 79.3422\n",
        "a =' his marks are %.2f'\n",
        "a=a%val\n",
        "print(a)"
      ],
      "metadata": {
        "colab": {
          "base_uri": "https://localhost:8080/"
        },
        "id": "xTXvpSK9RhUe",
        "outputId": "2f20e3e8-294c-4f64-8ae4-11e94468cd5f"
      },
      "execution_count": null,
      "outputs": [
        {
          "output_type": "stream",
          "name": "stdout",
          "text": [
            " his marks are 79.34\n"
          ]
        }
      ]
    },
    {
      "cell_type": "code",
      "source": [
        "val = 79.3465\n",
        "a =' his marks are %.2f'\n",
        "a=a%val\n",
        "print(a)"
      ],
      "metadata": {
        "colab": {
          "base_uri": "https://localhost:8080/"
        },
        "id": "FnZRZ4ScRtM2",
        "outputId": "ab77e87c-be91-4fe3-d1df-fb0c3df59a35"
      },
      "execution_count": null,
      "outputs": [
        {
          "output_type": "stream",
          "name": "stdout",
          "text": [
            " his marks are 79.35\n"
          ]
        }
      ]
    },
    {
      "cell_type": "code",
      "source": [
        "name='santhosh'\n",
        "rollno=20.0\n",
        "marks=78.6754\n",
        "\n",
        "a= 'his name is %s .his roll no is %i .his marks are %.3f'\n",
        "a=a%(name,rollno,marks)\n",
        "print(a)\n"
      ],
      "metadata": {
        "colab": {
          "base_uri": "https://localhost:8080/"
        },
        "id": "pkx8egTBR2py",
        "outputId": "c7532e3e-1afa-46cc-fc56-6ded89bd9cb5"
      },
      "execution_count": null,
      "outputs": [
        {
          "output_type": "stream",
          "name": "stdout",
          "text": [
            "his name is santhosh .his roll no is 20 .his marks are 78.675\n"
          ]
        }
      ]
    },
    {
      "cell_type": "code",
      "source": [
        "name='ramesh'\n",
        "a='his name is {}'\n",
        "a=a.format(name)\n",
        "print(a)\n"
      ],
      "metadata": {
        "colab": {
          "base_uri": "https://localhost:8080/"
        },
        "id": "C92b_oXwSskf",
        "outputId": "ac36b80a-257c-4188-af91-fc4d34ce523c"
      },
      "execution_count": null,
      "outputs": [
        {
          "output_type": "stream",
          "name": "stdout",
          "text": [
            "his name is ramesh\n"
          ]
        }
      ]
    },
    {
      "cell_type": "code",
      "source": [
        "name='ramesh'\n",
        "rollno=22\n",
        "marks=78.67\n",
        "a= 'his name is {}. his roll number is {}. his marks are {}'\n",
        "a=a.format(name,rollno,marks)\n",
        "print(a)\n"
      ],
      "metadata": {
        "colab": {
          "base_uri": "https://localhost:8080/"
        },
        "id": "iTnjVkyXTeqn",
        "outputId": "7b6f6261-1624-4d4f-a92f-a98ea1d3ef63"
      },
      "execution_count": null,
      "outputs": [
        {
          "output_type": "stream",
          "name": "stdout",
          "text": [
            "his name is ramesh. his roll number is 22. his marks are 78.67\n"
          ]
        }
      ]
    },
    {
      "cell_type": "code",
      "source": [
        "name='ramesh'\n",
        "rollno=22\n",
        "marks=78.67\n",
        "a= 'his name is {studname}. his roll number is {studroll}. his marks are {studmarks}'\n",
        "a=a.format(studname=name,studroll=rollno,studmarks=marks)\n",
        "print(a)"
      ],
      "metadata": {
        "colab": {
          "base_uri": "https://localhost:8080/"
        },
        "id": "p-VEd7s4UDTA",
        "outputId": "17eec76a-5b65-483a-cbe0-501abc198356"
      },
      "execution_count": null,
      "outputs": [
        {
          "output_type": "stream",
          "name": "stdout",
          "text": [
            "his name is ramesh. his roll number is 22. his marks are 78.67\n"
          ]
        }
      ]
    },
    {
      "cell_type": "code",
      "source": [
        "name='ramesh'\n",
        "rollno=22\n",
        "marks=78.67\n",
        "a= 'his name is {studname}. his roll number is {studroll}. his marks are {studmarks}'\n",
        "a=a.format(studroll=rollno,studname=name,studmarks=marks)\n",
        "print(a)"
      ],
      "metadata": {
        "colab": {
          "base_uri": "https://localhost:8080/"
        },
        "id": "O8pkmf_dUrbE",
        "outputId": "ed68dfce-3031-433f-b4b7-24fbf333fed8"
      },
      "execution_count": null,
      "outputs": [
        {
          "output_type": "stream",
          "name": "stdout",
          "text": [
            "his name is ramesh. his roll number is 22. his marks are 78.67\n"
          ]
        }
      ]
    },
    {
      "cell_type": "code",
      "source": [
        "name='ramesh'\n",
        "rollno=22\n",
        "marks=78.675675\n",
        "a= 'his name is {}. his roll number is {}. his marks are {:.2f}'\n",
        "a=a.format(name,rollno,marks)\n",
        "print(a)"
      ],
      "metadata": {
        "colab": {
          "base_uri": "https://localhost:8080/"
        },
        "id": "U-ImGm9dVAGS",
        "outputId": "4690778b-cdd0-477b-aa5b-8d3f4573759a"
      },
      "execution_count": null,
      "outputs": [
        {
          "output_type": "stream",
          "name": "stdout",
          "text": [
            "his name is ramesh. his roll number is 22. his marks are 78.68\n"
          ]
        }
      ]
    },
    {
      "cell_type": "code",
      "source": [
        "#fstring\n",
        "name = 'ramesh'\n",
        "a = f'his name is {name}'\n",
        "print(a)"
      ],
      "metadata": {
        "colab": {
          "base_uri": "https://localhost:8080/"
        },
        "id": "GNTvhE1iVlGL",
        "outputId": "af6a3a2c-8a69-4d89-9e4f-b892060c2d02"
      },
      "execution_count": null,
      "outputs": [
        {
          "output_type": "stream",
          "name": "stdout",
          "text": [
            "his name is ramesh\n"
          ]
        }
      ]
    },
    {
      "cell_type": "code",
      "source": [
        "#empty curly brases are not allowed in f-string\n",
        "name='ramesh'\n",
        "rollno=22\n",
        "marks=78.675675\n",
        "a= f'his name is {}. his roll number is {}. his marks are {marks}'\n",
        "\n",
        "print(a)"
      ],
      "metadata": {
        "colab": {
          "base_uri": "https://localhost:8080/",
          "height": 133
        },
        "id": "qz7pQcElWc-M",
        "outputId": "11eecefa-9ee9-4dd0-9666-51300f9ce9fb"
      },
      "execution_count": null,
      "outputs": [
        {
          "output_type": "error",
          "ename": "SyntaxError",
          "evalue": "ignored",
          "traceback": [
            "\u001b[0;36m  File \u001b[0;32m\"<ipython-input-61-d404556ea5e6>\"\u001b[0;36m, line \u001b[0;32m5\u001b[0m\n\u001b[0;31m    a= f'his name is {}. his roll number is {}. his marks are {marks}'\u001b[0m\n\u001b[0m      ^\u001b[0m\n\u001b[0;31mSyntaxError\u001b[0m\u001b[0;31m:\u001b[0m f-string: empty expression not allowed\n"
          ]
        }
      ]
    },
    {
      "cell_type": "code",
      "source": [
        "name='ramesh'\n",
        "rollno=22\n",
        "marks=78.675675\n",
        "a= f'his name is {name}. his roll number is {rollno}. his marks are {marks}'\n",
        "\n",
        "print(a)"
      ],
      "metadata": {
        "colab": {
          "base_uri": "https://localhost:8080/"
        },
        "id": "8pEvSDhBWq7G",
        "outputId": "fe008904-ff5b-46e9-b67d-189ffa242b0e"
      },
      "execution_count": null,
      "outputs": [
        {
          "output_type": "stream",
          "name": "stdout",
          "text": [
            "his name is ramesh. his roll number is 22. his marks are 78.675675\n"
          ]
        }
      ]
    },
    {
      "cell_type": "code",
      "source": [
        "name='ramesh'\n",
        "rollno=22.0\n",
        "marks=78.675675\n",
        "a= f'his name is {name}. his roll number is {int(rollno)}. his marks are {round(marks,2)}'\n",
        "\n",
        "print(a)"
      ],
      "metadata": {
        "colab": {
          "base_uri": "https://localhost:8080/"
        },
        "id": "gMYmzPazW-vP",
        "outputId": "ab9c6fdf-4878-45af-ebe8-4caa9a5cd897"
      },
      "execution_count": null,
      "outputs": [
        {
          "output_type": "stream",
          "name": "stdout",
          "text": [
            "his name is ramesh. his roll number is 22. his marks are 78.68\n"
          ]
        }
      ]
    },
    {
      "cell_type": "code",
      "source": [
        "a = 25.6\n",
        "b =4.7\n",
        "# The Product of a and b round to two decimal places is 120.32\n",
        "x=f'The Product of a and b round to two decimal places is {round(a*b,2)}'\n",
        "print(x)\n"
      ],
      "metadata": {
        "colab": {
          "base_uri": "https://localhost:8080/"
        },
        "id": "ehjsQUXiXTlw",
        "outputId": "182390a7-e7ea-41c0-ee43-0f6a0845a75f"
      },
      "execution_count": null,
      "outputs": [
        {
          "output_type": "stream",
          "name": "stdout",
          "text": [
            "The Product of a and b round to two decimal places is 120.32\n"
          ]
        }
      ]
    },
    {
      "cell_type": "markdown",
      "source": [
        "#String Functions"
      ],
      "metadata": {
        "id": "0neVvTbDYBbv"
      }
    },
    {
      "cell_type": "code",
      "source": [
        "a='this is a string which pretty long'\n",
        "searchword='string'\n",
        "if searchword in a:\n",
        "  indx=a.index(searchword)\n",
        "  print(indx)\n",
        "  print(a[indx:])"
      ],
      "metadata": {
        "colab": {
          "base_uri": "https://localhost:8080/"
        },
        "id": "b6TITpwIYYi0",
        "outputId": "5af6d75c-cbdc-4d49-bfda-422d1e180e04"
      },
      "execution_count": null,
      "outputs": [
        {
          "output_type": "stream",
          "name": "stdout",
          "text": [
            "10\n",
            "string which pretty long\n"
          ]
        }
      ]
    },
    {
      "cell_type": "code",
      "source": [
        "a='this is a string which pretty long string'\n"
      ],
      "metadata": {
        "id": "WjhXewmsY2Vf"
      },
      "execution_count": null,
      "outputs": []
    },
    {
      "cell_type": "code",
      "source": [
        "a.capitalize()"
      ],
      "metadata": {
        "colab": {
          "base_uri": "https://localhost:8080/",
          "height": 35
        },
        "id": "4KNYMjxDaBMu",
        "outputId": "10613e82-1da6-4228-90d2-8bcf434689b8"
      },
      "execution_count": null,
      "outputs": [
        {
          "output_type": "execute_result",
          "data": {
            "text/plain": [
              "'This is a string which pretty long string'"
            ],
            "application/vnd.google.colaboratory.intrinsic+json": {
              "type": "string"
            }
          },
          "metadata": {},
          "execution_count": 72
        }
      ]
    },
    {
      "cell_type": "code",
      "source": [
        "a.count('string')"
      ],
      "metadata": {
        "colab": {
          "base_uri": "https://localhost:8080/"
        },
        "id": "YW1gMXukaH_4",
        "outputId": "77913778-b007-4fb0-d9a0-bb7de8578a76"
      },
      "execution_count": null,
      "outputs": [
        {
          "output_type": "execute_result",
          "data": {
            "text/plain": [
              "2"
            ]
          },
          "metadata": {},
          "execution_count": 73
        }
      ]
    },
    {
      "cell_type": "code",
      "source": [
        "a.count('i')"
      ],
      "metadata": {
        "colab": {
          "base_uri": "https://localhost:8080/"
        },
        "id": "aXTcEO12aTvh",
        "outputId": "5a3a0089-e73f-498b-d260-a21a9ff4bd61"
      },
      "execution_count": null,
      "outputs": [
        {
          "output_type": "execute_result",
          "data": {
            "text/plain": [
              "5"
            ]
          },
          "metadata": {},
          "execution_count": 75
        }
      ]
    },
    {
      "cell_type": "code",
      "source": [
        "a.count(a)"
      ],
      "metadata": {
        "colab": {
          "base_uri": "https://localhost:8080/"
        },
        "id": "0vY_33r9ahHZ",
        "outputId": "58b95128-b8b1-4820-ac32-2a29080ae667"
      },
      "execution_count": null,
      "outputs": [
        {
          "output_type": "execute_result",
          "data": {
            "text/plain": [
              "1"
            ]
          },
          "metadata": {},
          "execution_count": 76
        }
      ]
    },
    {
      "cell_type": "code",
      "source": [
        "a.count('xyz')"
      ],
      "metadata": {
        "colab": {
          "base_uri": "https://localhost:8080/"
        },
        "id": "uuWmp42darDa",
        "outputId": "f04afdb5-6f03-43c3-ec04-f59e7c0a260d"
      },
      "execution_count": null,
      "outputs": [
        {
          "output_type": "execute_result",
          "data": {
            "text/plain": [
              "0"
            ]
          },
          "metadata": {},
          "execution_count": 77
        }
      ]
    },
    {
      "cell_type": "code",
      "source": [
        "a.count('string',0,len(a))"
      ],
      "metadata": {
        "colab": {
          "base_uri": "https://localhost:8080/"
        },
        "id": "GKKhJ1SyavlC",
        "outputId": "b5bdeb05-696f-4df2-95d0-4caf737c73e6"
      },
      "execution_count": null,
      "outputs": [
        {
          "output_type": "execute_result",
          "data": {
            "text/plain": [
              "2"
            ]
          },
          "metadata": {},
          "execution_count": 78
        }
      ]
    },
    {
      "cell_type": "code",
      "source": [
        "a.count('string',20,len(a))"
      ],
      "metadata": {
        "colab": {
          "base_uri": "https://localhost:8080/"
        },
        "id": "2JVfRZFlbCFw",
        "outputId": "07a437fd-0b1d-4796-bcac-ffce9e8b269f"
      },
      "execution_count": null,
      "outputs": [
        {
          "output_type": "execute_result",
          "data": {
            "text/plain": [
              "1"
            ]
          },
          "metadata": {},
          "execution_count": 80
        }
      ]
    },
    {
      "cell_type": "code",
      "source": [
        "a.count('string',100,len(a))"
      ],
      "metadata": {
        "colab": {
          "base_uri": "https://localhost:8080/"
        },
        "id": "dOLNbPWfbG1G",
        "outputId": "494e0ab4-b4e4-414f-c400-72719313ee1b"
      },
      "execution_count": null,
      "outputs": [
        {
          "output_type": "execute_result",
          "data": {
            "text/plain": [
              "0"
            ]
          },
          "metadata": {},
          "execution_count": 81
        }
      ]
    },
    {
      "cell_type": "code",
      "source": [
        "a.endswith('int')"
      ],
      "metadata": {
        "colab": {
          "base_uri": "https://localhost:8080/"
        },
        "id": "DbhCVmEGbcH7",
        "outputId": "f80eb7d7-2d81-4a93-c7c6-28d26aef89d8"
      },
      "execution_count": null,
      "outputs": [
        {
          "output_type": "execute_result",
          "data": {
            "text/plain": [
              "False"
            ]
          },
          "metadata": {},
          "execution_count": 83
        }
      ]
    },
    {
      "cell_type": "code",
      "source": [
        "a.startswith('st')"
      ],
      "metadata": {
        "colab": {
          "base_uri": "https://localhost:8080/"
        },
        "id": "CjSaSlIcboPf",
        "outputId": "14be2d3d-c2b4-4324-fe0b-59bca70bc124"
      },
      "execution_count": null,
      "outputs": [
        {
          "output_type": "execute_result",
          "data": {
            "text/plain": [
              "False"
            ]
          },
          "metadata": {},
          "execution_count": 84
        }
      ]
    },
    {
      "cell_type": "code",
      "source": [
        "a.find('string')"
      ],
      "metadata": {
        "colab": {
          "base_uri": "https://localhost:8080/"
        },
        "id": "uyrTGFJNbzU6",
        "outputId": "099f2fe8-1385-4678-e6ba-6a9f338b494f"
      },
      "execution_count": null,
      "outputs": [
        {
          "output_type": "execute_result",
          "data": {
            "text/plain": [
              "10"
            ]
          },
          "metadata": {},
          "execution_count": 85
        }
      ]
    },
    {
      "cell_type": "code",
      "source": [
        "a.find('xyz')"
      ],
      "metadata": {
        "colab": {
          "base_uri": "https://localhost:8080/"
        },
        "id": "YmJNQIOhb-em",
        "outputId": "a7be7e39-90fe-4540-9a15-1d8b6b4ed81f"
      },
      "execution_count": null,
      "outputs": [
        {
          "output_type": "execute_result",
          "data": {
            "text/plain": [
              "-1"
            ]
          },
          "metadata": {},
          "execution_count": 87
        }
      ]
    },
    {
      "cell_type": "code",
      "source": [
        "a.index('string')"
      ],
      "metadata": {
        "colab": {
          "base_uri": "https://localhost:8080/"
        },
        "id": "V0ggQ1HkcHy4",
        "outputId": "ef4fadd0-8a07-44ec-fd79-3e017aa50125"
      },
      "execution_count": null,
      "outputs": [
        {
          "output_type": "execute_result",
          "data": {
            "text/plain": [
              "10"
            ]
          },
          "metadata": {},
          "execution_count": 88
        }
      ]
    },
    {
      "cell_type": "code",
      "source": [
        "a.index('xyz')"
      ],
      "metadata": {
        "colab": {
          "base_uri": "https://localhost:8080/",
          "height": 169
        },
        "id": "UT5e4A9CcURQ",
        "outputId": "5c19f798-4271-4093-aac7-2a3b3e07354f"
      },
      "execution_count": null,
      "outputs": [
        {
          "output_type": "error",
          "ename": "ValueError",
          "evalue": "ignored",
          "traceback": [
            "\u001b[0;31m---------------------------------------------------------------------------\u001b[0m",
            "\u001b[0;31mValueError\u001b[0m                                Traceback (most recent call last)",
            "\u001b[0;32m<ipython-input-89-9bb317508f8c>\u001b[0m in \u001b[0;36m<module>\u001b[0;34m()\u001b[0m\n\u001b[0;32m----> 1\u001b[0;31m \u001b[0ma\u001b[0m\u001b[0;34m.\u001b[0m\u001b[0mindex\u001b[0m\u001b[0;34m(\u001b[0m\u001b[0;34m'xyz'\u001b[0m\u001b[0;34m)\u001b[0m\u001b[0;34m\u001b[0m\u001b[0;34m\u001b[0m\u001b[0m\n\u001b[0m",
            "\u001b[0;31mValueError\u001b[0m: substring not found"
          ]
        }
      ]
    },
    {
      "cell_type": "code",
      "source": [
        "a='this is a string which pretty long string'\n",
        "b = \"123abcd\"\n",
        "c = '123'\n",
        "d = 'abc'\n",
        "print(a.isalnum())\n",
        "print(b.isalnum())\n",
        "print(c.isalnum())"
      ],
      "metadata": {
        "colab": {
          "base_uri": "https://localhost:8080/"
        },
        "id": "UV9qZ0UjcXW9",
        "outputId": "3e902c0d-a909-4dd3-879b-324131d65632"
      },
      "execution_count": null,
      "outputs": [
        {
          "output_type": "stream",
          "name": "stdout",
          "text": [
            "False\n",
            "True\n",
            "True\n"
          ]
        }
      ]
    },
    {
      "cell_type": "code",
      "source": [
        "print(a.isalpha())\n",
        "print(b.isalpha())\n",
        "print(c.isalpha())\n",
        "print(d.isalpha())"
      ],
      "metadata": {
        "colab": {
          "base_uri": "https://localhost:8080/"
        },
        "id": "jzXWN9DhdEEn",
        "outputId": "936e7e0e-1118-4ceb-cbf8-64a81f6de6c1"
      },
      "execution_count": null,
      "outputs": [
        {
          "output_type": "stream",
          "name": "stdout",
          "text": [
            "False\n",
            "False\n",
            "False\n",
            "True\n"
          ]
        }
      ]
    },
    {
      "cell_type": "code",
      "source": [
        "a='this is a string which pretty long string'\n",
        "b = \"123abcd\"\n",
        "c = '123'\n",
        "d = 'abc'\n",
        "e = '1.24'\n",
        "print(a.isdigit())\n",
        "print(b.isdigit())\n",
        "print(c.isdigit())\n",
        "print(d.isdigit())\n",
        "print(e.isdigit())"
      ],
      "metadata": {
        "colab": {
          "base_uri": "https://localhost:8080/"
        },
        "id": "8SoC5krjd31S",
        "outputId": "3257aeee-92b3-49ce-d36a-db8f4109b1cd"
      },
      "execution_count": null,
      "outputs": [
        {
          "output_type": "stream",
          "name": "stdout",
          "text": [
            "False\n",
            "False\n",
            "True\n",
            "False\n",
            "False\n"
          ]
        }
      ]
    },
    {
      "cell_type": "code",
      "source": [
        "print(a.islower())\n",
        "print(b.islower())\n",
        "print(c.islower())\n",
        "print(d.islower())\n",
        "print(e.islower())"
      ],
      "metadata": {
        "colab": {
          "base_uri": "https://localhost:8080/"
        },
        "id": "JE0_-4iNhQYq",
        "outputId": "20446d99-52f8-4cd8-9d4d-25cb20d6ff5e"
      },
      "execution_count": null,
      "outputs": [
        {
          "output_type": "stream",
          "name": "stdout",
          "text": [
            "True\n",
            "True\n",
            "False\n",
            "True\n",
            "False\n"
          ]
        }
      ]
    },
    {
      "cell_type": "code",
      "source": [
        "print(a.isupper())"
      ],
      "metadata": {
        "colab": {
          "base_uri": "https://localhost:8080/"
        },
        "id": "0m1xyG6Ehim3",
        "outputId": "efcebb61-d0e9-45b1-9ac6-4b13c44da827"
      },
      "execution_count": null,
      "outputs": [
        {
          "output_type": "stream",
          "name": "stdout",
          "text": [
            "False\n"
          ]
        }
      ]
    },
    {
      "cell_type": "code",
      "source": [
        "print(c.isnumeric())"
      ],
      "metadata": {
        "colab": {
          "base_uri": "https://localhost:8080/"
        },
        "id": "H2ZZTn8bh7JI",
        "outputId": "72e1b77e-962c-49ed-dda0-2c9d38faddf3"
      },
      "execution_count": null,
      "outputs": [
        {
          "output_type": "stream",
          "name": "stdout",
          "text": [
            "True\n"
          ]
        }
      ]
    },
    {
      "cell_type": "code",
      "source": [
        "f = '   '\n",
        "g ='\\n'\n",
        "print(f.isspace())\n",
        "print(g.isspace())"
      ],
      "metadata": {
        "colab": {
          "base_uri": "https://localhost:8080/"
        },
        "id": "gml0Ch5CiKMF",
        "outputId": "6c77a4b7-e246-4c4f-9fde-5bf51cab8bc7"
      },
      "execution_count": null,
      "outputs": [
        {
          "output_type": "stream",
          "name": "stdout",
          "text": [
            "True\n",
            "True\n"
          ]
        }
      ]
    },
    {
      "cell_type": "code",
      "source": [
        "print(a.istitle())"
      ],
      "metadata": {
        "colab": {
          "base_uri": "https://localhost:8080/"
        },
        "id": "fl5LFLk9ilU6",
        "outputId": "3259b226-32c5-4a8d-ef82-10c48532d4ec"
      },
      "execution_count": null,
      "outputs": [
        {
          "output_type": "stream",
          "name": "stdout",
          "text": [
            "False\n"
          ]
        }
      ]
    },
    {
      "cell_type": "code",
      "source": [
        "h='This Flower'"
      ],
      "metadata": {
        "id": "k2BaSwogiyfa"
      },
      "execution_count": null,
      "outputs": []
    },
    {
      "cell_type": "code",
      "source": [
        "print(h.istitle())"
      ],
      "metadata": {
        "colab": {
          "base_uri": "https://localhost:8080/"
        },
        "id": "SIz67A10i7oB",
        "outputId": "4f675bee-294c-4c15-e5af-10d1dd5ee0e4"
      },
      "execution_count": null,
      "outputs": [
        {
          "output_type": "stream",
          "name": "stdout",
          "text": [
            "True\n"
          ]
        }
      ]
    },
    {
      "cell_type": "code",
      "source": [
        "a.upper()"
      ],
      "metadata": {
        "colab": {
          "base_uri": "https://localhost:8080/",
          "height": 35
        },
        "id": "R0cZGhfojAeT",
        "outputId": "2cd4dde1-8ffb-4848-df1d-305690e1bf83"
      },
      "execution_count": null,
      "outputs": [
        {
          "output_type": "execute_result",
          "data": {
            "text/plain": [
              "'THIS IS A STRING WHICH PRETTY LONG STRING'"
            ],
            "application/vnd.google.colaboratory.intrinsic+json": {
              "type": "string"
            }
          },
          "metadata": {},
          "execution_count": 107
        }
      ]
    },
    {
      "cell_type": "code",
      "source": [
        "len(a)"
      ],
      "metadata": {
        "colab": {
          "base_uri": "https://localhost:8080/"
        },
        "id": "1YHxLjnfjIQ4",
        "outputId": "83d1dd81-31ee-4f3d-c613-384606beb27d"
      },
      "execution_count": null,
      "outputs": [
        {
          "output_type": "execute_result",
          "data": {
            "text/plain": [
              "41"
            ]
          },
          "metadata": {},
          "execution_count": 108
        }
      ]
    },
    {
      "cell_type": "code",
      "source": [
        "a.lower()"
      ],
      "metadata": {
        "colab": {
          "base_uri": "https://localhost:8080/",
          "height": 35
        },
        "id": "uC6Vc4nOjS-Y",
        "outputId": "74c7c1a6-d934-44d0-b1c1-0d8c47e5956d"
      },
      "execution_count": null,
      "outputs": [
        {
          "output_type": "execute_result",
          "data": {
            "text/plain": [
              "'this is a string which pretty long string'"
            ],
            "application/vnd.google.colaboratory.intrinsic+json": {
              "type": "string"
            }
          },
          "metadata": {},
          "execution_count": 109
        }
      ]
    },
    {
      "cell_type": "code",
      "source": [
        "i='  This is string  '\n",
        "print(i.lstrip())\n",
        "print(i.rstrip())\n",
        "print(i.strip())"
      ],
      "metadata": {
        "colab": {
          "base_uri": "https://localhost:8080/"
        },
        "id": "rUwRwu4CjVTS",
        "outputId": "d0345b8f-af22-4c37-acc7-b1b03e3e0932"
      },
      "execution_count": null,
      "outputs": [
        {
          "output_type": "stream",
          "name": "stdout",
          "text": [
            "This is string  \n",
            "  This is string\n",
            "This is string\n"
          ]
        }
      ]
    },
    {
      "cell_type": "code",
      "source": [
        "i='  This is string-'\n",
        "print(i.strip('-'))"
      ],
      "metadata": {
        "colab": {
          "base_uri": "https://localhost:8080/"
        },
        "id": "KNDDIzs1j4AT",
        "outputId": "c4c8b0db-5af9-415f-9870-1928732e3873"
      },
      "execution_count": null,
      "outputs": [
        {
          "output_type": "stream",
          "name": "stdout",
          "text": [
            "  This is string\n"
          ]
        }
      ]
    },
    {
      "cell_type": "code",
      "source": [
        "print(a)"
      ],
      "metadata": {
        "colab": {
          "base_uri": "https://localhost:8080/"
        },
        "id": "MOmCMtrAkPaJ",
        "outputId": "45913b81-a6ba-41b6-9ce2-49b73898922a"
      },
      "execution_count": null,
      "outputs": [
        {
          "output_type": "stream",
          "name": "stdout",
          "text": [
            "this is a string which pretty long string\n"
          ]
        }
      ]
    },
    {
      "cell_type": "code",
      "source": [
        "a.split()"
      ],
      "metadata": {
        "colab": {
          "base_uri": "https://localhost:8080/"
        },
        "id": "rfJaHCnwkeRE",
        "outputId": "e7afae1a-eb8c-4dd1-9f24-c73758649da3"
      },
      "execution_count": null,
      "outputs": [
        {
          "output_type": "execute_result",
          "data": {
            "text/plain": [
              "['this', 'is', 'a', 'string', 'which', 'pretty', 'long', 'string']"
            ]
          },
          "metadata": {},
          "execution_count": 116
        }
      ]
    },
    {
      "cell_type": "code",
      "source": [
        "x= a.split()"
      ],
      "metadata": {
        "id": "k3RzEjEbklDl"
      },
      "execution_count": null,
      "outputs": []
    },
    {
      "cell_type": "code",
      "source": [
        "\"-\".join(x)"
      ],
      "metadata": {
        "colab": {
          "base_uri": "https://localhost:8080/",
          "height": 35
        },
        "id": "oEZuA9lCks6t",
        "outputId": "90e05912-e05b-4404-e579-62b85c4f55c0"
      },
      "execution_count": null,
      "outputs": [
        {
          "output_type": "execute_result",
          "data": {
            "text/plain": [
              "'this-is-a-string-which-pretty-long-string'"
            ],
            "application/vnd.google.colaboratory.intrinsic+json": {
              "type": "string"
            }
          },
          "metadata": {},
          "execution_count": 118
        }
      ]
    },
    {
      "cell_type": "code",
      "source": [
        "y = ['santhosh','student']\n",
        "\" is \".join(y)"
      ],
      "metadata": {
        "colab": {
          "base_uri": "https://localhost:8080/",
          "height": 35
        },
        "id": "JRyDYS9yk-gw",
        "outputId": "4c2e65c1-ff8c-41f1-841f-aa42a8b4c8d2"
      },
      "execution_count": null,
      "outputs": [
        {
          "output_type": "execute_result",
          "data": {
            "text/plain": [
              "'santhosh is student'"
            ],
            "application/vnd.google.colaboratory.intrinsic+json": {
              "type": "string"
            }
          },
          "metadata": {},
          "execution_count": 119
        }
      ]
    },
    {
      "cell_type": "code",
      "source": [
        "min(a)\n",
        "max(a)"
      ],
      "metadata": {
        "colab": {
          "base_uri": "https://localhost:8080/",
          "height": 35
        },
        "id": "9-bA-yJAlbWx",
        "outputId": "e11fdfc5-80df-4044-fdba-155e9157f16b"
      },
      "execution_count": null,
      "outputs": [
        {
          "output_type": "execute_result",
          "data": {
            "text/plain": [
              "'y'"
            ],
            "application/vnd.google.colaboratory.intrinsic+json": {
              "type": "string"
            }
          },
          "metadata": {},
          "execution_count": 120
        }
      ]
    },
    {
      "cell_type": "code",
      "source": [
        "min(a)"
      ],
      "metadata": {
        "colab": {
          "base_uri": "https://localhost:8080/",
          "height": 35
        },
        "id": "khfvblsElgL0",
        "outputId": "909dda06-e24f-4da5-f54d-5c12ccb3aeaa"
      },
      "execution_count": null,
      "outputs": [
        {
          "output_type": "execute_result",
          "data": {
            "text/plain": [
              "' '"
            ],
            "application/vnd.google.colaboratory.intrinsic+json": {
              "type": "string"
            }
          },
          "metadata": {},
          "execution_count": 121
        }
      ]
    },
    {
      "cell_type": "code",
      "source": [
        "k = 'aAabcdefZz'\n",
        "print(min(k))"
      ],
      "metadata": {
        "colab": {
          "base_uri": "https://localhost:8080/"
        },
        "id": "OSnsDskIlmY3",
        "outputId": "b1383bf3-ab54-476a-8ea1-6665e3a96886"
      },
      "execution_count": null,
      "outputs": [
        {
          "output_type": "stream",
          "name": "stdout",
          "text": [
            "A\n"
          ]
        }
      ]
    },
    {
      "cell_type": "code",
      "source": [
        "print(max(k))"
      ],
      "metadata": {
        "colab": {
          "base_uri": "https://localhost:8080/"
        },
        "id": "w3fkpjbDl3vl",
        "outputId": "fd47a8c4-4ee2-4a8c-b45d-22bb6fc9456f"
      },
      "execution_count": null,
      "outputs": [
        {
          "output_type": "stream",
          "name": "stdout",
          "text": [
            "z\n"
          ]
        }
      ]
    },
    {
      "cell_type": "code",
      "source": [
        "# replace(old, new [,max] )\n",
        "k.replace('a','p')"
      ],
      "metadata": {
        "colab": {
          "base_uri": "https://localhost:8080/",
          "height": 35
        },
        "id": "epEK6Ce2l588",
        "outputId": "1e5d7b40-899f-4ff6-94e9-ff28059afd2b"
      },
      "execution_count": null,
      "outputs": [
        {
          "output_type": "execute_result",
          "data": {
            "text/plain": [
              "'pApbcdefZz'"
            ],
            "application/vnd.google.colaboratory.intrinsic+json": {
              "type": "string"
            }
          },
          "metadata": {},
          "execution_count": 124
        }
      ]
    },
    {
      "cell_type": "code",
      "source": [
        "k.replace('a','p',1)"
      ],
      "metadata": {
        "colab": {
          "base_uri": "https://localhost:8080/",
          "height": 35
        },
        "id": "F6NHJZZEnQz4",
        "outputId": "e02972c2-9d5d-4518-99be-8e35f826f95f"
      },
      "execution_count": null,
      "outputs": [
        {
          "output_type": "execute_result",
          "data": {
            "text/plain": [
              "'pAabcdefZz'"
            ],
            "application/vnd.google.colaboratory.intrinsic+json": {
              "type": "string"
            }
          },
          "metadata": {},
          "execution_count": 125
        }
      ]
    },
    {
      "cell_type": "code",
      "source": [
        "k.rfind('a')"
      ],
      "metadata": {
        "colab": {
          "base_uri": "https://localhost:8080/"
        },
        "id": "5xHmapBlnYyY",
        "outputId": "9600d1e3-3289-424f-fd96-160a04a3c9df"
      },
      "execution_count": null,
      "outputs": [
        {
          "output_type": "execute_result",
          "data": {
            "text/plain": [
              "2"
            ]
          },
          "metadata": {},
          "execution_count": 126
        }
      ]
    },
    {
      "cell_type": "code",
      "source": [
        "k.find('a')"
      ],
      "metadata": {
        "colab": {
          "base_uri": "https://localhost:8080/"
        },
        "id": "WUMPQQoTnsJ-",
        "outputId": "186c7fc3-57e2-46ff-d503-d56e02e1882d"
      },
      "execution_count": null,
      "outputs": [
        {
          "output_type": "execute_result",
          "data": {
            "text/plain": [
              "0"
            ]
          },
          "metadata": {},
          "execution_count": 128
        }
      ]
    },
    {
      "cell_type": "code",
      "source": [
        "k.rindex('a')\n"
      ],
      "metadata": {
        "colab": {
          "base_uri": "https://localhost:8080/"
        },
        "id": "6vuhhPahnvfr",
        "outputId": "955c1cbb-efa9-4fcf-c379-22d6b37d7e57"
      },
      "execution_count": null,
      "outputs": [
        {
          "output_type": "execute_result",
          "data": {
            "text/plain": [
              "2"
            ]
          },
          "metadata": {},
          "execution_count": 129
        }
      ]
    },
    {
      "cell_type": "code",
      "source": [
        "k"
      ],
      "metadata": {
        "colab": {
          "base_uri": "https://localhost:8080/",
          "height": 35
        },
        "id": "Bcv_xHe8oCBq",
        "outputId": "d25e22bf-595a-4aa4-ba46-3c756a7c7917"
      },
      "execution_count": null,
      "outputs": [
        {
          "output_type": "execute_result",
          "data": {
            "text/plain": [
              "'aAabcdefZz'"
            ],
            "application/vnd.google.colaboratory.intrinsic+json": {
              "type": "string"
            }
          },
          "metadata": {},
          "execution_count": 130
        }
      ]
    },
    {
      "cell_type": "code",
      "source": [
        "b = \"this-is-dash-seperated-string\"\n",
        "b.split('-')"
      ],
      "metadata": {
        "colab": {
          "base_uri": "https://localhost:8080/"
        },
        "id": "js2lazyaoHHJ",
        "outputId": "00d74a3e-0c2b-4650-bcb7-01d0c9222a69"
      },
      "execution_count": null,
      "outputs": [
        {
          "output_type": "execute_result",
          "data": {
            "text/plain": [
              "['this', 'is', 'dash', 'seperated', 'string']"
            ]
          },
          "metadata": {},
          "execution_count": 131
        }
      ]
    },
    {
      "cell_type": "code",
      "source": [
        "b.split('-',2)"
      ],
      "metadata": {
        "colab": {
          "base_uri": "https://localhost:8080/"
        },
        "id": "X0_VXsmYovg8",
        "outputId": "15e3ee6e-d142-402a-9060-f78362d02408"
      },
      "execution_count": null,
      "outputs": [
        {
          "output_type": "execute_result",
          "data": {
            "text/plain": [
              "['this', 'is', 'dash-seperated-string']"
            ]
          },
          "metadata": {},
          "execution_count": 132
        }
      ]
    },
    {
      "cell_type": "code",
      "source": [
        "b.replace('-',' ')"
      ],
      "metadata": {
        "colab": {
          "base_uri": "https://localhost:8080/",
          "height": 35
        },
        "id": "D7tYS7geo4d4",
        "outputId": "f1c4a72c-54c5-461a-e33f-3f4c50624708"
      },
      "execution_count": null,
      "outputs": [
        {
          "output_type": "execute_result",
          "data": {
            "text/plain": [
              "'this is dash seperated string'"
            ],
            "application/vnd.google.colaboratory.intrinsic+json": {
              "type": "string"
            }
          },
          "metadata": {},
          "execution_count": 134
        }
      ]
    },
    {
      "cell_type": "code",
      "source": [
        "# Make a list by splitting the string then repeat each element twice and stitch back with spaces\n",
        "# input = \"this-is-dash-seperated-string\"\n",
        "# output = \"thisthis isis dashdash seperatedseperated stringstring\""
      ],
      "metadata": {
        "id": "VR5QX7CDpDmn"
      },
      "execution_count": null,
      "outputs": []
    },
    {
      "cell_type": "code",
      "source": [
        "b.split('-')"
      ],
      "metadata": {
        "colab": {
          "base_uri": "https://localhost:8080/"
        },
        "id": "mTO4rkU7pLSr",
        "outputId": "239a8739-c7d4-43c0-86f5-80ae38d4d492"
      },
      "execution_count": null,
      "outputs": [
        {
          "output_type": "execute_result",
          "data": {
            "text/plain": [
              "['this', 'is', 'dash', 'seperated', 'string']"
            ]
          },
          "metadata": {},
          "execution_count": 136
        }
      ]
    },
    {
      "cell_type": "code",
      "source": [
        "x=b.split('-')\n",
        "for i in range(len(x)):\n",
        " x[i]= x[i]*2\n",
        "' '.join(x)"
      ],
      "metadata": {
        "colab": {
          "base_uri": "https://localhost:8080/",
          "height": 35
        },
        "id": "vy3vZuFhplZo",
        "outputId": "ca8962cb-47db-4af8-b922-ffa250b17582"
      },
      "execution_count": null,
      "outputs": [
        {
          "output_type": "execute_result",
          "data": {
            "text/plain": [
              "'thisthis isis dashdash seperatedseperated stringstring'"
            ],
            "application/vnd.google.colaboratory.intrinsic+json": {
              "type": "string"
            }
          },
          "metadata": {},
          "execution_count": 140
        }
      ]
    },
    {
      "cell_type": "code",
      "source": [
        "b = ''' this is a\n",
        "test\n",
        "script'''\n",
        "b.splitlines()"
      ],
      "metadata": {
        "colab": {
          "base_uri": "https://localhost:8080/"
        },
        "id": "NpYM_Ti8qPwj",
        "outputId": "5e3634ad-28c1-4e4d-cb47-d52b1866f6c5"
      },
      "execution_count": null,
      "outputs": [
        {
          "output_type": "execute_result",
          "data": {
            "text/plain": [
              "[' this is a', 'test', 'script']"
            ]
          },
          "metadata": {},
          "execution_count": 141
        }
      ]
    },
    {
      "cell_type": "code",
      "source": [
        "e ='eErtT#$&12.34'\n",
        "e.swapcase()"
      ],
      "metadata": {
        "colab": {
          "base_uri": "https://localhost:8080/",
          "height": 35
        },
        "id": "-5U4bjJ0rtrF",
        "outputId": "df395e00-1601-4277-c4b9-97d98fe39009"
      },
      "execution_count": null,
      "outputs": [
        {
          "output_type": "execute_result",
          "data": {
            "text/plain": [
              "'EeRTt#$&12.34'"
            ],
            "application/vnd.google.colaboratory.intrinsic+json": {
              "type": "string"
            }
          },
          "metadata": {},
          "execution_count": 142
        }
      ]
    },
    {
      "cell_type": "code",
      "source": [
        "a='my name is santhosh'\n",
        "a.title()"
      ],
      "metadata": {
        "colab": {
          "base_uri": "https://localhost:8080/",
          "height": 35
        },
        "id": "o3xADr30r-2v",
        "outputId": "4a5f8373-9f34-450a-8aba-5307d9a058ea"
      },
      "execution_count": null,
      "outputs": [
        {
          "output_type": "execute_result",
          "data": {
            "text/plain": [
              "'My Name Is Santhosh'"
            ],
            "application/vnd.google.colaboratory.intrinsic+json": {
              "type": "string"
            }
          },
          "metadata": {},
          "execution_count": 1
        }
      ]
    },
    {
      "cell_type": "code",
      "source": [
        "a = \"string with numbers 123 and symbols .,& and spaces\"\n",
        "symbolsList = [\".\", \",\", \"&\"]\n"
      ],
      "metadata": {
        "id": "-T-80nH9bVeg"
      },
      "execution_count": null,
      "outputs": []
    },
    {
      "cell_type": "code",
      "source": [
        "for char in a:\n",
        "\n",
        "  if char.isnumeric():\n",
        "\n",
        "    print(f'{char} is numeric')\n",
        "  elif char.isalpha():\n",
        "   print(f'{char} is aplhabet')\n",
        "  elif char.isspace():\n",
        "    print(f'{char} is space')\n",
        "  elif char in symbolsList:\n",
        "    print(f'{char} is a symbol')\n"
      ],
      "metadata": {
        "colab": {
          "base_uri": "https://localhost:8080/"
        },
        "id": "u6gbnXrObrWw",
        "outputId": "1bd6f2ce-c7d7-4c04-e693-a7dcd870a06b"
      },
      "execution_count": null,
      "outputs": [
        {
          "output_type": "stream",
          "name": "stdout",
          "text": [
            "s is aplhabet\n",
            "t is aplhabet\n",
            "r is aplhabet\n",
            "i is aplhabet\n",
            "n is aplhabet\n",
            "g is aplhabet\n",
            "  is space\n",
            "w is aplhabet\n",
            "i is aplhabet\n",
            "t is aplhabet\n",
            "h is aplhabet\n",
            "  is space\n",
            "n is aplhabet\n",
            "u is aplhabet\n",
            "m is aplhabet\n",
            "b is aplhabet\n",
            "e is aplhabet\n",
            "r is aplhabet\n",
            "s is aplhabet\n",
            "  is space\n",
            "1 is numeric\n",
            "2 is numeric\n",
            "3 is numeric\n",
            "  is space\n",
            "a is aplhabet\n",
            "n is aplhabet\n",
            "d is aplhabet\n",
            "  is space\n",
            "s is aplhabet\n",
            "y is aplhabet\n",
            "m is aplhabet\n",
            "b is aplhabet\n",
            "o is aplhabet\n",
            "l is aplhabet\n",
            "s is aplhabet\n",
            "  is space\n",
            ". is a symbol\n",
            ", is a symbol\n",
            "& is a symbol\n",
            "  is space\n",
            "a is aplhabet\n",
            "n is aplhabet\n",
            "d is aplhabet\n",
            "  is space\n",
            "s is aplhabet\n",
            "p is aplhabet\n",
            "a is aplhabet\n",
            "c is aplhabet\n",
            "e is aplhabet\n",
            "s is aplhabet\n"
          ]
        }
      ]
    },
    {
      "cell_type": "markdown",
      "source": [
        "#List"
      ],
      "metadata": {
        "id": "bnq-IT3GcBR3"
      }
    },
    {
      "cell_type": "markdown",
      "source": [
        "#Accessing values"
      ],
      "metadata": {
        "id": "RQT62X3WdjHU"
      }
    },
    {
      "cell_type": "code",
      "source": [
        "list1 = ['cats','dogs',23,20]\n",
        "list2 = [1,2,3,4,5,6,7]"
      ],
      "metadata": {
        "id": "GHuEi9I9drU6"
      },
      "execution_count": null,
      "outputs": []
    },
    {
      "cell_type": "code",
      "source": [
        "print(list1[0])"
      ],
      "metadata": {
        "colab": {
          "base_uri": "https://localhost:8080/"
        },
        "id": "6VBEvi1weIUv",
        "outputId": "8bbe390f-bbb7-40ea-cf8e-8c98ab967986"
      },
      "execution_count": null,
      "outputs": [
        {
          "output_type": "stream",
          "name": "stdout",
          "text": [
            "cats\n"
          ]
        }
      ]
    },
    {
      "cell_type": "code",
      "source": [
        "print(list2[1:5])"
      ],
      "metadata": {
        "colab": {
          "base_uri": "https://localhost:8080/"
        },
        "id": "dSPoWHEyeOcY",
        "outputId": "91ddbc41-7b70-4aa5-c810-500123ae9580"
      },
      "execution_count": null,
      "outputs": [
        {
          "output_type": "stream",
          "name": "stdout",
          "text": [
            "[2, 3, 4, 5]\n"
          ]
        }
      ]
    },
    {
      "cell_type": "code",
      "source": [
        "print(list2[::-1])"
      ],
      "metadata": {
        "colab": {
          "base_uri": "https://localhost:8080/"
        },
        "id": "6wfwB4SmeV3F",
        "outputId": "e402add9-ac35-4f50-d0a0-2fc8c21f8d9d"
      },
      "execution_count": null,
      "outputs": [
        {
          "output_type": "stream",
          "name": "stdout",
          "text": [
            "[7, 6, 5, 4, 3, 2, 1]\n"
          ]
        }
      ]
    },
    {
      "cell_type": "code",
      "source": [
        "print(list2[0:-1])"
      ],
      "metadata": {
        "colab": {
          "base_uri": "https://localhost:8080/"
        },
        "id": "e5ByT_zXefSd",
        "outputId": "14bfbbe4-58e3-4470-c991-ef6e46a1e788"
      },
      "execution_count": null,
      "outputs": [
        {
          "output_type": "stream",
          "name": "stdout",
          "text": [
            "[1, 2, 3, 4, 5, 6]\n"
          ]
        }
      ]
    },
    {
      "cell_type": "code",
      "source": [
        "print(list2[0:])"
      ],
      "metadata": {
        "colab": {
          "base_uri": "https://localhost:8080/"
        },
        "id": "8bUsnLSZemDx",
        "outputId": "6ff5c492-2993-41a7-e857-19b6cc9f33ac"
      },
      "execution_count": null,
      "outputs": [
        {
          "output_type": "stream",
          "name": "stdout",
          "text": [
            "[1, 2, 3, 4, 5, 6, 7]\n"
          ]
        }
      ]
    },
    {
      "cell_type": "code",
      "source": [
        "print(list2[0:-1:2])"
      ],
      "metadata": {
        "colab": {
          "base_uri": "https://localhost:8080/"
        },
        "id": "yBk8kNmcet4u",
        "outputId": "7cb60144-b775-41f8-d3b2-e4d4cc68df46"
      },
      "execution_count": null,
      "outputs": [
        {
          "output_type": "stream",
          "name": "stdout",
          "text": [
            "[1, 3, 5]\n"
          ]
        }
      ]
    },
    {
      "cell_type": "code",
      "source": [
        "#list indices must be integers or slices, not float\n",
        "print(list1[\"f\"])"
      ],
      "metadata": {
        "colab": {
          "base_uri": "https://localhost:8080/",
          "height": 169
        },
        "id": "x3dVW-RHe2Xa",
        "outputId": "d85aede3-31e1-4bd9-9135-63db55c66369"
      },
      "execution_count": null,
      "outputs": [
        {
          "output_type": "error",
          "ename": "TypeError",
          "evalue": "ignored",
          "traceback": [
            "\u001b[0;31m---------------------------------------------------------------------------\u001b[0m",
            "\u001b[0;31mTypeError\u001b[0m                                 Traceback (most recent call last)",
            "\u001b[0;32m<ipython-input-14-5145897e5a3f>\u001b[0m in \u001b[0;36m<module>\u001b[0;34m()\u001b[0m\n\u001b[0;32m----> 1\u001b[0;31m \u001b[0mprint\u001b[0m\u001b[0;34m(\u001b[0m\u001b[0mlist1\u001b[0m\u001b[0;34m[\u001b[0m\u001b[0;34m\"f\"\u001b[0m\u001b[0;34m]\u001b[0m\u001b[0;34m)\u001b[0m\u001b[0;34m\u001b[0m\u001b[0;34m\u001b[0m\u001b[0m\n\u001b[0m",
            "\u001b[0;31mTypeError\u001b[0m: list indices must be integers or slices, not str"
          ]
        }
      ]
    },
    {
      "cell_type": "code",
      "source": [
        "print(list1[3.1])"
      ],
      "metadata": {
        "colab": {
          "base_uri": "https://localhost:8080/",
          "height": 169
        },
        "id": "VRvytsQbfAxy",
        "outputId": "a88dc62b-197b-4925-9c75-0f1b2dcfa5de"
      },
      "execution_count": null,
      "outputs": [
        {
          "output_type": "error",
          "ename": "TypeError",
          "evalue": "ignored",
          "traceback": [
            "\u001b[0;31m---------------------------------------------------------------------------\u001b[0m",
            "\u001b[0;31mTypeError\u001b[0m                                 Traceback (most recent call last)",
            "\u001b[0;32m<ipython-input-15-b4696d68c7d7>\u001b[0m in \u001b[0;36m<module>\u001b[0;34m()\u001b[0m\n\u001b[0;32m----> 1\u001b[0;31m \u001b[0mprint\u001b[0m\u001b[0;34m(\u001b[0m\u001b[0mlist1\u001b[0m\u001b[0;34m[\u001b[0m\u001b[0;36m3.1\u001b[0m\u001b[0;34m]\u001b[0m\u001b[0;34m)\u001b[0m\u001b[0;34m\u001b[0m\u001b[0;34m\u001b[0m\u001b[0m\n\u001b[0m",
            "\u001b[0;31mTypeError\u001b[0m: list indices must be integers or slices, not float"
          ]
        }
      ]
    },
    {
      "cell_type": "code",
      "source": [
        "list1.pop()"
      ],
      "metadata": {
        "colab": {
          "base_uri": "https://localhost:8080/"
        },
        "id": "1k8cHYD7fzoR",
        "outputId": "621bfc5d-e6ec-4838-b942-a671d646c7ea"
      },
      "execution_count": null,
      "outputs": [
        {
          "output_type": "execute_result",
          "data": {
            "text/plain": [
              "20"
            ]
          },
          "metadata": {},
          "execution_count": 16
        }
      ]
    },
    {
      "cell_type": "code",
      "source": [
        "list1"
      ],
      "metadata": {
        "colab": {
          "base_uri": "https://localhost:8080/"
        },
        "id": "rUTXjvG-gAk0",
        "outputId": "b8cfb56e-f2ce-460e-a0e3-7b9276290e9d"
      },
      "execution_count": null,
      "outputs": [
        {
          "output_type": "execute_result",
          "data": {
            "text/plain": [
              "['cats', 'dogs', 23]"
            ]
          },
          "metadata": {},
          "execution_count": 17
        }
      ]
    },
    {
      "cell_type": "markdown",
      "source": [
        "#Updating List"
      ],
      "metadata": {
        "id": "q39gR_JUfKXV"
      }
    },
    {
      "cell_type": "code",
      "source": [
        "list1[2]=23\n",
        "print(list1)"
      ],
      "metadata": {
        "colab": {
          "base_uri": "https://localhost:8080/"
        },
        "id": "M-dBXKlTfq0l",
        "outputId": "62e89de8-3874-4207-d67d-489216dd4a51"
      },
      "execution_count": null,
      "outputs": [
        {
          "output_type": "stream",
          "name": "stdout",
          "text": [
            "['cats', 'dogs', 23]\n"
          ]
        }
      ]
    },
    {
      "cell_type": "code",
      "source": [
        "list1[5]=10\n",
        "print(list1)"
      ],
      "metadata": {
        "colab": {
          "base_uri": "https://localhost:8080/",
          "height": 187
        },
        "id": "OUREqreYgxOl",
        "outputId": "0ad0b38c-9265-4791-ceb2-9c9ae21f184a"
      },
      "execution_count": null,
      "outputs": [
        {
          "output_type": "error",
          "ename": "IndexError",
          "evalue": "ignored",
          "traceback": [
            "\u001b[0;31m---------------------------------------------------------------------------\u001b[0m",
            "\u001b[0;31mIndexError\u001b[0m                                Traceback (most recent call last)",
            "\u001b[0;32m<ipython-input-21-22a971ccdba2>\u001b[0m in \u001b[0;36m<module>\u001b[0;34m()\u001b[0m\n\u001b[0;32m----> 1\u001b[0;31m \u001b[0mlist1\u001b[0m\u001b[0;34m[\u001b[0m\u001b[0;36m5\u001b[0m\u001b[0;34m]\u001b[0m\u001b[0;34m=\u001b[0m\u001b[0;36m10\u001b[0m\u001b[0;34m\u001b[0m\u001b[0;34m\u001b[0m\u001b[0m\n\u001b[0m\u001b[1;32m      2\u001b[0m \u001b[0mprint\u001b[0m\u001b[0;34m(\u001b[0m\u001b[0mlist1\u001b[0m\u001b[0;34m)\u001b[0m\u001b[0;34m\u001b[0m\u001b[0;34m\u001b[0m\u001b[0m\n",
            "\u001b[0;31mIndexError\u001b[0m: list assignment index out of range"
          ]
        }
      ]
    },
    {
      "cell_type": "code",
      "source": [
        "list1[-1]=8\n",
        "print(list1)"
      ],
      "metadata": {
        "colab": {
          "base_uri": "https://localhost:8080/"
        },
        "id": "wGcM4YqXhO3m",
        "outputId": "745318c5-80fa-45e3-d97d-1a4e21808aa3"
      },
      "execution_count": null,
      "outputs": [
        {
          "output_type": "stream",
          "name": "stdout",
          "text": [
            "['cats', 'dogs', 8]\n"
          ]
        }
      ]
    },
    {
      "cell_type": "code",
      "source": [
        "a=[]\n",
        "a[-1]=8\n",
        "print(a)"
      ],
      "metadata": {
        "colab": {
          "base_uri": "https://localhost:8080/",
          "height": 205
        },
        "id": "JPJ0L7tzhZbx",
        "outputId": "0e121964-220f-4e0f-89f4-f24f71986dc3"
      },
      "execution_count": null,
      "outputs": [
        {
          "output_type": "error",
          "ename": "IndexError",
          "evalue": "ignored",
          "traceback": [
            "\u001b[0;31m---------------------------------------------------------------------------\u001b[0m",
            "\u001b[0;31mIndexError\u001b[0m                                Traceback (most recent call last)",
            "\u001b[0;32m<ipython-input-23-03deb857bcb5>\u001b[0m in \u001b[0;36m<module>\u001b[0;34m()\u001b[0m\n\u001b[1;32m      1\u001b[0m \u001b[0ma\u001b[0m\u001b[0;34m=\u001b[0m\u001b[0;34m[\u001b[0m\u001b[0;34m]\u001b[0m\u001b[0;34m\u001b[0m\u001b[0;34m\u001b[0m\u001b[0m\n\u001b[0;32m----> 2\u001b[0;31m \u001b[0ma\u001b[0m\u001b[0;34m[\u001b[0m\u001b[0;34m-\u001b[0m\u001b[0;36m1\u001b[0m\u001b[0;34m]\u001b[0m\u001b[0;34m=\u001b[0m\u001b[0;36m8\u001b[0m\u001b[0;34m\u001b[0m\u001b[0;34m\u001b[0m\u001b[0m\n\u001b[0m\u001b[1;32m      3\u001b[0m \u001b[0mprint\u001b[0m\u001b[0;34m(\u001b[0m\u001b[0ma\u001b[0m\u001b[0;34m)\u001b[0m\u001b[0;34m\u001b[0m\u001b[0;34m\u001b[0m\u001b[0m\n",
            "\u001b[0;31mIndexError\u001b[0m: list assignment index out of range"
          ]
        }
      ]
    },
    {
      "cell_type": "code",
      "source": [
        "list1[2:4]=[1,2]\n",
        "print(list1)"
      ],
      "metadata": {
        "colab": {
          "base_uri": "https://localhost:8080/"
        },
        "id": "6S8gqjLshlI-",
        "outputId": "a30dc8e2-b522-4227-b729-8b06bab98574"
      },
      "execution_count": null,
      "outputs": [
        {
          "output_type": "stream",
          "name": "stdout",
          "text": [
            "['cats', 'dogs', 1, 2]\n"
          ]
        }
      ]
    },
    {
      "cell_type": "code",
      "source": [
        "list1[2:4]=[7,8,9]\n",
        "print(list1)"
      ],
      "metadata": {
        "colab": {
          "base_uri": "https://localhost:8080/"
        },
        "id": "K-YrP4EBh3yQ",
        "outputId": "90382be8-fe84-4c0d-97fd-7161d708186a"
      },
      "execution_count": null,
      "outputs": [
        {
          "output_type": "stream",
          "name": "stdout",
          "text": [
            "['cats', 'dogs', 7, 8, 9]\n"
          ]
        }
      ]
    },
    {
      "cell_type": "code",
      "source": [
        "list1[2:3]=[17,18,19,10,11]\n",
        "print(list1)"
      ],
      "metadata": {
        "colab": {
          "base_uri": "https://localhost:8080/"
        },
        "id": "TGrGmgTyifv6",
        "outputId": "bd401e82-c991-445e-fa0d-640a574bd53f"
      },
      "execution_count": null,
      "outputs": [
        {
          "output_type": "stream",
          "name": "stdout",
          "text": [
            "['cats', 'dogs', 17, 18, 19, 10, 11, 8, 9]\n"
          ]
        }
      ]
    },
    {
      "cell_type": "code",
      "source": [
        "list1[1]=['a','b','c','d']\n",
        "print(list1)"
      ],
      "metadata": {
        "colab": {
          "base_uri": "https://localhost:8080/"
        },
        "id": "MfR1arpzixSv",
        "outputId": "b516aaa5-d46c-440e-8c61-5d96e2cc701f"
      },
      "execution_count": null,
      "outputs": [
        {
          "output_type": "stream",
          "name": "stdout",
          "text": [
            "['cats', ['a', 'b', 'c', 'd'], 17, 18, 19, 10, 11, 8, 9]\n"
          ]
        }
      ]
    },
    {
      "cell_type": "code",
      "source": [
        "list1[1]\n"
      ],
      "metadata": {
        "colab": {
          "base_uri": "https://localhost:8080/"
        },
        "id": "fqYFAnbSjO0Z",
        "outputId": "e58ef083-42ba-41b0-83a3-6e2b7f639354"
      },
      "execution_count": null,
      "outputs": [
        {
          "output_type": "execute_result",
          "data": {
            "text/plain": [
              "['a', 'b', 'c', 'd']"
            ]
          },
          "metadata": {},
          "execution_count": 28
        }
      ]
    },
    {
      "cell_type": "code",
      "source": [
        "list1[1][2]"
      ],
      "metadata": {
        "colab": {
          "base_uri": "https://localhost:8080/",
          "height": 35
        },
        "id": "DTBKbb3djhkT",
        "outputId": "48868967-b916-437b-9589-47ca949c1626"
      },
      "execution_count": null,
      "outputs": [
        {
          "output_type": "execute_result",
          "data": {
            "text/plain": [
              "'c'"
            ],
            "application/vnd.google.colaboratory.intrinsic+json": {
              "type": "string"
            }
          },
          "metadata": {},
          "execution_count": 29
        }
      ]
    },
    {
      "cell_type": "code",
      "source": [
        "list1=['cats', 'dogs', 1, 2]\n",
        "list1[1:]=['a', 'b', 'c', 'd']\n",
        "print(list1)"
      ],
      "metadata": {
        "colab": {
          "base_uri": "https://localhost:8080/"
        },
        "id": "B6FZEMoxjrnE",
        "outputId": "425e384e-c2d3-4db3-fa25-9b24fd6a9fe4"
      },
      "execution_count": null,
      "outputs": [
        {
          "output_type": "stream",
          "name": "stdout",
          "text": [
            "['cats', 'a', 'b', 'c', 'd']\n"
          ]
        }
      ]
    },
    {
      "cell_type": "code",
      "source": [
        "list1=['cats', 'dogs', 1, 2]\n",
        "list1[1:3]=['a', 'b', 'c', 'd']\n",
        "print(list1)"
      ],
      "metadata": {
        "colab": {
          "base_uri": "https://localhost:8080/"
        },
        "id": "QBsn6Fs1kUmh",
        "outputId": "d86c65d3-2ad3-4e20-be52-af9085aa9151"
      },
      "execution_count": null,
      "outputs": [
        {
          "output_type": "stream",
          "name": "stdout",
          "text": [
            "['cats', 'a', 'b', 'c', 'd', 2]\n"
          ]
        }
      ]
    },
    {
      "cell_type": "code",
      "source": [
        "list1=['cats', 'dogs', 1, 2]\n",
        "list1[:]=['a', 'b', 'c', 'd']\n",
        "print(list1)"
      ],
      "metadata": {
        "colab": {
          "base_uri": "https://localhost:8080/"
        },
        "id": "GY-VvxACkqFG",
        "outputId": "a3ff3937-12de-4400-ed8d-90633cbdb695"
      },
      "execution_count": null,
      "outputs": [
        {
          "output_type": "stream",
          "name": "stdout",
          "text": [
            "['a', 'b', 'c', 'd']\n"
          ]
        }
      ]
    },
    {
      "cell_type": "code",
      "source": [
        "list1=['cats', 'dogs', 1, 2]\n",
        "list1[:]=['a']\n",
        "print(list1)"
      ],
      "metadata": {
        "colab": {
          "base_uri": "https://localhost:8080/"
        },
        "id": "37XLnJfUlFV0",
        "outputId": "29dbc017-b4f4-4ab3-d6a7-5c23dd0ec4e6"
      },
      "execution_count": null,
      "outputs": [
        {
          "output_type": "stream",
          "name": "stdout",
          "text": [
            "['a']\n"
          ]
        }
      ]
    },
    {
      "cell_type": "code",
      "source": [
        "list1=['cats', 'dogs', 1, 2]\n",
        "list1[:]=[]\n",
        "print(list1)"
      ],
      "metadata": {
        "colab": {
          "base_uri": "https://localhost:8080/"
        },
        "id": "2XGBJLSFlObL",
        "outputId": "d6013362-01e4-44f4-b507-6b437eb9d0c2"
      },
      "execution_count": null,
      "outputs": [
        {
          "output_type": "stream",
          "name": "stdout",
          "text": [
            "[]\n"
          ]
        }
      ]
    },
    {
      "cell_type": "markdown",
      "source": [
        "#Delete List Items"
      ],
      "metadata": {
        "id": "V_ulpqS5lYeF"
      }
    },
    {
      "cell_type": "code",
      "source": [
        "list1=['cats', 'dogs', 1, 2]\n",
        "list1.pop()\n",
        "print(list1)"
      ],
      "metadata": {
        "colab": {
          "base_uri": "https://localhost:8080/"
        },
        "id": "61b4ljD5lkoP",
        "outputId": "a8b11cd4-ff00-41c3-ee0d-c7448f16722e"
      },
      "execution_count": null,
      "outputs": [
        {
          "output_type": "stream",
          "name": "stdout",
          "text": [
            "['cats', 'dogs', 1]\n"
          ]
        }
      ]
    },
    {
      "cell_type": "code",
      "source": [
        "del list1[2]"
      ],
      "metadata": {
        "id": "rPXt0HM3lzwZ"
      },
      "execution_count": null,
      "outputs": []
    },
    {
      "cell_type": "code",
      "source": [
        "print(list1)"
      ],
      "metadata": {
        "colab": {
          "base_uri": "https://localhost:8080/"
        },
        "id": "s2skpTvUmBxl",
        "outputId": "dad61457-98bf-46ed-953d-c3007a5d979f"
      },
      "execution_count": null,
      "outputs": [
        {
          "output_type": "stream",
          "name": "stdout",
          "text": [
            "['cats', 'dogs']\n"
          ]
        }
      ]
    },
    {
      "cell_type": "markdown",
      "source": [
        "#Basic Cell Operations"
      ],
      "metadata": {
        "id": "sRDA7wQEmEkT"
      }
    },
    {
      "cell_type": "code",
      "source": [
        "a = [1,2,3]\n",
        "len(a)"
      ],
      "metadata": {
        "colab": {
          "base_uri": "https://localhost:8080/"
        },
        "id": "QG0zfkKhryMv",
        "outputId": "0f16d6a9-2dba-4e9f-9d36-921b836a2d0e"
      },
      "execution_count": null,
      "outputs": [
        {
          "output_type": "execute_result",
          "data": {
            "text/plain": [
              "3"
            ]
          },
          "metadata": {},
          "execution_count": 1
        }
      ]
    },
    {
      "cell_type": "code",
      "source": [
        "a = [1,2,3]\n",
        "b = [4,5,6]\n",
        "c=a+b\n",
        "print(c)"
      ],
      "metadata": {
        "colab": {
          "base_uri": "https://localhost:8080/"
        },
        "id": "pF8CokpPsTKD",
        "outputId": "f0f380eb-b23e-4e37-d59e-ce6a7146941c"
      },
      "execution_count": null,
      "outputs": [
        {
          "output_type": "stream",
          "name": "stdout",
          "text": [
            "[1, 2, 3, 4, 5, 6]\n"
          ]
        }
      ]
    },
    {
      "cell_type": "code",
      "source": [
        "['str']*4"
      ],
      "metadata": {
        "colab": {
          "base_uri": "https://localhost:8080/"
        },
        "id": "LCSHBUHrslvw",
        "outputId": "ed3c3db7-fea1-4847-f5e1-2ea58593e7ad"
      },
      "execution_count": null,
      "outputs": [
        {
          "output_type": "execute_result",
          "data": {
            "text/plain": [
              "['str', 'str', 'str', 'str']"
            ]
          },
          "metadata": {},
          "execution_count": 4
        }
      ]
    },
    {
      "cell_type": "code",
      "source": [
        "x = [0]*10\n",
        "print(x)"
      ],
      "metadata": {
        "colab": {
          "base_uri": "https://localhost:8080/"
        },
        "id": "yLtf3Flgs7sQ",
        "outputId": "03aa2c76-5a91-4d0c-e490-ffb7007512fa"
      },
      "execution_count": null,
      "outputs": [
        {
          "output_type": "stream",
          "name": "stdout",
          "text": [
            "[0, 0, 0, 0, 0, 0, 0, 0, 0, 0]\n"
          ]
        }
      ]
    },
    {
      "cell_type": "code",
      "source": [
        "for i in range(len(x)):\n",
        "  x[i]+=5\n",
        "  print(x[i])\n",
        "  \n",
        "  \n"
      ],
      "metadata": {
        "colab": {
          "base_uri": "https://localhost:8080/"
        },
        "id": "ZTrFYXxAtPOK",
        "outputId": "6c08367a-705a-4189-f161-84b0d819a2e7"
      },
      "execution_count": null,
      "outputs": [
        {
          "output_type": "stream",
          "name": "stdout",
          "text": [
            "5\n",
            "5\n",
            "5\n",
            "5\n",
            "5\n",
            "5\n",
            "5\n",
            "5\n",
            "5\n",
            "5\n"
          ]
        }
      ]
    },
    {
      "cell_type": "code",
      "source": [
        "print(x)"
      ],
      "metadata": {
        "colab": {
          "base_uri": "https://localhost:8080/"
        },
        "id": "9A7zWjgttq28",
        "outputId": "49ab2c1d-dddf-4f66-b015-a3cc6cde439c"
      },
      "execution_count": null,
      "outputs": [
        {
          "output_type": "stream",
          "name": "stdout",
          "text": [
            "[5, 5, 5, 5, 5, 5, 5, 5, 5, 5]\n"
          ]
        }
      ]
    },
    {
      "cell_type": "code",
      "source": [
        "3 in x"
      ],
      "metadata": {
        "colab": {
          "base_uri": "https://localhost:8080/"
        },
        "id": "CotojXgTvky5",
        "outputId": "7121056b-72e4-443b-cb8d-1894fd6d597f"
      },
      "execution_count": null,
      "outputs": [
        {
          "output_type": "execute_result",
          "data": {
            "text/plain": [
              "False"
            ]
          },
          "metadata": {},
          "execution_count": 23
        }
      ]
    },
    {
      "cell_type": "code",
      "source": [
        "for x in [1,2,3]: print(x)"
      ],
      "metadata": {
        "colab": {
          "base_uri": "https://localhost:8080/"
        },
        "id": "KnaBTeFgv5W-",
        "outputId": "10eb85ec-409d-433c-9080-c3aba41cd393"
      },
      "execution_count": null,
      "outputs": [
        {
          "output_type": "stream",
          "name": "stdout",
          "text": [
            "1\n",
            "2\n",
            "3\n"
          ]
        }
      ]
    },
    {
      "cell_type": "code",
      "source": [
        "for x in [1,2,3]: print(x,end=' ')"
      ],
      "metadata": {
        "colab": {
          "base_uri": "https://localhost:8080/"
        },
        "id": "lFBMAaqEwIR0",
        "outputId": "a3b12e04-f990-4936-f4ec-cc3ee7a01619"
      },
      "execution_count": null,
      "outputs": [
        {
          "output_type": "stream",
          "name": "stdout",
          "text": [
            "1 2 3 "
          ]
        }
      ]
    },
    {
      "cell_type": "markdown",
      "source": [
        "#Built in Functions and Methods"
      ],
      "metadata": {
        "id": "iqh6NbkHwZkD"
      }
    },
    {
      "cell_type": "code",
      "source": [
        "a = [1,2,3,4]"
      ],
      "metadata": {
        "id": "gZ-L-WU-wn5O"
      },
      "execution_count": null,
      "outputs": []
    },
    {
      "cell_type": "code",
      "source": [
        "len(a)"
      ],
      "metadata": {
        "colab": {
          "base_uri": "https://localhost:8080/"
        },
        "id": "vtWHTFU0w1Fp",
        "outputId": "bea164ee-30d0-42e5-c008-bcb330080a46"
      },
      "execution_count": null,
      "outputs": [
        {
          "output_type": "execute_result",
          "data": {
            "text/plain": [
              "4"
            ]
          },
          "metadata": {},
          "execution_count": 28
        }
      ]
    },
    {
      "cell_type": "code",
      "source": [
        "max(a)"
      ],
      "metadata": {
        "colab": {
          "base_uri": "https://localhost:8080/"
        },
        "id": "7IeqT-YCw5JG",
        "outputId": "83492904-2622-45f7-df4b-26eee91f63ce"
      },
      "execution_count": null,
      "outputs": [
        {
          "output_type": "execute_result",
          "data": {
            "text/plain": [
              "4"
            ]
          },
          "metadata": {},
          "execution_count": 29
        }
      ]
    },
    {
      "cell_type": "code",
      "source": [
        "min(a)"
      ],
      "metadata": {
        "colab": {
          "base_uri": "https://localhost:8080/"
        },
        "id": "RaeCP9Sxw9rq",
        "outputId": "fd1bd22a-9dde-4799-a17c-f088bf91cbc7"
      },
      "execution_count": null,
      "outputs": [
        {
          "output_type": "execute_result",
          "data": {
            "text/plain": [
              "1"
            ]
          },
          "metadata": {},
          "execution_count": 30
        }
      ]
    },
    {
      "cell_type": "code",
      "source": [
        "#Calculate length of list without using len function.\n",
        "c=0\n",
        "for i in a:\n",
        "  c+=1\n",
        "print(c)"
      ],
      "metadata": {
        "colab": {
          "base_uri": "https://localhost:8080/"
        },
        "id": "xGcpUKMQw_eX",
        "outputId": "9f61e7b6-4ea4-467a-839a-38d8fa73b9e4"
      },
      "execution_count": null,
      "outputs": [
        {
          "output_type": "stream",
          "name": "stdout",
          "text": [
            "4\n"
          ]
        }
      ]
    },
    {
      "cell_type": "code",
      "source": [
        "# Write a code to calculate maximun element in list\n",
        "l = [1, 2, 8, 3, 5,  4, 99, 0, 1, 5]\n",
        "maxval = 0\n",
        "for x in l:\n",
        "  if x>maxval:\n",
        "    maxval=x\n",
        "print(maxval)"
      ],
      "metadata": {
        "colab": {
          "base_uri": "https://localhost:8080/"
        },
        "id": "Lncrta8yxb_t",
        "outputId": "4ef3cec2-50a1-4c99-d7c0-646f31f3571d"
      },
      "execution_count": null,
      "outputs": [
        {
          "output_type": "stream",
          "name": "stdout",
          "text": [
            "99\n"
          ]
        }
      ]
    },
    {
      "cell_type": "code",
      "source": [
        "# Write a code to calculate mininum element in list\n",
        "l = [-1, 1, 2, 8, 3, 5, -77, 4, -200, -201, 99, 0, 1, 5, -100, -200]\n",
        "minval=0\n",
        "for x in l:\n",
        "  if x<minval:\n",
        "    minval=x\n",
        "print(minval)"
      ],
      "metadata": {
        "colab": {
          "base_uri": "https://localhost:8080/"
        },
        "id": "xJE09kchytCk",
        "outputId": "f3f77115-7913-4bf8-9fe4-476bf6228694"
      },
      "execution_count": null,
      "outputs": [
        {
          "output_type": "stream",
          "name": "stdout",
          "text": [
            "-201\n"
          ]
        }
      ]
    },
    {
      "cell_type": "code",
      "source": [
        "d = [4, 5,6]\n",
        "d.append(23)\n",
        "d.append(45)\n",
        "print(d)"
      ],
      "metadata": {
        "colab": {
          "base_uri": "https://localhost:8080/"
        },
        "id": "vPQa3CjjzMfa",
        "outputId": "e6757551-d1d9-46da-c40d-d0b8d09dae70"
      },
      "execution_count": null,
      "outputs": [
        {
          "output_type": "stream",
          "name": "stdout",
          "text": [
            "[4, 5, 6, 23, 45]\n"
          ]
        }
      ]
    },
    {
      "cell_type": "code",
      "source": [
        "d = [4, 5,6]\n",
        "d.insert(2,100)\n",
        "print(d)"
      ],
      "metadata": {
        "colab": {
          "base_uri": "https://localhost:8080/"
        },
        "id": "zmQqFfNVzYUr",
        "outputId": "7e54ba65-9fa9-4c0f-a529-87e39b6dfe82"
      },
      "execution_count": null,
      "outputs": [
        {
          "output_type": "stream",
          "name": "stdout",
          "text": [
            "[4, 5, 100, 6]\n"
          ]
        }
      ]
    },
    {
      "cell_type": "code",
      "source": [
        "d = [4, 5,6]\n",
        "d.insert(80,100)\n",
        "print(d)"
      ],
      "metadata": {
        "colab": {
          "base_uri": "https://localhost:8080/"
        },
        "id": "x6MQmipGz2ZO",
        "outputId": "e1e37a60-f336-4552-be7c-b17b65f9a82e"
      },
      "execution_count": null,
      "outputs": [
        {
          "output_type": "stream",
          "name": "stdout",
          "text": [
            "[4, 5, 6, 100]\n"
          ]
        }
      ]
    },
    {
      "cell_type": "code",
      "source": [
        "d.count(6)"
      ],
      "metadata": {
        "colab": {
          "base_uri": "https://localhost:8080/"
        },
        "id": "DXmhZTEiz7DJ",
        "outputId": "c989bda3-10cc-4e1b-a747-a6e5243369c0"
      },
      "execution_count": null,
      "outputs": [
        {
          "output_type": "execute_result",
          "data": {
            "text/plain": [
              "1"
            ]
          },
          "metadata": {},
          "execution_count": 43
        }
      ]
    },
    {
      "cell_type": "code",
      "source": [
        "a = [4,5,6]\n",
        "b = [7,8,9]\n",
        "a.extend(b)\n",
        "print(a)"
      ],
      "metadata": {
        "colab": {
          "base_uri": "https://localhost:8080/"
        },
        "id": "09sNez940Ofj",
        "outputId": "b87b736b-25fc-4890-8119-a3ce0a663e7d"
      },
      "execution_count": null,
      "outputs": [
        {
          "output_type": "stream",
          "name": "stdout",
          "text": [
            "[4, 5, 6, 7, 8, 9]\n"
          ]
        }
      ]
    },
    {
      "cell_type": "code",
      "source": [
        "a.index(8)"
      ],
      "metadata": {
        "colab": {
          "base_uri": "https://localhost:8080/"
        },
        "id": "0rj1daTv0fph",
        "outputId": "1710da4b-dbcc-4856-a98e-4a9c70167653"
      },
      "execution_count": null,
      "outputs": [
        {
          "output_type": "execute_result",
          "data": {
            "text/plain": [
              "4"
            ]
          },
          "metadata": {},
          "execution_count": 47
        }
      ]
    },
    {
      "cell_type": "code",
      "source": [
        "a.index(10)"
      ],
      "metadata": {
        "colab": {
          "base_uri": "https://localhost:8080/",
          "height": 169
        },
        "id": "U5V9B5z_0vUo",
        "outputId": "2c8d2fb2-b6cd-4d61-f972-546a0a051d09"
      },
      "execution_count": null,
      "outputs": [
        {
          "output_type": "error",
          "ename": "ValueError",
          "evalue": "ignored",
          "traceback": [
            "\u001b[0;31m---------------------------------------------------------------------------\u001b[0m",
            "\u001b[0;31mValueError\u001b[0m                                Traceback (most recent call last)",
            "\u001b[0;32m<ipython-input-48-be2bb036fbfd>\u001b[0m in \u001b[0;36m<module>\u001b[0;34m()\u001b[0m\n\u001b[0;32m----> 1\u001b[0;31m \u001b[0ma\u001b[0m\u001b[0;34m.\u001b[0m\u001b[0mindex\u001b[0m\u001b[0;34m(\u001b[0m\u001b[0;36m10\u001b[0m\u001b[0;34m)\u001b[0m\u001b[0;34m\u001b[0m\u001b[0;34m\u001b[0m\u001b[0m\n\u001b[0m",
            "\u001b[0;31mValueError\u001b[0m: 10 is not in list"
          ]
        }
      ]
    },
    {
      "cell_type": "code",
      "source": [
        "a.remove(8)\n",
        "print(a)"
      ],
      "metadata": {
        "colab": {
          "base_uri": "https://localhost:8080/"
        },
        "id": "A1iSDRNM1sj4",
        "outputId": "2c07797c-1c34-431f-f321-7fcecb2efb89"
      },
      "execution_count": null,
      "outputs": [
        {
          "output_type": "stream",
          "name": "stdout",
          "text": [
            "[4, 5, 6, 7, 9]\n"
          ]
        }
      ]
    },
    {
      "cell_type": "code",
      "source": [
        "a.remove(10)"
      ],
      "metadata": {
        "colab": {
          "base_uri": "https://localhost:8080/",
          "height": 169
        },
        "id": "7fGmwKkv16ih",
        "outputId": "73ef4a1a-0964-4327-e058-129c4af2200f"
      },
      "execution_count": null,
      "outputs": [
        {
          "output_type": "error",
          "ename": "ValueError",
          "evalue": "ignored",
          "traceback": [
            "\u001b[0;31m---------------------------------------------------------------------------\u001b[0m",
            "\u001b[0;31mValueError\u001b[0m                                Traceback (most recent call last)",
            "\u001b[0;32m<ipython-input-50-72b3315abecc>\u001b[0m in \u001b[0;36m<module>\u001b[0;34m()\u001b[0m\n\u001b[0;32m----> 1\u001b[0;31m \u001b[0ma\u001b[0m\u001b[0;34m.\u001b[0m\u001b[0mremove\u001b[0m\u001b[0;34m(\u001b[0m\u001b[0;36m10\u001b[0m\u001b[0;34m)\u001b[0m\u001b[0;34m\u001b[0m\u001b[0;34m\u001b[0m\u001b[0m\n\u001b[0m",
            "\u001b[0;31mValueError\u001b[0m: list.remove(x): x not in list"
          ]
        }
      ]
    },
    {
      "cell_type": "code",
      "source": [
        "i=7\n",
        "if i in a:\n",
        "  a.remove(i)\n",
        "print(a)"
      ],
      "metadata": {
        "id": "b732-zDb1-2n"
      },
      "execution_count": null,
      "outputs": []
    },
    {
      "cell_type": "code",
      "source": [
        "i=10\n",
        "if i in a:\n",
        "  a.remove(i)\n",
        "print(a)"
      ],
      "metadata": {
        "colab": {
          "base_uri": "https://localhost:8080/"
        },
        "id": "Q02tPJ0g2Yj3",
        "outputId": "453c796a-4919-43d2-99cb-ff1f98e0fec6"
      },
      "execution_count": null,
      "outputs": [
        {
          "output_type": "stream",
          "name": "stdout",
          "text": [
            "[4, 5, 6, 9]\n"
          ]
        }
      ]
    },
    {
      "cell_type": "code",
      "source": [
        "a.reverse()\n",
        "print(a)"
      ],
      "metadata": {
        "colab": {
          "base_uri": "https://localhost:8080/"
        },
        "id": "u4FfvUPL2iHF",
        "outputId": "9f9f766c-0387-47f0-e61d-eacd1a87dd05"
      },
      "execution_count": null,
      "outputs": [
        {
          "output_type": "stream",
          "name": "stdout",
          "text": [
            "[9, 6, 5, 4]\n"
          ]
        }
      ]
    },
    {
      "cell_type": "code",
      "source": [
        "l = [1, 2, 3, -1, -1, -4, 1, 8, 9]\n",
        "l.sort()\n",
        "print(l)\n"
      ],
      "metadata": {
        "colab": {
          "base_uri": "https://localhost:8080/"
        },
        "id": "_5W4j_9F25cg",
        "outputId": "9092173f-cb45-4184-ee75-0dc6da000087"
      },
      "execution_count": null,
      "outputs": [
        {
          "output_type": "stream",
          "name": "stdout",
          "text": [
            "[-4, -1, -1, 1, 1, 2, 3, 8, 9]\n"
          ]
        }
      ]
    },
    {
      "cell_type": "code",
      "source": [
        "l = [1, 2, 3, -1, -1, -4, 1, 8, 9]\n",
        "l.sort(reverse=True)\n",
        "print(l)"
      ],
      "metadata": {
        "colab": {
          "base_uri": "https://localhost:8080/"
        },
        "id": "oX8Zr6ui3Sdf",
        "outputId": "33fd8e01-5c2c-48b1-c8ec-54370539a9b7"
      },
      "execution_count": null,
      "outputs": [
        {
          "output_type": "stream",
          "name": "stdout",
          "text": [
            "[9, 8, 3, 2, 1, 1, -1, -1, -4]\n"
          ]
        }
      ]
    },
    {
      "cell_type": "code",
      "source": [
        "l = [1, 2, 3, -1, -1, -4, 1, 8, 9]\n",
        "l.sort(reverse=False)\n",
        "print(l)"
      ],
      "metadata": {
        "colab": {
          "base_uri": "https://localhost:8080/"
        },
        "id": "osWpzM0Y3jqy",
        "outputId": "2ab38368-9f09-4be0-8635-d655fe80d2ff"
      },
      "execution_count": null,
      "outputs": [
        {
          "output_type": "stream",
          "name": "stdout",
          "text": [
            "[-4, -1, -1, 1, 1, 2, 3, 8, 9]\n"
          ]
        }
      ]
    },
    {
      "cell_type": "code",
      "source": [
        "l = [-1, 1, 2, 8, 3, 5, -77, 4, -200, -201, 99, 0, 1, 5, -100, -200]\n",
        "l.insert(5,1000)\n",
        "print(l)\n",
        "l.pop()\n",
        "print(l)\n",
        "print(len(l),max(l),min(l))\n",
        "print(l.count(-200))\n",
        "print(l.index(-200))\n",
        "l.append(1000)\n",
        "print(l)\n",
        "l.remove(1000)\n",
        "print(l)\n",
        "l.reverse()\n",
        "print(l)\n",
        "l.sort(reverse=True)\n",
        "print(l)\n"
      ],
      "metadata": {
        "colab": {
          "base_uri": "https://localhost:8080/"
        },
        "id": "aq6jEIzw3pCJ",
        "outputId": "b2b7da80-aa30-47c3-8dcd-43fe65339847"
      },
      "execution_count": null,
      "outputs": [
        {
          "output_type": "stream",
          "name": "stdout",
          "text": [
            "[-1, 1, 2, 8, 3, 1000, 5, -77, 4, -200, -201, 99, 0, 1, 5, -100, -200]\n",
            "[-1, 1, 2, 8, 3, 1000, 5, -77, 4, -200, -201, 99, 0, 1, 5, -100]\n",
            "16 1000 -201\n",
            "1\n",
            "9\n",
            "[-1, 1, 2, 8, 3, 1000, 5, -77, 4, -200, -201, 99, 0, 1, 5, -100, 1000]\n",
            "[-1, 1, 2, 8, 3, 5, -77, 4, -200, -201, 99, 0, 1, 5, -100, 1000]\n",
            "[1000, -100, 5, 1, 0, 99, -201, -200, 4, -77, 5, 3, 8, 2, 1, -1]\n",
            "[1000, 99, 8, 5, 5, 4, 3, 2, 1, 1, 0, -1, -77, -100, -200, -201]\n"
          ]
        }
      ]
    },
    {
      "cell_type": "markdown",
      "source": [
        "#Tuples"
      ],
      "metadata": {
        "id": "oCC6d0Xr4fcw"
      }
    },
    {
      "cell_type": "code",
      "source": [
        "tup1 = ()\n",
        "print(tup1)"
      ],
      "metadata": {
        "colab": {
          "base_uri": "https://localhost:8080/"
        },
        "id": "ENf-1bNi1Udh",
        "outputId": "5db66170-ae61-4734-b74f-a1312676e60a"
      },
      "execution_count": null,
      "outputs": [
        {
          "output_type": "stream",
          "name": "stdout",
          "text": [
            "()\n"
          ]
        }
      ]
    },
    {
      "cell_type": "code",
      "source": [
        "tup1 = (1)\n",
        "print(type(tup1))\n",
        "print(tup1)\n"
      ],
      "metadata": {
        "colab": {
          "base_uri": "https://localhost:8080/"
        },
        "id": "8xi6Vb5x1mnh",
        "outputId": "581eba03-93f6-4780-89fc-8cee45057a32"
      },
      "execution_count": null,
      "outputs": [
        {
          "output_type": "stream",
          "name": "stdout",
          "text": [
            "<class 'int'>\n",
            "1\n"
          ]
        }
      ]
    },
    {
      "cell_type": "code",
      "source": [
        "tup1 = (1,)\n",
        "print(type(tup1))\n",
        "print(tup1)"
      ],
      "metadata": {
        "colab": {
          "base_uri": "https://localhost:8080/"
        },
        "id": "zEqxb-VA2BOe",
        "outputId": "173a2262-12a1-40bc-ac6d-8764bb1a8560"
      },
      "execution_count": null,
      "outputs": [
        {
          "output_type": "stream",
          "name": "stdout",
          "text": [
            "<class 'tuple'>\n",
            "(1,)\n"
          ]
        }
      ]
    },
    {
      "cell_type": "code",
      "source": [
        "tup1 = ('cat', 'dog',34, 21)\n",
        "print(tup1[1])"
      ],
      "metadata": {
        "colab": {
          "base_uri": "https://localhost:8080/"
        },
        "id": "YcuqfRQV2L7g",
        "outputId": "9479d3bc-843c-4886-e6ae-d11acece7a77"
      },
      "execution_count": null,
      "outputs": [
        {
          "output_type": "stream",
          "name": "stdout",
          "text": [
            "dog\n"
          ]
        }
      ]
    },
    {
      "cell_type": "code",
      "source": [
        "tup1[5]"
      ],
      "metadata": {
        "colab": {
          "base_uri": "https://localhost:8080/",
          "height": 169
        },
        "id": "dLln98sU2b_u",
        "outputId": "93f7adc4-2e76-45d2-ad05-1f5ff56b3738"
      },
      "execution_count": null,
      "outputs": [
        {
          "output_type": "error",
          "ename": "IndexError",
          "evalue": "ignored",
          "traceback": [
            "\u001b[0;31m---------------------------------------------------------------------------\u001b[0m",
            "\u001b[0;31mIndexError\u001b[0m                                Traceback (most recent call last)",
            "\u001b[0;32m<ipython-input-8-bdb113dad986>\u001b[0m in \u001b[0;36m<module>\u001b[0;34m()\u001b[0m\n\u001b[0;32m----> 1\u001b[0;31m \u001b[0mtup1\u001b[0m\u001b[0;34m[\u001b[0m\u001b[0;36m5\u001b[0m\u001b[0;34m]\u001b[0m\u001b[0;34m\u001b[0m\u001b[0;34m\u001b[0m\u001b[0m\n\u001b[0m",
            "\u001b[0;31mIndexError\u001b[0m: tuple index out of range"
          ]
        }
      ]
    },
    {
      "cell_type": "code",
      "source": [
        "a=(1,2,3)\n",
        "print(a[1])\n",
        "print(a[1:])\n",
        "print(a[-1])"
      ],
      "metadata": {
        "colab": {
          "base_uri": "https://localhost:8080/"
        },
        "id": "dIcJl4em2pjg",
        "outputId": "bdc769f5-2c8d-4e6e-9994-3e9453a491fa"
      },
      "execution_count": null,
      "outputs": [
        {
          "output_type": "stream",
          "name": "stdout",
          "text": [
            "2\n",
            "(2, 3)\n",
            "3\n"
          ]
        }
      ]
    },
    {
      "cell_type": "code",
      "source": [
        "a[3:0:-1]\n"
      ],
      "metadata": {
        "colab": {
          "base_uri": "https://localhost:8080/"
        },
        "id": "29wu9y4j2zSu",
        "outputId": "ec1427b9-f9a3-48a1-90ce-e09f441e18fd"
      },
      "execution_count": null,
      "outputs": [
        {
          "output_type": "execute_result",
          "data": {
            "text/plain": [
              "(3, 2)"
            ]
          },
          "metadata": {},
          "execution_count": 14
        }
      ]
    },
    {
      "cell_type": "code",
      "source": [
        "print(a[3::-1])"
      ],
      "metadata": {
        "colab": {
          "base_uri": "https://localhost:8080/"
        },
        "id": "G3_-yOM13hhS",
        "outputId": "e73808e7-0d95-4d4e-b7ab-67f606ccce2d"
      },
      "execution_count": null,
      "outputs": [
        {
          "output_type": "stream",
          "name": "stdout",
          "text": [
            "(3, 2, 1)\n"
          ]
        }
      ]
    },
    {
      "cell_type": "code",
      "source": [
        "print(a[::-1])"
      ],
      "metadata": {
        "colab": {
          "base_uri": "https://localhost:8080/"
        },
        "id": "XbFlPeUU3v2p",
        "outputId": "435ec308-664c-4f73-b60d-6c7673bb523d"
      },
      "execution_count": null,
      "outputs": [
        {
          "output_type": "stream",
          "name": "stdout",
          "text": [
            "(3, 2, 1)\n"
          ]
        }
      ]
    },
    {
      "cell_type": "code",
      "source": [
        "# Tuples are immutable so tuple[indx] = value will not work\n",
        "tup1[3]=2"
      ],
      "metadata": {
        "colab": {
          "base_uri": "https://localhost:8080/",
          "height": 187
        },
        "id": "vfcrYf9A31s_",
        "outputId": "e7873945-1db6-47ca-dc84-f1a00908802a"
      },
      "execution_count": null,
      "outputs": [
        {
          "output_type": "error",
          "ename": "TypeError",
          "evalue": "ignored",
          "traceback": [
            "\u001b[0;31m---------------------------------------------------------------------------\u001b[0m",
            "\u001b[0;31mTypeError\u001b[0m                                 Traceback (most recent call last)",
            "\u001b[0;32m<ipython-input-18-d2831e2ab633>\u001b[0m in \u001b[0;36m<module>\u001b[0;34m()\u001b[0m\n\u001b[1;32m      1\u001b[0m \u001b[0;31m# Tuples are immutable so tuple[indx] = value will not work\u001b[0m\u001b[0;34m\u001b[0m\u001b[0;34m\u001b[0m\u001b[0;34m\u001b[0m\u001b[0m\n\u001b[0;32m----> 2\u001b[0;31m \u001b[0mtup1\u001b[0m\u001b[0;34m[\u001b[0m\u001b[0;36m3\u001b[0m\u001b[0;34m]\u001b[0m\u001b[0;34m=\u001b[0m\u001b[0;36m2\u001b[0m\u001b[0;34m\u001b[0m\u001b[0;34m\u001b[0m\u001b[0m\n\u001b[0m",
            "\u001b[0;31mTypeError\u001b[0m: 'tuple' object does not support item assignment"
          ]
        }
      ]
    },
    {
      "cell_type": "code",
      "source": [
        "tup1 = tup1 +(2,3)\n",
        "print(tup1)"
      ],
      "metadata": {
        "colab": {
          "base_uri": "https://localhost:8080/"
        },
        "id": "3yAOXui23_mH",
        "outputId": "79fada2c-c800-4f97-b6f1-fea3eb7cef10"
      },
      "execution_count": null,
      "outputs": [
        {
          "output_type": "stream",
          "name": "stdout",
          "text": [
            "('cat', 'dog', 34, 21, 2, 3)\n"
          ]
        }
      ]
    },
    {
      "cell_type": "code",
      "source": [
        "# concatenating a single number will also be done by concatenating\n",
        "# a tuple of len==1\n",
        "tup1 = tup1 +(2)\n",
        "print(tup1)"
      ],
      "metadata": {
        "colab": {
          "base_uri": "https://localhost:8080/",
          "height": 223
        },
        "id": "3at0qUEK4moY",
        "outputId": "2cc2dead-6f4a-4ff6-fa44-27ecfb0e4137"
      },
      "execution_count": null,
      "outputs": [
        {
          "output_type": "error",
          "ename": "TypeError",
          "evalue": "ignored",
          "traceback": [
            "\u001b[0;31m---------------------------------------------------------------------------\u001b[0m",
            "\u001b[0;31mTypeError\u001b[0m                                 Traceback (most recent call last)",
            "\u001b[0;32m<ipython-input-23-14e10ec029b3>\u001b[0m in \u001b[0;36m<module>\u001b[0;34m()\u001b[0m\n\u001b[1;32m      1\u001b[0m \u001b[0;31m# concatenating a single number will also be done by concatenating\u001b[0m\u001b[0;34m\u001b[0m\u001b[0;34m\u001b[0m\u001b[0;34m\u001b[0m\u001b[0m\n\u001b[1;32m      2\u001b[0m \u001b[0;31m# a tuple of len==1\u001b[0m\u001b[0;34m\u001b[0m\u001b[0;34m\u001b[0m\u001b[0;34m\u001b[0m\u001b[0m\n\u001b[0;32m----> 3\u001b[0;31m \u001b[0mtup1\u001b[0m \u001b[0;34m=\u001b[0m \u001b[0mtup1\u001b[0m \u001b[0;34m+\u001b[0m\u001b[0;34m(\u001b[0m\u001b[0;36m2\u001b[0m\u001b[0;34m)\u001b[0m\u001b[0;34m\u001b[0m\u001b[0;34m\u001b[0m\u001b[0m\n\u001b[0m\u001b[1;32m      4\u001b[0m \u001b[0mprint\u001b[0m\u001b[0;34m(\u001b[0m\u001b[0mtup1\u001b[0m\u001b[0;34m)\u001b[0m\u001b[0;34m\u001b[0m\u001b[0;34m\u001b[0m\u001b[0m\n",
            "\u001b[0;31mTypeError\u001b[0m: can only concatenate tuple (not \"int\") to tuple"
          ]
        }
      ]
    },
    {
      "cell_type": "code",
      "source": [
        "tup1 = tup1 +(2,)\n",
        "print(tup1)"
      ],
      "metadata": {
        "colab": {
          "base_uri": "https://localhost:8080/"
        },
        "id": "iqnAG6dq4t1C",
        "outputId": "31a40849-2bc0-4860-970f-264cb0bb7635"
      },
      "execution_count": null,
      "outputs": [
        {
          "output_type": "stream",
          "name": "stdout",
          "text": [
            "('cat', 'dog', 34, 21, 2, 3, 2, 2)\n"
          ]
        }
      ]
    },
    {
      "cell_type": "code",
      "source": [
        "del tup1\n",
        "print(tup1)"
      ],
      "metadata": {
        "colab": {
          "base_uri": "https://localhost:8080/",
          "height": 187
        },
        "id": "Ud0URlgR5ADI",
        "outputId": "5706dd02-99eb-4cd6-b7a9-1f566e00dd5d"
      },
      "execution_count": null,
      "outputs": [
        {
          "output_type": "error",
          "ename": "NameError",
          "evalue": "ignored",
          "traceback": [
            "\u001b[0;31m---------------------------------------------------------------------------\u001b[0m",
            "\u001b[0;31mNameError\u001b[0m                                 Traceback (most recent call last)",
            "\u001b[0;32m<ipython-input-25-aed842374e0c>\u001b[0m in \u001b[0;36m<module>\u001b[0;34m()\u001b[0m\n\u001b[1;32m      1\u001b[0m \u001b[0;32mdel\u001b[0m \u001b[0mtup1\u001b[0m\u001b[0;34m\u001b[0m\u001b[0;34m\u001b[0m\u001b[0m\n\u001b[0;32m----> 2\u001b[0;31m \u001b[0mprint\u001b[0m\u001b[0;34m(\u001b[0m\u001b[0mtup1\u001b[0m\u001b[0;34m)\u001b[0m\u001b[0;34m\u001b[0m\u001b[0;34m\u001b[0m\u001b[0m\n\u001b[0m",
            "\u001b[0;31mNameError\u001b[0m: name 'tup1' is not defined"
          ]
        }
      ]
    },
    {
      "cell_type": "code",
      "source": [
        "tup1 = ('cat', 'dog', 34, 21, 2, 3, 2, 2)\n",
        "len(tup1)"
      ],
      "metadata": {
        "colab": {
          "base_uri": "https://localhost:8080/"
        },
        "id": "hFus2cFo5Po_",
        "outputId": "d55967f8-c66d-4143-b0f9-41ec9d31f0a0"
      },
      "execution_count": null,
      "outputs": [
        {
          "output_type": "execute_result",
          "data": {
            "text/plain": [
              "8"
            ]
          },
          "metadata": {},
          "execution_count": 26
        }
      ]
    },
    {
      "cell_type": "code",
      "source": [
        "(3,)*5"
      ],
      "metadata": {
        "colab": {
          "base_uri": "https://localhost:8080/"
        },
        "id": "cMDnS_rK5cSJ",
        "outputId": "1d74dc40-be08-4e8b-d96f-3ed675c7a0e3"
      },
      "execution_count": null,
      "outputs": [
        {
          "output_type": "execute_result",
          "data": {
            "text/plain": [
              "(3, 3, 3, 3, 3)"
            ]
          },
          "metadata": {},
          "execution_count": 28
        }
      ]
    },
    {
      "cell_type": "code",
      "source": [
        " 3 in tup1"
      ],
      "metadata": {
        "colab": {
          "base_uri": "https://localhost:8080/"
        },
        "id": "3XDoCh9S5lQ2",
        "outputId": "64385a67-839c-4050-de64-d36d1e176031"
      },
      "execution_count": null,
      "outputs": [
        {
          "output_type": "execute_result",
          "data": {
            "text/plain": [
              "True"
            ]
          },
          "metadata": {},
          "execution_count": 29
        }
      ]
    },
    {
      "cell_type": "code",
      "source": [
        "tup1={1,2,3}\n",
        "print(max(tup1))\n",
        "print(min(tup1))"
      ],
      "metadata": {
        "colab": {
          "base_uri": "https://localhost:8080/"
        },
        "id": "GixCTczE51Yh",
        "outputId": "c0201d14-42be-49d5-e56f-c6f1312c4f3d"
      },
      "execution_count": null,
      "outputs": [
        {
          "output_type": "stream",
          "name": "stdout",
          "text": [
            "3\n",
            "1\n"
          ]
        }
      ]
    },
    {
      "cell_type": "markdown",
      "source": [
        "#Dictionaries"
      ],
      "metadata": {
        "id": "eaG7SzBn55UU"
      }
    },
    {
      "cell_type": "markdown",
      "source": [
        "As of Python version 3.7, dictionaries are ordered. In Python 3.6 and earlier, dictionaries are unordered.\n"
      ],
      "metadata": {
        "id": "zmSCItoF6MRg"
      }
    },
    {
      "cell_type": "code",
      "source": [
        "d ={}\n",
        "print(type(d))"
      ],
      "metadata": {
        "colab": {
          "base_uri": "https://localhost:8080/"
        },
        "id": "1Z6bEM076Uf4",
        "outputId": "113871aa-bd45-4468-eae2-36c25c620712"
      },
      "execution_count": null,
      "outputs": [
        {
          "output_type": "stream",
          "name": "stdout",
          "text": [
            "<class 'dict'>\n"
          ]
        }
      ]
    },
    {
      "cell_type": "code",
      "source": [
        "d={'key1':[1,2,3]}\n",
        "print(d)"
      ],
      "metadata": {
        "colab": {
          "base_uri": "https://localhost:8080/"
        },
        "id": "Z4NEoEvV6mX7",
        "outputId": "8e2fce4f-19a0-444f-96b7-f58cf9db23fd"
      },
      "execution_count": null,
      "outputs": [
        {
          "output_type": "stream",
          "name": "stdout",
          "text": [
            "{'key1': [1, 2, 3]}\n"
          ]
        }
      ]
    },
    {
      "cell_type": "code",
      "source": [
        "d={'key1':[1,2,3], \"key 2 \": {1,2,3}, 1:2, 2:45, (1,2,4):{'a':1, 9:0}, 2.1 :3.1}\n",
        "print(d)"
      ],
      "metadata": {
        "colab": {
          "base_uri": "https://localhost:8080/"
        },
        "id": "3qe0rEVl6-kr",
        "outputId": "fd71a4b5-bd7c-4530-c4bf-f12713a5a3dd"
      },
      "execution_count": null,
      "outputs": [
        {
          "output_type": "stream",
          "name": "stdout",
          "text": [
            "{'key1': [1, 2, 3], 'key 2 ': {1, 2, 3}, 1: 2, 2: 45, (1, 2, 4): {'a': 1, 9: 0}, 2.1: 3.1}\n"
          ]
        }
      ]
    },
    {
      "cell_type": "code",
      "source": [
        "print(d.items())"
      ],
      "metadata": {
        "colab": {
          "base_uri": "https://localhost:8080/"
        },
        "id": "fpWCGIVP71CM",
        "outputId": "f0699e1f-0370-4a1a-a9d0-f6b475e91090"
      },
      "execution_count": null,
      "outputs": [
        {
          "output_type": "stream",
          "name": "stdout",
          "text": [
            "dict_items([('key1', [1, 2, 3]), ('key 2 ', {1, 2, 3}), (1, 2), (2, 45), ((1, 2, 4), {'a': 1, 9: 0}), (2.1, 3.1)])\n"
          ]
        }
      ]
    },
    {
      "cell_type": "code",
      "source": [
        "print(d.keys())"
      ],
      "metadata": {
        "colab": {
          "base_uri": "https://localhost:8080/"
        },
        "id": "sAlfTjtr8HkO",
        "outputId": "ae24af34-9f15-46d3-8db9-20b9868b975c"
      },
      "execution_count": null,
      "outputs": [
        {
          "output_type": "stream",
          "name": "stdout",
          "text": [
            "dict_keys(['key1', 'key 2 ', 1, 2, (1, 2, 4), 2.1])\n"
          ]
        }
      ]
    },
    {
      "cell_type": "code",
      "source": [
        "print(d.values())"
      ],
      "metadata": {
        "colab": {
          "base_uri": "https://localhost:8080/"
        },
        "id": "ntY-b43N8emm",
        "outputId": "d3c20478-752e-4f50-a31b-a4ad0372073b"
      },
      "execution_count": null,
      "outputs": [
        {
          "output_type": "stream",
          "name": "stdout",
          "text": [
            "dict_values([[1, 2, 3], {1, 2, 3}, 2, 45, {'a': 1, 9: 0}, 3.1])\n"
          ]
        }
      ]
    },
    {
      "cell_type": "code",
      "source": [
        "d['key1']"
      ],
      "metadata": {
        "colab": {
          "base_uri": "https://localhost:8080/"
        },
        "id": "KiIrauil8j4z",
        "outputId": "07890ba0-a0b9-4f3a-d3e0-b05b4dabdc6d"
      },
      "execution_count": null,
      "outputs": [
        {
          "output_type": "execute_result",
          "data": {
            "text/plain": [
              "[1, 2, 3]"
            ]
          },
          "metadata": {},
          "execution_count": 42
        }
      ]
    },
    {
      "cell_type": "code",
      "source": [
        "d[(1,2,4)]"
      ],
      "metadata": {
        "colab": {
          "base_uri": "https://localhost:8080/"
        },
        "id": "Rs0mRB1u86qO",
        "outputId": "9a95a049-aee0-459c-c1ce-33d629d0ae9f"
      },
      "execution_count": null,
      "outputs": [
        {
          "output_type": "execute_result",
          "data": {
            "text/plain": [
              "{9: 0, 'a': 1}"
            ]
          },
          "metadata": {},
          "execution_count": 43
        }
      ]
    },
    {
      "cell_type": "code",
      "source": [
        "d[(1,2,4)][9]"
      ],
      "metadata": {
        "colab": {
          "base_uri": "https://localhost:8080/"
        },
        "id": "rrMN-qyZ9Ukb",
        "outputId": "1efd9d22-1d8e-4df9-8d64-775a995fe433"
      },
      "execution_count": null,
      "outputs": [
        {
          "output_type": "execute_result",
          "data": {
            "text/plain": [
              "0"
            ]
          },
          "metadata": {},
          "execution_count": 44
        }
      ]
    },
    {
      "cell_type": "code",
      "source": [
        "d['key3']"
      ],
      "metadata": {
        "colab": {
          "base_uri": "https://localhost:8080/",
          "height": 169
        },
        "id": "Nbme3fW_9pC-",
        "outputId": "130740be-3af8-47d6-88e3-07bc566026ad"
      },
      "execution_count": null,
      "outputs": [
        {
          "output_type": "error",
          "ename": "KeyError",
          "evalue": "ignored",
          "traceback": [
            "\u001b[0;31m---------------------------------------------------------------------------\u001b[0m",
            "\u001b[0;31mKeyError\u001b[0m                                  Traceback (most recent call last)",
            "\u001b[0;32m<ipython-input-45-9b4e56484e72>\u001b[0m in \u001b[0;36m<module>\u001b[0;34m()\u001b[0m\n\u001b[0;32m----> 1\u001b[0;31m \u001b[0md\u001b[0m\u001b[0;34m[\u001b[0m\u001b[0;34m'key3'\u001b[0m\u001b[0;34m]\u001b[0m\u001b[0;34m\u001b[0m\u001b[0;34m\u001b[0m\u001b[0m\n\u001b[0m",
            "\u001b[0;31mKeyError\u001b[0m: 'key3'"
          ]
        }
      ]
    },
    {
      "cell_type": "code",
      "source": [
        "key = 'key 2 '\n",
        "if key in d:\n",
        "  print(d[key])\n"
      ],
      "metadata": {
        "colab": {
          "base_uri": "https://localhost:8080/"
        },
        "id": "EiRFmdgk9542",
        "outputId": "6976112c-da6f-4a98-e60d-1d8f617791f6"
      },
      "execution_count": null,
      "outputs": [
        {
          "output_type": "stream",
          "name": "stdout",
          "text": [
            "{1, 2, 3}\n"
          ]
        }
      ]
    },
    {
      "cell_type": "markdown",
      "source": [
        "#Looping over dictionaries"
      ],
      "metadata": {
        "id": "tuwL9swz-Wg8"
      }
    },
    {
      "cell_type": "code",
      "source": [
        "d.keys()"
      ],
      "metadata": {
        "colab": {
          "base_uri": "https://localhost:8080/"
        },
        "id": "wXRlpQmp-6gy",
        "outputId": "e968ca8c-5ec5-480b-82b9-1b58e8256cf6"
      },
      "execution_count": null,
      "outputs": [
        {
          "output_type": "execute_result",
          "data": {
            "text/plain": [
              "dict_keys(['key1', 'key 2 ', 1, 2, (1, 2, 4), 2.1])"
            ]
          },
          "metadata": {},
          "execution_count": 48
        }
      ]
    },
    {
      "cell_type": "code",
      "source": [
        "for key in d.keys():\n",
        "  print(key)"
      ],
      "metadata": {
        "colab": {
          "base_uri": "https://localhost:8080/"
        },
        "id": "CiuF4HPn_Bjk",
        "outputId": "95293fd8-7303-43c7-8908-c5ee20e0d78d"
      },
      "execution_count": null,
      "outputs": [
        {
          "output_type": "stream",
          "name": "stdout",
          "text": [
            "key1\n",
            "key 2 \n",
            "1\n",
            "2\n",
            "(1, 2, 4)\n",
            "2.1\n"
          ]
        }
      ]
    },
    {
      "cell_type": "code",
      "source": [
        "d.values()\n"
      ],
      "metadata": {
        "colab": {
          "base_uri": "https://localhost:8080/"
        },
        "id": "S4vFSM_v_Tn1",
        "outputId": "92edbda3-b9eb-482c-d07c-73f9231a273a"
      },
      "execution_count": null,
      "outputs": [
        {
          "output_type": "execute_result",
          "data": {
            "text/plain": [
              "dict_values([[1, 2, 3], {1, 2, 3}, 2, 45, {'a': 1, 9: 0}, 3.1])"
            ]
          },
          "metadata": {},
          "execution_count": 50
        }
      ]
    },
    {
      "cell_type": "code",
      "source": [
        "for value in d.values():\n",
        "  print(value)"
      ],
      "metadata": {
        "id": "pz9rzcBa_dXZ",
        "outputId": "81b2b515-3541-4884-b81d-f6a0efa532ff",
        "colab": {
          "base_uri": "https://localhost:8080/"
        }
      },
      "execution_count": null,
      "outputs": [
        {
          "output_type": "stream",
          "name": "stdout",
          "text": [
            "[1, 2, 3]\n",
            "{1, 2, 3}\n",
            "2\n",
            "45\n",
            "{'a': 1, 9: 0}\n",
            "3.1\n"
          ]
        }
      ]
    },
    {
      "cell_type": "code",
      "source": [
        "d.items()"
      ],
      "metadata": {
        "id": "pkKcXT8m_pYf",
        "outputId": "14f14ad9-337a-4d64-aa96-c421ca26cf72",
        "colab": {
          "base_uri": "https://localhost:8080/"
        }
      },
      "execution_count": null,
      "outputs": [
        {
          "output_type": "execute_result",
          "data": {
            "text/plain": [
              "dict_items([('key1', [1, 2, 3]), ('key 2 ', {1, 2, 3}), (1, 2), (2, 45), ((1, 2, 4), {'a': 1, 9: 0}), (2.1, 3.1)])"
            ]
          },
          "metadata": {},
          "execution_count": 53
        }
      ]
    },
    {
      "cell_type": "code",
      "source": [
        "for key, value in d.items():\n",
        "  print(key,value)"
      ],
      "metadata": {
        "id": "7WELdpWD_-j5",
        "colab": {
          "base_uri": "https://localhost:8080/"
        },
        "outputId": "aa994ac8-952b-4395-d0b7-310a7392e86d"
      },
      "execution_count": null,
      "outputs": [
        {
          "output_type": "stream",
          "name": "stdout",
          "text": [
            "key1 [1, 2, 3]\n",
            "key 2  {1, 2, 3}\n",
            "1 2\n",
            "2 45\n",
            "(1, 2, 4) {'a': 1, 9: 0}\n",
            "2.1 3.1\n"
          ]
        }
      ]
    },
    {
      "cell_type": "code",
      "source": [
        "for key in d.keys():\n",
        "  print(d[key])"
      ],
      "metadata": {
        "colab": {
          "base_uri": "https://localhost:8080/"
        },
        "id": "3nxJ1gTdAZio",
        "outputId": "2d0bc9a9-3e98-41b8-9650-bd6ddb93c0d2"
      },
      "execution_count": null,
      "outputs": [
        {
          "output_type": "stream",
          "name": "stdout",
          "text": [
            "[1, 2, 3]\n",
            "{1, 2, 3}\n",
            "2\n",
            "45\n",
            "{'a': 1, 9: 0}\n",
            "3.1\n"
          ]
        }
      ]
    },
    {
      "cell_type": "markdown",
      "source": [
        "#Update dictionary"
      ],
      "metadata": {
        "id": "vLQ-Tji8AptS"
      }
    },
    {
      "cell_type": "code",
      "source": [
        "d = {}"
      ],
      "metadata": {
        "id": "IkjJKLBWRmMG"
      },
      "execution_count": null,
      "outputs": []
    },
    {
      "cell_type": "code",
      "source": [
        "d[2]='san'\n",
        "print(d)\n"
      ],
      "metadata": {
        "colab": {
          "base_uri": "https://localhost:8080/"
        },
        "id": "1nYA83vIRvy2",
        "outputId": "9312ab6e-367d-4ce8-f813-d8c578a6cee1"
      },
      "execution_count": null,
      "outputs": [
        {
          "output_type": "stream",
          "name": "stdout",
          "text": [
            "{2: 'san'}\n"
          ]
        }
      ]
    },
    {
      "cell_type": "code",
      "source": [
        "d['cat']='white'\n",
        "print(d)"
      ],
      "metadata": {
        "colab": {
          "base_uri": "https://localhost:8080/"
        },
        "id": "f6tlkUWLSGHK",
        "outputId": "39bc58c0-186a-4b8c-f070-535ca66ad4e3"
      },
      "execution_count": null,
      "outputs": [
        {
          "output_type": "stream",
          "name": "stdout",
          "text": [
            "{2: 'san', 'cat': 'white'}\n"
          ]
        }
      ]
    },
    {
      "cell_type": "code",
      "source": [
        "d={'key1':[1,2,3], \"key 2 \": {1,2,3}, 1:2, 2:45, (1,2,4):{'a':1, 9:0}, 2.1 :3.1}\n",
        "print(d)"
      ],
      "metadata": {
        "colab": {
          "base_uri": "https://localhost:8080/"
        },
        "id": "5jdUcTt1SUVJ",
        "outputId": "95225729-388a-40f8-816d-7bae750c41a0"
      },
      "execution_count": null,
      "outputs": [
        {
          "output_type": "stream",
          "name": "stdout",
          "text": [
            "{'key1': [1, 2, 3], 'key 2 ': {1, 2, 3}, 1: 2, 2: 45, (1, 2, 4): {'a': 1, 9: 0}, 2.1: 3.1}\n"
          ]
        }
      ]
    },
    {
      "cell_type": "code",
      "source": [
        "dict_ = {\"key1\": [1, 2, 3], \n",
        "         \"key2\": (1, 2, 3),\n",
        "         1: 1,\n",
        "         2: 45,\n",
        "         (1, 2, 4): {\"a\": 1, 9:0},\n",
        "         2.1: 3.1\n",
        "         }\n",
        "print(dict_)"
      ],
      "metadata": {
        "colab": {
          "base_uri": "https://localhost:8080/"
        },
        "id": "wZeA69lGSvyo",
        "outputId": "ba3daaa0-b55e-4b80-92e4-c464051e0d77"
      },
      "execution_count": null,
      "outputs": [
        {
          "output_type": "stream",
          "name": "stdout",
          "text": [
            "{'key1': [1, 2, 3], 'key2': (1, 2, 3), 1: 1, 2: 45, (1, 2, 4): {'a': 1, 9: 0}, 2.1: 3.1}\n"
          ]
        }
      ]
    },
    {
      "cell_type": "code",
      "source": [
        "dict_['key3']=[99,11,1]\n",
        "print(dict_)"
      ],
      "metadata": {
        "colab": {
          "base_uri": "https://localhost:8080/"
        },
        "id": "-yfETy5bTbFW",
        "outputId": "90117c0a-2b99-4098-8dc6-d67b6539be03"
      },
      "execution_count": null,
      "outputs": [
        {
          "output_type": "stream",
          "name": "stdout",
          "text": [
            "{'key1': [1, 2, 3], 'key2': (1, 2, 3), 1: 1, 2: 45, (1, 2, 4): {'a': 1, 9: 0}, 2.1: 3.1, 'key3': [99, 11, 1]}\n"
          ]
        }
      ]
    },
    {
      "cell_type": "code",
      "source": [
        "dict_['key3']='test'\n",
        "print(dict_)"
      ],
      "metadata": {
        "colab": {
          "base_uri": "https://localhost:8080/"
        },
        "id": "Q4VeKm7FT5Cx",
        "outputId": "a833eba7-c47b-48fe-abfe-505814c0c623"
      },
      "execution_count": null,
      "outputs": [
        {
          "output_type": "stream",
          "name": "stdout",
          "text": [
            "{'key1': [1, 2, 3], 'key2': (1, 2, 3), 1: 1, 2: 45, (1, 2, 4): {'a': 1, 9: 0}, 2.1: 3.1, 'key3': 'test'}\n"
          ]
        }
      ]
    },
    {
      "cell_type": "code",
      "source": [
        "# Write a program to increase all the integer values in the dictionary by 5\n",
        "dict1 = {'key1': 34, 'key2': \"cat\", 'key3': 3.1, 'key4': 67}\n",
        "for key in dict1:\n",
        "  if type(dict1[key])== int:\n",
        "    dict1[key]+=5\n",
        "print(dict1)"
      ],
      "metadata": {
        "colab": {
          "base_uri": "https://localhost:8080/"
        },
        "id": "Vfa78-G5UYcd",
        "outputId": "9af5e69d-8744-487b-872e-0000bf428e8f"
      },
      "execution_count": null,
      "outputs": [
        {
          "output_type": "stream",
          "name": "stdout",
          "text": [
            "{'key1': 39, 'key2': 'cat', 'key3': 3.1, 'key4': 72}\n"
          ]
        }
      ]
    },
    {
      "cell_type": "markdown",
      "source": [
        "#Delete dictionary elements\n"
      ],
      "metadata": {
        "id": "oplMZEj6WhJJ"
      }
    },
    {
      "cell_type": "code",
      "source": [
        "dict1 = {'key1': 34, 'key2': \"cat\", 'key3': 3.1, 'key4': 67}\n"
      ],
      "metadata": {
        "id": "BVIWvcyvWt_C"
      },
      "execution_count": null,
      "outputs": []
    },
    {
      "cell_type": "code",
      "source": [
        "del dict1['key3']\n",
        "print(dict1)"
      ],
      "metadata": {
        "colab": {
          "base_uri": "https://localhost:8080/"
        },
        "id": "HfCZcoTyW7vV",
        "outputId": "7960cc5d-d0a5-43cb-ac4e-0c667fad8f1c"
      },
      "execution_count": null,
      "outputs": [
        {
          "output_type": "stream",
          "name": "stdout",
          "text": [
            "{'key1': 34, 'key2': 'cat', 'key4': 67}\n"
          ]
        }
      ]
    },
    {
      "cell_type": "code",
      "source": [
        "dict1.clear()\n",
        "print(dict1)"
      ],
      "metadata": {
        "colab": {
          "base_uri": "https://localhost:8080/"
        },
        "id": "xBDsEujdXL6e",
        "outputId": "b555c457-0670-4b03-8b28-8383e3b0b1d7"
      },
      "execution_count": null,
      "outputs": [
        {
          "output_type": "stream",
          "name": "stdout",
          "text": [
            "{}\n"
          ]
        }
      ]
    },
    {
      "cell_type": "code",
      "source": [
        "del dict1\n",
        "print(dict1)"
      ],
      "metadata": {
        "colab": {
          "base_uri": "https://localhost:8080/",
          "height": 187
        },
        "id": "gnPHQiblXXzL",
        "outputId": "49e1748a-6d4e-4f44-a58f-f9100b147f1d"
      },
      "execution_count": null,
      "outputs": [
        {
          "output_type": "error",
          "ename": "NameError",
          "evalue": "ignored",
          "traceback": [
            "\u001b[0;31m---------------------------------------------------------------------------\u001b[0m",
            "\u001b[0;31mNameError\u001b[0m                                 Traceback (most recent call last)",
            "\u001b[0;32m<ipython-input-13-5a23ca6bc569>\u001b[0m in \u001b[0;36m<module>\u001b[0;34m()\u001b[0m\n\u001b[1;32m      1\u001b[0m \u001b[0;32mdel\u001b[0m \u001b[0mdict1\u001b[0m\u001b[0;34m\u001b[0m\u001b[0;34m\u001b[0m\u001b[0m\n\u001b[0;32m----> 2\u001b[0;31m \u001b[0mprint\u001b[0m\u001b[0;34m(\u001b[0m\u001b[0mdict1\u001b[0m\u001b[0;34m)\u001b[0m\u001b[0;34m\u001b[0m\u001b[0;34m\u001b[0m\u001b[0m\n\u001b[0m",
            "\u001b[0;31mNameError\u001b[0m: name 'dict1' is not defined"
          ]
        }
      ]
    },
    {
      "cell_type": "code",
      "source": [
        "# You cant delete a dictionary item while iterating over it. i.e.\n",
        "# size of dictionary cant change during iteration\n",
        "dict1 = {'key1': 34, 'key2': \"cat\", 'key3': 3.1, 'key4': 67}\n",
        "for key in dict1:\n",
        "    if dict1[key] == \"cat\":\n",
        "        del dict1[key]\n",
        "        "
      ],
      "metadata": {
        "colab": {
          "base_uri": "https://localhost:8080/",
          "height": 241
        },
        "id": "1pTHXIV77yqr",
        "outputId": "5e995fbe-b28f-4525-d824-6082ec790d4d"
      },
      "execution_count": 3,
      "outputs": [
        {
          "output_type": "error",
          "ename": "RuntimeError",
          "evalue": "ignored",
          "traceback": [
            "\u001b[0;31m---------------------------------------------------------------------------\u001b[0m",
            "\u001b[0;31mRuntimeError\u001b[0m                              Traceback (most recent call last)",
            "\u001b[0;32m<ipython-input-3-90e2439f0d3c>\u001b[0m in \u001b[0;36m<module>\u001b[0;34m\u001b[0m\n\u001b[1;32m      2\u001b[0m \u001b[0;31m# size of dictionary cant change during iteration\u001b[0m\u001b[0;34m\u001b[0m\u001b[0;34m\u001b[0m\u001b[0;34m\u001b[0m\u001b[0m\n\u001b[1;32m      3\u001b[0m \u001b[0mdict1\u001b[0m \u001b[0;34m=\u001b[0m \u001b[0;34m{\u001b[0m\u001b[0;34m'key1'\u001b[0m\u001b[0;34m:\u001b[0m \u001b[0;36m34\u001b[0m\u001b[0;34m,\u001b[0m \u001b[0;34m'key2'\u001b[0m\u001b[0;34m:\u001b[0m \u001b[0;34m\"cat\"\u001b[0m\u001b[0;34m,\u001b[0m \u001b[0;34m'key3'\u001b[0m\u001b[0;34m:\u001b[0m \u001b[0;36m3.1\u001b[0m\u001b[0;34m,\u001b[0m \u001b[0;34m'key4'\u001b[0m\u001b[0;34m:\u001b[0m \u001b[0;36m67\u001b[0m\u001b[0;34m}\u001b[0m\u001b[0;34m\u001b[0m\u001b[0;34m\u001b[0m\u001b[0m\n\u001b[0;32m----> 4\u001b[0;31m \u001b[0;32mfor\u001b[0m \u001b[0mkey\u001b[0m \u001b[0;32min\u001b[0m \u001b[0mdict1\u001b[0m\u001b[0;34m:\u001b[0m\u001b[0;34m\u001b[0m\u001b[0;34m\u001b[0m\u001b[0m\n\u001b[0m\u001b[1;32m      5\u001b[0m     \u001b[0;32mif\u001b[0m \u001b[0mdict1\u001b[0m\u001b[0;34m[\u001b[0m\u001b[0mkey\u001b[0m\u001b[0;34m]\u001b[0m \u001b[0;34m==\u001b[0m \u001b[0;34m\"cat\"\u001b[0m\u001b[0;34m:\u001b[0m\u001b[0;34m\u001b[0m\u001b[0;34m\u001b[0m\u001b[0m\n\u001b[1;32m      6\u001b[0m         \u001b[0;32mdel\u001b[0m \u001b[0mdict1\u001b[0m\u001b[0;34m[\u001b[0m\u001b[0mkey\u001b[0m\u001b[0;34m]\u001b[0m\u001b[0;34m\u001b[0m\u001b[0;34m\u001b[0m\u001b[0m\n",
            "\u001b[0;31mRuntimeError\u001b[0m: dictionary changed size during iteration"
          ]
        }
      ]
    },
    {
      "cell_type": "code",
      "source": [
        ""
      ],
      "metadata": {
        "id": "pvru3z0J9Zgz"
      },
      "execution_count": null,
      "outputs": []
    },
    {
      "cell_type": "markdown",
      "source": [
        "# Dictionary Functions and Methods"
      ],
      "metadata": {
        "id": "LJk9MYAwXqWD"
      }
    },
    {
      "cell_type": "code",
      "source": [
        "dict1 = {\"key1\": 34, \"key2\": 75, \"key3\": 81, \"key4\": 90}\n",
        "print(len(dict1))"
      ],
      "metadata": {
        "colab": {
          "base_uri": "https://localhost:8080/"
        },
        "id": "Dq6qTjLM853A",
        "outputId": "2254e02a-0165-4ef9-9303-b815123fa5e1"
      },
      "execution_count": 4,
      "outputs": [
        {
          "output_type": "stream",
          "name": "stdout",
          "text": [
            "4\n"
          ]
        }
      ]
    },
    {
      "cell_type": "code",
      "source": [
        "str(dict1)"
      ],
      "metadata": {
        "colab": {
          "base_uri": "https://localhost:8080/",
          "height": 35
        },
        "id": "DhDtMplq9dSi",
        "outputId": "a559bd7d-3be6-44fa-8bc8-8c64fa352edd"
      },
      "execution_count": 5,
      "outputs": [
        {
          "output_type": "execute_result",
          "data": {
            "text/plain": [
              "\"{'key1': 34, 'key2': 75, 'key3': 81, 'key4': 90}\""
            ],
            "application/vnd.google.colaboratory.intrinsic+json": {
              "type": "string"
            }
          },
          "metadata": {},
          "execution_count": 5
        }
      ]
    },
    {
      "cell_type": "code",
      "source": [
        "type(dict1)"
      ],
      "metadata": {
        "colab": {
          "base_uri": "https://localhost:8080/"
        },
        "id": "PZsKYSIA9dwQ",
        "outputId": "76bfef91-fb06-40bd-a88c-b67c9ea4785d"
      },
      "execution_count": 6,
      "outputs": [
        {
          "output_type": "execute_result",
          "data": {
            "text/plain": [
              "dict"
            ]
          },
          "metadata": {},
          "execution_count": 6
        }
      ]
    },
    {
      "cell_type": "code",
      "source": [
        "# returns are shallow copy of dictionary\n",
        "dict2 = dict1.copy()\n",
        "print(dict2)"
      ],
      "metadata": {
        "colab": {
          "base_uri": "https://localhost:8080/"
        },
        "id": "jYNNYR5E9eR2",
        "outputId": "b26eea14-8f8c-4dae-f1ab-a5c3f613a9d5"
      },
      "execution_count": 7,
      "outputs": [
        {
          "output_type": "stream",
          "name": "stdout",
          "text": [
            "{'key1': 34, 'key2': 75, 'key3': 81, 'key4': 90}\n"
          ]
        }
      ]
    },
    {
      "cell_type": "code",
      "source": [
        "# this is not a copy. this is just dict3 and dict1 both referring to same dictionary\n",
        "dict3 = dict1\n",
        "print(dict3)"
      ],
      "metadata": {
        "colab": {
          "base_uri": "https://localhost:8080/"
        },
        "id": "ErfKR3W29emb",
        "outputId": "5fdf8e89-cea7-41b1-fa93-ece7bcfc871e"
      },
      "execution_count": 9,
      "outputs": [
        {
          "output_type": "stream",
          "name": "stdout",
          "text": [
            "{'key1': 34, 'key2': 75, 'key3': 81, 'key4': 90}\n"
          ]
        }
      ]
    },
    {
      "cell_type": "code",
      "source": [
        "dict2[\"key1\"] = 23\n",
        "print(dict1)\n",
        "print(dict2)"
      ],
      "metadata": {
        "colab": {
          "base_uri": "https://localhost:8080/"
        },
        "id": "-9d3HI-E_bEC",
        "outputId": "e7ce77b9-fc26-414b-f194-2083f277371e"
      },
      "execution_count": 11,
      "outputs": [
        {
          "output_type": "stream",
          "name": "stdout",
          "text": [
            "{'key1': 34, 'key2': 75, 'key3': 81, 'key4': 90}\n",
            "{'key1': 23, 'key2': 75, 'key3': 81, 'key4': 90}\n"
          ]
        }
      ]
    },
    {
      "cell_type": "code",
      "source": [
        "dict3[\"key3\"] = 95\n",
        "print(dict1)\n",
        "print(dict3)"
      ],
      "metadata": {
        "colab": {
          "base_uri": "https://localhost:8080/"
        },
        "id": "tZ0ZTpPG_ba7",
        "outputId": "ccd40d5a-0052-4262-d5b2-e572b7f1ab36"
      },
      "execution_count": 12,
      "outputs": [
        {
          "output_type": "stream",
          "name": "stdout",
          "text": [
            "{'key1': 34, 'key2': 75, 'key3': 95, 'key4': 90}\n",
            "{'key1': 34, 'key2': 75, 'key3': 95, 'key4': 90}\n"
          ]
        }
      ]
    },
    {
      "cell_type": "code",
      "source": [
        "# Create a new dictionary with keys from sequence and value set to value if provided or else none.\n",
        "seq = (1,4,6)\n",
        "dict.fromkeys(seq)"
      ],
      "metadata": {
        "colab": {
          "base_uri": "https://localhost:8080/"
        },
        "id": "27Z3CFUT_bdR",
        "outputId": "a75013d5-7665-42a9-ec41-15554de04dba"
      },
      "execution_count": 14,
      "outputs": [
        {
          "output_type": "execute_result",
          "data": {
            "text/plain": [
              "{1: None, 4: None, 6: None}"
            ]
          },
          "metadata": {},
          "execution_count": 14
        }
      ]
    },
    {
      "cell_type": "code",
      "source": [
        "seq = (1,4,6)\n",
        "val = 10\n",
        "dict.fromkeys(seq, val)"
      ],
      "metadata": {
        "colab": {
          "base_uri": "https://localhost:8080/"
        },
        "id": "fLiFQAo9_bf9",
        "outputId": "a7b08304-5b1a-4e10-9a7a-87e66d0297e5"
      },
      "execution_count": 15,
      "outputs": [
        {
          "output_type": "execute_result",
          "data": {
            "text/plain": [
              "{1: 10, 4: 10, 6: 10}"
            ]
          },
          "metadata": {},
          "execution_count": 15
        }
      ]
    },
    {
      "cell_type": "code",
      "source": [
        "# For key, returns value or default if key not in dictionary\n",
        "# dict.get(key, [,defaultValue])\n",
        "dict1.get(\"key1\")"
      ],
      "metadata": {
        "colab": {
          "base_uri": "https://localhost:8080/"
        },
        "id": "n985Rw6Y_biV",
        "outputId": "1fb9d68b-5343-4bc6-ded9-c11e90e4e1c2"
      },
      "execution_count": 16,
      "outputs": [
        {
          "output_type": "execute_result",
          "data": {
            "text/plain": [
              "34"
            ]
          },
          "metadata": {},
          "execution_count": 16
        }
      ]
    },
    {
      "cell_type": "code",
      "source": [
        "dict1[\"key7\"]"
      ],
      "metadata": {
        "colab": {
          "base_uri": "https://localhost:8080/",
          "height": 169
        },
        "id": "sNKjC8tu_blW",
        "outputId": "6ca75766-c11f-4545-e0ce-1dbac10676b9"
      },
      "execution_count": 17,
      "outputs": [
        {
          "output_type": "error",
          "ename": "KeyError",
          "evalue": "ignored",
          "traceback": [
            "\u001b[0;31m---------------------------------------------------------------------------\u001b[0m",
            "\u001b[0;31mKeyError\u001b[0m                                  Traceback (most recent call last)",
            "\u001b[0;32m<ipython-input-17-2843b072f38d>\u001b[0m in \u001b[0;36m<module>\u001b[0;34m\u001b[0m\n\u001b[0;32m----> 1\u001b[0;31m \u001b[0mdict1\u001b[0m\u001b[0;34m[\u001b[0m\u001b[0;34m\"key7\"\u001b[0m\u001b[0;34m]\u001b[0m\u001b[0;34m\u001b[0m\u001b[0;34m\u001b[0m\u001b[0m\n\u001b[0m",
            "\u001b[0;31mKeyError\u001b[0m: 'key7'"
          ]
        }
      ]
    },
    {
      "cell_type": "code",
      "source": [
        "dict1.get(\"key7\")"
      ],
      "metadata": {
        "id": "b5KZCsIA_bo2"
      },
      "execution_count": 18,
      "outputs": []
    },
    {
      "cell_type": "code",
      "source": [
        "dict1.get(\"key7\", 35)"
      ],
      "metadata": {
        "colab": {
          "base_uri": "https://localhost:8080/"
        },
        "id": "Lt-Fid099ep3",
        "outputId": "df510268-94cc-4e2a-c801-9a6f3deb0bc4"
      },
      "execution_count": 19,
      "outputs": [
        {
          "output_type": "execute_result",
          "data": {
            "text/plain": [
              "35"
            ]
          },
          "metadata": {},
          "execution_count": 19
        }
      ]
    },
    {
      "cell_type": "code",
      "source": [
        "\n",
        "dict1 = {\"key1\": 34, \"key2\": 75, \"key3\": 81, \"key4\": 90}\n",
        "print(dict1)\n",
        "dict2 =  {\"key5\": 4, \"key6\": 7, \"key1\": 10}\n",
        "dict1.update(dict2)\n",
        "print(dict1)"
      ],
      "metadata": {
        "colab": {
          "base_uri": "https://localhost:8080/"
        },
        "id": "oLXbFqu3E9e5",
        "outputId": "7f1f556f-e438-4376-b389-8fe4bf667e1a"
      },
      "execution_count": 4,
      "outputs": [
        {
          "output_type": "stream",
          "name": "stdout",
          "text": [
            "{'key1': 34, 'key2': 75, 'key3': 81, 'key4': 90}\n",
            "{'key1': 10, 'key2': 75, 'key3': 81, 'key4': 90, 'key5': 4, 'key6': 7}\n"
          ]
        }
      ]
    },
    {
      "cell_type": "code",
      "source": [
        "# pop() removes the specified item from the dictionary\n",
        "dict1 = {\"key1\" : 60, \"key2\" : 25, \"key3\" :72}\n",
        "dict1.pop(\"key1\")\n",
        "print(dict1)"
      ],
      "metadata": {
        "colab": {
          "base_uri": "https://localhost:8080/"
        },
        "id": "PfmGY-4sCJJg",
        "outputId": "5bc2ef09-480e-4044-96ad-6b18468c27b0"
      },
      "execution_count": 6,
      "outputs": [
        {
          "output_type": "stream",
          "name": "stdout",
          "text": [
            "{'key2': 25, 'key3': 72}\n"
          ]
        }
      ]
    },
    {
      "cell_type": "code",
      "source": [
        "# The popitem() method removes the item that was last inserted into the dictionary. \n",
        "# In versions before 3.7, the popitem() method removes a random item.\n",
        "\n",
        "dict1.popitem()\n",
        "print(dict1)"
      ],
      "metadata": {
        "colab": {
          "base_uri": "https://localhost:8080/"
        },
        "id": "nQ2dmS8eC7Lq",
        "outputId": "2fadc656-7fc7-4f5b-ae42-2f5856f6b409"
      },
      "execution_count": 8,
      "outputs": [
        {
          "output_type": "stream",
          "name": "stdout",
          "text": [
            "{}\n"
          ]
        }
      ]
    },
    {
      "cell_type": "markdown",
      "source": [
        "# Functions"
      ],
      "metadata": {
        "id": "mKcn2ul4DFxS"
      }
    },
    {
      "cell_type": "markdown",
      "source": [
        "A function is block of organized and reusable code that is generally used to perform a single related operation. Function increases re-usability and also help in making code modular. Functions also help in making code size smaller.\n",
        "\n",
        "Python has many built in functions like print(). print() is a pre-defined function which comes with python. You can also define your own functions which are called as user-defined functions.\n"
      ],
      "metadata": {
        "id": "hvifBYF_D3VD"
      }
    },
    {
      "cell_type": "markdown",
      "source": [
        "## Defining and Calling"
      ],
      "metadata": {
        "id": "77oYN45hEh6H"
      }
    },
    {
      "cell_type": "code",
      "source": [
        "def functionname():\n",
        "  pass"
      ],
      "metadata": {
        "id": "_jfPKeq5EpPK"
      },
      "execution_count": 9,
      "outputs": []
    },
    {
      "cell_type": "code",
      "source": [
        "def display(san):\n",
        "  print(san)\n"
      ],
      "metadata": {
        "id": "aEQJuOXwFCXY"
      },
      "execution_count": 10,
      "outputs": []
    },
    {
      "cell_type": "code",
      "source": [
        "display(5)"
      ],
      "metadata": {
        "colab": {
          "base_uri": "https://localhost:8080/"
        },
        "id": "pl77tGHuFcSi",
        "outputId": "c3530d9a-8adc-4818-c120-59dce83705ed"
      },
      "execution_count": 11,
      "outputs": [
        {
          "output_type": "stream",
          "name": "stdout",
          "text": [
            "5\n"
          ]
        }
      ]
    },
    {
      "cell_type": "code",
      "source": [
        "def sum(a,b):\n",
        "  print(a+b)"
      ],
      "metadata": {
        "id": "JLpph1ALF47P"
      },
      "execution_count": 12,
      "outputs": []
    },
    {
      "cell_type": "code",
      "source": [
        "sum(4,9)"
      ],
      "metadata": {
        "colab": {
          "base_uri": "https://localhost:8080/"
        },
        "id": "PXcVgTt-GLCm",
        "outputId": "34e204b0-015e-47ec-faf2-57588e505eb8"
      },
      "execution_count": 13,
      "outputs": [
        {
          "output_type": "stream",
          "name": "stdout",
          "text": [
            "13\n"
          ]
        }
      ]
    },
    {
      "cell_type": "code",
      "source": [
        "def minus(a,b):\n",
        "  return a-b"
      ],
      "metadata": {
        "id": "hp7XGTYNGP7P"
      },
      "execution_count": 14,
      "outputs": []
    },
    {
      "cell_type": "code",
      "source": [
        "diff = minus(75,45)\n",
        "print(diff)"
      ],
      "metadata": {
        "colab": {
          "base_uri": "https://localhost:8080/"
        },
        "id": "oBZyvMSdG6_X",
        "outputId": "93aaddd5-0e6e-4446-dc05-796a41ae0975"
      },
      "execution_count": 16,
      "outputs": [
        {
          "output_type": "stream",
          "name": "stdout",
          "text": [
            "30\n"
          ]
        }
      ]
    },
    {
      "cell_type": "code",
      "source": [
        "print(sum(34,45))"
      ],
      "metadata": {
        "colab": {
          "base_uri": "https://localhost:8080/"
        },
        "id": "U6GRfnR0HEt7",
        "outputId": "50474b7a-9ee7-4419-f43f-fe527cdd05dd"
      },
      "execution_count": 18,
      "outputs": [
        {
          "output_type": "stream",
          "name": "stdout",
          "text": [
            "79\n",
            "None\n"
          ]
        }
      ]
    },
    {
      "cell_type": "code",
      "source": [
        "print(minus(67,54))"
      ],
      "metadata": {
        "colab": {
          "base_uri": "https://localhost:8080/"
        },
        "id": "3UcvMKPmHUQM",
        "outputId": "d2d5ca7c-222a-4e2f-cf97-562ad5890e00"
      },
      "execution_count": 19,
      "outputs": [
        {
          "output_type": "stream",
          "name": "stdout",
          "text": [
            "13\n"
          ]
        }
      ]
    },
    {
      "cell_type": "markdown",
      "source": [
        "## Function Arguments\n"
      ],
      "metadata": {
        "id": "UO0qNcesHvo7"
      }
    },
    {
      "cell_type": "markdown",
      "source": [
        "**required arguments**"
      ],
      "metadata": {
        "id": "a3nbwxknIbwf"
      }
    },
    {
      "cell_type": "code",
      "source": [
        "# Normal Arguments which must be passed. Order should be same\n",
        "# here a and b are required arguments.\n",
        "# if required aguments are not passed then code will throw error"
      ],
      "metadata": {
        "id": "b8BCSXzeIrVU"
      },
      "execution_count": 21,
      "outputs": []
    },
    {
      "cell_type": "code",
      "source": [
        "def multiply(a,b,c):\n",
        "  return a*minus(b,c)"
      ],
      "metadata": {
        "id": "K1xTiCdxJaw2"
      },
      "execution_count": 22,
      "outputs": []
    },
    {
      "cell_type": "code",
      "source": [
        "multiply(7,8,9)"
      ],
      "metadata": {
        "colab": {
          "base_uri": "https://localhost:8080/"
        },
        "id": "tP0lQ2a4KRw4",
        "outputId": "f1848164-1a05-4af5-bdb4-0d4056cc0ac4"
      },
      "execution_count": 25,
      "outputs": [
        {
          "output_type": "execute_result",
          "data": {
            "text/plain": [
              "-7"
            ]
          },
          "metadata": {},
          "execution_count": 25
        }
      ]
    },
    {
      "cell_type": "code",
      "source": [
        "multiply(34,12)"
      ],
      "metadata": {
        "colab": {
          "base_uri": "https://localhost:8080/",
          "height": 169
        },
        "id": "kqsabspTKZBU",
        "outputId": "348afc96-2fc3-4830-e93d-845a680b6638"
      },
      "execution_count": 26,
      "outputs": [
        {
          "output_type": "error",
          "ename": "TypeError",
          "evalue": "ignored",
          "traceback": [
            "\u001b[0;31m---------------------------------------------------------------------------\u001b[0m",
            "\u001b[0;31mTypeError\u001b[0m                                 Traceback (most recent call last)",
            "\u001b[0;32m<ipython-input-26-5c311d5eaba4>\u001b[0m in \u001b[0;36m<module>\u001b[0;34m\u001b[0m\n\u001b[0;32m----> 1\u001b[0;31m \u001b[0mmultiply\u001b[0m\u001b[0;34m(\u001b[0m\u001b[0;36m34\u001b[0m\u001b[0;34m,\u001b[0m\u001b[0;36m12\u001b[0m\u001b[0;34m)\u001b[0m\u001b[0;34m\u001b[0m\u001b[0;34m\u001b[0m\u001b[0m\n\u001b[0m",
            "\u001b[0;31mTypeError\u001b[0m: multiply() missing 1 required positional argument: 'c'"
          ]
        }
      ]
    },
    {
      "cell_type": "code",
      "source": [
        "multiply(5,7,8,9)"
      ],
      "metadata": {
        "colab": {
          "base_uri": "https://localhost:8080/",
          "height": 169
        },
        "id": "7TC2C4FTK5zP",
        "outputId": "ca48d39a-746a-4b2f-a7da-c5d372c855c9"
      },
      "execution_count": 27,
      "outputs": [
        {
          "output_type": "error",
          "ename": "TypeError",
          "evalue": "ignored",
          "traceback": [
            "\u001b[0;31m---------------------------------------------------------------------------\u001b[0m",
            "\u001b[0;31mTypeError\u001b[0m                                 Traceback (most recent call last)",
            "\u001b[0;32m<ipython-input-27-c8576dac06b3>\u001b[0m in \u001b[0;36m<module>\u001b[0;34m\u001b[0m\n\u001b[0;32m----> 1\u001b[0;31m \u001b[0mmultiply\u001b[0m\u001b[0;34m(\u001b[0m\u001b[0;36m5\u001b[0m\u001b[0;34m,\u001b[0m\u001b[0;36m7\u001b[0m\u001b[0;34m,\u001b[0m\u001b[0;36m8\u001b[0m\u001b[0;34m,\u001b[0m\u001b[0;36m9\u001b[0m\u001b[0;34m)\u001b[0m\u001b[0;34m\u001b[0m\u001b[0;34m\u001b[0m\u001b[0m\n\u001b[0m",
            "\u001b[0;31mTypeError\u001b[0m: multiply() takes 3 positional arguments but 4 were given"
          ]
        }
      ]
    },
    {
      "cell_type": "markdown",
      "source": [
        "**keyword arguements**"
      ],
      "metadata": {
        "id": "uGO4tb2YLBgC"
      }
    },
    {
      "cell_type": "code",
      "source": [
        "# They are same as the Required arguments except they are called \n",
        "# using parameter names and can be jumbled\n",
        "# Not passing all keyword arguments will throw error\n",
        "multiply(a=5, b=10, c=15)"
      ],
      "metadata": {
        "colab": {
          "base_uri": "https://localhost:8080/"
        },
        "id": "rVN9PjikLs5V",
        "outputId": "b4a43815-a07b-4376-e3f8-64995f120ebc"
      },
      "execution_count": 28,
      "outputs": [
        {
          "output_type": "execute_result",
          "data": {
            "text/plain": [
              "-25"
            ]
          },
          "metadata": {},
          "execution_count": 28
        }
      ]
    },
    {
      "cell_type": "code",
      "source": [
        "multiply(b=10,a=5, c=15)"
      ],
      "metadata": {
        "colab": {
          "base_uri": "https://localhost:8080/"
        },
        "id": "ULDLCxrUMLjC",
        "outputId": "054bded1-6911-4bc5-da10-5a265bd579b6"
      },
      "execution_count": 29,
      "outputs": [
        {
          "output_type": "execute_result",
          "data": {
            "text/plain": [
              "-25"
            ]
          },
          "metadata": {},
          "execution_count": 29
        }
      ]
    },
    {
      "cell_type": "code",
      "source": [
        "multiply(b=10,a=5)"
      ],
      "metadata": {
        "colab": {
          "base_uri": "https://localhost:8080/",
          "height": 169
        },
        "id": "KCg2jdiwMgr3",
        "outputId": "632326b5-c991-42f1-9516-074ffbaebf8d"
      },
      "execution_count": 30,
      "outputs": [
        {
          "output_type": "error",
          "ename": "TypeError",
          "evalue": "ignored",
          "traceback": [
            "\u001b[0;31m---------------------------------------------------------------------------\u001b[0m",
            "\u001b[0;31mTypeError\u001b[0m                                 Traceback (most recent call last)",
            "\u001b[0;32m<ipython-input-30-bbb7f354d4e2>\u001b[0m in \u001b[0;36m<module>\u001b[0;34m\u001b[0m\n\u001b[0;32m----> 1\u001b[0;31m \u001b[0mmultiply\u001b[0m\u001b[0;34m(\u001b[0m\u001b[0mb\u001b[0m\u001b[0;34m=\u001b[0m\u001b[0;36m10\u001b[0m\u001b[0;34m,\u001b[0m\u001b[0ma\u001b[0m\u001b[0;34m=\u001b[0m\u001b[0;36m5\u001b[0m\u001b[0;34m)\u001b[0m\u001b[0;34m\u001b[0m\u001b[0;34m\u001b[0m\u001b[0m\n\u001b[0m",
            "\u001b[0;31mTypeError\u001b[0m: multiply() missing 1 required positional argument: 'c'"
          ]
        }
      ]
    },
    {
      "cell_type": "markdown",
      "source": [
        "**Default Arguments**"
      ],
      "metadata": {
        "id": "xsUZEMyjMtEE"
      }
    },
    {
      "cell_type": "code",
      "source": [
        "# Default argument is same as required argument except that it will not throw\n",
        "# any error when not passed instead will assume as pre-defined default value"
      ],
      "metadata": {
        "id": "fZ6MMXMFM5Ba"
      },
      "execution_count": 31,
      "outputs": []
    },
    {
      "cell_type": "code",
      "source": [
        "def sum(a,b=23):\n",
        "  return a+b"
      ],
      "metadata": {
        "id": "NuPArmZ2NIE2"
      },
      "execution_count": 32,
      "outputs": []
    },
    {
      "cell_type": "code",
      "source": [
        "sum(2,3)"
      ],
      "metadata": {
        "colab": {
          "base_uri": "https://localhost:8080/"
        },
        "id": "vyZ4Jow-Nl3z",
        "outputId": "d1fb9fd6-3a94-4ff3-9d06-b4e7bacc4ed1"
      },
      "execution_count": 33,
      "outputs": [
        {
          "output_type": "execute_result",
          "data": {
            "text/plain": [
              "5"
            ]
          },
          "metadata": {},
          "execution_count": 33
        }
      ]
    },
    {
      "cell_type": "code",
      "source": [
        "sum(2)"
      ],
      "metadata": {
        "colab": {
          "base_uri": "https://localhost:8080/"
        },
        "id": "24j1G4JSNpCL",
        "outputId": "f00fbdfc-a570-4c2e-a3e9-a283c21f20e7"
      },
      "execution_count": 34,
      "outputs": [
        {
          "output_type": "execute_result",
          "data": {
            "text/plain": [
              "25"
            ]
          },
          "metadata": {},
          "execution_count": 34
        }
      ]
    },
    {
      "cell_type": "code",
      "source": [
        "sum()"
      ],
      "metadata": {
        "colab": {
          "base_uri": "https://localhost:8080/",
          "height": 169
        },
        "id": "IqdVOFHxNtqC",
        "outputId": "c6470177-7b3c-44e9-cb54-02d4fd516200"
      },
      "execution_count": 35,
      "outputs": [
        {
          "output_type": "error",
          "ename": "TypeError",
          "evalue": "ignored",
          "traceback": [
            "\u001b[0;31m---------------------------------------------------------------------------\u001b[0m",
            "\u001b[0;31mTypeError\u001b[0m                                 Traceback (most recent call last)",
            "\u001b[0;32m<ipython-input-35-217cace8f485>\u001b[0m in \u001b[0;36m<module>\u001b[0;34m\u001b[0m\n\u001b[0;32m----> 1\u001b[0;31m \u001b[0msum\u001b[0m\u001b[0;34m(\u001b[0m\u001b[0;34m)\u001b[0m\u001b[0;34m\u001b[0m\u001b[0;34m\u001b[0m\u001b[0m\n\u001b[0m",
            "\u001b[0;31mTypeError\u001b[0m: sum() missing 1 required positional argument: 'a'"
          ]
        }
      ]
    },
    {
      "cell_type": "code",
      "source": [
        "sum(b=10)"
      ],
      "metadata": {
        "colab": {
          "base_uri": "https://localhost:8080/",
          "height": 169
        },
        "id": "jFfbuj56N078",
        "outputId": "a7e126e7-3b7b-4f15-9213-e0e02a1699ad"
      },
      "execution_count": 36,
      "outputs": [
        {
          "output_type": "error",
          "ename": "TypeError",
          "evalue": "ignored",
          "traceback": [
            "\u001b[0;31m---------------------------------------------------------------------------\u001b[0m",
            "\u001b[0;31mTypeError\u001b[0m                                 Traceback (most recent call last)",
            "\u001b[0;32m<ipython-input-36-93d69624f70d>\u001b[0m in \u001b[0;36m<module>\u001b[0;34m\u001b[0m\n\u001b[0;32m----> 1\u001b[0;31m \u001b[0msum\u001b[0m\u001b[0;34m(\u001b[0m\u001b[0mb\u001b[0m\u001b[0;34m=\u001b[0m\u001b[0;36m10\u001b[0m\u001b[0;34m)\u001b[0m\u001b[0;34m\u001b[0m\u001b[0;34m\u001b[0m\u001b[0m\n\u001b[0m",
            "\u001b[0;31mTypeError\u001b[0m: sum() missing 1 required positional argument: 'a'"
          ]
        }
      ]
    },
    {
      "cell_type": "code",
      "source": [
        "# Non difault argument following defalt argument is not allowed\n",
        "def sum(b=23, a):\n",
        "  return a+b"
      ],
      "metadata": {
        "colab": {
          "base_uri": "https://localhost:8080/",
          "height": 133
        },
        "id": "fB9BG6frN8Bf",
        "outputId": "fef4ac8e-e5c2-49c9-a240-90d3f182b67e"
      },
      "execution_count": 37,
      "outputs": [
        {
          "output_type": "error",
          "ename": "SyntaxError",
          "evalue": "ignored",
          "traceback": [
            "\u001b[0;36m  File \u001b[0;32m\"<ipython-input-37-5a9be5ab1762>\"\u001b[0;36m, line \u001b[0;32m2\u001b[0m\n\u001b[0;31m    def sum(b=23, a):\u001b[0m\n\u001b[0m           ^\u001b[0m\n\u001b[0;31mSyntaxError\u001b[0m\u001b[0;31m:\u001b[0m non-default argument follows default argument\n"
          ]
        }
      ]
    },
    {
      "cell_type": "markdown",
      "source": [
        "**Variable length Arguments**"
      ],
      "metadata": {
        "id": "jJ-8yPVtOZ-1"
      }
    },
    {
      "cell_type": "markdown",
      "source": [
        "**args**"
      ],
      "metadata": {
        "id": "Xm9i-vvOOwV-"
      }
    },
    {
      "cell_type": "code",
      "source": [
        "# Variable length arguments start with a '*' symbol. \n",
        "# They can take any number of values and if no value is passed\n",
        "# then they will be equal to empty tuple"
      ],
      "metadata": {
        "id": "LWmwvbDKO4df"
      },
      "execution_count": 39,
      "outputs": []
    },
    {
      "cell_type": "code",
      "source": [
        "def disply(a, *args):\n",
        "  print(a)\n",
        "  print(args)"
      ],
      "metadata": {
        "id": "DgL6_dFUPBYL"
      },
      "execution_count": 41,
      "outputs": []
    },
    {
      "cell_type": "code",
      "source": [
        "disply(2, [1,3,5,6])"
      ],
      "metadata": {
        "colab": {
          "base_uri": "https://localhost:8080/"
        },
        "id": "k-tHtQVqPmVm",
        "outputId": "56a79985-c66a-437a-bde8-e306c109d6f2"
      },
      "execution_count": 44,
      "outputs": [
        {
          "output_type": "stream",
          "name": "stdout",
          "text": [
            "2\n",
            "([1, 3, 5, 6],)\n"
          ]
        }
      ]
    },
    {
      "cell_type": "code",
      "source": [
        "disply(8,34,56,23,5)"
      ],
      "metadata": {
        "colab": {
          "base_uri": "https://localhost:8080/"
        },
        "id": "DhGNK0HYP8YG",
        "outputId": "668cf24e-05c4-44d9-c83a-ae5b8a7a3716"
      },
      "execution_count": 46,
      "outputs": [
        {
          "output_type": "stream",
          "name": "stdout",
          "text": [
            "8\n",
            "(34, 56, 23, 5)\n"
          ]
        }
      ]
    },
    {
      "cell_type": "code",
      "source": [
        "disply(45)"
      ],
      "metadata": {
        "colab": {
          "base_uri": "https://localhost:8080/"
        },
        "id": "wkOczykYQWvK",
        "outputId": "fb01dfc2-884f-4009-b3a9-505610049244"
      },
      "execution_count": 49,
      "outputs": [
        {
          "output_type": "stream",
          "name": "stdout",
          "text": [
            "45\n",
            "()\n"
          ]
        }
      ]
    },
    {
      "cell_type": "markdown",
      "source": [
        "**kwargs**"
      ],
      "metadata": {
        "id": "JqCYPKQFQgGP"
      }
    },
    {
      "cell_type": "code",
      "source": [
        "# Variable length keyword arguments start with a '**' symbol. \n",
        "# They can take any number of values and if no value is passed\n",
        "# then they will be equal to empty dictionary"
      ],
      "metadata": {
        "id": "E1g7jwn8RBBL"
      },
      "execution_count": 51,
      "outputs": []
    },
    {
      "cell_type": "code",
      "source": [
        "def display(a, **kwargs):\n",
        "  print(a)\n",
        "  print(kwargs)"
      ],
      "metadata": {
        "id": "0-v0PlAnRH7L"
      },
      "execution_count": 53,
      "outputs": []
    },
    {
      "cell_type": "code",
      "source": [
        "display(2, e=5, f=7, g=8 )"
      ],
      "metadata": {
        "colab": {
          "base_uri": "https://localhost:8080/"
        },
        "id": "S95gpoI6RiCa",
        "outputId": "5d81d69a-962a-4147-c0d9-4d9c1279b6a2"
      },
      "execution_count": 55,
      "outputs": [
        {
          "output_type": "stream",
          "name": "stdout",
          "text": [
            "2\n",
            "{'e': 5, 'f': 7, 'g': 8}\n"
          ]
        }
      ]
    },
    {
      "cell_type": "code",
      "source": [
        "display(2)"
      ],
      "metadata": {
        "colab": {
          "base_uri": "https://localhost:8080/"
        },
        "id": "z9SulyjeR9de",
        "outputId": "2d73abd5-450d-4204-bcd9-cb9911793465"
      },
      "execution_count": 56,
      "outputs": [
        {
          "output_type": "stream",
          "name": "stdout",
          "text": [
            "2\n",
            "{}\n"
          ]
        }
      ]
    },
    {
      "cell_type": "code",
      "source": [
        "display()"
      ],
      "metadata": {
        "colab": {
          "base_uri": "https://localhost:8080/",
          "height": 169
        },
        "id": "61dqGt0FSPKd",
        "outputId": "80c3302f-b204-45cf-acd9-cd6075835be8"
      },
      "execution_count": 57,
      "outputs": [
        {
          "output_type": "error",
          "ename": "TypeError",
          "evalue": "ignored",
          "traceback": [
            "\u001b[0;31m---------------------------------------------------------------------------\u001b[0m",
            "\u001b[0;31mTypeError\u001b[0m                                 Traceback (most recent call last)",
            "\u001b[0;32m<ipython-input-57-4ab3b57d7e7c>\u001b[0m in \u001b[0;36m<module>\u001b[0;34m\u001b[0m\n\u001b[0;32m----> 1\u001b[0;31m \u001b[0mdisplay\u001b[0m\u001b[0;34m(\u001b[0m\u001b[0;34m)\u001b[0m\u001b[0;34m\u001b[0m\u001b[0;34m\u001b[0m\u001b[0m\n\u001b[0m",
            "\u001b[0;31mTypeError\u001b[0m: display() missing 1 required positional argument: 'a'"
          ]
        }
      ]
    },
    {
      "cell_type": "code",
      "source": [
        "# *args & **kwargs are just commonly used names of variable length argument\n",
        "# and variable length keyword arguments. We can use any other names too\n"
      ],
      "metadata": {
        "id": "kax-veMeSUO4"
      },
      "execution_count": 58,
      "outputs": []
    },
    {
      "cell_type": "code",
      "source": [
        "def display(a, *abc):\n",
        "  print(a)\n",
        "  print(abc)"
      ],
      "metadata": {
        "id": "D4Y24_AwSbkG"
      },
      "execution_count": 59,
      "outputs": []
    },
    {
      "cell_type": "code",
      "source": [
        "display(3,6,7,8)"
      ],
      "metadata": {
        "colab": {
          "base_uri": "https://localhost:8080/",
          "height": 169
        },
        "id": "Kf28Ulq7Spdf",
        "outputId": "a59f6276-1c80-4ae7-cb50-3bb78f6c0af2"
      },
      "execution_count": 69,
      "outputs": [
        {
          "output_type": "error",
          "ename": "TypeError",
          "evalue": "ignored",
          "traceback": [
            "\u001b[0;31m---------------------------------------------------------------------------\u001b[0m",
            "\u001b[0;31mTypeError\u001b[0m                                 Traceback (most recent call last)",
            "\u001b[0;32m<ipython-input-69-66436dcfd6e2>\u001b[0m in \u001b[0;36m<module>\u001b[0;34m\u001b[0m\n\u001b[0;32m----> 1\u001b[0;31m \u001b[0mdisplay\u001b[0m\u001b[0;34m(\u001b[0m\u001b[0;36m3\u001b[0m\u001b[0;34m,\u001b[0m\u001b[0;36m6\u001b[0m\u001b[0;34m,\u001b[0m\u001b[0;36m7\u001b[0m\u001b[0;34m,\u001b[0m\u001b[0;36m8\u001b[0m\u001b[0;34m)\u001b[0m\u001b[0;34m\u001b[0m\u001b[0;34m\u001b[0m\u001b[0m\n\u001b[0m",
            "\u001b[0;31mTypeError\u001b[0m: display() takes 1 positional argument but 4 were given"
          ]
        }
      ]
    },
    {
      "cell_type": "code",
      "source": [
        "def display(a, **abc):\n",
        "  print(a)\n",
        "  print(abc)"
      ],
      "metadata": {
        "id": "KUCy2Ze1Swkr"
      },
      "execution_count": 63,
      "outputs": []
    },
    {
      "cell_type": "code",
      "source": [
        "display(2,b=4,e=7,f=20)"
      ],
      "metadata": {
        "colab": {
          "base_uri": "https://localhost:8080/"
        },
        "id": "r5obb03YS-5K",
        "outputId": "10199dbb-bf41-46bf-b5de-e6c54b72142d"
      },
      "execution_count": 65,
      "outputs": [
        {
          "output_type": "stream",
          "name": "stdout",
          "text": [
            "2\n",
            "{'b': 4, 'e': 7, 'f': 20}\n"
          ]
        }
      ]
    },
    {
      "cell_type": "code",
      "source": [
        "def all(a, b, c, d=25, e=27, *args, **kwargs):\n",
        "  print(a,b,c)\n",
        "  print(d,e)\n",
        "  print(args)\n",
        "  print(kwargs)"
      ],
      "metadata": {
        "id": "GcnM58muTPWT"
      },
      "execution_count": 67,
      "outputs": []
    },
    {
      "cell_type": "code",
      "source": [
        "all(2,3,4)"
      ],
      "metadata": {
        "colab": {
          "base_uri": "https://localhost:8080/"
        },
        "id": "1_-cxO8rTwAQ",
        "outputId": "f04119ce-d5e9-4d4f-bf09-c732d63e933a"
      },
      "execution_count": 68,
      "outputs": [
        {
          "output_type": "stream",
          "name": "stdout",
          "text": [
            "2 3 4\n",
            "25 27\n",
            "()\n",
            "{}\n"
          ]
        }
      ]
    },
    {
      "cell_type": "code",
      "source": [
        "all(2,3,4,5, 6)"
      ],
      "metadata": {
        "colab": {
          "base_uri": "https://localhost:8080/"
        },
        "id": "VKp3WfZKULoS",
        "outputId": "ffa2a53f-2280-4210-e2e3-f14db5e5a2c7"
      },
      "execution_count": 70,
      "outputs": [
        {
          "output_type": "stream",
          "name": "stdout",
          "text": [
            "2 3 4\n",
            "5 6\n",
            "()\n",
            "{}\n"
          ]
        }
      ]
    },
    {
      "cell_type": "code",
      "source": [
        "all(2,3,4,d=5, e=6)"
      ],
      "metadata": {
        "colab": {
          "base_uri": "https://localhost:8080/"
        },
        "id": "OrwHTPdHUeAR",
        "outputId": "ac5d3200-73ca-4598-c301-d9100a5caeac"
      },
      "execution_count": 71,
      "outputs": [
        {
          "output_type": "stream",
          "name": "stdout",
          "text": [
            "2 3 4\n",
            "5 6\n",
            "()\n",
            "{}\n"
          ]
        }
      ]
    },
    {
      "cell_type": "code",
      "source": [
        "all(2,3,4,5,6,7,8,9,10)"
      ],
      "metadata": {
        "colab": {
          "base_uri": "https://localhost:8080/"
        },
        "id": "DkDDAmYgUsz0",
        "outputId": "97752315-32c7-42bc-dc65-d370ebfed74e"
      },
      "execution_count": 72,
      "outputs": [
        {
          "output_type": "stream",
          "name": "stdout",
          "text": [
            "2 3 4\n",
            "5 6\n",
            "(7, 8, 9, 10)\n",
            "{}\n"
          ]
        }
      ]
    },
    {
      "cell_type": "code",
      "source": [
        "all(2,3,4,5,6,7,8,9,10,f=23,g=50)"
      ],
      "metadata": {
        "colab": {
          "base_uri": "https://localhost:8080/"
        },
        "id": "dLMiVdPxU1Jz",
        "outputId": "86137a91-f446-4c53-e665-4222383935cd"
      },
      "execution_count": 74,
      "outputs": [
        {
          "output_type": "stream",
          "name": "stdout",
          "text": [
            "2 3 4\n",
            "5 6\n",
            "(7, 8, 9, 10)\n",
            "{'f': 23, 'g': 50}\n"
          ]
        }
      ]
    },
    {
      "cell_type": "code",
      "source": [
        "all(2,3,4,d=5,e=6,7,8,9,10,f=23,g=50)"
      ],
      "metadata": {
        "colab": {
          "base_uri": "https://localhost:8080/",
          "height": 133
        },
        "id": "hjkMdRpQVFd7",
        "outputId": "5fe25501-f076-40c7-9993-30210cd9a70a"
      },
      "execution_count": 75,
      "outputs": [
        {
          "output_type": "error",
          "ename": "SyntaxError",
          "evalue": "ignored",
          "traceback": [
            "\u001b[0;36m  File \u001b[0;32m\"<ipython-input-75-a3fad56efe28>\"\u001b[0;36m, line \u001b[0;32m1\u001b[0m\n\u001b[0;31m    all(2,3,4,d=5,e=6,7,8,9,10,f=23,g=50)\u001b[0m\n\u001b[0m                     ^\u001b[0m\n\u001b[0;31mSyntaxError\u001b[0m\u001b[0;31m:\u001b[0m positional argument follows keyword argument\n"
          ]
        }
      ]
    },
    {
      "cell_type": "markdown",
      "source": [
        "##Pass by Value and Pass by Reference"
      ],
      "metadata": {
        "id": "cuhy0UifVd2M"
      }
    },
    {
      "cell_type": "markdown",
      "source": [
        "All parameters (arguments) in the Python are passed by reference. That means if you make some changes to a variable inside a function then it is also reflected outside"
      ],
      "metadata": {
        "id": "WUzhz0pmLCWK"
      }
    },
    {
      "cell_type": "code",
      "source": [
        "def short(inputList):\n",
        "  inputList.append(23)"
      ],
      "metadata": {
        "id": "A2li1-tzLiq5"
      },
      "execution_count": 1,
      "outputs": []
    },
    {
      "cell_type": "code",
      "source": [
        "inputList=[1,2,3]\n",
        "print(inputList)\n",
        "short(inputList)\n",
        "print(inputList)"
      ],
      "metadata": {
        "colab": {
          "base_uri": "https://localhost:8080/"
        },
        "id": "m1GnYAGkL88b",
        "outputId": "7301e08c-7302-48ed-dddc-62eaf3e8f523"
      },
      "execution_count": 2,
      "outputs": [
        {
          "output_type": "stream",
          "name": "stdout",
          "text": [
            "[1, 2, 3]\n",
            "[1, 2, 3, 23]\n"
          ]
        }
      ]
    },
    {
      "cell_type": "code",
      "source": [
        "a=[1,2,3]\n",
        "b = a\n",
        "c = a[:]\n",
        "print(a,b,c)\n"
      ],
      "metadata": {
        "colab": {
          "base_uri": "https://localhost:8080/"
        },
        "id": "eRqOIml3MfKU",
        "outputId": "1365a554-ede7-48d4-8c04-108dcb5b8185"
      },
      "execution_count": 3,
      "outputs": [
        {
          "output_type": "stream",
          "name": "stdout",
          "text": [
            "[1, 2, 3] [1, 2, 3] [1, 2, 3]\n"
          ]
        }
      ]
    },
    {
      "cell_type": "code",
      "source": [
        "a.append(4)"
      ],
      "metadata": {
        "id": "y9Q3L52pNEzc"
      },
      "execution_count": 4,
      "outputs": []
    },
    {
      "cell_type": "code",
      "source": [
        "print(a,b,c)"
      ],
      "metadata": {
        "colab": {
          "base_uri": "https://localhost:8080/"
        },
        "id": "Yvufa9mjNM5P",
        "outputId": "0cddfa71-2d53-478c-acb5-93738602cf43"
      },
      "execution_count": 5,
      "outputs": [
        {
          "output_type": "stream",
          "name": "stdout",
          "text": [
            "[1, 2, 3, 4] [1, 2, 3, 4] [1, 2, 3]\n"
          ]
        }
      ]
    },
    {
      "cell_type": "code",
      "source": [
        "# However in this case since the list inside function is not same as list\n",
        "# outside. The changes made inside the function will not be reflected \n",
        "# outside\n",
        "def short(inputList):\n",
        "  inputList =[1,2,3]\n",
        "  inputList.append(4)\n",
        "  \n"
      ],
      "metadata": {
        "id": "jDodEXEvNPQC"
      },
      "execution_count": 6,
      "outputs": []
    },
    {
      "cell_type": "code",
      "source": [
        "inputList=[1,2,3]\n",
        "print(inputList)\n",
        "short(inputList)\n",
        "print(inputList)"
      ],
      "metadata": {
        "colab": {
          "base_uri": "https://localhost:8080/"
        },
        "id": "sIP7ziR4Nujr",
        "outputId": "8d742e59-51d6-4283-a0a0-e0530dbbac41"
      },
      "execution_count": 7,
      "outputs": [
        {
          "output_type": "stream",
          "name": "stdout",
          "text": [
            "[1, 2, 3]\n",
            "[1, 2, 3]\n"
          ]
        }
      ]
    },
    {
      "cell_type": "code",
      "source": [
        "# But as in this case if you have returned the updated list then and \n",
        "# replaced your old list with returned value then changes will be reflected\n",
        "def short(inputList):\n",
        "    inputList = [1, 2, 3]\n",
        "    inputList.append(23)\n",
        "    return inputList\n",
        "\n",
        "inputList = [1, 2, 3]\n",
        "print(inputList)\n",
        "inputList = short(inputList)\n",
        "print(inputList)"
      ],
      "metadata": {
        "colab": {
          "base_uri": "https://localhost:8080/"
        },
        "id": "Xxb-BWNyN6Cc",
        "outputId": "2a7adf10-4bd9-453f-d775-12a299405f2a"
      },
      "execution_count": 8,
      "outputs": [
        {
          "output_type": "stream",
          "name": "stdout",
          "text": [
            "[1, 2, 3]\n",
            "[1, 2, 3, 23]\n"
          ]
        }
      ]
    },
    {
      "cell_type": "code",
      "source": [
        "#same behavior for dictionary\n",
        "def disp(a):\n",
        "  a[\"key3\"] = 3\n",
        "\n",
        "a= {\"key1\": 1,\"Key2\" : 2}\n",
        "print(a)\n",
        "disp(a)\n",
        "print(a)\n"
      ],
      "metadata": {
        "colab": {
          "base_uri": "https://localhost:8080/"
        },
        "id": "eu9ZjSH_Qtma",
        "outputId": "7c0d5bfb-7b49-4935-9c8b-942765546067"
      },
      "execution_count": 11,
      "outputs": [
        {
          "output_type": "stream",
          "name": "stdout",
          "text": [
            "{'key1': 1, 'Key2': 2}\n",
            "{'key1': 1, 'Key2': 2, 'key3': 3}\n"
          ]
        }
      ]
    },
    {
      "cell_type": "code",
      "source": [
        "#this behavior doesn't affect immutable variable\n",
        "def san(int_a):\n",
        "  int_a +=2\n",
        "\n",
        "int_a=8\n",
        "print(int_a)\n",
        "san(int_a)\n",
        "print(int_a)\n"
      ],
      "metadata": {
        "colab": {
          "base_uri": "https://localhost:8080/"
        },
        "id": "w4b2MLRZRXj3",
        "outputId": "a6f1f2d5-70eb-48d4-ec27-59fec93d384f"
      },
      "execution_count": 12,
      "outputs": [
        {
          "output_type": "stream",
          "name": "stdout",
          "text": [
            "8\n",
            "8\n"
          ]
        }
      ]
    },
    {
      "cell_type": "code",
      "source": [
        "def san(str_a):\n",
        "  str_a +='work'\n",
        "\n",
        "str_a='good'\n",
        "print(str_a)\n",
        "san(str_a)\n",
        "print(str_a)"
      ],
      "metadata": {
        "colab": {
          "base_uri": "https://localhost:8080/"
        },
        "id": "u9OfpSlJTrYj",
        "outputId": "a766d549-7977-45c1-8c7f-3b5855a4acb2"
      },
      "execution_count": 13,
      "outputs": [
        {
          "output_type": "stream",
          "name": "stdout",
          "text": [
            "good\n",
            "good\n"
          ]
        }
      ]
    },
    {
      "cell_type": "markdown",
      "source": [
        "## lambda function"
      ],
      "metadata": {
        "id": "Txihm-58T_St"
      }
    },
    {
      "cell_type": "code",
      "source": [
        "# syntax of Lambda\n",
        "# lambda [arg1 [,arg2,.....argn]]:expression\n"
      ],
      "metadata": {
        "id": "J6eJuXnLUvHc"
      },
      "execution_count": 14,
      "outputs": []
    },
    {
      "cell_type": "code",
      "source": [
        "s = lambda arg1: arg1+10\n",
        "s(2)"
      ],
      "metadata": {
        "colab": {
          "base_uri": "https://localhost:8080/"
        },
        "id": "o0VI7e9FUzYi",
        "outputId": "e5316230-7f78-4a21-f38e-dc3ed64d869d"
      },
      "execution_count": 16,
      "outputs": [
        {
          "output_type": "execute_result",
          "data": {
            "text/plain": [
              "12"
            ]
          },
          "metadata": {},
          "execution_count": 16
        }
      ]
    },
    {
      "cell_type": "code",
      "source": [
        "s(50)"
      ],
      "metadata": {
        "colab": {
          "base_uri": "https://localhost:8080/"
        },
        "id": "GsUYAh92Vgc1",
        "outputId": "2ebab82a-6559-43d6-fc73-bc967dd737e7"
      },
      "execution_count": 17,
      "outputs": [
        {
          "output_type": "execute_result",
          "data": {
            "text/plain": [
              "60"
            ]
          },
          "metadata": {},
          "execution_count": 17
        }
      ]
    },
    {
      "cell_type": "code",
      "source": [
        "s = lambda arg1,arg2: arg1+arg2\n",
        "s(7,8)"
      ],
      "metadata": {
        "colab": {
          "base_uri": "https://localhost:8080/"
        },
        "id": "dXgLLIWjV6kk",
        "outputId": "58fca369-1ebe-470e-c009-accf524aaf99"
      },
      "execution_count": 19,
      "outputs": [
        {
          "output_type": "execute_result",
          "data": {
            "text/plain": [
              "15"
            ]
          },
          "metadata": {},
          "execution_count": 19
        }
      ]
    },
    {
      "cell_type": "code",
      "source": [
        "#same as noram functions if a argument is missing, it will throw error\n",
        "s(7)"
      ],
      "metadata": {
        "colab": {
          "base_uri": "https://localhost:8080/",
          "height": 187
        },
        "id": "J4HMNRaHWdEP",
        "outputId": "974b6c80-383b-474f-e8b9-24972f93010a"
      },
      "execution_count": 20,
      "outputs": [
        {
          "output_type": "error",
          "ename": "TypeError",
          "evalue": "ignored",
          "traceback": [
            "\u001b[0;31m---------------------------------------------------------------------------\u001b[0m",
            "\u001b[0;31mTypeError\u001b[0m                                 Traceback (most recent call last)",
            "\u001b[0;32m<ipython-input-20-294512b730cb>\u001b[0m in \u001b[0;36m<module>\u001b[0;34m\u001b[0m\n\u001b[1;32m      1\u001b[0m \u001b[0;31m#same as noram functions if a argument is missing, it will throw error\u001b[0m\u001b[0;34m\u001b[0m\u001b[0;34m\u001b[0m\u001b[0;34m\u001b[0m\u001b[0m\n\u001b[0;32m----> 2\u001b[0;31m \u001b[0ms\u001b[0m\u001b[0;34m(\u001b[0m\u001b[0;36m7\u001b[0m\u001b[0;34m)\u001b[0m\u001b[0;34m\u001b[0m\u001b[0;34m\u001b[0m\u001b[0m\n\u001b[0m",
            "\u001b[0;31mTypeError\u001b[0m: <lambda>() missing 1 required positional argument: 'arg2'"
          ]
        }
      ]
    },
    {
      "cell_type": "markdown",
      "source": [
        "##return statement"
      ],
      "metadata": {
        "id": "orsiy6NZWxR1"
      }
    },
    {
      "cell_type": "markdown",
      "source": [
        "The statement `return [expression]` exits a function, optionally passing back an expression to the caller. A return statement with no arguments is the same as return None."
      ],
      "metadata": {
        "id": "aMYaHO0lW-ah"
      }
    },
    {
      "cell_type": "code",
      "source": [
        "def sum(int1,int2):\n",
        "  return int1 + int2\n"
      ],
      "metadata": {
        "id": "Kao8S6pfXFlC"
      },
      "execution_count": 21,
      "outputs": []
    },
    {
      "cell_type": "code",
      "source": [
        "def dis(int1):\n",
        "  print(int1)"
      ],
      "metadata": {
        "id": "dkWFHApOXhZY"
      },
      "execution_count": 22,
      "outputs": []
    },
    {
      "cell_type": "code",
      "source": [
        "sum(6,7)"
      ],
      "metadata": {
        "colab": {
          "base_uri": "https://localhost:8080/"
        },
        "id": "olX6usUGXtT4",
        "outputId": "0e71c9ce-36ab-42ac-f022-cea6438aa559"
      },
      "execution_count": 23,
      "outputs": [
        {
          "output_type": "execute_result",
          "data": {
            "text/plain": [
              "13"
            ]
          },
          "metadata": {},
          "execution_count": 23
        }
      ]
    },
    {
      "cell_type": "code",
      "source": [
        "a= sum(6,7)\n",
        "print(a)"
      ],
      "metadata": {
        "colab": {
          "base_uri": "https://localhost:8080/"
        },
        "id": "ZYu8-2OtXzGi",
        "outputId": "0cbe2295-0ef0-4005-9f67-97f7a718a582"
      },
      "execution_count": 24,
      "outputs": [
        {
          "output_type": "stream",
          "name": "stdout",
          "text": [
            "13\n"
          ]
        }
      ]
    },
    {
      "cell_type": "code",
      "source": [
        "print(dis(78))"
      ],
      "metadata": {
        "colab": {
          "base_uri": "https://localhost:8080/"
        },
        "id": "5_4zX_Q6X_6I",
        "outputId": "90efd9c3-22b9-4138-ed63-a383328cf7d7"
      },
      "execution_count": 27,
      "outputs": [
        {
          "output_type": "stream",
          "name": "stdout",
          "text": [
            "78\n",
            "None\n"
          ]
        }
      ]
    },
    {
      "cell_type": "code",
      "source": [
        "a=dis(2)\n"
      ],
      "metadata": {
        "colab": {
          "base_uri": "https://localhost:8080/"
        },
        "id": "08dTs_92YJpC",
        "outputId": "85184b9f-af45-4a4e-8ef2-232dd5230782"
      },
      "execution_count": 28,
      "outputs": [
        {
          "output_type": "stream",
          "name": "stdout",
          "text": [
            "2\n"
          ]
        }
      ]
    },
    {
      "cell_type": "code",
      "source": [
        "print(a)"
      ],
      "metadata": {
        "colab": {
          "base_uri": "https://localhost:8080/"
        },
        "id": "1do0XuU0YckG",
        "outputId": "0bb45a10-9023-4f68-c18d-94f4ca453fa2"
      },
      "execution_count": 29,
      "outputs": [
        {
          "output_type": "stream",
          "name": "stdout",
          "text": [
            "None\n"
          ]
        }
      ]
    },
    {
      "cell_type": "code",
      "source": [
        ""
      ],
      "metadata": {
        "id": "57H8mb-oYfdb"
      },
      "execution_count": null,
      "outputs": []
    }
  ]
}