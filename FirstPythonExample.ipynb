{
  "nbformat": 4,
  "nbformat_minor": 0,
  "metadata": {
    "colab": {
      "name": "FirstPythonExample.ipynb",
      "provenance": [],
      "authorship_tag": "ABX9TyNm5GKO0O7M8kc5O2EAmRB2",
      "include_colab_link": true
    },
    "kernelspec": {
      "name": "python3",
      "display_name": "Python 3"
    },
    "language_info": {
      "name": "python"
    }
  },
  "cells": [
    {
      "cell_type": "markdown",
      "metadata": {
        "id": "view-in-github",
        "colab_type": "text"
      },
      "source": [
        "<a href=\"https://colab.research.google.com/github/santhoshmc/machine-learning/blob/main/FirstPythonExample.ipynb\" target=\"_parent\"><img src=\"https://colab.research.google.com/assets/colab-badge.svg\" alt=\"Open In Colab\"/></a>"
      ]
    },
    {
      "cell_type": "markdown",
      "source": [
        "# print"
      ],
      "metadata": {
        "id": "ScDSS19vVrFe"
      }
    },
    {
      "cell_type": "code",
      "execution_count": 2,
      "metadata": {
        "colab": {
          "base_uri": "https://localhost:8080/"
        },
        "id": "o8zTP2etTzK1",
        "outputId": "5f8605ba-f48f-41e4-90c7-4f881242e5ff"
      },
      "outputs": [
        {
          "output_type": "stream",
          "name": "stdout",
          "text": [
            "0\n"
          ]
        }
      ],
      "source": [
        "print(0)"
      ]
    },
    {
      "cell_type": "code",
      "source": [
        "print(\"first book\")"
      ],
      "metadata": {
        "colab": {
          "base_uri": "https://localhost:8080/"
        },
        "id": "Z-sMTW4MUK2A",
        "outputId": "035fb0f3-abeb-4367-eca2-cbd712388a42"
      },
      "execution_count": 3,
      "outputs": [
        {
          "output_type": "stream",
          "name": "stdout",
          "text": [
            "first book\n"
          ]
        }
      ]
    },
    {
      "cell_type": "code",
      "source": [
        "print(0 * 5)"
      ],
      "metadata": {
        "colab": {
          "base_uri": "https://localhost:8080/"
        },
        "id": "qRuw5Ev6UQ1N",
        "outputId": "7c5a5656-3487-426f-8671-10f4ef772c07"
      },
      "execution_count": 4,
      "outputs": [
        {
          "output_type": "stream",
          "name": "stdout",
          "text": [
            "0\n"
          ]
        }
      ]
    },
    {
      "cell_type": "code",
      "source": [
        "print(\"first book\" * 5)"
      ],
      "metadata": {
        "colab": {
          "base_uri": "https://localhost:8080/"
        },
        "id": "G3VJ-O-NUbPB",
        "outputId": "3bfe4ecb-d122-4b9d-fe4a-0788c17dae88"
      },
      "execution_count": 5,
      "outputs": [
        {
          "output_type": "stream",
          "name": "stdout",
          "text": [
            "first bookfirst bookfirst bookfirst bookfirst book\n"
          ]
        }
      ]
    },
    {
      "cell_type": "code",
      "source": [
        "print( 0 + 5)"
      ],
      "metadata": {
        "colab": {
          "base_uri": "https://localhost:8080/"
        },
        "id": "A36Mjnz-Uj5D",
        "outputId": "d9d48468-d4c4-4de3-c96c-58d08e81e6f9"
      },
      "execution_count": 6,
      "outputs": [
        {
          "output_type": "stream",
          "name": "stdout",
          "text": [
            "5\n"
          ]
        }
      ]
    },
    {
      "cell_type": "code",
      "source": [
        "print(\"first book\" + 5)"
      ],
      "metadata": {
        "colab": {
          "base_uri": "https://localhost:8080/",
          "height": 169
        },
        "id": "CzZYgjdzUuxE",
        "outputId": "c668dc13-f98e-4938-ec39-1012420eb4ae"
      },
      "execution_count": 7,
      "outputs": [
        {
          "output_type": "error",
          "ename": "TypeError",
          "evalue": "ignored",
          "traceback": [
            "\u001b[0;31m---------------------------------------------------------------------------\u001b[0m",
            "\u001b[0;31mTypeError\u001b[0m                                 Traceback (most recent call last)",
            "\u001b[0;32m<ipython-input-7-921917abd9d6>\u001b[0m in \u001b[0;36m<module>\u001b[0;34m()\u001b[0m\n\u001b[0;32m----> 1\u001b[0;31m \u001b[0mprint\u001b[0m\u001b[0;34m(\u001b[0m\u001b[0;34m\"first book\"\u001b[0m \u001b[0;34m+\u001b[0m \u001b[0;36m5\u001b[0m\u001b[0;34m)\u001b[0m\u001b[0;34m\u001b[0m\u001b[0;34m\u001b[0m\u001b[0m\n\u001b[0m",
            "\u001b[0;31mTypeError\u001b[0m: can only concatenate str (not \"int\") to str"
          ]
        }
      ]
    },
    {
      "cell_type": "markdown",
      "source": [
        "# variables"
      ],
      "metadata": {
        "id": "BFQ_9halU0wn"
      }
    },
    {
      "cell_type": "code",
      "source": [
        "integer_variable = 2\n",
        "integerVariable = 3\n",
        "floatVariable = 5.0\n",
        "stringVariable = 'Fox'\n",
        "print(type(integerVariable))\n"
      ],
      "metadata": {
        "colab": {
          "base_uri": "https://localhost:8080/"
        },
        "id": "fOT8GFEJWF_K",
        "outputId": "c9a013cf-3be9-4dc5-e2f4-425a1291bccd"
      },
      "execution_count": 8,
      "outputs": [
        {
          "output_type": "stream",
          "name": "stdout",
          "text": [
            "<class 'int'>\n"
          ]
        }
      ]
    },
    {
      "cell_type": "code",
      "source": [
        "a = b = c = 6"
      ],
      "metadata": {
        "id": "lnfBuiXnXYbe"
      },
      "execution_count": 11,
      "outputs": []
    },
    {
      "cell_type": "code",
      "source": [
        "a, b, c = 6, 7.0, 'raj'"
      ],
      "metadata": {
        "id": "JNnlsVXDXj7y"
      },
      "execution_count": 12,
      "outputs": []
    },
    {
      "cell_type": "code",
      "source": [
        "print(a, b, c)"
      ],
      "metadata": {
        "colab": {
          "base_uri": "https://localhost:8080/"
        },
        "id": "1_sLbtN0X8bU",
        "outputId": "7315f7a9-9937-4c7c-cc83-471063629c68"
      },
      "execution_count": 13,
      "outputs": [
        {
          "output_type": "stream",
          "name": "stdout",
          "text": [
            "6 7.0 raj\n"
          ]
        }
      ]
    },
    {
      "cell_type": "code",
      "source": [
        "a, b, c = 6,7"
      ],
      "metadata": {
        "colab": {
          "base_uri": "https://localhost:8080/",
          "height": 169
        },
        "id": "As_djwCkYTjP",
        "outputId": "da570915-c36d-4768-903d-6438c0ce5e87"
      },
      "execution_count": 14,
      "outputs": [
        {
          "output_type": "error",
          "ename": "ValueError",
          "evalue": "ignored",
          "traceback": [
            "\u001b[0;31m---------------------------------------------------------------------------\u001b[0m",
            "\u001b[0;31mValueError\u001b[0m                                Traceback (most recent call last)",
            "\u001b[0;32m<ipython-input-14-808412040e24>\u001b[0m in \u001b[0;36m<module>\u001b[0;34m()\u001b[0m\n\u001b[0;32m----> 1\u001b[0;31m \u001b[0ma\u001b[0m\u001b[0;34m,\u001b[0m \u001b[0mb\u001b[0m\u001b[0;34m,\u001b[0m \u001b[0mc\u001b[0m \u001b[0;34m=\u001b[0m \u001b[0;36m6\u001b[0m\u001b[0;34m,\u001b[0m\u001b[0;36m7\u001b[0m\u001b[0;34m\u001b[0m\u001b[0;34m\u001b[0m\u001b[0m\n\u001b[0m",
            "\u001b[0;31mValueError\u001b[0m: not enough values to unpack (expected 3, got 2)"
          ]
        }
      ]
    },
    {
      "cell_type": "code",
      "source": [
        "help(\"keywords\")"
      ],
      "metadata": {
        "colab": {
          "base_uri": "https://localhost:8080/"
        },
        "id": "w-5Qb109YuJQ",
        "outputId": "34e4c987-1586-484f-ffeb-ef06d00cd7bc"
      },
      "execution_count": 15,
      "outputs": [
        {
          "output_type": "stream",
          "name": "stdout",
          "text": [
            "\n",
            "Here is a list of the Python keywords.  Enter any keyword to get more help.\n",
            "\n",
            "False               class               from                or\n",
            "None                continue            global              pass\n",
            "True                def                 if                  raise\n",
            "and                 del                 import              return\n",
            "as                  elif                in                  try\n",
            "assert              else                is                  while\n",
            "async               except              lambda              with\n",
            "await               finally             nonlocal            yield\n",
            "break               for                 not                 \n",
            "\n"
          ]
        }
      ]
    },
    {
      "cell_type": "markdown",
      "source": [
        "# lines and indentation"
      ],
      "metadata": {
        "id": "LB6xbDE0ZOfR"
      }
    },
    {
      "cell_type": "code",
      "source": [
        "a = 24\n",
        "if a == 23:\n",
        "  print(\"equals to 23\")\n",
        "else:\n",
        "  if a < 23:\n",
        "    print(\"small than 23\")\n",
        "  else:\n",
        "    print(\"greater than 23\")"
      ],
      "metadata": {
        "colab": {
          "base_uri": "https://localhost:8080/"
        },
        "id": "VMtRYxpaZX08",
        "outputId": "39b0c855-db27-4a5a-d91d-aaa653748195"
      },
      "execution_count": 16,
      "outputs": [
        {
          "output_type": "stream",
          "name": "stdout",
          "text": [
            "greater than 23\n"
          ]
        }
      ]
    },
    {
      "cell_type": "markdown",
      "source": [
        "# quatations"
      ],
      "metadata": {
        "id": "n0QgwdQ6akGh"
      }
    },
    {
      "cell_type": "code",
      "source": [
        "a = ' \"camel\" '\n",
        "b = \"camel\"\n",
        "c = '''bull\n",
        "on road\n",
        "is cheap'''"
      ],
      "metadata": {
        "id": "py6C6zvQbSzI"
      },
      "execution_count": 19,
      "outputs": []
    },
    {
      "cell_type": "code",
      "source": [
        "print(a, b, c)"
      ],
      "metadata": {
        "colab": {
          "base_uri": "https://localhost:8080/"
        },
        "id": "XiWCb21vc9Do",
        "outputId": "069ce618-c8f3-40e4-ec8f-3820e62f8186"
      },
      "execution_count": 21,
      "outputs": [
        {
          "output_type": "stream",
          "name": "stdout",
          "text": [
            " \"camel\"  camel bull\n",
            "on road\n",
            "is cheap\n"
          ]
        }
      ]
    },
    {
      "cell_type": "markdown",
      "source": [
        "#Comments"
      ],
      "metadata": {
        "id": "-gyFGrvkdCRe"
      }
    },
    {
      "cell_type": "code",
      "source": [
        "# this is a test\n"
      ],
      "metadata": {
        "id": "hY6L55BQdNnM"
      },
      "execution_count": 22,
      "outputs": []
    },
    {
      "cell_type": "code",
      "source": [
        "''' this is also a comment\n",
        "test2'''\n"
      ],
      "metadata": {
        "colab": {
          "base_uri": "https://localhost:8080/",
          "height": 35
        },
        "id": "ELXMgu0rdVpo",
        "outputId": "5954e253-dbb9-4e53-94a7-5a6d3ecae732"
      },
      "execution_count": 23,
      "outputs": [
        {
          "output_type": "execute_result",
          "data": {
            "text/plain": [
              "' this is also a comment\\ntest2'"
            ],
            "application/vnd.google.colaboratory.intrinsic+json": {
              "type": "string"
            }
          },
          "metadata": {},
          "execution_count": 23
        }
      ]
    },
    {
      "cell_type": "markdown",
      "source": [
        "#Standard Data types\n"
      ],
      "metadata": {
        "id": "h559P3_vd1Rp"
      }
    },
    {
      "cell_type": "code",
      "source": [
        "# this is a string\n",
        "p = 'Dog'\n",
        "print(type(p), p)\n"
      ],
      "metadata": {
        "colab": {
          "base_uri": "https://localhost:8080/"
        },
        "id": "aJl7_OaweAtG",
        "outputId": "e6e71508-b092-474b-d831-67490501779c"
      },
      "execution_count": 24,
      "outputs": [
        {
          "output_type": "stream",
          "name": "stdout",
          "text": [
            "<class 'str'> Dog\n"
          ]
        }
      ]
    },
    {
      "cell_type": "code",
      "source": [
        "# These are all numbers\n",
        "x = 9\n",
        "y = 4.5\n",
        "z = -3\n",
        "p = -3.2\n",
        "print(type(x),type(y), type(z), type(p))"
      ],
      "metadata": {
        "colab": {
          "base_uri": "https://localhost:8080/"
        },
        "id": "r_hAyxEpeuj6",
        "outputId": "7194577d-cfd4-430d-bd1d-85fb00b3555e"
      },
      "execution_count": 29,
      "outputs": [
        {
          "output_type": "stream",
          "name": "stdout",
          "text": [
            "<class 'int'> <class 'float'> <class 'int'> <class 'float'>\n"
          ]
        }
      ]
    },
    {
      "cell_type": "code",
      "source": [
        "#List\n",
        "a=[1,2,3,4]\n",
        "print(a)\n",
        "print(len(a))"
      ],
      "metadata": {
        "colab": {
          "base_uri": "https://localhost:8080/"
        },
        "id": "n4GzJ2YbgEH5",
        "outputId": "f0296115-b535-4711-b03e-f93bd657aae7"
      },
      "execution_count": 31,
      "outputs": [
        {
          "output_type": "stream",
          "name": "stdout",
          "text": [
            "[1, 2, 3, 4]\n",
            "4\n"
          ]
        }
      ]
    },
    {
      "cell_type": "code",
      "source": [
        "b=[3,5.4,\"san\"]\n",
        "print(b, len(b), type(b))\n"
      ],
      "metadata": {
        "colab": {
          "base_uri": "https://localhost:8080/"
        },
        "id": "L1mf1u30gnkI",
        "outputId": "aa6fbb83-fd86-43f6-ee19-5d86f9267f81"
      },
      "execution_count": 34,
      "outputs": [
        {
          "output_type": "stream",
          "name": "stdout",
          "text": [
            "[3, 5.4, 'san'] 3 <class 'list'>\n"
          ]
        }
      ]
    },
    {
      "cell_type": "code",
      "source": [
        "#Tuples\n",
        "a= (3,6.7,'cat')\n",
        "print(a , type(a))"
      ],
      "metadata": {
        "colab": {
          "base_uri": "https://localhost:8080/"
        },
        "id": "r7O1WlBCiNf0",
        "outputId": "6e936c6f-d89a-48e5-c354-9c42d22cb486"
      },
      "execution_count": 38,
      "outputs": [
        {
          "output_type": "stream",
          "name": "stdout",
          "text": [
            "(3, 6.7, 'cat') <class 'tuple'>\n"
          ]
        }
      ]
    },
    {
      "cell_type": "code",
      "source": [
        "#dictionaries\n",
        "x= {\"key1\":\"value1\", \"key2\": \"value2\"}\n",
        "y= {1:2, 3:x}\n",
        "print(x,y,type(x), type(y))"
      ],
      "metadata": {
        "colab": {
          "base_uri": "https://localhost:8080/"
        },
        "id": "nbGy4CQkiEJT",
        "outputId": "0f38f304-c3eb-452a-a956-fab9b6259244"
      },
      "execution_count": 40,
      "outputs": [
        {
          "output_type": "stream",
          "name": "stdout",
          "text": [
            "{'key1': 'value1', 'key2': 'value2'} {1: 2, 3: {'key1': 'value1', 'key2': 'value2'}} <class 'dict'> <class 'dict'>\n"
          ]
        }
      ]
    },
    {
      "cell_type": "code",
      "source": [
        "# Virtual Environment\n",
        "\n",
        "**What is a Virtual Environment?**\n",
        "\n",
        "A virtual environment is a Python environment such that the Python interpreter, libraries and scripts installed into it are isolated from those installed in other virtual environments, and (by default) any libraries installed in a “system” Python, i.e., one which is installed as part of your operating system.\n",
        "\n",
        "\n",
        "**Why do we create a VENV?**\n",
        "\n",
        "A Virtual Environment is created when we don't want Libraries (and their dependencies) of one project in our system to interfere with Libraries of other project in our system.\n",
        "\n",
        "For example, We have two projects in our system:\n",
        "\n",
        "Project 1: Resume Parser\n",
        "\n",
        "Project 2: JD Matcher\n",
        "\n",
        "Both of these projects require an open-source Numpy package but the version that they require is different. So that will create a clash between two projects. \n",
        "\n",
        "So the best way to avoid such clashes is to create two separate virtual environments for these two projects and install corresponding dependecies in respective VENVs.\n",
        "\n",
        "\n",
        "**How do we create a VENV?**\n",
        "\n",
        "`python3 -m venv /path/to/new/virtual/environment`\n",
        "\n",
        "\n",
        "\n",
        "**How we invoke Virtual Environment?**\n",
        "\n",
        "On Windows, invoke the venv command as follows:\n",
        "\n",
        "`.\\envname\\Scripts\\activate`\n",
        "\n",
        "On Linux (Ubuntu) use this command:\n",
        "\n",
        "`source myenv/bin/activate`\n",
        "\n",
        "\n",
        "\n"
      ],
      "metadata": {
        "id": "3oVwqAdSehQS"
      },
      "execution_count": null,
      "outputs": []
    }
  ]
}