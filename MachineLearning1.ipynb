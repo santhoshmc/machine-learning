{
  "nbformat": 4,
  "nbformat_minor": 0,
  "metadata": {
    "colab": {
      "provenance": [],
      "collapsed_sections": [],
      "authorship_tag": "ABX9TyN+wW4+IMKjNUB/z3H+oswQ",
      "include_colab_link": true
    },
    "kernelspec": {
      "name": "python3",
      "display_name": "Python 3"
    },
    "language_info": {
      "name": "python"
    }
  },
  "cells": [
    {
      "cell_type": "markdown",
      "metadata": {
        "id": "view-in-github",
        "colab_type": "text"
      },
      "source": [
        "<a href=\"https://colab.research.google.com/github/santhoshmc/machine-learning/blob/main/MachineLearning1.ipynb\" target=\"_parent\"><img src=\"https://colab.research.google.com/assets/colab-badge.svg\" alt=\"Open In Colab\"/></a>"
      ]
    },
    {
      "cell_type": "markdown",
      "source": [
        "#Model Representation"
      ],
      "metadata": {
        "id": "-CYqg18TnheX"
      }
    },
    {
      "cell_type": "code",
      "source": [
        "import numpy as np\n",
        "import matplotlib.pyplot as plt"
      ],
      "metadata": {
        "id": "IcHV8Is6nzFd"
      },
      "execution_count": 1,
      "outputs": []
    },
    {
      "cell_type": "code",
      "source": [
        "x_train = np.array([1.0,2.0])\n",
        "y_train = np.array([300.0,500.0])\n",
        "print(x_train)\n",
        "print(y_train)"
      ],
      "metadata": {
        "colab": {
          "base_uri": "https://localhost:8080/"
        },
        "id": "FN1S--groC51",
        "outputId": "c9be847e-6a39-4d99-b395-500958476698"
      },
      "execution_count": 2,
      "outputs": [
        {
          "output_type": "stream",
          "name": "stdout",
          "text": [
            "[1. 2.]\n",
            "[300. 500.]\n"
          ]
        }
      ]
    },
    {
      "cell_type": "code",
      "source": [
        "#m is the number of training examples\n",
        "m = x_train.shape[0]\n",
        "print(f\"Number trainingg examples:{m}\")"
      ],
      "metadata": {
        "colab": {
          "base_uri": "https://localhost:8080/"
        },
        "id": "QHavdkuRol9U",
        "outputId": "3db56552-57e7-48f7-bd3e-c170ac0284f3"
      },
      "execution_count": 3,
      "outputs": [
        {
          "output_type": "stream",
          "name": "stdout",
          "text": [
            "Number trainingg examples:2\n"
          ]
        }
      ]
    },
    {
      "cell_type": "code",
      "source": [
        "len(x_train)"
      ],
      "metadata": {
        "colab": {
          "base_uri": "https://localhost:8080/"
        },
        "id": "BA0VNpx0pWJE",
        "outputId": "a4bf5ed6-c6c7-406c-8b9d-a157393cfbba"
      },
      "execution_count": 4,
      "outputs": [
        {
          "output_type": "execute_result",
          "data": {
            "text/plain": [
              "2"
            ]
          },
          "metadata": {},
          "execution_count": 4
        }
      ]
    },
    {
      "cell_type": "code",
      "source": [
        "#training example x_i,y_i\n",
        "i = 0\n",
        "x_i = x_train[i]\n",
        "y_i = y_train[i]\n",
        "print(f\"(x^({i}), y^({i}) = ({x_i},{y_i})\")"
      ],
      "metadata": {
        "colab": {
          "base_uri": "https://localhost:8080/"
        },
        "id": "rV6BWJBTpdko",
        "outputId": "7ee20766-ec3e-4a98-b46e-242f3a8d9a77"
      },
      "execution_count": 5,
      "outputs": [
        {
          "output_type": "stream",
          "name": "stdout",
          "text": [
            "(x^(0), y^(0) = (1.0,300.0)\n"
          ]
        }
      ]
    },
    {
      "cell_type": "code",
      "source": [
        "#Plot the data"
      ],
      "metadata": {
        "id": "xtmGqI0IqhVT"
      },
      "execution_count": null,
      "outputs": []
    },
    {
      "cell_type": "code",
      "source": [
        "plt.scatter(x_train, y_train, marker=\"x\", c=\"r\")\n",
        "plt.title(\"Housing Prices\")\n",
        "plt.ylabel(\"Price in '1000s dollars\")\n",
        "plt.xlabel(\"size in 1000 sqft\")\n",
        "plt.show()"
      ],
      "metadata": {
        "colab": {
          "base_uri": "https://localhost:8080/",
          "height": 295
        },
        "id": "DJR65_3zqsQs",
        "outputId": "da64f4fc-033c-4c93-be48-07e24d57316c"
      },
      "execution_count": 6,
      "outputs": [
        {
          "output_type": "display_data",
          "data": {
            "text/plain": [
              "<Figure size 432x288 with 1 Axes>"
            ],
            "image/png": "[encoded data removed]"
          },
          "metadata": {
            "needs_background": "light"
          }
        }
      ]
    },
    {
      "cell_type": "code",
      "source": [
        "#Model Function"
      ],
      "metadata": {
        "id": "LgWGh7j4rvr7"
      },
      "execution_count": 7,
      "outputs": []
    },
    {
      "cell_type": "markdown",
      "source": [
        "$$f_{w,b}(x^{(i)}) = wx^{(i)} + b \\tag{1}$$"
      ],
      "metadata": {
        "id": "OKXqd_0MsLTm"
      }
    },
    {
      "cell_type": "code",
      "source": [
        "w = 300\n",
        "b = 100\n"
      ],
      "metadata": {
        "id": "GyYSygPDsY3V"
      },
      "execution_count": 18,
      "outputs": []
    },
    {
      "cell_type": "code",
      "source": [
        "# compute the prediction for a liner model\n",
        "def creating_model_output(x,w,b):\n",
        "  m = x.shape[0]\n",
        "  f_wb = np.zeros(m)\n",
        "  for i in range(m):\n",
        "    f_wb[i] = w * x[i]+b\n",
        "  return f_wb\n"
      ],
      "metadata": {
        "id": "des6JPX_s0e4"
      },
      "execution_count": 19,
      "outputs": []
    },
    {
      "cell_type": "code",
      "source": [
        "tmp_f_wb = creating_model_output(x_train,w,b)\n",
        "print(tmp_f_wb)"
      ],
      "metadata": {
        "colab": {
          "base_uri": "https://localhost:8080/"
        },
        "id": "JBZme00Ot_Pl",
        "outputId": "3c61df22-91a2-49c5-b621-282c657b1bbe"
      },
      "execution_count": 20,
      "outputs": [
        {
          "output_type": "stream",
          "name": "stdout",
          "text": [
            "[400. 700.]\n"
          ]
        }
      ]
    },
    {
      "cell_type": "code",
      "source": [
        "plt.plot(x_train, tmp_f_wb, c='b' , label = \"prediction\")\n",
        "plt.scatter(x_train, y_train, marker =\"x\", c=\"r\", label='Actual Values')\n",
        "plt.title(\"Housing Prices\")\n",
        "plt.ylabel(\"Price in '1000s dollars\")\n",
        "plt.xlabel(\"size in 1000 sqft\")\n",
        "plt.legend()\n",
        "plt.show()"
      ],
      "metadata": {
        "colab": {
          "base_uri": "https://localhost:8080/",
          "height": 295
        },
        "id": "0XNLiPz4vJ1A",
        "outputId": "121bdf08-4412-4841-b25d-e177b38499d6"
      },
      "execution_count": 21,
      "outputs": [
        {
          "output_type": "display_data",
          "data": {
            "text/plain": [
              "<Figure size 432x288 with 1 Axes>"
            ],
            "image/png": "[encoded data removed]"
          },
          "metadata": {
            "needs_background": "light"
          }
        }
      ]
    },
    {
      "cell_type": "code",
      "source": [
        "x_i=1.2\n",
        "predicted_value = w * x_i+b\n",
        "print(predicted_value)"
      ],
      "metadata": {
        "colab": {
          "base_uri": "https://localhost:8080/"
        },
        "id": "UWMMn06bwGNd",
        "outputId": "e14d16f9-da15-466e-dc76-ec2277a19b25"
      },
      "execution_count": 22,
      "outputs": [
        {
          "output_type": "stream",
          "name": "stdout",
          "text": [
            "460.0\n"
          ]
        }
      ]
    },
    {
      "cell_type": "code",
      "source": [],
      "metadata": {
        "id": "bxOUnn7FxVJB"
      },
      "execution_count": null,
      "outputs": []
    }
  ]
}