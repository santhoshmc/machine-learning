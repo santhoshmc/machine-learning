{
  "nbformat": 4,
  "nbformat_minor": 0,
  "metadata": {
    "colab": {
      "name": "PythonCodingStandards.ipynb",
      "provenance": [],
      "collapsed_sections": [
        "xpDPt6zKJZ5P",
        "7HeWI1hnLgWF",
        "XBRp33ioLtgc",
        "SeXhyStlM1oj",
        "gEtAZLx9M1tU",
        "eTb7cYvSM16H",
        "fWXrgtPBM2CN",
        "zM2OfrI4P-QS",
        "Ept0uUBwVd2m",
        "PBn8qdFJUP3l",
        "IyeNTf8rUP8G",
        "025xhVD9UP-d",
        "fyLP--VoZUT4",
        "LK63tw94bhym",
        "Kzv98oZkbh-m",
        "G93hDjhSe7wc",
        "OmDDmoMhe-Qk",
        "AuVo1ZjKexy7",
        "M1VVUe1Bfh4_",
        "Rv1ogLyefxTi",
        "_7iVmIxPf_jS",
        "KRmMbvK7hvjh",
        "q7Yk6C_6hyO5",
        "Cyj__VjTiNOM",
        "rWTAVhnxiaur",
        "2ZXdegDMjp6_",
        "wVitZ0cEj833",
        "8XfRB-avkN90",
        "DYmOWJ-SkXYj",
        "-waGq8D7oXQf",
        "eE-h1XyNq4pC"
      ]
    },
    "kernelspec": {
      "name": "python3",
      "display_name": "Python 3"
    },
    "language_info": {
      "name": "python"
    }
  },
  "cells": [
    {
      "cell_type": "markdown",
      "source": [
        "# Standard Coding Standards PEP"
      ],
      "metadata": {
        "id": "xpDPt6zKJZ5P"
      }
    },
    {
      "cell_type": "markdown",
      "source": [
        "**Codes are read much more often than they are written.** \n",
        "\n",
        "The guidelines provided here are intended to improve the readability of code and make it consistent across the wide spectrum of Python code.\n",
        "\n",
        "<br>\n",
        "\n",
        "A style guide is about consistency. \n",
        "\n",
        "Consistency with this style guide is **important**. \n",
        "\n",
        "Consistency within a project is **more important**. \n",
        "\n",
        "Consistency within one module or function is the **most important**.\n",
        "\n",
        "<br>\n",
        "\n"
      ],
      "metadata": {
        "id": "6sebxJWxJcHX"
      }
    },
    {
      "cell_type": "markdown",
      "source": [
        "However, know when to be inconsistent – sometimes style guide recommendations just aren’t applicable. When in doubt, use your best judgment. Look at other examples and decide what looks best.\n",
        "\n",
        "In particular: do not break backwards compatibility just to comply with this PEP!"
      ],
      "metadata": {
        "id": "XVeGmjGMLCxU"
      }
    },
    {
      "cell_type": "markdown",
      "source": [
        "For example if your whole project is following certain standards from past few years then when you are adding a new script dont change that standards just because they dont follow PEP."
      ],
      "metadata": {
        "id": "mxO4-7vbLHpm"
      }
    },
    {
      "cell_type": "markdown",
      "source": [
        "## Code Lay-out"
      ],
      "metadata": {
        "id": "7HeWI1hnLgWF"
      }
    },
    {
      "cell_type": "markdown",
      "source": [
        "### Indentation"
      ],
      "metadata": {
        "id": "XBRp33ioLtgc"
      }
    },
    {
      "cell_type": "markdown",
      "source": [
        "**Use 4 spaces per indentation level.**\n",
        "\n",
        "Continuation lines should align wrapped elements either vertically using Python’s implicit line joining inside parentheses, brackets and braces, or using a hanging indent. When using a hanging indent the following should be considered; there should be no arguments on the first line and further indentation should be used to clearly distinguish itself as a continuation line:"
      ],
      "metadata": {
        "id": "m983ELl7MhGc"
      }
    },
    {
      "cell_type": "markdown",
      "source": [
        "Hanging indentation is a type-setting style where all the lines in a paragraph are indented except the first line. In the context of Python, the term is used to describe a style where the opening parenthesis of a parenthesized statement is the last non-whitespace character of the line, with subsequent lines being indented until the closing parenthesis."
      ],
      "metadata": {
        "id": "e5qpTFyoMdBM"
      }
    },
    {
      "cell_type": "code",
      "source": [
        "# Correct:\n",
        "\n",
        "# Aligned with opening delimiter.\n",
        "foo = long_function_name(var_one, var_two,\n",
        "                         var_three, var_four)\n",
        "\n",
        "# Add 4 spaces (an extra level of indentation) to distinguish arguments from the rest.\n",
        "def long_function_name(\n",
        "        var_one, var_two, var_three,\n",
        "        var_four):\n",
        "    print(var_one)\n",
        "\n",
        "# Hanging indents should add a level.\n",
        "foo = long_function_name(\n",
        "    var_one, var_two,\n",
        "    var_three, var_four)"
      ],
      "metadata": {
        "id": "-Na7PZi6MNt8"
      },
      "execution_count": null,
      "outputs": []
    },
    {
      "cell_type": "code",
      "source": [
        "# Wrong:\n",
        "\n",
        "# Arguments on first line forbidden when not using vertical alignment.\n",
        "foo = long_function_name(var_one, var_two,\n",
        "    var_three, var_four)\n",
        "\n",
        "# Further indentation required as indentation is not distinguishable.\n",
        "def long_function_name(\n",
        "    var_one, var_two, var_three,\n",
        "    var_four):\n",
        "    print(var_one)"
      ],
      "metadata": {
        "id": "F-x5RB8VMP_k"
      },
      "execution_count": null,
      "outputs": []
    },
    {
      "cell_type": "markdown",
      "source": [
        "**The 4-space rule is optional for continuation lines.**\n",
        "\n",
        "Optional:"
      ],
      "metadata": {
        "id": "1CLfZv_qMp9V"
      }
    },
    {
      "cell_type": "code",
      "source": [
        "# Hanging indents *may* be indented to other than 4 spaces.\n",
        "foo = long_function_name(\n",
        "  var_one, var_two,\n",
        "  var_three, var_four)"
      ],
      "metadata": {
        "id": "E-NL7tzWMuDD"
      },
      "execution_count": null,
      "outputs": []
    },
    {
      "cell_type": "markdown",
      "source": [
        "**When the conditional part of an if-statement is long enough to require that it be written across multiple lines**"
      ],
      "metadata": {
        "id": "i5lyHrWyM1LF"
      }
    },
    {
      "cell_type": "code",
      "source": [
        "# All the below are excepted\n",
        "\n",
        "# No extra indentation.\n",
        "if (this_is_one_thing and\n",
        "    that_is_another_thing):\n",
        "    do_something()\n",
        "\n",
        "# Add a comment, which will provide some distinction in editors\n",
        "# supporting syntax highlighting.\n",
        "if (this_is_one_thing and\n",
        "    that_is_another_thing):\n",
        "    # Since both conditions are true, we can frobnicate.\n",
        "    do_something()\n",
        "\n",
        "# Add some extra indentation on the conditional continuation line.\n",
        "if (this_is_one_thing\n",
        "        and that_is_another_thing):\n",
        "    do_something()"
      ],
      "metadata": {
        "id": "qUZTVKpLM1Zj"
      },
      "execution_count": null,
      "outputs": []
    },
    {
      "cell_type": "markdown",
      "source": [
        "The closing brace/bracket/parenthesis on multiline constructs may either line up under the first non-whitespace character of the last line of list, as in:"
      ],
      "metadata": {
        "id": "ja0gxpLBM1cS"
      }
    },
    {
      "cell_type": "code",
      "source": [
        "my_list = [\n",
        "    1, 2, 3,\n",
        "    4, 5, 6,\n",
        "    ]\n",
        "result = some_function_that_takes_arguments(\n",
        "    'a', 'b', 'c',\n",
        "    'd', 'e', 'f',\n",
        "    )"
      ],
      "metadata": {
        "id": "SMafFmCaM1ek"
      },
      "execution_count": null,
      "outputs": []
    },
    {
      "cell_type": "markdown",
      "source": [
        "or it may be lined up under the first character of the line that starts the multiline construct, as in:"
      ],
      "metadata": {
        "id": "bzx_k4U7M1jS"
      }
    },
    {
      "cell_type": "code",
      "source": [
        "my_list = [\n",
        "    1, 2, 3,\n",
        "    4, 5, 6,\n",
        "]\n",
        "result = some_function_that_takes_arguments(\n",
        "    'a', 'b', 'c',\n",
        "    'd', 'e', 'f',\n",
        ")"
      ],
      "metadata": {
        "id": "n33PNVgUM1l6"
      },
      "execution_count": null,
      "outputs": []
    },
    {
      "cell_type": "markdown",
      "source": [
        "### Tabs or Spaces?"
      ],
      "metadata": {
        "id": "SeXhyStlM1oj"
      }
    },
    {
      "cell_type": "markdown",
      "source": [
        "Spaces are the preferred indentation method.\n",
        "\n",
        "Tabs should be used solely to remain consistent with code that is already indented with tabs.\n",
        "\n",
        "**Python disallows mixing tabs and spaces for indentation.**"
      ],
      "metadata": {
        "id": "YnFkMMy5M1q7"
      }
    },
    {
      "cell_type": "markdown",
      "source": [
        "### Maximum Line Length"
      ],
      "metadata": {
        "id": "gEtAZLx9M1tU"
      }
    },
    {
      "cell_type": "markdown",
      "source": [
        "Limit all lines to a maximum of 79 characters.\n",
        "\n",
        "For flowing long blocks of text with fewer structural restrictions (docstrings or comments), the line length should be limited to 72 characters."
      ],
      "metadata": {
        "id": "FGiwxCjwM1v7"
      }
    },
    {
      "cell_type": "markdown",
      "source": [
        "The preferred way of wrapping long lines is by using Python’s implied line continuation inside parentheses, brackets and braces. Long lines can be broken over multiple lines by wrapping expressions in parentheses. These should be used in preference to using a backslash for line continuation.\n",
        "\n",
        "Backslashes may still be appropriate at times. For example, long, multiple with-statements could not use implicit continuation before Python 3.10, so backslashes were acceptable for that case:"
      ],
      "metadata": {
        "id": "t3qMv36qM1yr"
      }
    },
    {
      "cell_type": "code",
      "source": [
        "with open('/path/to/some/file/you/want/to/read') as file_1, \\\n",
        "     open('/path/to/some/file/being/written', 'w') as file_2:\n",
        "    file_2.write(file_1.read())"
      ],
      "metadata": {
        "id": "P9qoaKosM10y"
      },
      "execution_count": null,
      "outputs": []
    },
    {
      "cell_type": "markdown",
      "source": [
        "Another such case is with *assert* statements.\n",
        "\n",
        "Make sure to indent the continued line appropriately."
      ],
      "metadata": {
        "id": "N0mLONjAM13b"
      }
    },
    {
      "cell_type": "markdown",
      "source": [
        "### Should a Line Break Before or After a Binary Operator?"
      ],
      "metadata": {
        "id": "eTb7cYvSM16H"
      }
    },
    {
      "cell_type": "code",
      "source": [
        "# Wrong:\n",
        "# operators sit far away from their operands\n",
        "income = (gross_wages +\n",
        "          taxable_interest +\n",
        "          (dividends - qualified_dividends) -\n",
        "          ira_deduction -\n",
        "          student_loan_interest)"
      ],
      "metadata": {
        "id": "CXDOUnEtM18r"
      },
      "execution_count": null,
      "outputs": []
    },
    {
      "cell_type": "code",
      "source": [
        "# Correct:\n",
        "# easy to match operators with operands\n",
        "income = (gross_wages\n",
        "          + taxable_interest\n",
        "          + (dividends - qualified_dividends)\n",
        "          - ira_deduction\n",
        "          - student_loan_interest)"
      ],
      "metadata": {
        "id": "_Eh5_vIZPE0Z"
      },
      "execution_count": null,
      "outputs": []
    },
    {
      "cell_type": "markdown",
      "source": [
        "In Python code, it is permissible to break before or after a binary operator, as long as the convention is consistent locally. For new code second style (break before binary operator) is suggested."
      ],
      "metadata": {
        "id": "-EPfRDh6M1_a"
      }
    },
    {
      "cell_type": "markdown",
      "source": [
        "### Blank Lines"
      ],
      "metadata": {
        "id": "fWXrgtPBM2CN"
      }
    },
    {
      "cell_type": "markdown",
      "source": [
        "Surround top-level function and class definitions with two blank lines.\n",
        "\n",
        "Method definitions inside a class are surrounded by a single blank line.\n",
        "\n",
        "Extra blank lines may be used (sparingly) to separate groups of related functions. Blank lines may be omitted between a bunch of related one-liners (e.g. a set of dummy implementations).\n",
        "\n",
        "Use blank lines in functions, sparingly, to indicate logical sections."
      ],
      "metadata": {
        "id": "jGBLgSzxM2Ek"
      }
    },
    {
      "cell_type": "code",
      "source": [
        "def fun1():\n",
        "    pass\n",
        "\n",
        "\n",
        "def fun2():\n",
        "    pass\n",
        "\n",
        "\n",
        "class sample:\n",
        "    def __init__():\n",
        "        pass\n",
        "\n",
        "    def fun3():\n",
        "        pass\n",
        "\n",
        "    def fun4():\n",
        "        pass"
      ],
      "metadata": {
        "id": "9N3qs3MBPo8R"
      },
      "execution_count": null,
      "outputs": []
    },
    {
      "cell_type": "markdown",
      "source": [
        "### Imports"
      ],
      "metadata": {
        "id": "zM2OfrI4P-QS"
      }
    },
    {
      "cell_type": "markdown",
      "source": [
        "Imports should usually be on separate lines:"
      ],
      "metadata": {
        "id": "zUrwj0n-M2HD"
      }
    },
    {
      "cell_type": "code",
      "source": [
        "# Correct:\n",
        "import os\n",
        "import sys"
      ],
      "metadata": {
        "id": "G-mBTbIVM2JT"
      },
      "execution_count": null,
      "outputs": []
    },
    {
      "cell_type": "code",
      "source": [
        "# Wrong:\n",
        "import sys, os"
      ],
      "metadata": {
        "id": "lLataLkcM2MK"
      },
      "execution_count": null,
      "outputs": []
    },
    {
      "cell_type": "markdown",
      "source": [
        "We can use this though"
      ],
      "metadata": {
        "id": "0KgujiiUQr94"
      }
    },
    {
      "cell_type": "code",
      "source": [
        "# Correct:\n",
        "from subprocess import Popen, PIPE"
      ],
      "metadata": {
        "id": "LHlBFVcsM2PN"
      },
      "execution_count": null,
      "outputs": []
    },
    {
      "cell_type": "markdown",
      "source": [
        "**Imports are always put at the top of the file**, just after any module comments and docstrings, and before module globals and constants.\n",
        "Imports should be grouped in the following order:\n",
        "\n",
        "- Standard library imports.\n",
        "\n",
        "- Related third party imports.\n",
        "\n",
        "- Local application/library specific imports.\n",
        "\n",
        "You should put a blank line between each group of imports"
      ],
      "metadata": {
        "id": "44AVZfw4QrdI"
      }
    },
    {
      "cell_type": "code",
      "source": [
        "# standard library imports\n",
        "import os\n",
        "import sys\n",
        "\n",
        "# Related third party packages\n",
        "import numpy as np\n",
        "import pandas as pf\n",
        "import tensorflow as tf\n",
        "\n",
        "# Local script imports\n",
        "from myScript1 import orderingFunction\n",
        "from myScript2 import sellingFunction"
      ],
      "metadata": {
        "id": "xANz2QA-TASm"
      },
      "execution_count": null,
      "outputs": []
    },
    {
      "cell_type": "markdown",
      "source": [
        "Absolute imports are recommended, as they are usually more readable and tend to be better behaved (or at least give better error messages)"
      ],
      "metadata": {
        "id": "wcYOPCTvTUY3"
      }
    },
    {
      "cell_type": "code",
      "source": [
        "# Example of absolute imports\n",
        "import mypkg.sibling\n",
        "from mypkg import sibling\n",
        "from mypkg.sibling import example"
      ],
      "metadata": {
        "id": "I9GrS-YLTs12"
      },
      "execution_count": null,
      "outputs": []
    },
    {
      "cell_type": "markdown",
      "source": [
        "However, explicit relative imports are an acceptable alternative to absolute imports, especially when dealing with complex package layouts where using absolute imports would be unnecessarily verbose:"
      ],
      "metadata": {
        "id": "BwzXHGGjT7PF"
      }
    },
    {
      "cell_type": "code",
      "source": [
        "# importing from one directory UP\n",
        "from . import sibling\n",
        "from .sibling import example"
      ],
      "metadata": {
        "id": "FqV3c5R5UEa9"
      },
      "execution_count": null,
      "outputs": []
    },
    {
      "cell_type": "markdown",
      "source": [
        "**Standard library code should avoid complex package layouts and always use absolute imports.**"
      ],
      "metadata": {
        "id": "zsy1kT3JUNi-"
      }
    },
    {
      "cell_type": "markdown",
      "source": [
        "When importing a class from a class-containing module, it’s usually okay to spell this:"
      ],
      "metadata": {
        "id": "oXOTRvteUPk9"
      }
    },
    {
      "cell_type": "code",
      "source": [
        "from myclass import MyClass\n",
        "from foo.bar.yourclass import YourClass"
      ],
      "metadata": {
        "id": "UPtHdazsUPnd"
      },
      "execution_count": null,
      "outputs": []
    },
    {
      "cell_type": "markdown",
      "source": [
        "If this spelling causes local name clashes, then spell them explicitly:"
      ],
      "metadata": {
        "id": "DJT1jRjOUPp9"
      }
    },
    {
      "cell_type": "code",
      "source": [
        "import myclass\n",
        "import foo.bar.yourclass"
      ],
      "metadata": {
        "id": "GfDottNPUPsP"
      },
      "execution_count": null,
      "outputs": []
    },
    {
      "cell_type": "markdown",
      "source": [
        "And then use “myclass.MyClass” and “foo.bar.yourclass.YourClass”."
      ],
      "metadata": {
        "id": "nyeFPCZCUPuU"
      }
    },
    {
      "cell_type": "markdown",
      "source": [
        "**Wildcard imports** (from <module> import *) should be avoided, as they make it unclear which names are present in the namespace, confusing both readers and many automated tools. "
      ],
      "metadata": {
        "id": "iBzrNXiCUPwm"
      }
    },
    {
      "cell_type": "markdown",
      "source": [
        "### Module Level Dunder Names"
      ],
      "metadata": {
        "id": "Ept0uUBwVd2m"
      }
    },
    {
      "cell_type": "markdown",
      "source": [
        "Module level “dunders” (i.e. names with two leading and two trailing underscores) such as `__all__`, `__author__`,` __version__`, etc. should be placed after the module docstring but before any import statements except `from __future__` imports. Python mandates that future-imports must appear in the module before any other code except docstrings:"
      ],
      "metadata": {
        "id": "ZOjQw6_PUPzB"
      }
    },
    {
      "cell_type": "code",
      "source": [
        "\"\"\"This is the example module.\n",
        "\n",
        "This module does stuff.\n",
        "\"\"\"\n",
        "\n",
        "from __future__ import barry_as_FLUFL\n",
        "\n",
        "__all__ = ['a', 'b', 'c']\n",
        "__version__ = '0.1'\n",
        "__author__ = 'Cardinal Biggles'\n",
        "\n",
        "import os\n",
        "import sys"
      ],
      "metadata": {
        "id": "zwOR83l1W_oS"
      },
      "execution_count": null,
      "outputs": []
    },
    {
      "cell_type": "markdown",
      "source": [
        "`__future__` module is a built-in module in Python that is used to inherit new features that will be available in the new Python versions.\n",
        "\n",
        "Explanation of `__all__`: [here](https://stackoverflow.com/questions/44834/what-does-all-mean-in-python)"
      ],
      "metadata": {
        "id": "vBqWRDAlUP1N"
      }
    },
    {
      "cell_type": "markdown",
      "source": [
        "## String Quotes"
      ],
      "metadata": {
        "id": "PBn8qdFJUP3l"
      }
    },
    {
      "cell_type": "markdown",
      "source": [
        "In Python, single-quoted strings and double-quoted strings are the same. Pick a rule and stick to it. When a string contains single or double quote characters, however, use the other one to avoid backslashes in the string. It improves readability.\n",
        "\n",
        "For triple-quoted strings, always use double quote characters to be consistent with the docstring convention in PEP 257."
      ],
      "metadata": {
        "id": "W1npwXRBUP51"
      }
    },
    {
      "cell_type": "markdown",
      "source": [
        "## Whitespace in Expressions and Statements"
      ],
      "metadata": {
        "id": "IyeNTf8rUP8G"
      }
    },
    {
      "cell_type": "markdown",
      "source": [
        "### Avoid extraneous whitespace in the following situations:"
      ],
      "metadata": {
        "id": "025xhVD9UP-d"
      }
    },
    {
      "cell_type": "markdown",
      "source": [
        "1. Immediately inside parentheses, brackets or braces:"
      ],
      "metadata": {
        "id": "RBZHESpAUQA1"
      }
    },
    {
      "cell_type": "code",
      "source": [
        "# Correct:\n",
        "spam(ham[1], {eggs: 2})\n",
        "\n",
        "# Wrong:\n",
        "spam( ham[ 1 ], { eggs: 2 } )"
      ],
      "metadata": {
        "id": "w4DgGrCvUQDa"
      },
      "execution_count": null,
      "outputs": []
    },
    {
      "cell_type": "markdown",
      "source": [
        "2. Between a trailing comma and a following close parenthesis:"
      ],
      "metadata": {
        "id": "cmLxA222Xwui"
      }
    },
    {
      "cell_type": "code",
      "source": [
        "# Correct:\n",
        "foo = (0,)\n",
        "\n",
        "# Wrong:\n",
        "bar = (0, )"
      ],
      "metadata": {
        "id": "02TkLSC6XwxC"
      },
      "execution_count": null,
      "outputs": []
    },
    {
      "cell_type": "markdown",
      "source": [
        "3. Immediately before a comma, semicolon, or colon:"
      ],
      "metadata": {
        "id": "4yi9RnR8Xwzi"
      }
    },
    {
      "cell_type": "code",
      "source": [
        "# Correct:\n",
        "if x == 4: print(x, y); x, y = y, x\n",
        "\n",
        "# Wrong:\n",
        "if x == 4 : print(x , y) ; x , y = y , x"
      ],
      "metadata": {
        "id": "xNioxoCJXw2K"
      },
      "execution_count": null,
      "outputs": []
    },
    {
      "cell_type": "markdown",
      "source": [
        "4. However, in a slice the colon acts like a binary operator, and should have equal amounts on either side (treating it as the operator with the lowest priority). In an extended slice, both colons must have the same amount of spacing applied. \n",
        "Exception: **when a slice parameter is omitted, the space is omitted**:"
      ],
      "metadata": {
        "id": "z2QX4qnVXw4i"
      }
    },
    {
      "cell_type": "code",
      "source": [
        "# Correct:\n",
        "ham[1:9], ham[1:9:3], ham[:9:3], ham[1::3], ham[1:9:]\n",
        "ham[lower:upper], ham[lower:upper:], ham[lower::step]\n",
        "ham[lower+offset : upper+offset]\n",
        "ham[: upper_fn(x) : step_fn(x)], ham[:: step_fn(x)]\n",
        "ham[lower + offset : upper + offset]"
      ],
      "metadata": {
        "id": "ehlj5TYsXw7M"
      },
      "execution_count": null,
      "outputs": []
    },
    {
      "cell_type": "code",
      "source": [
        "# Wrong:\n",
        "ham[lower + offset:upper + offset]\n",
        "ham[1: 9], ham[1 :9], ham[1:9 :3]\n",
        "ham[lower : : upper]\n",
        "ham[ : upper]"
      ],
      "metadata": {
        "id": "DNo-E2RSXw9q"
      },
      "execution_count": null,
      "outputs": []
    },
    {
      "cell_type": "markdown",
      "source": [
        "5. Immediately before the open parenthesis that starts the argument list of a function call:"
      ],
      "metadata": {
        "id": "-OaFNpr6XxAS"
      }
    },
    {
      "cell_type": "code",
      "source": [
        "# Correct:\n",
        "spam(1)\n",
        "\n",
        "# Wrong:\n",
        "spam (1)"
      ],
      "metadata": {
        "id": "IFX2BDJxXxCx"
      },
      "execution_count": null,
      "outputs": []
    },
    {
      "cell_type": "markdown",
      "source": [
        "6. Immediately before the open parenthesis that starts an indexing or slicing:"
      ],
      "metadata": {
        "id": "YnE0sQPxZOXK"
      }
    },
    {
      "cell_type": "code",
      "source": [
        "# Correct:\n",
        "dct['key'] = lst[index]\n",
        "\n",
        "# Wrong:\n",
        "dct ['key'] = lst [index]"
      ],
      "metadata": {
        "id": "xp-jtVTvZRXg"
      },
      "execution_count": null,
      "outputs": []
    },
    {
      "cell_type": "markdown",
      "source": [
        "7. More than one space around an assignment (or other) operator to align it with another:"
      ],
      "metadata": {
        "id": "H0JN8Z2cZUKI"
      }
    },
    {
      "cell_type": "code",
      "source": [
        "# Correct:\n",
        "x = 1\n",
        "y = 2\n",
        "long_variable = 3\n",
        "\n",
        "# Wrong:\n",
        "x             = 1\n",
        "y             = 2\n",
        "long_variable = 3"
      ],
      "metadata": {
        "id": "Exp15tUcZUPQ"
      },
      "execution_count": null,
      "outputs": []
    },
    {
      "cell_type": "markdown",
      "source": [
        "### Other Recommendations"
      ],
      "metadata": {
        "id": "fyLP--VoZUT4"
      }
    },
    {
      "cell_type": "markdown",
      "source": [
        "- Avoid trailing whitespace anywhere. Because it’s usually invisible, it can be confusing: e.g. a backslash followed by a space and a newline does not count as a line continuation marker. Some editors don’t preserve it and many projects (like CPython itself) have pre-commit hooks that reject it.\n",
        "\n",
        "- Always surround these binary operators with a single space on either side: assignment (`=`), augmented assignment (`+=, -=` etc.), comparisons (`==, <, >, !=, <>, <=, >=, in, not in, is, is not`), Booleans (`and, or, not`).\n",
        "\n",
        "- If operators with different priorities are used, consider adding whitespace around the operators with the lowest priority(ies). Use your own judgment; however, never use more than one space, and always have the same amount of whitespace on both sides of a binary operator:"
      ],
      "metadata": {
        "id": "vv41GJ21ZUWK"
      }
    },
    {
      "cell_type": "code",
      "source": [
        "# Correct:\n",
        "i = i + 1\n",
        "submitted += 1\n",
        "x = x*2 - 1\n",
        "hypot2 = x*x + y*y\n",
        "c = (a+b) * (a-b)"
      ],
      "metadata": {
        "id": "RH6U9LxZZUYl"
      },
      "execution_count": null,
      "outputs": []
    },
    {
      "cell_type": "code",
      "source": [
        "# Wrong:\n",
        "i=i+1\n",
        "submitted +=1\n",
        "x = x * 2 - 1\n",
        "hypot2 = x * x + y * y\n",
        "c = (a + b) * (a - b)"
      ],
      "metadata": {
        "id": "tTTT_IhmZUax"
      },
      "execution_count": null,
      "outputs": []
    },
    {
      "cell_type": "markdown",
      "source": [
        "Function annotations should use the normal rules for colons and always have spaces around the `->` arrow if present."
      ],
      "metadata": {
        "id": "tDhwwEXoaecI"
      }
    },
    {
      "cell_type": "code",
      "source": [
        "# Correct:\n",
        "def munge(input: AnyStr): ...\n",
        "def munge() -> PosInt: ...\n",
        "\n",
        "# Wrong:\n",
        "def munge(input:AnyStr): ...\n",
        "def munge()->PosInt: ..."
      ],
      "metadata": {
        "id": "38Na3S69ZUdJ"
      },
      "execution_count": null,
      "outputs": []
    },
    {
      "cell_type": "markdown",
      "source": [
        "Don’t use spaces around the `=` sign when used to indicate a keyword argument, or when used to indicate a default value for an unannotated function parameter:"
      ],
      "metadata": {
        "id": "XYxsGUaBZUfy"
      }
    },
    {
      "cell_type": "code",
      "source": [
        "# Correct:\n",
        "def complex(real, imag=0.0):\n",
        "    return magic(r=real, i=imag)\n",
        "\n",
        "# Wrong:\n",
        "def complex(real, imag = 0.0):\n",
        "    return magic(r = real, i = imag)"
      ],
      "metadata": {
        "id": "x4r1a48pZUit"
      },
      "execution_count": null,
      "outputs": []
    },
    {
      "cell_type": "markdown",
      "source": [
        "When combining an argument annotation with a default value, however, do use spaces around the `=` sign:"
      ],
      "metadata": {
        "id": "7pakK6gUZwXJ"
      }
    },
    {
      "cell_type": "code",
      "source": [
        "# Correct:\n",
        "def munge(sep: AnyStr = None): ...\n",
        "def munge(input: AnyStr, sep: AnyStr = None, limit=1000): ...\n",
        "\n",
        "# Wrong:\n",
        "def munge(input: AnyStr=None): ...\n",
        "def munge(input: AnyStr, limit = 1000): ..."
      ],
      "metadata": {
        "id": "DORUUrUdbB_P"
      },
      "execution_count": null,
      "outputs": []
    },
    {
      "cell_type": "markdown",
      "source": [
        "Compound statements (multiple statements on the same line) are generally discouraged:"
      ],
      "metadata": {
        "id": "zraIZFuqbEVn"
      }
    },
    {
      "cell_type": "code",
      "source": [
        "# Correct:\n",
        "if foo == 'blah':\n",
        "    do_blah_thing()\n",
        "do_one()\n",
        "do_two()\n",
        "do_three()\n",
        "\n",
        "# Wrong:\n",
        "if foo == 'blah': do_blah_thing()\n",
        "do_one(); do_two(); do_three()"
      ],
      "metadata": {
        "id": "mxlLSEFIbYmH"
      },
      "execution_count": null,
      "outputs": []
    },
    {
      "cell_type": "markdown",
      "source": [
        "While sometimes it’s okay to put an if/for/while with a small body on the same line, never do this for multi-clause statements. Also avoid folding such long lines!"
      ],
      "metadata": {
        "id": "D2d5AkkFbe5f"
      }
    },
    {
      "cell_type": "code",
      "source": [
        "# Wrong:\n",
        "if foo == 'blah': do_blah_thing()\n",
        "for x in lst: total += x\n",
        "while t < 10: t = delay()"
      ],
      "metadata": {
        "id": "rqzo3XZ_bhtn"
      },
      "execution_count": null,
      "outputs": []
    },
    {
      "cell_type": "code",
      "source": [
        "# Wrong:\n",
        "if foo == 'blah': do_blah_thing()\n",
        "else: do_non_blah_thing()\n",
        "\n",
        "try: something()\n",
        "finally: cleanup()\n",
        "\n",
        "do_one(); do_two(); do_three(long, argument,\n",
        "                             list, like, this)\n",
        "\n",
        "if foo == 'blah': one(); two(); three()"
      ],
      "metadata": {
        "id": "Cnp6D1pBbhwJ"
      },
      "execution_count": null,
      "outputs": []
    },
    {
      "cell_type": "markdown",
      "source": [
        "## When to Use Trailing Commas"
      ],
      "metadata": {
        "id": "LK63tw94bhym"
      }
    },
    {
      "cell_type": "markdown",
      "source": [
        "Trailing commas are usually optional, except they are mandatory when making a tuple of one element. For clarity, it is recommended to surround the latter in (technically redundant) parentheses:"
      ],
      "metadata": {
        "id": "4tY12jZUbh0_"
      }
    },
    {
      "cell_type": "code",
      "source": [
        "# Correct:\n",
        "FILES = ('setup.cfg',)\n",
        "\n",
        "# Wrong:\n",
        "FILES = 'setup.cfg',"
      ],
      "metadata": {
        "id": "N2pYiudobh5m"
      },
      "execution_count": null,
      "outputs": []
    },
    {
      "cell_type": "markdown",
      "source": [
        "When trailing commas are redundant, they are often helpful when a version control system is used, when a list of values, arguments or imported items is expected to be extended over time. The pattern is to put each value (etc.) on a line by itself, always adding a trailing comma, and add the close parenthesis/bracket/brace on the next line. However it does not make sense to have a trailing comma on the same line as the closing delimiter (except in the above case of singleton tuples):\n"
      ],
      "metadata": {
        "id": "0Sh_L3iJc_au"
      }
    },
    {
      "cell_type": "code",
      "source": [
        "# Correct:\n",
        "FILES = [\n",
        "    'setup.cfg',\n",
        "    'tox.ini',\n",
        "    ]\n",
        "initialize(FILES,\n",
        "           error=True,\n",
        "           )\n",
        "\n",
        "# Wrong:\n",
        "FILES = ['setup.cfg', 'tox.ini',]\n",
        "initialize(FILES, error=True,)"
      ],
      "metadata": {
        "id": "oCmBESL3bh8H"
      },
      "execution_count": null,
      "outputs": []
    },
    {
      "cell_type": "markdown",
      "source": [
        "## Comments"
      ],
      "metadata": {
        "id": "Kzv98oZkbh-m"
      }
    },
    {
      "cell_type": "markdown",
      "source": [
        "Always keep the comments up-to-date when the code changes!\n",
        "\n",
        "Comments should be complete sentences. The first word should be capitalized, unless it is an identifier that begins with a lower case letter (never alter the case of identifiers!).\n",
        "\n",
        "Block comments generally consist of one or more paragraphs built out of complete sentences, with each sentence ending in a period.\n",
        "\n",
        "You should use two spaces after a sentence-ending period in multi- sentence comments, except after the final sentence.\n",
        "\n",
        "Ensure that your comments are clear and easily understandable to other speakers of the language you are writing in."
      ],
      "metadata": {
        "id": "G75pxR0ObiBW"
      }
    },
    {
      "cell_type": "markdown",
      "source": [
        "### Block comments"
      ],
      "metadata": {
        "id": "G93hDjhSe7wc"
      }
    },
    {
      "cell_type": "markdown",
      "source": [
        "Block comments generally apply to some (or all) code that follows them, and are indented to the same level as that code. Each line of a block comment starts with a # and a single space (unless it is indented text inside the comment).\n",
        "\n",
        "Paragraphs inside a block comment are separated by a line containing a single #."
      ],
      "metadata": {
        "id": "sZ5VXV_Rd5Kc"
      }
    },
    {
      "cell_type": "markdown",
      "source": [
        "### Inline Comments"
      ],
      "metadata": {
        "id": "OmDDmoMhe-Qk"
      }
    },
    {
      "cell_type": "markdown",
      "source": [
        "Use inline comments sparingly.\n",
        "\n",
        "An inline comment is a comment on the same line as a statement. Inline comments should be separated by at least two spaces from the statement. They should start with a # and a single space.\n",
        "\n",
        "Inline comments are unnecessary and in fact distracting if they state the obvious. Don’t do this:"
      ],
      "metadata": {
        "id": "ia1L9h7-eWX_"
      }
    },
    {
      "cell_type": "code",
      "source": [
        "x = x + 1                 # Increment x"
      ],
      "metadata": {
        "id": "9iqIEM3wesys"
      },
      "execution_count": null,
      "outputs": []
    },
    {
      "cell_type": "markdown",
      "source": [
        "But sometimes, this is useful:"
      ],
      "metadata": {
        "id": "ieeCFFRLevfk"
      }
    },
    {
      "cell_type": "code",
      "source": [
        "x = x + 1                 # Compensate for border"
      ],
      "metadata": {
        "id": "pxvGDZw-exwt"
      },
      "execution_count": null,
      "outputs": []
    },
    {
      "cell_type": "markdown",
      "source": [
        "### Documentation Strings"
      ],
      "metadata": {
        "id": "AuVo1ZjKexy7"
      }
    },
    {
      "cell_type": "markdown",
      "source": [
        "- Write docstrings for all public modules, functions, classes, and methods. Docstrings are not necessary for non-public methods, but you should have a comment that describes what the method does. This comment should appear after the `def` line.\n",
        "\n",
        "- Note that most importantly, the `\"\"\"` that ends a multiline docstring should be on a line by itself:"
      ],
      "metadata": {
        "id": "x_tL4j1Lex1T"
      }
    },
    {
      "cell_type": "code",
      "source": [
        "\"\"\"Return a foobang\n",
        "\n",
        "Optional plotz says to frobnicate the bizbaz first.\n",
        "\"\"\""
      ],
      "metadata": {
        "id": "eTiWjLNrex32"
      },
      "execution_count": null,
      "outputs": []
    },
    {
      "cell_type": "markdown",
      "source": [
        "For one liner docstrings, please keep the closing `\"\"\"` on the same line:"
      ],
      "metadata": {
        "id": "a9ZxgB7pex6E"
      }
    },
    {
      "cell_type": "code",
      "source": [
        "\"\"\"Return an ex-parrot.\"\"\""
      ],
      "metadata": {
        "id": "lBbpqpviex8c"
      },
      "execution_count": null,
      "outputs": []
    },
    {
      "cell_type": "markdown",
      "source": [
        "## Naming Conventions"
      ],
      "metadata": {
        "id": "M1VVUe1Bfh4_"
      }
    },
    {
      "cell_type": "markdown",
      "source": [
        "The naming conventions of Python’s library are a bit of a mess, so we’ll never get this completely consistent – nevertheless, here are the currently recommended naming standards. New modules and packages (including third party frameworks) should be written to these standards, but where an existing library has a different style, internal consistency is preferred."
      ],
      "metadata": {
        "id": "SNd4cO5jfrbq"
      }
    },
    {
      "cell_type": "markdown",
      "source": [
        "### Overriding Principle"
      ],
      "metadata": {
        "id": "Rv1ogLyefxTi"
      }
    },
    {
      "cell_type": "markdown",
      "source": [
        "Names that are visible to the user as public parts of the API should follow conventions that reflect usage rather than implementation."
      ],
      "metadata": {
        "id": "1zezjmfWf5ti"
      }
    },
    {
      "cell_type": "markdown",
      "source": [
        "### Descriptive: Naming Styles"
      ],
      "metadata": {
        "id": "_7iVmIxPf_jS"
      }
    },
    {
      "cell_type": "markdown",
      "source": [
        "There are a lot of different naming styles.The following naming styles are commonly used:\n",
        "\n",
        "- `b` (single lowercase letter)\n",
        "- `B` (single uppercase letter)\n",
        "- `lowercase`\n",
        "- `lower_case_with_underscores`\n",
        "- `UPPERCASE`\n",
        "- `UPPER_CASE_WITH_UNDERSCORES`\n",
        "- `CapitalizedWords` (or CapWords, or CamelCase – so named because of the bumpy look of its letters). This is also sometimes known as StudlyCaps. \n",
        "    - Note: When using acronyms in CapWords, capitalize all the letters of the acronym. Thus HTTPServerError is better than HttpServerError.\n",
        "\n",
        "- `mixedCase` (differs from CapitalizedWords by initial lowercase character!)\n",
        "- `Capitalized_Words_With_Underscores` (ugly!)"
      ],
      "metadata": {
        "id": "WZ9vLoN7gEKG"
      }
    },
    {
      "cell_type": "markdown",
      "source": [
        "In addition, the following special forms using leading or trailing underscores are recognized (these can generally be combined with any case convention):"
      ],
      "metadata": {
        "id": "MWOUs_vChRQ3"
      }
    },
    {
      "cell_type": "markdown",
      "source": [
        "- `_single_leading_underscore`: weak “internal use” indicator. E.g. `from M import *` does not import objects whose names start with an underscore.\n",
        "\n",
        "- `single_trailing_underscore_`: used by convention to avoid conflicts with Python keyword, e.g. `tkinter.Toplevel(master, class_='ClassName')`\n",
        "\n",
        "- `__double_leading_and_trailing_underscore__`: “magic” objects or attributes that live in user-controlled namespaces. E.g. `__init__`, `__import__` or `__file__`. Never invent such names; only use them as documented."
      ],
      "metadata": {
        "id": "5xHGDZi6hUSR"
      }
    },
    {
      "cell_type": "markdown",
      "source": [
        "### Prescriptive: Naming Conventions"
      ],
      "metadata": {
        "id": "KRmMbvK7hvjh"
      }
    },
    {
      "cell_type": "markdown",
      "source": [
        "#### Names to Avoid"
      ],
      "metadata": {
        "id": "q7Yk6C_6hyO5"
      }
    },
    {
      "cell_type": "markdown",
      "source": [
        "Never use the characters ‘l’ (lowercase L), ‘O’, or ‘I’ as single character variable names.\n",
        "\n",
        "In some fonts, these characters are indistinguishable from the numerals one and zero. When tempted to use ‘l’, use ‘L’ instead."
      ],
      "metadata": {
        "id": "VYnmk_Xzh37K"
      }
    },
    {
      "cell_type": "markdown",
      "source": [
        "#### Package and Module Names"
      ],
      "metadata": {
        "id": "Cyj__VjTiNOM"
      }
    },
    {
      "cell_type": "markdown",
      "source": [
        "\n",
        "Modules should have short, all-lowercase names. Underscores can be used in the module name if it improves readability. Python packages should also have short, all-lowercase names, although the use of underscores is discouraged.\n"
      ],
      "metadata": {
        "id": "UvbVRk9hiGRZ"
      }
    },
    {
      "cell_type": "markdown",
      "source": [
        "#### Class Names"
      ],
      "metadata": {
        "id": "rWTAVhnxiaur"
      }
    },
    {
      "cell_type": "markdown",
      "source": [
        "Class names should normally use the `CapWords` convention.\n",
        "\n",
        "The naming convention for functions may be used instead in cases where the interface is documented and used primarily as a callable.\n",
        "\n",
        "Note that there is a separate convention for builtin names: most builtin names are single words (or two words run together), with the CapWords convention used only for exception names and builtin constants."
      ],
      "metadata": {
        "id": "2ukl9xy3iWg_"
      }
    },
    {
      "cell_type": "markdown",
      "source": [
        "#### Function and Variable Names"
      ],
      "metadata": {
        "id": "2ZXdegDMjp6_"
      }
    },
    {
      "cell_type": "markdown",
      "source": [
        "Function names should be lowercase, with words separated by underscores as necessary to improve readability.\n",
        "\n",
        "Variable names follow the same convention as function names.\n",
        "\n",
        "mixedCase is allowed only in contexts where that’s already the prevailing style, to retain backwards compatibility."
      ],
      "metadata": {
        "id": "N7QErMfUjNly"
      }
    },
    {
      "cell_type": "markdown",
      "source": [
        "#### Function and Method Arguments"
      ],
      "metadata": {
        "id": "wVitZ0cEj833"
      }
    },
    {
      "cell_type": "markdown",
      "source": [
        "Always use `self` for the first argument to instance methods.\n",
        "\n",
        "If a function argument’s name clashes with a reserved keyword, it is generally better to append a single trailing underscore rather than use an abbreviation or spelling corruption. Thus `class_` is better than `clss`. (Perhaps better is to avoid such clashes by using a synonym.)"
      ],
      "metadata": {
        "id": "-0A8UIggj6dz"
      }
    },
    {
      "cell_type": "markdown",
      "source": [
        "#### Constants"
      ],
      "metadata": {
        "id": "8XfRB-avkN90"
      }
    },
    {
      "cell_type": "markdown",
      "source": [
        "Constants are usually defined on a module level and written in all capital letters with underscores separating words. Examples include `MAX_OVERFLOW` and `TOTAL`."
      ],
      "metadata": {
        "id": "sFyj6m0EkMvO"
      }
    },
    {
      "cell_type": "markdown",
      "source": [
        "## Programming Recommendations"
      ],
      "metadata": {
        "id": "DYmOWJ-SkXYj"
      }
    },
    {
      "cell_type": "markdown",
      "source": [
        "Code should be written in a way that does not disadvantage other implementations of Python (PyPy, Jython, IronPython, Cython, Psyco, and such).\n",
        "\n",
        "For example, do not rely on CPython’s efficient implementation of in-place string concatenation for statements in the form `a += b` or `a = a + b`. This optimization is fragile even in CPython (it only works for some types) and isn’t present at all in implementations that don’t use refcounting. In performance sensitive parts of the library, the `''.join()` form should be used instead. This will ensure that concatenation occurs in linear time across various implementations."
      ],
      "metadata": {
        "id": "m0euCkyCky0o"
      }
    },
    {
      "cell_type": "markdown",
      "source": [
        "Comparisons to singletons like `None` should always be done with `is` or `is not`, never the equality operators.\n",
        "Also, beware of writing `if x` when you really mean `if x is not None` – e.g. when testing whether a variable or argument that defaults to None was set to some other value. The other value might have a type (such as a container) that could be false in a boolean context!"
      ],
      "metadata": {
        "id": "36L2PNT1lB-u"
      }
    },
    {
      "cell_type": "markdown",
      "source": [
        "Use `is not` operator rather than `not ... is`. While both expressions are functionally identical, the former is more readable and preferred:"
      ],
      "metadata": {
        "id": "umTmRu08lLiv"
      }
    },
    {
      "cell_type": "code",
      "source": [
        "# Correct:\n",
        "if foo is not None:\n",
        "    \n",
        "# Wrong:\n",
        "if not foo is None:"
      ],
      "metadata": {
        "id": "kgsUk7AZlQyu"
      },
      "execution_count": null,
      "outputs": []
    },
    {
      "cell_type": "markdown",
      "source": [
        "Always use a `def` statement instead of an assignment statement that binds a `lambda` expression directly to an identifier:"
      ],
      "metadata": {
        "id": "EyRcsEmwlSf-"
      }
    },
    {
      "cell_type": "markdown",
      "source": [
        "When catching exceptions, mention specific exceptions whenever possible instead of using a bare `except`: clause:"
      ],
      "metadata": {
        "id": "AyzRR67zlc3_"
      }
    },
    {
      "cell_type": "code",
      "source": [
        "try:\n",
        "    import platform_specific_module\n",
        "except ImportError:\n",
        "    platform_specific_module = None"
      ],
      "metadata": {
        "id": "RQfG0b2glw0A"
      },
      "execution_count": null,
      "outputs": []
    },
    {
      "cell_type": "markdown",
      "source": [
        "- A bare `except`: clause will catch `SystemExit` and `KeyboardInterrupt` exceptions, making it harder to interrupt a program with `Control-C`, and can disguise other problems. If you want to catch all exceptions that signal program errors, use `except Exception`: (bare `except` is equivalent to except BaseException:).\n",
        "\n",
        "\n",
        "- For all try/except clauses, limit the `try` clause to the absolute minimum amount of code necessary. Again, this avoids masking bugs:"
      ],
      "metadata": {
        "id": "ug-5mDIYlzY3"
      }
    },
    {
      "cell_type": "code",
      "source": [
        "# Correct:\n",
        "try:\n",
        "    value = collection[key]\n",
        "except KeyError:\n",
        "    return key_not_found(key)\n",
        "else:\n",
        "    return handle_value(value)"
      ],
      "metadata": {
        "id": "9Gz3hvXCmVgI"
      },
      "execution_count": null,
      "outputs": []
    },
    {
      "cell_type": "code",
      "source": [
        "# Wrong:\n",
        "try:\n",
        "    # Too broad!\n",
        "    return handle_value(collection[key])\n",
        "except KeyError:\n",
        "    # Will also catch KeyError raised by handle_value()\n",
        "    return key_not_found(key)"
      ],
      "metadata": {
        "id": "jv-OjCHQmbYV"
      },
      "execution_count": null,
      "outputs": []
    },
    {
      "cell_type": "markdown",
      "source": [
        "Be consistent in `return` statements. Either all `return` statements in a function should return an expression, or none of them should. If any `return` statement returns an expression, any `return` statements where no value is returned should explicitly state this as `return None`, and an explicit `return` statement should be present at the end of the function (if reachable):"
      ],
      "metadata": {
        "id": "zeqYJ7ytmhFu"
      }
    },
    {
      "cell_type": "code",
      "source": [
        "# Correct:\n",
        "\n",
        "def foo(x):\n",
        "    if x >= 0:\n",
        "        return math.sqrt(x)\n",
        "    else:\n",
        "        return None\n",
        "\n",
        "def bar(x):\n",
        "    if x < 0:\n",
        "        return None\n",
        "    return math.sqrt(x)"
      ],
      "metadata": {
        "id": "YYWEv5f_m0_J"
      },
      "execution_count": null,
      "outputs": []
    },
    {
      "cell_type": "code",
      "source": [
        "# Wrong:\n",
        "\n",
        "def foo(x):\n",
        "    if x >= 0:\n",
        "        return math.sqrt(x)\n",
        "\n",
        "def bar(x):\n",
        "    if x < 0:\n",
        "        return\n",
        "    return math.sqrt(x)"
      ],
      "metadata": {
        "id": "TkWibUT9m3Vi"
      },
      "execution_count": null,
      "outputs": []
    },
    {
      "cell_type": "markdown",
      "source": [
        "Use `''.startswith()` and `''.endswith()` instead of string slicing to check for prefixes or suffixes.\n",
        "`startswith()` and `endswith()` are cleaner and less error prone"
      ],
      "metadata": {
        "id": "MEX-j_CIm_wx"
      }
    },
    {
      "cell_type": "code",
      "source": [
        "# Correct:\n",
        "if foo.startswith('bar'):\n",
        "    do_something()\n",
        "\n",
        "\n",
        "# Wrong:\n",
        "if foo[:3] == 'bar':\n",
        "    do_something()"
      ],
      "metadata": {
        "id": "y1G-rUSgnFqY"
      },
      "execution_count": null,
      "outputs": []
    },
    {
      "cell_type": "markdown",
      "source": [
        "Object type comparisons should always use isinstance() instead of comparing types directly"
      ],
      "metadata": {
        "id": "L2K9HkOjnOCg"
      }
    },
    {
      "cell_type": "code",
      "source": [
        "# Correct:\n",
        "if isinstance(obj, int):\n",
        "    do_something()"
      ],
      "metadata": {
        "id": "5PLMbbmRnG5Y"
      },
      "execution_count": null,
      "outputs": []
    },
    {
      "cell_type": "code",
      "source": [
        "# Wrong:\n",
        "if type(obj) is type(1):\n",
        "    do_something()"
      ],
      "metadata": {
        "id": "9tBjx0tJnUxX"
      },
      "execution_count": null,
      "outputs": []
    },
    {
      "cell_type": "markdown",
      "source": [
        "For sequences, (strings, lists, tuples), use the fact that empty sequences are false"
      ],
      "metadata": {
        "id": "2LQiMKGVncMn"
      }
    },
    {
      "cell_type": "code",
      "source": [
        "# Correct:\n",
        "if not seq: do_something()\n",
        "if seq: do_something()"
      ],
      "metadata": {
        "id": "zbHBAqkUnc7x"
      },
      "execution_count": null,
      "outputs": []
    },
    {
      "cell_type": "code",
      "source": [
        "# Wrong:\n",
        "if len(seq): do_something()\n",
        "if not len(seq): do_something()"
      ],
      "metadata": {
        "id": "hfbrRwmuneHW"
      },
      "execution_count": null,
      "outputs": []
    },
    {
      "cell_type": "markdown",
      "source": [
        "Don’t compare boolean values to `True` or `False` using `==`"
      ],
      "metadata": {
        "id": "CctfemoEnnYU"
      }
    },
    {
      "cell_type": "code",
      "source": [
        "# Correct:\n",
        "if greeting: do_something()\n",
        "\n",
        "# Wrong:\n",
        "if greeting == True: do_something()\n",
        "\n",
        "# Wrong:\n",
        "if greeting is True: do_something()"
      ],
      "metadata": {
        "id": "MPzcLsfLnqbl"
      },
      "execution_count": null,
      "outputs": []
    },
    {
      "cell_type": "markdown",
      "source": [
        "Use of the flow control statements `return/break/continue` within the finally suite of a `try...finally`, where the flow control statement would jump outside the finally suite, is discouraged. This is because such statements will implicitly cancel any active exception that is propagating through the finally suite:"
      ],
      "metadata": {
        "id": "rP4CXmxzn_02"
      }
    },
    {
      "cell_type": "code",
      "source": [
        "# Wrong:\n",
        "def foo():\n",
        "    try:\n",
        "        1 / 0\n",
        "    finally:\n",
        "        return 42"
      ],
      "metadata": {
        "id": "FYlMh3d3oEne"
      },
      "execution_count": null,
      "outputs": []
    },
    {
      "cell_type": "markdown",
      "source": [
        "## Variable Annotations"
      ],
      "metadata": {
        "id": "-waGq8D7oXQf"
      }
    },
    {
      "cell_type": "markdown",
      "source": [
        "- Annotations for module level variables, class and instance variables, and local variables should have a single space after the colon.\n",
        "- There should be no space before the colon.\n",
        "- If an assignment has a right hand side, then the equality sign should have exactly one space on both sides:"
      ],
      "metadata": {
        "id": "pNE4VY91oWaW"
      }
    },
    {
      "cell_type": "code",
      "source": [
        "# Correct:\n",
        "\n",
        "code: int\n",
        "\n",
        "class Point:\n",
        "    coords: Tuple[int, int]\n",
        "    label: str = '<unknown>'"
      ],
      "metadata": {
        "id": "vwWXWQ2molHM"
      },
      "execution_count": null,
      "outputs": []
    },
    {
      "cell_type": "code",
      "source": [
        "# Wrong:\n",
        "\n",
        "code:int  # No space after colon\n",
        "code : int  # Space before colon\n",
        "\n",
        "class Test:\n",
        "    result: int=0  # No spaces around equality sign"
      ],
      "metadata": {
        "id": "c4gV_fbQox7o"
      },
      "execution_count": null,
      "outputs": []
    },
    {
      "cell_type": "markdown",
      "source": [
        "# Python Project structuring"
      ],
      "metadata": {
        "id": "eE-h1XyNq4pC"
      }
    },
    {
      "cell_type": "markdown",
      "source": [
        "**Following struture is a standard:**\n",
        "\n",
        "README.rst\n",
        "\n",
        "LICENSE\n",
        "\n",
        "setup.py\n",
        "\n",
        "requirements.txt\n",
        "\n",
        "sample/__init__.py\n",
        "\n",
        "sample/core.py\n",
        "\n",
        "sample/helpers.py\n",
        "\n",
        "docs/conf.py\n",
        "\n",
        "docs/index.rst\n",
        "\n",
        "tests/test_basic.py\n",
        "\n",
        "tests/test_advanced.py"
      ],
      "metadata": {
        "id": "lzr_-XY9rA_A"
      }
    },
    {
      "cell_type": "markdown",
      "source": [
        "**Readme.md/Readme.rst**\n",
        "\n",
        "Explains about the project in simple english terms. It also explains the installation process and how to use it process. Also in case of Machine Learning projects it also contains steps to re-train the models"
      ],
      "metadata": {
        "id": "LSPsUYGZrZry"
      }
    },
    {
      "cell_type": "markdown",
      "source": [
        "**License**\n",
        "\n",
        "Contains the License of the project. It shows if the projects is Free, or paid or has limited usage"
      ],
      "metadata": {
        "id": "bvpiUIj3rsq5"
      }
    },
    {
      "cell_type": "markdown",
      "source": [
        "**setup.py**\n",
        "\n",
        "Package and distribution management."
      ],
      "metadata": {
        "id": "hCAX8ogDr81Z"
      }
    },
    {
      "cell_type": "markdown",
      "source": [
        "**requirements.txt**\n",
        "\n",
        "Contains the necessary packages that are to be installed to run the project"
      ],
      "metadata": {
        "id": "kn2dLNKGr9cZ"
      }
    },
    {
      "cell_type": "markdown",
      "source": [
        "**`__init__.py`**\n",
        "\n",
        "Any directory with an` __init__.py` file is considered a Python package. The different modules in the package are imported in a similar manner as plain modules, but with a special behavior for the `__init__.py` file, which is used to gather all package-wide definitions."
      ],
      "metadata": {
        "id": "Ic80ZjV2r9e4"
      }
    },
    {
      "cell_type": "markdown",
      "source": [
        "**Makefile**\n",
        "\n",
        "Contains set of instructions to be executed\n",
        "\n",
        "Example:\n",
        "\n",
        "Printing the classic \"Hello World\" on the terminal using Makefile.\n",
        "\n",
        "```\n",
        "say_hello:\n",
        "    echo \"Hello World\"\n",
        "```\n",
        "\n",
        "Now run the file by typing `make` inside the directory. The output will be:\n",
        "\n",
        "```\n",
        "$ make\n",
        "echo \"Hello World\"\n",
        "Hello World\n",
        "```"
      ],
      "metadata": {
        "id": "M_JNMt6fr9hK"
      }
    },
    {
      "cell_type": "markdown",
      "source": [
        "**Visualize the above structure here:**\n",
        "\n",
        "Standard REPO: https://github.com/navdeep-G/samplemod"
      ],
      "metadata": {
        "id": "3VEe6DsOq87Q"
      }
    }
  ]
}